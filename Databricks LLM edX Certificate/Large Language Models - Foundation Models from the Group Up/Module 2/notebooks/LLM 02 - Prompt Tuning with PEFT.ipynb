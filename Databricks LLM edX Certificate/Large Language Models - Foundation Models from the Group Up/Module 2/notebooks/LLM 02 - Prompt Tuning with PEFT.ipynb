{
 "cells": [
  {
   "cell_type": "markdown",
   "metadata": {
    "application/vnd.databricks.v1+cell": {
     "cellMetadata": {
      "byteLimit": 2048000,
      "rowLimit": 10000
     },
     "inputWidgets": {},
     "nuid": "d09306b7-db08-4097-a88f-da7c91a72508",
     "showTitle": false,
     "title": ""
    }
   },
   "source": [
    "\n",
    "<div style=\"text-align: center; line-height: 0; padding-top: 9px;\">\n",
    "  <img src=\"https://databricks.com/wp-content/uploads/2018/03/db-academy-rgb-1200px.png\" alt=\"Databricks Learning\" style=\"width: 600px\">\n",
    "</div>"
   ]
  },
  {
   "cell_type": "markdown",
   "metadata": {
    "application/vnd.databricks.v1+cell": {
     "cellMetadata": {
      "byteLimit": 2048000,
      "rowLimit": 10000
     },
     "inputWidgets": {},
     "nuid": "5f42ef43-8a73-456c-ae2d-9f01ad2af4c7",
     "showTitle": false,
     "title": ""
    }
   },
   "source": [
    "\n",
    "# Prompt Tuning\n",
    "This lesson introduces how to apply prompt tuning to your model of choice using [Parameter-Efficient Fine-Tuning (PEFT) library developed by HuggingFace](https://huggingface.co/docs/peft/index). This PEFT library supports multiple methods to reduce the number of parameters for fine-tuning, including prompt tuning and LoRA. For a complete list of methods, refer to their [documentation](https://huggingface.co/docs/peft/main/en/index#supported-methods). Only a subset of models and tasks are supported by this PEFT library for the time being, including GPT-2, LLaMA; for pairs of models and tasks supported, refer to this [page](https://huggingface.co/docs/peft/main/en/index#supported-models).\n",
    "\n",
    "\n",
    "### ![Dolly](https://files.training.databricks.com/images/llm/dolly_small.png) Learning Objectives\n",
    "1. Apply prompt tuning to your model of choice\n",
    "1. Fine-tune on your provided dataset\n",
    "1. Save and share your model to HuggingFace hub\n",
    "1. Conduct inference using the fine-tuned model\n",
    "1. Compare outputs from randomly- and text-initialized fine-tuned model vs. foundation model"
   ]
  },
  {
   "cell_type": "code",
   "execution_count": 0,
   "metadata": {
    "application/vnd.databricks.v1+cell": {
     "cellMetadata": {
      "byteLimit": 2048000,
      "rowLimit": 10000
     },
     "inputWidgets": {},
     "nuid": "7ab88b27-a943-4bc4-a056-49506322bf2e",
     "showTitle": false,
     "title": ""
    }
   },
   "outputs": [
    {
     "output_type": "stream",
     "name": "stdout",
     "output_type": "stream",
     "text": [
      "\u001B[43mNote: you may need to restart the kernel using dbutils.library.restartPython() to use updated packages.\u001B[0m\nCollecting peft==0.4.0\n  Downloading peft-0.4.0-py3-none-any.whl (72 kB)\n     ━━━━━━━━━━━━━━━━━━━━━━━━━━━━━━━━━━━━━━━━ 72.9/72.9 kB 2.3 MB/s eta 0:00:00\nRequirement already satisfied: packaging>=20.0 in /databricks/python3/lib/python3.10/site-packages (from peft==0.4.0) (21.3)\nRequirement already satisfied: transformers in /databricks/python3/lib/python3.10/site-packages (from peft==0.4.0) (4.30.2)\nRequirement already satisfied: accelerate in /databricks/python3/lib/python3.10/site-packages (from peft==0.4.0) (0.20.3)\nRequirement already satisfied: safetensors in /databricks/python3/lib/python3.10/site-packages (from peft==0.4.0) (0.3.2)\nRequirement already satisfied: pyyaml in /databricks/python3/lib/python3.10/site-packages (from peft==0.4.0) (6.0)\nRequirement already satisfied: torch>=1.13.0 in /databricks/python3/lib/python3.10/site-packages (from peft==0.4.0) (1.13.1+cpu)\nRequirement already satisfied: numpy>=1.17 in /databricks/python3/lib/python3.10/site-packages (from peft==0.4.0) (1.21.5)\nRequirement already satisfied: psutil in /databricks/python3/lib/python3.10/site-packages (from peft==0.4.0) (5.9.0)\nRequirement already satisfied: pyparsing!=3.0.5,>=2.0.2 in /databricks/python3/lib/python3.10/site-packages (from packaging>=20.0->peft==0.4.0) (3.0.9)\nRequirement already satisfied: typing-extensions in /databricks/python3/lib/python3.10/site-packages (from torch>=1.13.0->peft==0.4.0) (4.3.0)\nRequirement already satisfied: tqdm>=4.27 in /databricks/python3/lib/python3.10/site-packages (from transformers->peft==0.4.0) (4.64.1)\nRequirement already satisfied: requests in /databricks/python3/lib/python3.10/site-packages (from transformers->peft==0.4.0) (2.28.1)\nRequirement already satisfied: tokenizers!=0.11.3,<0.14,>=0.11.1 in /databricks/python3/lib/python3.10/site-packages (from transformers->peft==0.4.0) (0.13.3)\nRequirement already satisfied: regex!=2019.12.17 in /databricks/python3/lib/python3.10/site-packages (from transformers->peft==0.4.0) (2022.7.9)\nRequirement already satisfied: filelock in /databricks/python3/lib/python3.10/site-packages (from transformers->peft==0.4.0) (3.6.0)\nRequirement already satisfied: huggingface-hub<1.0,>=0.14.1 in /databricks/python3/lib/python3.10/site-packages (from transformers->peft==0.4.0) (0.16.4)\nRequirement already satisfied: fsspec in /databricks/python3/lib/python3.10/site-packages (from huggingface-hub<1.0,>=0.14.1->transformers->peft==0.4.0) (2022.7.1)\nRequirement already satisfied: urllib3<1.27,>=1.21.1 in /databricks/python3/lib/python3.10/site-packages (from requests->transformers->peft==0.4.0) (1.26.11)\nRequirement already satisfied: idna<4,>=2.5 in /databricks/python3/lib/python3.10/site-packages (from requests->transformers->peft==0.4.0) (3.3)\nRequirement already satisfied: charset-normalizer<3,>=2 in /databricks/python3/lib/python3.10/site-packages (from requests->transformers->peft==0.4.0) (2.0.4)\nRequirement already satisfied: certifi>=2017.4.17 in /databricks/python3/lib/python3.10/site-packages (from requests->transformers->peft==0.4.0) (2022.9.14)\nInstalling collected packages: peft\nSuccessfully installed peft-0.4.0\n\u001B[43mNote: you may need to restart the kernel using dbutils.library.restartPython() to use updated packages.\u001B[0m\n"
     ]
    }
   ],
   "source": [
    "%pip install peft==0.4.0"
   ]
  },
  {
   "cell_type": "code",
   "execution_count": 0,
   "metadata": {
    "application/vnd.databricks.v1+cell": {
     "cellMetadata": {
      "byteLimit": 2048000,
      "rowLimit": 10000
     },
     "inputWidgets": {},
     "nuid": "55aed90e-9456-4cb8-9af1-41c3df0f04d4",
     "showTitle": false,
     "title": ""
    }
   },
   "outputs": [
    {
     "output_type": "stream",
     "name": "stdout",
     "output_type": "stream",
     "text": [
      "\u001B[43mNote: you may need to restart the kernel using dbutils.library.restartPython() to use updated packages.\u001B[0m\n\u001B[43mNote: you may need to restart the kernel using dbutils.library.restartPython() to use updated packages.\u001B[0m\n"
     ]
    },
    {
     "output_type": "stream",
     "name": "stdout",
     "output_type": "stream",
     "text": [
      "Resetting the learning environment:\n| enumerating serving endpoints...found 6...(0 seconds)\n| No action taken\n\nSkipping install of existing datasets to \"dbfs:/mnt/dbacademy-datasets/llm-foundation-models/v01-raw\"\n\nValidating the locally installed datasets:\n| listing local files...(4 seconds)\n| removing extra path: /datasets/Abirate___json/Abirate--english_quotes-6e72855d06356857/0.0.0/8bb11242116d547c741b2e8a1f18598ffdd40a1d4f2a2872c7a28b697434bc96/...(0 seconds)\n| removing extra path: /datasets/downloads/...(0 seconds)\n| removing extra file: /datasets/Abirate___json/Abirate--english_quotes-6e72855d06356857/0.0.0/8bb11242116d547c741b2e8a1f18598ffdd40a1d4f2a2872c7a28b697434bc96.incomplete_info.lock...(0 seconds)\n| removing extra file: /datasets/Abirate___json/Abirate--english_quotes-6e72855d06356857/0.0.0/8bb11242116d547c741b2e8a1f18598ffdd40a1d4f2a2872c7a28b697434bc96_builder.lock...(1 seconds)\n| removing extra file: /datasets/_dbfs_mnt_dbacademy-datasets_llm-foundation-models_v01-raw_datasets_Abirate___json_Abirate--english_quotes-6e72855d06356857_0.0.0_8bb11242116d547c741b2e8a1f18598ffdd40a1d4f2a2872c7a28b697434bc96.lock...(0 seconds)\n| removing extra file: /datasets/_local_disk0_datasets_Abirate___json_Abirate--english_quotes-6e72855d06356857_0.0.0_8bb11242116d547c741b2e8a1f18598ffdd40a1d4f2a2872c7a28b697434bc96.lock...(0 seconds)\n| fixed 6 issues...(5 seconds total)\n"
     ]
    },
    {
     "output_type": "stream",
     "name": "stdout",
     "output_type": "stream",
     "text": [
      "Importing lab testing framework.\n"
     ]
    },
    {
     "output_type": "stream",
     "name": "stdout",
     "output_type": "stream",
     "text": [
      "\nUsing the \"default\" schema.\n\nPredefined paths variables:\n| DA.paths.working_dir: /dbfs/mnt/dbacademy-users/labuser5547903@vocareum.com/llm-foundation-models\n| DA.paths.user_db:     dbfs:/mnt/dbacademy-users/labuser5547903@vocareum.com/llm-foundation-models/database.db\n| DA.paths.datasets:    /dbfs/mnt/dbacademy-datasets/llm-foundation-models/v01-raw\n\nSetup completed (16 seconds)\n\nThe models developed or used in this course are for demonstration and learning purposes only.\nModels may occasionally output offensive, inaccurate, biased information, or harmful instructions.\n"
     ]
    }
   ],
   "source": [
    "%run ../Includes/Classroom-Setup"
   ]
  },
  {
   "cell_type": "markdown",
   "metadata": {
    "application/vnd.databricks.v1+cell": {
     "cellMetadata": {
      "byteLimit": 2048000,
      "rowLimit": 10000
     },
     "inputWidgets": {},
     "nuid": "f80b4645-850f-4a8f-a83f-5ee697fc65b4",
     "showTitle": false,
     "title": ""
    }
   },
   "source": [
    "\n",
    "[Auto Classes](https://huggingface.co/docs/transformers/main/en/model_doc/auto#auto-classes) helps you automatically retrieve the relevant model and tokenizers, given the pre-trained models you are interested in using. \n",
    "\n",
    "Causal language modeling refers to the decoding process, where the model predicts the next token based on only the tokens on the left. The model cannot see the future tokens, unlike masked language models that have full access to tokens bidirectionally. A canonical example of a causal language model is GPT-2. You also hear causal language models being described as autoregressive as well. \n",
    "\n",
    "API docs:\n",
    "* [AutoTokenizer](https://huggingface.co/docs/transformers/main/en/model_doc/auto#transformers.AutoTokenizer)\n",
    "* [AutoModelForCausalLM](https://huggingface.co/docs/transformers/main/en/model_doc/auto#transformers.AutoModelForCausalLM)\n",
    "\n",
    "In this demo, we will be using `bigscience/bloomz-560m` as our **foundation** causal LM to generate text. You can read more about [`bloomz` model here](https://huggingface.co/bigscience/bloomz). It was trained on [multi-lingual dataset](https://huggingface.co/datasets/bigscience/xP3), spanning 46 languages and 13 programming languages. The dataset covers a wide range of NLP tasks, including Q/A, title generation, text classification."
   ]
  },
  {
   "cell_type": "code",
   "execution_count": 0,
   "metadata": {
    "application/vnd.databricks.v1+cell": {
     "cellMetadata": {
      "byteLimit": 2048000,
      "rowLimit": 10000
     },
     "inputWidgets": {},
     "nuid": "77ca71e5-413d-43eb-b8f1-c37162ee98d9",
     "showTitle": false,
     "title": ""
    }
   },
   "outputs": [
    {
     "output_type": "display_data",
     "data": {
      "application/vnd.jupyter.widget-view+json": {
       "model_id": "2c393b4dd5964ee796c119bbc7b7abb2",
       "version_major": 2,
       "version_minor": 0
      },
      "text/plain": [
       "Downloading tokenizer_config.json:   0%|          | 0.00/222 [00:00<?, ?B/s]"
      ]
     },
     "metadata": {},
     "output_type": "display_data"
    },
    {
     "output_type": "display_data",
     "data": {
      "application/vnd.jupyter.widget-view+json": {
       "model_id": "e7cbc939278b4a65bf270926f3198e28",
       "version_major": 2,
       "version_minor": 0
      },
      "text/plain": [
       "Downloading tokenizer.json:   0%|          | 0.00/14.5M [00:00<?, ?B/s]"
      ]
     },
     "metadata": {},
     "output_type": "display_data"
    },
    {
     "output_type": "display_data",
     "data": {
      "application/vnd.jupyter.widget-view+json": {
       "model_id": "496094818b1c4b8bbafc9a2599b9fd74",
       "version_major": 2,
       "version_minor": 0
      },
      "text/plain": [
       "Downloading (…)cial_tokens_map.json:   0%|          | 0.00/85.0 [00:00<?, ?B/s]"
      ]
     },
     "metadata": {},
     "output_type": "display_data"
    },
    {
     "output_type": "display_data",
     "data": {
      "application/vnd.jupyter.widget-view+json": {
       "model_id": "f1119424843a4451bfea37d69e090dd2",
       "version_major": 2,
       "version_minor": 0
      },
      "text/plain": [
       "Downloading config.json:   0%|          | 0.00/715 [00:00<?, ?B/s]"
      ]
     },
     "metadata": {},
     "output_type": "display_data"
    },
    {
     "output_type": "display_data",
     "data": {
      "application/vnd.jupyter.widget-view+json": {
       "model_id": "99b156f58db54fcbbf114a4f7275fadf",
       "version_major": 2,
       "version_minor": 0
      },
      "text/plain": [
       "Downloading model.safetensors:   0%|          | 0.00/1.12G [00:00<?, ?B/s]"
      ]
     },
     "metadata": {},
     "output_type": "display_data"
    }
   ],
   "source": [
    "from transformers import AutoModelForCausalLM, AutoTokenizer\n",
    "\n",
    "model_name = \"bigscience/bloomz-560m\"\n",
    "\n",
    "tokenizer = AutoTokenizer.from_pretrained(model_name)\n",
    "foundation_model = AutoModelForCausalLM.from_pretrained(model_name)"
   ]
  },
  {
   "cell_type": "markdown",
   "metadata": {
    "application/vnd.databricks.v1+cell": {
     "cellMetadata": {
      "byteLimit": 2048000,
      "rowLimit": 10000
     },
     "inputWidgets": {},
     "nuid": "2350a7b7-608a-4c50-9825-25f68eccdedd",
     "showTitle": false,
     "title": ""
    }
   },
   "source": [
    "Before doing any fine-tuning, we will ask the model to generate a new phrase to the following input sentence. "
   ]
  },
  {
   "cell_type": "code",
   "execution_count": 0,
   "metadata": {
    "application/vnd.databricks.v1+cell": {
     "cellMetadata": {
      "byteLimit": 2048000,
      "rowLimit": 10000
     },
     "inputWidgets": {},
     "nuid": "3d5e018a-87fe-4208-ba8a-4b3470f48d34",
     "showTitle": false,
     "title": ""
    }
   },
   "outputs": [
    {
     "output_type": "stream",
     "name": "stdout",
     "output_type": "stream",
     "text": [
      "['Two things are infinite:  the number of people and the number']\n"
     ]
    }
   ],
   "source": [
    "input1 = tokenizer(\"Two things are infinite: \", return_tensors=\"pt\")\n",
    "\n",
    "foundation_outputs = foundation_model.generate(\n",
    "    input_ids=input1[\"input_ids\"], \n",
    "    attention_mask=input1[\"attention_mask\"], \n",
    "    max_new_tokens=7, \n",
    "    eos_token_id=tokenizer.eos_token_id\n",
    "    )\n",
    "print(tokenizer.batch_decode(foundation_outputs, skip_special_tokens=True))"
   ]
  },
  {
   "cell_type": "markdown",
   "metadata": {
    "application/vnd.databricks.v1+cell": {
     "cellMetadata": {
      "byteLimit": 2048000,
      "rowLimit": 10000
     },
     "inputWidgets": {},
     "nuid": "e1766fa2-35fe-408e-a644-f11a1e358399",
     "showTitle": false,
     "title": ""
    }
   },
   "source": [
    "The output is not too bad. However, the dataset BLOOMZ is pre-trained on doesn't cover anything about inspirational English quotes. Therefore, we are going to fine-tune `bloomz-560m` on [a dataset called `Abirate/english_quotes`](https://huggingface.co/datasets/Abirate/english_quotes)  containing exclusively inspirational English quotes, with the hopes of using the fine-tuned version to generate more quotes later! "
   ]
  },
  {
   "cell_type": "code",
   "execution_count": 0,
   "metadata": {
    "application/vnd.databricks.v1+cell": {
     "cellMetadata": {
      "byteLimit": 2048000,
      "rowLimit": 10000
     },
     "inputWidgets": {},
     "nuid": "9aa16bfc-8601-4946-abbf-4af48f9b901d",
     "showTitle": false,
     "title": ""
    }
   },
   "outputs": [
    {
     "output_type": "stream",
     "name": "stderr",
     "output_type": "stream",
     "text": [
      "/databricks/python_shell/dbruntime/huggingface_patches/datasets.py:13: UserWarning: During large dataset downloads, there could be multiple progress bar widgets that can cause performance issues for your notebook or browser. To avoid these issues, use `datasets.utils.logging.disable_progress_bar()` to turn off the progress bars.\n  warnings.warn(\n"
     ]
    },
    {
     "output_type": "display_data",
     "data": {
      "application/vnd.jupyter.widget-view+json": {
       "model_id": "dd69c02969224f40887f9bbdb2b9d920",
       "version_major": 2,
       "version_minor": 0
      },
      "text/plain": [
       "Downloading readme:   0%|          | 0.00/5.55k [00:00<?, ?B/s]"
      ]
     },
     "metadata": {},
     "output_type": "display_data"
    },
    {
     "output_type": "stream",
     "name": "stderr",
     "output_type": "stream",
     "text": [
      "/databricks/python_shell/dbruntime/huggingface_patches/datasets.py:109: UserWarning: The dataset would be saved to both local disk and DBFS for better performance.\n  warnings.warn(\"The dataset would be saved to both local disk and DBFS for better performance.\")\n"
     ]
    },
    {
     "output_type": "stream",
     "name": "stdout",
     "output_type": "stream",
     "text": [
      "Downloading and preparing dataset json/Abirate--english_quotes to /local_disk0/datasets/Abirate___json/Abirate--english_quotes-6e72855d06356857/0.0.0/8bb11242116d547c741b2e8a1f18598ffdd40a1d4f2a2872c7a28b697434bc96...\n"
     ]
    },
    {
     "output_type": "display_data",
     "data": {
      "application/vnd.jupyter.widget-view+json": {
       "model_id": "47e378d3fac84a7193081e20b13b707c",
       "version_major": 2,
       "version_minor": 0
      },
      "text/plain": [
       "Downloading data files:   0%|          | 0/1 [00:00<?, ?it/s]"
      ]
     },
     "metadata": {},
     "output_type": "display_data"
    },
    {
     "output_type": "display_data",
     "data": {
      "application/vnd.jupyter.widget-view+json": {
       "model_id": "1fae74b7b70341edb505525da1e9428e",
       "version_major": 2,
       "version_minor": 0
      },
      "text/plain": [
       "Downloading data:   0%|          | 0.00/647k [00:00<?, ?B/s]"
      ]
     },
     "metadata": {},
     "output_type": "display_data"
    },
    {
     "output_type": "display_data",
     "data": {
      "application/vnd.jupyter.widget-view+json": {
       "model_id": "e80789f277d04b8495f42698bbd03baa",
       "version_major": 2,
       "version_minor": 0
      },
      "text/plain": [
       "Extracting data files:   0%|          | 0/1 [00:00<?, ?it/s]"
      ]
     },
     "metadata": {},
     "output_type": "display_data"
    },
    {
     "output_type": "display_data",
     "data": {
      "application/vnd.jupyter.widget-view+json": {
       "model_id": "ade6d6c0f82b4d35a6a6aae8935c956e",
       "version_major": 2,
       "version_minor": 0
      },
      "text/plain": [
       "Generating train split: 0 examples [00:00, ? examples/s]"
      ]
     },
     "metadata": {},
     "output_type": "display_data"
    },
    {
     "output_type": "stream",
     "name": "stdout",
     "output_type": "stream",
     "text": [
      "Dataset json downloaded and prepared to /local_disk0/datasets/Abirate___json/Abirate--english_quotes-6e72855d06356857/0.0.0/8bb11242116d547c741b2e8a1f18598ffdd40a1d4f2a2872c7a28b697434bc96. Subsequent calls will reuse this data.\n"
     ]
    },
    {
     "output_type": "display_data",
     "data": {
      "application/vnd.jupyter.widget-view+json": {
       "model_id": "d5447950a430438193af100c036fbd1e",
       "version_major": 2,
       "version_minor": 0
      },
      "text/plain": [
       "  0%|          | 0/1 [00:00<?, ?it/s]"
      ]
     },
     "metadata": {},
     "output_type": "display_data"
    },
    {
     "output_type": "display_data",
     "data": {
      "application/vnd.jupyter.widget-view+json": {
       "model_id": "9e7d787c90c64abbadfe898bc6f02be9",
       "version_major": 2,
       "version_minor": 0
      },
      "text/plain": [
       "Map:   0%|          | 0/2508 [00:00<?, ? examples/s]"
      ]
     },
     "metadata": {},
     "output_type": "display_data"
    },
    {
     "output_type": "display_data",
     "data": {
      "text/plain": [
       "Dataset({\n",
       "    features: ['quote', 'author', 'tags', 'input_ids', 'attention_mask'],\n",
       "    num_rows: 50\n",
       "})"
      ]
     },
     "metadata": {},
     "output_type": "display_data"
    }
   ],
   "source": [
    "from datasets import load_dataset\n",
    "\n",
    "data = load_dataset(\"Abirate/english_quotes\", cache_dir=DA.paths.datasets+\"/datasets\")\n",
    "\n",
    "data = data.map(lambda samples: tokenizer(samples[\"quote\"]), batched=True)\n",
    "train_sample = data[\"train\"].select(range(50))\n",
    "display(train_sample) "
   ]
  },
  {
   "cell_type": "markdown",
   "metadata": {
    "application/vnd.databricks.v1+cell": {
     "cellMetadata": {
      "byteLimit": 2048000,
      "rowLimit": 10000
     },
     "inputWidgets": {},
     "nuid": "cb9c93cf-fd18-4af6-b8cb-cdcd9c8a61bd",
     "showTitle": false,
     "title": ""
    }
   },
   "source": [
    "## Onto fine-tuning: define PEFT configurations for random initialization\n",
    "\n",
    "Recall that prompt tuning allows both random and initialization of soft prompts or also known as virtual tokens. We will compare the model outputs from both initialization methods later. For now, we will start with random initialization, where all we provide is the length of the virtual prompt. \n",
    "\n",
    "API docs:\n",
    "* [PromptTuningConfig](https://huggingface.co/docs/peft/main/en/package_reference/tuners#peft.PromptTuningConfig)\n",
    "* [PEFT model](https://huggingface.co/docs/peft/main/en/package_reference/tuners#peft.PromptTuningConfig)"
   ]
  },
  {
   "cell_type": "code",
   "execution_count": 0,
   "metadata": {
    "application/vnd.databricks.v1+cell": {
     "cellMetadata": {
      "byteLimit": 2048000,
      "rowLimit": 10000
     },
     "inputWidgets": {},
     "nuid": "495b1e6d-4e1d-4494-9535-c84c50c72739",
     "showTitle": false,
     "title": ""
    }
   },
   "outputs": [
    {
     "output_type": "stream",
     "name": "stdout",
     "output_type": "stream",
     "text": [
      "trainable params: 4,096 || all params: 559,218,688 || trainable%: 0.0007324504863471229\nNone\n"
     ]
    }
   ],
   "source": [
    "from peft import  get_peft_model, PromptTuningConfig, TaskType, PromptTuningInit\n",
    "\n",
    "peft_config = PromptTuningConfig(\n",
    "    task_type=TaskType.CAUSAL_LM,\n",
    "    prompt_tuning_init=PromptTuningInit.RANDOM,\n",
    "    num_virtual_tokens=4,\n",
    "    tokenizer_name_or_path=model_name\n",
    ")\n",
    "peft_model = get_peft_model(foundation_model, peft_config)\n",
    "print(peft_model.print_trainable_parameters())"
   ]
  },
  {
   "cell_type": "markdown",
   "metadata": {
    "application/vnd.databricks.v1+cell": {
     "cellMetadata": {
      "byteLimit": 2048000,
      "rowLimit": 10000
     },
     "inputWidgets": {},
     "nuid": "64714db7-fd97-47b1-adca-697de9685cfd",
     "showTitle": false,
     "title": ""
    }
   },
   "source": [
    "That's the beauty of PEFT! It allows us to drastically reduce the number of trainable parameters. Now, we can proceed with using [HuggingFace's `Trainer` class](https://huggingface.co/docs/transformers/main/en/main_classes/trainer#trainer) and its [`TrainingArguments` to define our fine-tuning configurations](https://huggingface.co/docs/transformers/main/en/main_classes/trainer#transformers.TrainingArguments). \n",
    "\n",
    "The `Trainer` class provides user-friendly abstraction to leverage PyTorch under the hood to conduct training. "
   ]
  },
  {
   "cell_type": "code",
   "execution_count": 0,
   "metadata": {
    "application/vnd.databricks.v1+cell": {
     "cellMetadata": {
      "byteLimit": 2048000,
      "rowLimit": 10000
     },
     "inputWidgets": {},
     "nuid": "43e0e213-48fd-4746-ac67-eadd2baa4739",
     "showTitle": false,
     "title": ""
    }
   },
   "outputs": [
    {
     "output_type": "display_data",
     "data": {
      "text/plain": [
       "\u001B[0;31m---------------------------------------------------------------------------\u001B[0m\n",
       "\u001B[0;31mNameError\u001B[0m                                 Traceback (most recent call last)\n",
       "File \u001B[0;32m<command-2575065464462629>, line 13\u001B[0m\n",
       "\u001B[1;32m      8\u001B[0m \u001B[38;5;28;01mif\u001B[39;00m \u001B[38;5;129;01mnot\u001B[39;00m os\u001B[38;5;241m.\u001B[39mpath\u001B[38;5;241m.\u001B[39mexists(output_directory):\n",
       "\u001B[1;32m      9\u001B[0m     os\u001B[38;5;241m.\u001B[39mmkdir(output_directory)\n",
       "\u001B[1;32m     11\u001B[0m training_args \u001B[38;5;241m=\u001B[39m TrainingArguments(\n",
       "\u001B[1;32m     12\u001B[0m     output_dir\u001B[38;5;241m=\u001B[39moutput_directory, \u001B[38;5;66;03m# Where the model predictions and checkpoints will be written\u001B[39;00m\n",
       "\u001B[0;32m---> 13\u001B[0m     no_cuda\u001B[38;5;241m=\u001B[39mNO_CUDA, \u001B[38;5;66;03m# This is necessary for CPU clusters. \u001B[39;00m\n",
       "\u001B[1;32m     14\u001B[0m     auto_find_batch_size\u001B[38;5;241m=\u001B[39m\u001B[38;5;28;01mTrue\u001B[39;00m, \u001B[38;5;66;03m# Find a suitable batch size that will fit into memory automatically \u001B[39;00m\n",
       "\u001B[1;32m     15\u001B[0m     learning_rate\u001B[38;5;241m=\u001B[39m \u001B[38;5;241m3e-2\u001B[39m, \u001B[38;5;66;03m# Higher learning rate than full fine-tuning\u001B[39;00m\n",
       "\u001B[1;32m     16\u001B[0m     num_train_epochs\u001B[38;5;241m=\u001B[39m\u001B[38;5;241m5\u001B[39m \u001B[38;5;66;03m# Number of passes to go through the entire fine-tuning dataset \u001B[39;00m\n",
       "\u001B[1;32m     17\u001B[0m )\n",
       "\n",
       "\u001B[0;31mNameError\u001B[0m: name 'NO_CUDA' is not defined"
      ]
     },
     "metadata": {
      "application/vnd.databricks.v1+output": {
       "arguments": {},
       "data": "\u001B[0;31m---------------------------------------------------------------------------\u001B[0m\n\u001B[0;31mNameError\u001B[0m                                 Traceback (most recent call last)\nFile \u001B[0;32m<command-2575065464462629>, line 13\u001B[0m\n\u001B[1;32m      8\u001B[0m \u001B[38;5;28;01mif\u001B[39;00m \u001B[38;5;129;01mnot\u001B[39;00m os\u001B[38;5;241m.\u001B[39mpath\u001B[38;5;241m.\u001B[39mexists(output_directory):\n\u001B[1;32m      9\u001B[0m     os\u001B[38;5;241m.\u001B[39mmkdir(output_directory)\n\u001B[1;32m     11\u001B[0m training_args \u001B[38;5;241m=\u001B[39m TrainingArguments(\n\u001B[1;32m     12\u001B[0m     output_dir\u001B[38;5;241m=\u001B[39moutput_directory, \u001B[38;5;66;03m# Where the model predictions and checkpoints will be written\u001B[39;00m\n\u001B[0;32m---> 13\u001B[0m     no_cuda\u001B[38;5;241m=\u001B[39mNO_CUDA, \u001B[38;5;66;03m# This is necessary for CPU clusters. \u001B[39;00m\n\u001B[1;32m     14\u001B[0m     auto_find_batch_size\u001B[38;5;241m=\u001B[39m\u001B[38;5;28;01mTrue\u001B[39;00m, \u001B[38;5;66;03m# Find a suitable batch size that will fit into memory automatically \u001B[39;00m\n\u001B[1;32m     15\u001B[0m     learning_rate\u001B[38;5;241m=\u001B[39m \u001B[38;5;241m3e-2\u001B[39m, \u001B[38;5;66;03m# Higher learning rate than full fine-tuning\u001B[39;00m\n\u001B[1;32m     16\u001B[0m     num_train_epochs\u001B[38;5;241m=\u001B[39m\u001B[38;5;241m5\u001B[39m \u001B[38;5;66;03m# Number of passes to go through the entire fine-tuning dataset \u001B[39;00m\n\u001B[1;32m     17\u001B[0m )\n\n\u001B[0;31mNameError\u001B[0m: name 'NO_CUDA' is not defined",
       "errorSummary": "<span class='ansi-red-fg'>NameError</span>: name 'NO_CUDA' is not defined",
       "errorTraceType": "ansi",
       "metadata": {},
       "type": "ipynbError"
      }
     },
     "output_type": "display_data"
    }
   ],
   "source": [
    "from transformers import TrainingArguments\n",
    "import os\n",
    "\n",
    "output_directory = os.path.join(DA.paths.working_dir, \"peft_outputs\")\n",
    "\n",
    "if not os.path.exists(DA.paths.working_dir):\n",
    "    os.mkdir(DA.paths.working_dir)\n",
    "if not os.path.exists(output_directory):\n",
    "    os.mkdir(output_directory)\n",
    "\n",
    "training_args = TrainingArguments(\n",
    "    output_dir=output_directory, # Where the model predictions and checkpoints will be written\n",
    "    no_cuda=NO_CUDA, # This is necessary for CPU clusters. \n",
    "    auto_find_batch_size=True, # Find a suitable batch size that will fit into memory automatically \n",
    "    learning_rate= 3e-2, # Higher learning rate than full fine-tuning\n",
    "    num_train_epochs=5 # Number of passes to go through the entire fine-tuning dataset \n",
    ")"
   ]
  },
  {
   "cell_type": "markdown",
   "metadata": {
    "application/vnd.databricks.v1+cell": {
     "cellMetadata": {
      "byteLimit": 2048000,
      "rowLimit": 10000
     },
     "inputWidgets": {},
     "nuid": "5e7fe2ed-77c1-460d-ac5b-a08b5bf37712",
     "showTitle": false,
     "title": ""
    }
   },
   "source": [
    "## Train\n",
    "\n",
    "We will also use `Data Collator` to help us form batches of inputs to pass in to the model for training. Go [here](https://huggingface.co/docs/transformers/main/en/main_classes/data_collator#data-collator) for documentation.\n",
    "\n",
    "Specifically, we will be using `DataCollatorforLanguageModeling` which will additionally pad the inputs to the maximum length of a batch since the inputs can have variable lengths. Refer to [API docs here](https://huggingface.co/docs/transformers/main/en/main_classes/data_collator#transformers.DataCollatorForLanguageModeling).\n",
    "\n",
    "Note: This cell might take ~10 mins to train. **Decrease `num_train_epochs` above to speed up the training process.** On another hand, you might notice that this cells triggers a whole new MLflow run. [MLflow](https://mlflow.org/docs/latest/index.html) is an open source tool that helps to manage end-to-end machine learning lifecycle, including experiment tracking, ML code packaging, and model deployment. You can read more about [LLM tracking here](https://mlflow.org/docs/latest/llm-tracking.html)."
   ]
  },
  {
   "cell_type": "code",
   "execution_count": 0,
   "metadata": {
    "application/vnd.databricks.v1+cell": {
     "cellMetadata": {
      "byteLimit": 2048000,
      "rowLimit": 10000
     },
     "inputWidgets": {},
     "nuid": "5ac28028-7072-45f4-bc0f-eac65c8cfbb1",
     "showTitle": false,
     "title": ""
    }
   },
   "outputs": [
    {
     "output_type": "stream",
     "name": "stderr",
     "output_type": "stream",
     "text": [
      "2024/04/05 19:39:43 INFO mlflow.tracking.fluent: Experiment with name '/Users/labuser5547903@vocareum.com/LLM 02 - Prompt Tuning with PEFT' does not exist. Creating a new experiment.\n"
     ]
    },
    {
     "output_type": "display_data",
     "data": {
      "text/plain": [
       "\u001B[0;31m---------------------------------------------------------------------------\u001B[0m\n",
       "\u001B[0;31mNameError\u001B[0m                                 Traceback (most recent call last)\n",
       "File \u001B[0;32m<command-2575065464462631>, line 10\u001B[0m\n",
       "\u001B[1;32m      4\u001B[0m \u001B[38;5;66;03m# Tell MLflow Tracking to use this explicit experiment path,\u001B[39;00m\n",
       "\u001B[1;32m      5\u001B[0m \u001B[38;5;66;03m# which is located on the left hand sidebar under Machine Learning -> Experiments \u001B[39;00m\n",
       "\u001B[1;32m      6\u001B[0m mlflow\u001B[38;5;241m.\u001B[39mset_experiment(\u001B[38;5;124mf\u001B[39m\u001B[38;5;124m\"\u001B[39m\u001B[38;5;124m/Users/\u001B[39m\u001B[38;5;132;01m{\u001B[39;00mDA\u001B[38;5;241m.\u001B[39musername\u001B[38;5;132;01m}\u001B[39;00m\u001B[38;5;124m/LLM 02 - Prompt Tuning with PEFT\u001B[39m\u001B[38;5;124m\"\u001B[39m)\n",
       "\u001B[1;32m      8\u001B[0m trainer \u001B[38;5;241m=\u001B[39m Trainer(\n",
       "\u001B[1;32m      9\u001B[0m     model\u001B[38;5;241m=\u001B[39mpeft_model, \u001B[38;5;66;03m# We pass in the PEFT version of the foundation model, bloomz-560M\u001B[39;00m\n",
       "\u001B[0;32m---> 10\u001B[0m     args\u001B[38;5;241m=\u001B[39mtraining_args,\n",
       "\u001B[1;32m     11\u001B[0m     train_dataset\u001B[38;5;241m=\u001B[39mtrain_sample,\n",
       "\u001B[1;32m     12\u001B[0m     data_collator\u001B[38;5;241m=\u001B[39mDataCollatorForLanguageModeling(tokenizer, mlm\u001B[38;5;241m=\u001B[39m\u001B[38;5;28;01mFalse\u001B[39;00m) \u001B[38;5;66;03m# mlm=False indicates not to use masked language modeling\u001B[39;00m\n",
       "\u001B[1;32m     13\u001B[0m )\n",
       "\u001B[1;32m     15\u001B[0m trainer\u001B[38;5;241m.\u001B[39mtrain()\n",
       "\n",
       "\u001B[0;31mNameError\u001B[0m: name 'training_args' is not defined"
      ]
     },
     "metadata": {
      "application/vnd.databricks.v1+output": {
       "arguments": {},
       "data": "\u001B[0;31m---------------------------------------------------------------------------\u001B[0m\n\u001B[0;31mNameError\u001B[0m                                 Traceback (most recent call last)\nFile \u001B[0;32m<command-2575065464462631>, line 10\u001B[0m\n\u001B[1;32m      4\u001B[0m \u001B[38;5;66;03m# Tell MLflow Tracking to use this explicit experiment path,\u001B[39;00m\n\u001B[1;32m      5\u001B[0m \u001B[38;5;66;03m# which is located on the left hand sidebar under Machine Learning -> Experiments \u001B[39;00m\n\u001B[1;32m      6\u001B[0m mlflow\u001B[38;5;241m.\u001B[39mset_experiment(\u001B[38;5;124mf\u001B[39m\u001B[38;5;124m\"\u001B[39m\u001B[38;5;124m/Users/\u001B[39m\u001B[38;5;132;01m{\u001B[39;00mDA\u001B[38;5;241m.\u001B[39musername\u001B[38;5;132;01m}\u001B[39;00m\u001B[38;5;124m/LLM 02 - Prompt Tuning with PEFT\u001B[39m\u001B[38;5;124m\"\u001B[39m)\n\u001B[1;32m      8\u001B[0m trainer \u001B[38;5;241m=\u001B[39m Trainer(\n\u001B[1;32m      9\u001B[0m     model\u001B[38;5;241m=\u001B[39mpeft_model, \u001B[38;5;66;03m# We pass in the PEFT version of the foundation model, bloomz-560M\u001B[39;00m\n\u001B[0;32m---> 10\u001B[0m     args\u001B[38;5;241m=\u001B[39mtraining_args,\n\u001B[1;32m     11\u001B[0m     train_dataset\u001B[38;5;241m=\u001B[39mtrain_sample,\n\u001B[1;32m     12\u001B[0m     data_collator\u001B[38;5;241m=\u001B[39mDataCollatorForLanguageModeling(tokenizer, mlm\u001B[38;5;241m=\u001B[39m\u001B[38;5;28;01mFalse\u001B[39;00m) \u001B[38;5;66;03m# mlm=False indicates not to use masked language modeling\u001B[39;00m\n\u001B[1;32m     13\u001B[0m )\n\u001B[1;32m     15\u001B[0m trainer\u001B[38;5;241m.\u001B[39mtrain()\n\n\u001B[0;31mNameError\u001B[0m: name 'training_args' is not defined",
       "errorSummary": "<span class='ansi-red-fg'>NameError</span>: name 'training_args' is not defined",
       "errorTraceType": "ansi",
       "metadata": {},
       "type": "ipynbError"
      }
     },
     "output_type": "display_data"
    }
   ],
   "source": [
    "from transformers import Trainer, DataCollatorForLanguageModeling\n",
    "import mlflow\n",
    "\n",
    "# Tell MLflow Tracking to use this explicit experiment path,\n",
    "# which is located on the left hand sidebar under Machine Learning -> Experiments \n",
    "mlflow.set_experiment(f\"/Users/{DA.username}/LLM 02 - Prompt Tuning with PEFT\")\n",
    "\n",
    "trainer = Trainer(\n",
    "    model=peft_model, # We pass in the PEFT version of the foundation model, bloomz-560M\n",
    "    args=training_args,\n",
    "    train_dataset=train_sample,\n",
    "    data_collator=DataCollatorForLanguageModeling(tokenizer, mlm=False) # mlm=False indicates not to use masked language modeling\n",
    ")\n",
    "\n",
    "trainer.train()"
   ]
  },
  {
   "cell_type": "markdown",
   "metadata": {
    "application/vnd.databricks.v1+cell": {
     "cellMetadata": {
      "byteLimit": 2048000,
      "rowLimit": 10000
     },
     "inputWidgets": {},
     "nuid": "0c6b8298-c5b3-46d6-b739-8f0fdb44aefc",
     "showTitle": false,
     "title": ""
    }
   },
   "source": [
    "## Save model"
   ]
  },
  {
   "cell_type": "code",
   "execution_count": 0,
   "metadata": {
    "application/vnd.databricks.v1+cell": {
     "cellMetadata": {
      "byteLimit": 2048000,
      "rowLimit": 10000
     },
     "inputWidgets": {},
     "nuid": "fe9ff87d-b60a-454f-acc0-cfc55101e6d5",
     "showTitle": false,
     "title": ""
    }
   },
   "outputs": [
    {
     "output_type": "display_data",
     "data": {
      "text/plain": [
       "\u001B[0;31m---------------------------------------------------------------------------\u001B[0m\n",
       "\u001B[0;31mNameError\u001B[0m                                 Traceback (most recent call last)\n",
       "File \u001B[0;32m<command-2575065464462633>, line 5\u001B[0m\n",
       "\u001B[1;32m      3\u001B[0m time_now \u001B[38;5;241m=\u001B[39m time\u001B[38;5;241m.\u001B[39mtime()\n",
       "\u001B[1;32m      4\u001B[0m peft_model_path \u001B[38;5;241m=\u001B[39m os\u001B[38;5;241m.\u001B[39mpath\u001B[38;5;241m.\u001B[39mjoin(output_directory, \u001B[38;5;124mf\u001B[39m\u001B[38;5;124m\"\u001B[39m\u001B[38;5;124mpeft_model_\u001B[39m\u001B[38;5;132;01m{\u001B[39;00mtime_now\u001B[38;5;132;01m}\u001B[39;00m\u001B[38;5;124m\"\u001B[39m)\n",
       "\u001B[0;32m----> 5\u001B[0m trainer\u001B[38;5;241m.\u001B[39mmodel\u001B[38;5;241m.\u001B[39msave_pretrained(peft_model_path)\n",
       "\n",
       "\u001B[0;31mNameError\u001B[0m: name 'trainer' is not defined"
      ]
     },
     "metadata": {
      "application/vnd.databricks.v1+output": {
       "arguments": {},
       "data": "\u001B[0;31m---------------------------------------------------------------------------\u001B[0m\n\u001B[0;31mNameError\u001B[0m                                 Traceback (most recent call last)\nFile \u001B[0;32m<command-2575065464462633>, line 5\u001B[0m\n\u001B[1;32m      3\u001B[0m time_now \u001B[38;5;241m=\u001B[39m time\u001B[38;5;241m.\u001B[39mtime()\n\u001B[1;32m      4\u001B[0m peft_model_path \u001B[38;5;241m=\u001B[39m os\u001B[38;5;241m.\u001B[39mpath\u001B[38;5;241m.\u001B[39mjoin(output_directory, \u001B[38;5;124mf\u001B[39m\u001B[38;5;124m\"\u001B[39m\u001B[38;5;124mpeft_model_\u001B[39m\u001B[38;5;132;01m{\u001B[39;00mtime_now\u001B[38;5;132;01m}\u001B[39;00m\u001B[38;5;124m\"\u001B[39m)\n\u001B[0;32m----> 5\u001B[0m trainer\u001B[38;5;241m.\u001B[39mmodel\u001B[38;5;241m.\u001B[39msave_pretrained(peft_model_path)\n\n\u001B[0;31mNameError\u001B[0m: name 'trainer' is not defined",
       "errorSummary": "<span class='ansi-red-fg'>NameError</span>: name 'trainer' is not defined",
       "errorTraceType": "ansi",
       "metadata": {},
       "type": "ipynbError"
      }
     },
     "output_type": "display_data"
    }
   ],
   "source": [
    "import time\n",
    "\n",
    "time_now = time.time()\n",
    "peft_model_path = os.path.join(output_directory, f\"peft_model_{time_now}\")\n",
    "trainer.model.save_pretrained(peft_model_path)"
   ]
  },
  {
   "cell_type": "markdown",
   "metadata": {
    "application/vnd.databricks.v1+cell": {
     "cellMetadata": {
      "byteLimit": 2048000,
      "rowLimit": 10000
     },
     "inputWidgets": {},
     "nuid": "25749c30-ab68-4411-b0f7-6c11d8c6df86",
     "showTitle": false,
     "title": ""
    }
   },
   "source": [
    "## Inference\n",
    "\n",
    "You can load the model from the path that you have saved to before, and ask the model to generate text based on our input before! "
   ]
  },
  {
   "cell_type": "code",
   "execution_count": 0,
   "metadata": {
    "application/vnd.databricks.v1+cell": {
     "cellMetadata": {
      "byteLimit": 2048000,
      "rowLimit": 10000
     },
     "inputWidgets": {},
     "nuid": "790fc95c-4462-4188-a3d3-8f532db17e95",
     "showTitle": false,
     "title": ""
    }
   },
   "outputs": [
    {
     "output_type": "display_data",
     "data": {
      "text/plain": [
       "\u001B[0;31m---------------------------------------------------------------------------\u001B[0m\n",
       "\u001B[0;31mNameError\u001B[0m                                 Traceback (most recent call last)\n",
       "File \u001B[0;32m<command-2575065464462635>, line 4\u001B[0m\n",
       "\u001B[1;32m      1\u001B[0m \u001B[38;5;28;01mfrom\u001B[39;00m \u001B[38;5;21;01mpeft\u001B[39;00m \u001B[38;5;28;01mimport\u001B[39;00m PeftModel\n",
       "\u001B[1;32m      3\u001B[0m loaded_model \u001B[38;5;241m=\u001B[39m PeftModel\u001B[38;5;241m.\u001B[39mfrom_pretrained(foundation_model\u001B[38;5;241m.\u001B[39mto(\u001B[38;5;124m\"\u001B[39m\u001B[38;5;124mcpu\u001B[39m\u001B[38;5;124m\"\u001B[39m), \n",
       "\u001B[0;32m----> 4\u001B[0m                                          peft_model_path, \n",
       "\u001B[1;32m      5\u001B[0m                                          is_trainable\u001B[38;5;241m=\u001B[39m\u001B[38;5;28;01mFalse\u001B[39;00m)\n",
       "\n",
       "\u001B[0;31mNameError\u001B[0m: name 'peft_model_path' is not defined"
      ]
     },
     "metadata": {
      "application/vnd.databricks.v1+output": {
       "arguments": {},
       "data": "\u001B[0;31m---------------------------------------------------------------------------\u001B[0m\n\u001B[0;31mNameError\u001B[0m                                 Traceback (most recent call last)\nFile \u001B[0;32m<command-2575065464462635>, line 4\u001B[0m\n\u001B[1;32m      1\u001B[0m \u001B[38;5;28;01mfrom\u001B[39;00m \u001B[38;5;21;01mpeft\u001B[39;00m \u001B[38;5;28;01mimport\u001B[39;00m PeftModel\n\u001B[1;32m      3\u001B[0m loaded_model \u001B[38;5;241m=\u001B[39m PeftModel\u001B[38;5;241m.\u001B[39mfrom_pretrained(foundation_model\u001B[38;5;241m.\u001B[39mto(\u001B[38;5;124m\"\u001B[39m\u001B[38;5;124mcpu\u001B[39m\u001B[38;5;124m\"\u001B[39m), \n\u001B[0;32m----> 4\u001B[0m                                          peft_model_path, \n\u001B[1;32m      5\u001B[0m                                          is_trainable\u001B[38;5;241m=\u001B[39m\u001B[38;5;28;01mFalse\u001B[39;00m)\n\n\u001B[0;31mNameError\u001B[0m: name 'peft_model_path' is not defined",
       "errorSummary": "<span class='ansi-red-fg'>NameError</span>: name 'peft_model_path' is not defined",
       "errorTraceType": "ansi",
       "metadata": {},
       "type": "ipynbError"
      }
     },
     "output_type": "display_data"
    }
   ],
   "source": [
    "from peft import PeftModel\n",
    "\n",
    "loaded_model = PeftModel.from_pretrained(foundation_model.to(\"cpu\"), \n",
    "                                         peft_model_path, \n",
    "                                         is_trainable=False)"
   ]
  },
  {
   "cell_type": "code",
   "execution_count": 0,
   "metadata": {
    "application/vnd.databricks.v1+cell": {
     "cellMetadata": {
      "byteLimit": 2048000,
      "rowLimit": 10000
     },
     "inputWidgets": {},
     "nuid": "5b047108-7e48-41e8-948b-5f53fb8c1913",
     "showTitle": false,
     "title": ""
    }
   },
   "outputs": [
    {
     "output_type": "display_data",
     "data": {
      "text/plain": [
       ""
      ]
     },
     "metadata": {
      "application/vnd.databricks.v1+output": {
       "arguments": {},
       "data": "",
       "errorSummary": "Command skipped",
       "errorTraceType": "ansi",
       "metadata": {},
       "type": "ipynbError"
      }
     },
     "output_type": "display_data"
    }
   ],
   "source": [
    "loaded_model_outputs = loaded_model.generate(\n",
    "    input_ids=input1[\"input_ids\"], \n",
    "    attention_mask=input1[\"attention_mask\"], \n",
    "    max_new_tokens=7, \n",
    "    eos_token_id=tokenizer.eos_token_id\n",
    "    )\n",
    "print(tokenizer.batch_decode(loaded_model_outputs, skip_special_tokens=True))"
   ]
  },
  {
   "cell_type": "markdown",
   "metadata": {
    "application/vnd.databricks.v1+cell": {
     "cellMetadata": {
      "byteLimit": 2048000,
      "rowLimit": 10000
     },
     "inputWidgets": {},
     "nuid": "c9c1fe9c-ee9e-4d91-8b2e-a9d9a93417d2",
     "showTitle": false,
     "title": ""
    }
   },
   "source": [
    "Well, it seems like our fine-tuned model is indeed getting closer to generating inspirational quotes. \n",
    "\n",
    "\n",
    "In fact, the input above is taken from the training dataset. \n",
    "<br>\n",
    "<br>\n",
    "\n",
    "<img src=\"https://files.training.databricks.com/images/llm/english_quote_example.png\" width=500>"
   ]
  },
  {
   "cell_type": "markdown",
   "metadata": {
    "application/vnd.databricks.v1+cell": {
     "cellMetadata": {
      "byteLimit": 2048000,
      "rowLimit": 10000
     },
     "inputWidgets": {},
     "nuid": "bce90894-2709-4281-a2ae-fdfff1bcef2b",
     "showTitle": false,
     "title": ""
    }
   },
   "source": [
    "## Text initialization\n",
    "\n",
    "Our fine-tuned, randomly initialized model did pretty well on the quote above. Let's now compare it with the text initialization method. \n",
    "\n",
    "Notice that all we are changing is the `prompt_tuning_init` setting and we are also providing a concise text prompt. \n",
    "\n",
    "API docs\n",
    "* [prompt_tuning_init_text](https://huggingface.co/docs/peft/main/en/package_reference/tuners#peft.PromptTuningConfig.prompt_tuning_init_text)"
   ]
  },
  {
   "cell_type": "code",
   "execution_count": 0,
   "metadata": {
    "application/vnd.databricks.v1+cell": {
     "cellMetadata": {
      "byteLimit": 2048000,
      "rowLimit": 10000
     },
     "inputWidgets": {},
     "nuid": "f4a31c77-e4dc-4532-8490-3086f2459cdc",
     "showTitle": false,
     "title": ""
    }
   },
   "outputs": [
    {
     "output_type": "display_data",
     "data": {
      "text/plain": [
       ""
      ]
     },
     "metadata": {
      "application/vnd.databricks.v1+output": {
       "arguments": {},
       "data": "",
       "errorSummary": "Command skipped",
       "errorTraceType": "ansi",
       "metadata": {},
       "type": "ipynbError"
      }
     },
     "output_type": "display_data"
    }
   ],
   "source": [
    "text_peft_config = PromptTuningConfig(\n",
    "    task_type=TaskType.CAUSAL_LM,\n",
    "    prompt_tuning_init=PromptTuningInit.TEXT,\n",
    "    prompt_tuning_init_text=\"Generate inspirational quotes\", # this provides a starter for the model to start searching for the best embeddings\n",
    "    num_virtual_tokens=3, # this doesn't have to match the length of the text above\n",
    "    tokenizer_name_or_path=model_name\n",
    ")\n",
    "text_peft_model = get_peft_model(foundation_model, text_peft_config)\n",
    "print(text_peft_model.print_trainable_parameters())"
   ]
  },
  {
   "cell_type": "code",
   "execution_count": 0,
   "metadata": {
    "application/vnd.databricks.v1+cell": {
     "cellMetadata": {
      "byteLimit": 2048000,
      "rowLimit": 10000
     },
     "inputWidgets": {},
     "nuid": "b7354255-70ff-4c50-9947-5514a5c0d0cd",
     "showTitle": false,
     "title": ""
    }
   },
   "outputs": [
    {
     "output_type": "display_data",
     "data": {
      "text/plain": [
       ""
      ]
     },
     "metadata": {
      "application/vnd.databricks.v1+output": {
       "arguments": {},
       "data": "",
       "errorSummary": "Command skipped",
       "errorTraceType": "ansi",
       "metadata": {},
       "type": "ipynbError"
      }
     },
     "output_type": "display_data"
    }
   ],
   "source": [
    "text_trainer = Trainer(\n",
    "    model=text_peft_model,\n",
    "    args=training_args,\n",
    "    train_dataset=train_sample,\n",
    "    data_collator=DataCollatorForLanguageModeling(tokenizer, mlm=False)\n",
    ")\n",
    "\n",
    "text_trainer.train()"
   ]
  },
  {
   "cell_type": "code",
   "execution_count": 0,
   "metadata": {
    "application/vnd.databricks.v1+cell": {
     "cellMetadata": {
      "byteLimit": 2048000,
      "rowLimit": 10000
     },
     "inputWidgets": {},
     "nuid": "a715a70a-f0b4-4450-9704-eae77af05660",
     "showTitle": false,
     "title": ""
    }
   },
   "outputs": [
    {
     "output_type": "display_data",
     "data": {
      "text/plain": [
       ""
      ]
     },
     "metadata": {
      "application/vnd.databricks.v1+output": {
       "arguments": {},
       "data": "",
       "errorSummary": "Command skipped",
       "errorTraceType": "ansi",
       "metadata": {},
       "type": "ipynbError"
      }
     },
     "output_type": "display_data"
    }
   ],
   "source": [
    "# Save the model\n",
    "time_now = time.time()\n",
    "text_peft_model_path = os.path.join(output_directory, f\"text_peft_model_{time_now}\")\n",
    "text_trainer.model.save_pretrained(text_peft_model_path)\n",
    "\n",
    "# Load model \n",
    "loaded_text_model = PeftModel.from_pretrained(\n",
    "    foundation_model.to(\"cpu\"), \n",
    "    text_peft_model_path, \n",
    "    is_trainable=False\n",
    ")\n",
    "\n",
    "# Generate output\n",
    "text_outputs = loaded_text_model.generate(\n",
    "    input_ids=input1[\"input_ids\"], \n",
    "    attention_mask=input1[\"attention_mask\"], \n",
    "    max_new_tokens=7, \n",
    "    eos_token_id=tokenizer.eos_token_id\n",
    ")\n",
    "    \n",
    "print(tokenizer.batch_decode(text_outputs, skip_special_tokens=True))"
   ]
  },
  {
   "cell_type": "markdown",
   "metadata": {
    "application/vnd.databricks.v1+cell": {
     "cellMetadata": {
      "byteLimit": 2048000,
      "rowLimit": 10000
     },
     "inputWidgets": {},
     "nuid": "d0cd2703-ab27-4346-92f0-9db298167ac2",
     "showTitle": false,
     "title": ""
    }
   },
   "source": [
    "You can see that text initialization doesn't necessarily perform better than random initialization. "
   ]
  },
  {
   "cell_type": "markdown",
   "metadata": {
    "application/vnd.databricks.v1+cell": {
     "cellMetadata": {
      "byteLimit": 2048000,
      "rowLimit": 10000
     },
     "inputWidgets": {},
     "nuid": "e52cf56e-120b-47df-ba38-83bf744c05e9",
     "showTitle": false,
     "title": ""
    }
   },
   "source": [
    "## Share model to HuggingFace hub (optional)\n",
    "\n",
    "If you have a model that you would like to share with the rest of the HuggingFace community, you can choose to push your model to the HuggingFace hub! \n",
    "\n",
    "1. You need to first create a free HuggingFace account! The signup process is simple. Go to the [home page](https://huggingface.co/) and click \"Sign Up\" on the top right corner.\n",
    "\n",
    "<img src=\"https://files.training.databricks.com/images/llm/hf_homepage_signup.png\" width=700>\n",
    "\n",
    "2. Once you have signed up and confirmed your email address, click on your user icon on the top right and click the `Settings` button. \n",
    "\n",
    "3. Navigate to the `Access Token` tab and copy your token. \n",
    "\n",
    "<img src=\"https://files.training.databricks.com/images/llm/hf_token_page.png\" width=500>\n",
    "\n",
    "\n",
    "\n",
    "API docs:\n",
    "* [push_to_hub](https://huggingface.co/docs/transformers/main/en/model_sharing#share-a-model)"
   ]
  },
  {
   "cell_type": "markdown",
   "metadata": {
    "application/vnd.databricks.v1+cell": {
     "cellMetadata": {
      "byteLimit": 2048000,
      "rowLimit": 10000
     },
     "inputWidgets": {},
     "nuid": "7f67b46d-6b26-4b87-97aa-1dd29b93a4ca",
     "showTitle": false,
     "title": ""
    }
   },
   "source": [
    "Here, we use Databricks Secrets management tool to save your secrets to a secret scope on Databricks. For more documentation on how to manage secrets on Databricks, visit this page on [secret management](https://docs.databricks.com/en/security/secrets/index.html)."
   ]
  },
  {
   "cell_type": "code",
   "execution_count": 0,
   "metadata": {
    "application/vnd.databricks.v1+cell": {
     "cellMetadata": {
      "byteLimit": 2048000,
      "rowLimit": 10000
     },
     "inputWidgets": {},
     "nuid": "256bd9ce-13a0-4abb-afdf-b4cd2ea1f7a9",
     "showTitle": false,
     "title": ""
    }
   },
   "outputs": [
    {
     "output_type": "display_data",
     "data": {
      "text/plain": [
       ""
      ]
     },
     "metadata": {
      "application/vnd.databricks.v1+output": {
       "arguments": {},
       "data": "",
       "errorSummary": "Command skipped",
       "errorTraceType": "ansi",
       "metadata": {},
       "type": "ipynbError"
      }
     },
     "output_type": "display_data"
    }
   ],
   "source": [
    "from huggingface_hub import login\n",
    "\n",
    "os.environ[\"huggingface_key\"] = dbutils.secrets.get(\"llm_scope\", \"huggingface_key\")\n",
    "hf_token = os.environ[\"huggingface_key\"]\n",
    "login(token=hf_token)"
   ]
  },
  {
   "cell_type": "markdown",
   "metadata": {
    "application/vnd.databricks.v1+cell": {
     "cellMetadata": {
      "byteLimit": 2048000,
      "rowLimit": 10000
     },
     "inputWidgets": {},
     "nuid": "718e2e04-3da0-445a-9264-8e37086994b0",
     "showTitle": false,
     "title": ""
    }
   },
   "source": [
    "Alternatively, you can use HuggingFace's helper login method. This login cell below will prompt you to enter your token"
   ]
  },
  {
   "cell_type": "code",
   "execution_count": 0,
   "metadata": {
    "application/vnd.databricks.v1+cell": {
     "cellMetadata": {
      "byteLimit": 2048000,
      "rowLimit": 10000
     },
     "inputWidgets": {},
     "nuid": "940c25bb-c3fb-4cc6-9ea0-3cc660ff2e59",
     "showTitle": false,
     "title": ""
    }
   },
   "outputs": [
    {
     "output_type": "display_data",
     "data": {
      "text/plain": [
       ""
      ]
     },
     "metadata": {
      "application/vnd.databricks.v1+output": {
       "arguments": {},
       "data": "",
       "errorSummary": "Command skipped",
       "errorTraceType": "ansi",
       "metadata": {},
       "type": "ipynbError"
      }
     },
     "output_type": "display_data"
    }
   ],
   "source": [
    "from huggingface_hub import notebook_login\n",
    "\n",
    "notebook_login()"
   ]
  },
  {
   "cell_type": "code",
   "execution_count": 0,
   "metadata": {
    "application/vnd.databricks.v1+cell": {
     "cellMetadata": {
      "byteLimit": 2048000,
      "rowLimit": 10000
     },
     "inputWidgets": {},
     "nuid": "da1e3920-1f83-47ba-bd30-61c865d967e6",
     "showTitle": false,
     "title": ""
    }
   },
   "outputs": [
    {
     "output_type": "display_data",
     "data": {
      "text/plain": [
       ""
      ]
     },
     "metadata": {
      "application/vnd.databricks.v1+output": {
       "arguments": {},
       "data": "",
       "errorSummary": "Command skipped",
       "errorTraceType": "ansi",
       "metadata": {},
       "type": "ipynbError"
      }
     },
     "output_type": "display_data"
    }
   ],
   "source": [
    "# TODO\n",
    "hf_username = <FILL_IN_WITH_YOUR_HUGGINGFACE_USERNAME>\n",
    "peft_model_id = f\"{hf_username}/bloom_prompt_tuning_{time_now}\"\n",
    "trainer.model.push_to_hub(peft_model_id, use_auth_token=True)"
   ]
  },
  {
   "cell_type": "markdown",
   "metadata": {
    "application/vnd.databricks.v1+cell": {
     "cellMetadata": {
      "byteLimit": 2048000,
      "rowLimit": 10000
     },
     "inputWidgets": {},
     "nuid": "08b2e987-c8dc-471d-b7a2-302e2777803b",
     "showTitle": false,
     "title": ""
    }
   },
   "source": [
    "### Inference from model in HuggingFace hub"
   ]
  },
  {
   "cell_type": "code",
   "execution_count": 0,
   "metadata": {
    "application/vnd.databricks.v1+cell": {
     "cellMetadata": {
      "byteLimit": 2048000,
      "rowLimit": 10000
     },
     "inputWidgets": {},
     "nuid": "a19e1847-698b-4716-8750-7ca3992fc39e",
     "showTitle": false,
     "title": ""
    }
   },
   "outputs": [
    {
     "output_type": "display_data",
     "data": {
      "text/plain": [
       ""
      ]
     },
     "metadata": {
      "application/vnd.databricks.v1+output": {
       "arguments": {},
       "data": "",
       "errorSummary": "Command skipped",
       "errorTraceType": "ansi",
       "metadata": {},
       "type": "ipynbError"
      }
     },
     "output_type": "display_data"
    }
   ],
   "source": [
    "from peft import PeftModel, PeftConfig\n",
    "\n",
    "config = PeftConfig.from_pretrained(peft_model_id)\n",
    "foundation_model = AutoModelForCausalLM.from_pretrained(peft_config.base_model_name_or_path)\n",
    "peft_random_model = PeftModel.from_pretrained(foundation_model, peft_model_id)"
   ]
  },
  {
   "cell_type": "code",
   "execution_count": 0,
   "metadata": {
    "application/vnd.databricks.v1+cell": {
     "cellMetadata": {
      "byteLimit": 2048000,
      "rowLimit": 10000
     },
     "inputWidgets": {},
     "nuid": "9a1834f3-4a7b-4c0f-99e2-cf0cc023c983",
     "showTitle": false,
     "title": ""
    }
   },
   "outputs": [
    {
     "output_type": "display_data",
     "data": {
      "text/plain": [
       ""
      ]
     },
     "metadata": {
      "application/vnd.databricks.v1+output": {
       "arguments": {},
       "data": "",
       "errorSummary": "Command skipped",
       "errorTraceType": "ansi",
       "metadata": {},
       "type": "ipynbError"
      }
     },
     "output_type": "display_data"
    }
   ],
   "source": [
    "online_model_outputs = peft_random_model.generate(\n",
    "    input_ids=input1[\"input_ids\"], \n",
    "    attention_mask=input1[\"attention_mask\"], \n",
    "    max_new_tokens=7, \n",
    "    eos_token_id=tokenizer.eos_token_id\n",
    "    )\n",
    "    \n",
    "print(tokenizer.batch_decode(online_model_outputs, skip_special_tokens=True))"
   ]
  },
  {
   "cell_type": "markdown",
   "metadata": {
    "application/vnd.databricks.v1+cell": {
     "cellMetadata": {
      "byteLimit": 2048000,
      "rowLimit": 10000
     },
     "inputWidgets": {},
     "nuid": "a232181e-6ef2-4113-90be-c95d0f296dee",
     "showTitle": false,
     "title": ""
    }
   },
   "source": [
    "Congrats on applying PEFT - prompt tuning for the first time! In the lab notebook, you will be applying LoRA. "
   ]
  },
  {
   "cell_type": "markdown",
   "metadata": {
    "application/vnd.databricks.v1+cell": {
     "cellMetadata": {
      "byteLimit": 2048000,
      "rowLimit": 10000
     },
     "inputWidgets": {},
     "nuid": "333769aa-9043-4756-989b-0007bb2a5f87",
     "showTitle": false,
     "title": ""
    }
   },
   "source": [
    "&copy; 2023 Databricks, Inc. All rights reserved.<br/>\n",
    "Apache, Apache Spark, Spark and the Spark logo are trademarks of the <a href=\"https://www.apache.org/\">Apache Software Foundation</a>.<br/>\n",
    "<br/>\n",
    "<a href=\"https://databricks.com/privacy-policy\">Privacy Policy</a> | <a href=\"https://databricks.com/terms-of-use\">Terms of Use</a> | <a href=\"https://help.databricks.com/\">Support</a>"
   ]
  }
 ],
 "metadata": {
  "application/vnd.databricks.v1+notebook": {
   "dashboards": [],
   "language": "python",
   "notebookMetadata": {
    "pythonIndentUnit": 4
   },
   "notebookName": "LLM 02 - Prompt Tuning with PEFT",
   "widgets": {}
  }
 },
 "nbformat": 4,
 "nbformat_minor": 0
}
