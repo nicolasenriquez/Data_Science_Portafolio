{
 "cells": [
  {
   "cell_type": "markdown",
   "metadata": {},
   "source": [
    "# Apuntes de Estadísticas\n",
    "\n",
    "---"
   ]
  },
  {
   "cell_type": "markdown",
   "metadata": {},
   "source": [
    "## Test de Bondad de Ajuste\n",
    "\n",
    "La bondad de ajuste de un modelo estadístico describe lo bien que se ajusta un conjunto de observaciones. Las medidas de bondad en general resumen la discrepancia entre los valores observados y los valores esperados en el modelo de estudio. Tales medidas se pueden emplear en el contraste de hipótesis, por ejemplo:\n",
    "- realizar el test de normalidad de los residuos (evaluar si los residuos siguen una distribución normal)\n",
    "- comprobar si dos muestras se obtienen a partir de dos distribuciones idénticas (test de Kolmogorov-Smirnov)\n",
    "- comprobar si las frecuencias de los datos siguen una distribución específica (chi cuadrado - $\\chi^2$) \n",
    "\n",
    "La prueba $\\chi^2$ de bondad de ajuste es un test de hipótesis estadística que se usa para averiguar si es probable que una variable provenga o no de una distribución específica. Se emplea a menudo para determinar si los datos de una muestra son representativos de la población completa.\n",
    "\n",
    "\n",
    "#### Fórmula de test $\\chi^2$ de bondad de ajuste\n",
    "\n",
    "$$\\chi^2 = \\sum_{i=1}^{N} \\frac{(o_{i} - e_{i})^{2}}{e_{i}}$$\n",
    "\n",
    "$$o_{i} = \\textit{datos observados}$$\n",
    "$$e_{i} = \\textit{valor esperado}$$\n",
    "\n",
    "\n",
    "#### Como realizar el test con un ejemplo\n",
    "\n",
    "Supongamos la siguiente lista de los 3 posibles candidados y la siguiente muestra de los votos de cada uno de los candidatos.\n",
    "\n",
    "|  Lista de Candidatos | Nº de Votos |\n",
    "|:-------------:|:--------:|\n",
    "|            1 |      61 |\n",
    "|            2 |      53 |\n",
    "|            3 |      36 |\n",
    "|**Total** |      *150* |\n",
    "\n",
    "\n",
    "- **Paso 1**: Plantear la Hipótesis Nula ($H_{0}: \\textit{Hipótesis Objetivo}$)\n",
    "\n",
    "Supongamos que no existe preferencia alguna por ninguno de los 3 candidatos, por lo tanto, la probabilidad de elección es equiprobable, es decir, distribuye uniforme. Por lo tanto , la hipótesis alternativa planteada es lo contrario, es decir, que existe un candidado con preferencia por sobre el resto (no se sabe cuál).\n",
    "\n",
    "$$H_{0}: p_{1} = p_{2} = p_{3} = \\frac{1}{3} = 0.33$$\n",
    "\n",
    "$$H_{a}: \\exists!   p_{i} \\neq p_{j}$$\n",
    "\n",
    "- **Paso 2**: Estimar el Valor Esperado ($e_{i}$)\n",
    "\n",
    "$$e_{1} = n·p_{1} = 150·0.33 = 50$$\n",
    "$$e_{2} = n·p_{2} = 150·0.33 = 50$$\n",
    "$$e_{3} = n·p_{3} = 150·0.33 = 50$$\n",
    "\n",
    "- **Paso 3**: Estimar el estadístico de prueba obtenido (1 entrada) ($\\chi_{obt}^{2}$)\n",
    "\n",
    "$$\\chi_{obt}^{2} =\\sum_{i=1}^{N} \\frac{(o_{i} - e_{i})^{2}}{e_{i}} = \\frac{(61 - 50)^2}{50} + \\frac{(53 - 50)^2}{50} + \\frac{(36 - 50)^2}{50} = 6.52$$\n",
    "\n",
    "- **Paso 4**: Encontrar valor crítico en tabla ($\\chi_{1-\\alpha}^{2(Columnas-1)}$)\n",
    "\n",
    "\n",
    "$$\\chi_{\\alpha}^{2(Columnas-1)} = \\chi_{0.05}^{2(3-1)} = \\chi_{0.05}^{2(2)} = 5.99$$\n",
    "\n",
    "\n",
    "> **TIP**: Calcular $\\chi^2$ Doble Entrada $\\rightarrow$\n",
    "En caso de ser una tabla de doble entrada: $\\chi_{\\alpha}^{2(Columnas-1)(Filas-1)} = \\chi_{\\alpha}^{2(2-1)(2-1)} = \\chi_{0.05}^{2(1)}$\n",
    "\n",
    "\n",
    "- **Paso 5**: Comparar los $\\chi^2$\n",
    "\n",
    "\\begin{align*}\n",
    "\\chi_{obt}^{2} & > \\chi_{0.05}^{2(2)} \\\\\n",
    "6.52 & > 5.99\n",
    "\\end{align*}\n",
    "\n",
    "$$\\therefore \\text{SE RECHAZA } H_{0} \\Rightarrow \\text{Existe un candidado con mayor preferencia}$$\n",
    "\n",
    "\n",
    "#### Intervalos de Confianza\n",
    "\n",
    "Los intervalos de confianza nos permiten aproximar, una vez calculado el valor de la variable en la muestra, entre qué rango de valores se encuentra el valor real inaccesible de la variable en la población, con un grado de incertidumbre que podemos determinar.\n",
    "\n",
    "- **Cuando se conoce la media y la desviación estandar**\n",
    "\n",
    "$$\\hookrightarrow \\textit{Si } n < 30 \\Rightarrow \\textit{Usar Tabla t-Student}$$\n",
    "$$\\bar{x} \\pm t_{\\frac{\\alpha}{2}}^{n-1}·\\frac{S}{\\sqrt{n}}$$\n",
    "$$S = \\sum_{i=0}^{N} \\frac{(x_{i} - \\bar{x})^2}{n-1}$$\n",
    "\n",
    "\n",
    "$$\\hookrightarrow \\textit{Si } n > 30 \\Rightarrow \\textit{Usar Tabla Normal}$$\n",
    "$$\\bar{x} \\pm Z_{\\frac{\\alpha}{2}}·\\frac{S}{\\sqrt{n}}$$\n",
    "$$(*) Z_{\\frac{0.10}{2}} = Z_{0.05} = 1.65 \\text{ (90%)}$$\n",
    "$$(*) Z_{\\frac{0.05}{2}} = Z_{0.025} = 1.96 \\text{ (95%)}$$\n",
    "$$(*) Z_{\\frac{0.01}{2}} = Z_{0.005} = 2.58 \\text{ (99%)}$$\n",
    "\n",
    "\n",
    "- **Cuando se tienen proporciones** (Test funciona con valor de n grande)\n",
    "\n",
    "$$\\bar{P} \\pm Z_{\\frac{\\alpha}{2}}·\\sqrt{\\frac{(1 - \\bar{p})·\\bar{p}}{n}}$$\n",
    "\n",
    "\n",
    "$$\\hookrightarrow \\textit{Si } n·\\bar{p} ≤ 15 \\land n·(1-\\bar{p}) ≤ 15\\Rightarrow \\textit{Usar Tabla t-Student } (t_{\\frac{\\alpha}{2}}^{n-1})$$\n",
    "\n",
    "$$\\hookrightarrow \\textit{Si } n·\\bar{p} > 15 \\land n·(1-\\bar{p}) > 15\\Rightarrow \\textit{Usar Tabla Normal } (Z_{\\frac{\\alpha}{2}})$$\n",
    "\n",
    "\n",
    "- **Intervalo de Confianza con la varianza**\n",
    "    - La varianza se asemeja a una distribución $\\chi^2$, no a una distribución normal.\n",
    "\n",
    "$$IC(varianza) = IC(\\sigma^2) = \\frac{(n-1)·S^2}{\\chi_{\\frac{\\alpha}{2}}^{2}} ≤ \\sigma^2 ≤ \\frac{(n-1)·S^2}{\\chi_{1 - \\frac{\\alpha}{2}}^{2}}$$\n",
    "\n",
    "\n",
    "#### Tests Estadísticos y Cuando Usarlos\n",
    "\n",
    "- **Test $\\chi^2$**: Se utiliza cuando se tienen **2 variables categóricas**.\n",
    "- **T-Test**: Se utiliza cuando se tiene **1 variable numérica**.\n",
    "- **One Sample Proportion Test**: Se utiliza cuando se tiene **1 variable categórica**.\n",
    "- **Pearson Correlation**: Se utiliza cuando se tienen **2 variables numéricas**.\n",
    "- **ANOVA Test**: Se utiliza cuando se tiene **1 variable categórica y 1 variable numérica**.\n",
    "\n",
    "\n",
    "---\n",
    "\n",
    "## Método de Simulación Monte Carlo\n",
    "\n",
    "#### Proceso de Abstracción - Ejemplo de ATM\n",
    "\n",
    "El proceso de abstracción consiste en tomar un objeto del mundo real como por ejemplo un cajero automático y llevarlo a un modelo, de forma de encontrar la **mejor configuración** para luego poder llevarlos devuelta al mundo real, sin necesidad de realizar los experimentos en el mundo real en donde puede resultar peligroso y costoso, en contraste con realizarlo en un modelo estadístico virtual. Esto es la escencia de la ingeniería de procesos industriales.\n",
    "\n",
    "**Determinación Matemática de un Cajero** (Construir un modelo para mejorar el mundo)\n",
    "1. Contar el tiempo entre las llegadas consecutivas de personas al cajero automático.\n",
    "2. Posteriormente, recopilar los datos en un software (Excel) y realizar un histograma con los resultados obtenidos.\n",
    "3. Luego, se aplica el test de bondad de ajuste y empleando $\\chi^2$, se determina la distribución de probabilidad que se ve reflejada en el histograma.\n",
    "4. Una vez determinada la distribución de probabilidad del cajero (el tiempo entre llegada de personas distribuye ~ $exp(\\lambda)$), se aplica el método de Monte Carlo, el cuál integra la distribución de probabilidad para determinar la distribución de probabilidad acumulada para poder generar variables aleatorias con el fin de poder generar un modelo con el cuál se pueda trabajar.\n",
    "5. Luego, podemos determinar cuál es la mejor configuración para llevar el modelo al mundo real.\n",
    "\n",
    "> **TIP Nº1 - Cantidad de Bins/Intervalos en el Histograma**: Para saber cuantos intervalos ocupar, se una la raíz cuadrada de la cantidad de datos, con un tope de 40 intervalos o bins. Si tengo 100 datos, la cantidad de bins va a ser igual a 10 en el histograma.\n",
    "\n",
    "> **TIP Nº2 - Comparar 2 Cajeros para saber si uno es mejor**: Pasos a seguir. 1) Calcular la media/promedio de todos los datos. 2) Calcular la diferencia entre la media del ATM viejo - ATM nuevo para cada una de las muestras ($ATM_{viejo} - ATM_{nuevo}$). 3) Calcular el intervalo de confianza (IC) para las diferencias obtenidas. 4) Conclusión, si en el IC el valor 0 se encuentra contenido dentro del intervalo, se puede concluir que estadísticamente ambos sistemas pueden llegar a comportarse de la misma manera.\n",
    "\n",
    "\n",
    "#### Método de Monte Carlo\n",
    "\n",
    "- Algoritmos que Componen el Método\n",
    "    - *Algoritmo de Congruencia Lineal*: Generar números aleatorios entre 0 y 1.\n",
    "        - Características: \n",
    "            - Los números aleatorios entre 0 y 1 son independientes entre sí (sucesos independientes).\n",
    "            - Tienen igual probabilidad de ser elegidos, es decir, distribuyen de forma uniforme.\n",
    "    - *Algoritmo de Transformada Inversa*: Luego, estos números son entregados a un generador de variables aleatorias.\n",
    "        - Características:\n",
    "            - Estos valores que se entregan al generador de variables, genera variables aleatorias con los números entre 0 y 1 mediante la distribución de probabilidad que se determinó en el test de bondad de ajuste.\n",
    "            \n",
    "            \n",
    "#### Algoritmo de Congruencia Lineal\n",
    "\n",
    "Genera una secuencia de números enteros $x_{1}, x_{2}, \\dots$ entre $0$ y $(m-1)$ números, por medio de la relación recursiva\n",
    "\n",
    "$$X_{i+1} = (aX_{i} + c)·mod(m), \\textit{ con } i = 0, 1, 2, \\dots$$\n",
    "\n",
    "$$donde$$\n",
    "$$X_{0} \\rightarrow \\textit{Valor Semilla (dado)}$$\n",
    "$$a \\rightarrow \\textit{Multiplicador}$$\n",
    "$$C \\rightarrow \\textit{Incremento}$$\n",
    "$$m \\rightarrow \\textit{Módulo, realiza la división y se queda con el resto (Si m es muy pequeño se comienzan a repetir los valores entre 0 y 1)}$$\n",
    "$$R_{i} = \\frac{X_{i}}{m}, \\textit{ con } i = 1, 2, 3, \\dots \\rightarrow \\textit{valores entre 0 y 1, usados para el algoritmo de transformada inversa}$$\n",
    "\n",
    "\n",
    "#### Algoritmo de Transformada Inversa\n",
    "\n",
    "Etapas:\n",
    "1. Determinar la distribución de probabilidad o función de densidad de probabilidad de los datos.\n",
    "2. Una vez determinada la distribución, estimar la distribución de probabilidad acumulada ($F(t)$), integrando la función de densidad de probabilidad ($f(t)$).\n",
    "\n",
    "$$F(t) = \\int_{-\\infty}^{X} f(t) dt = R_{i}$$\n",
    "\n",
    "3. Posterior a la integración, se iguala a $R$ obtenido del método de congruencia lineal, para luego despejar la variable aleatoria $X$ de la distribución de probabilidad determinada. Al despejar la variable $X$, **se encuentra el generador de variables aleatorias**. \n",
    "\n",
    "**Ejemplo Algoritmo de Transformada Inversa**\n",
    "\n",
    "$$f(t) = \\frac{2x}{8} \\Rightarrow F(t) = \\int \\frac{2x}{8} dx = \\frac{x^2}{8} = R_{i}$$\n",
    "\n",
    "$$\\textit{Despejando }X \\Rightarrow \\sqrt{8R_{i}} \\textit{ (Generador de Variables Aleatorias)}$$"
   ]
  },
  {
   "cell_type": "markdown",
   "metadata": {},
   "source": [
    "## Método de ANOVA de 1 Factor\n",
    "\n",
    "- El análisis de varianza ayuda a determinar si existe una diferencia entre los distintos grupos de datos.\n",
    "\n",
    "\n",
    "- Hipótesis:\n",
    "    - $H_{0}: \\textit{Supone que todas las medias son iguales } \\Rightarrow \\mu_{A} = \\mu_{B} = \\mu_{C}= \\mu_{D}$\n",
    "    - $H_{a}: \\textit{Supone que al menos 1 par de medias difieren } \\Rightarrow \\exists \\mu_{i} \\neq \\mu_{j} \\forall (i,j) \\in [A,B,C,D]$\n",
    "    \n",
    "    \n",
    "- Con la Tabla de Fisher se puede comprobar si se rechaza o no la hipótesis nula $H_{0}$\n",
    "    - Si *F es Grande*: Lo comparo con el nivel de significancia (p-value) es pequeño (tiende a 0 o menor a la significancia del 5% por lo general) \n",
    "    \n",
    "$$\\Rightarrow \\textit{ Rechazo } H_{0}$$\n",
    "\n",
    "- ANOVA compara por lo menos 3 o más medias ($\\mu$) mediante la F de Fisher.\n",
    "\n",
    "\n",
    "- Errores:\n",
    "    - Error Tipo *I*: Acepta $H_{a}$, dado que $H_{0}$ es erronea\n",
    "        - Alpha ($\\alpha$): Probabilidad de cometer un errir tipo *I*\n",
    "    - Error Tipo *II*: Acepta $H_{0}$, dado que $H_{a}$ es erronea\n",
    "        - Beta ($\\beta$): Probabilidad de cometer un errir tipo *II*\n",
    "        \n",
    "\n",
    "- Fórmula de ANOVA\n",
    "\n",
    "$$SST = SSC + SSE$$\n",
    "\n",
    "\n",
    "$$donde$$\n",
    "$$SST \\rightarrow \\textit{Suma de Cuadrados Totales} = \\sum (X_{i} - \\overline{\\overline{X}})^2,$$\n",
    "$$\\textit{ donde } X_{i} \\textit{ representa cada dato y } \\overline{\\overline{X}} \\textit{ es la media global}$$\n",
    "\n",
    "\n",
    "\n",
    "$$SSC \\rightarrow \\textit{Suma de Cuadrados de Columnas} = \\sum k(\\overline{X_{i}} - \\overline{\\overline{X}})^2, $$\n",
    "$$\\overline{X_{i}} \\textit{ representa el promedio de cada grupo, y } k \\textit{ representa la cantidad de grupos (unique values)}$$\n",
    "\n",
    "\n",
    "\n",
    "$$SSE \\rightarrow \\textit{Suma de Cuadrados de Error}$$\n",
    "$$SSE = SST - SSC$$\n",
    "\n",
    "\n",
    "> **TIP**: Es Bueno que *SSC > SSE*"
   ]
  },
  {
   "cell_type": "markdown",
   "metadata": {},
   "source": [
    "## Lista de test estadísticos, usos y ejemplos.\n",
    "\n",
    "*Source*: [Ver Test Estadísticos en Python](https://machinelearningmastery.com/statistical-hypothesis-tests-in-python-cheat-sheet/)\n",
    "\n",
    "1. **Test de Normalidad** - Test que se utilizan para comprobar que los datos poseen una distribución Normal ($\\,\\mathcal{N}$). Cada test posee sus respectivos supuestos.\n",
    "    - Shapiro-Wilk Test\n",
    "    - D’Agostino’s K^2 Test\n",
    "    - Anderson-Darling Test\n",
    "    \n",
    "    \n",
    "2. **Test de Correlación** - Test que se utilizan para verificar si 2 muestras se encuentran relacionadas.\n",
    "    - Pearson’s Correlation Coefficient\n",
    "    - Spearman’s Rank Correlation\n",
    "    - Kendall’s Rank Correlation\n",
    "    - Chi-Squared Test\n",
    "    \n",
    "    \n",
    "3. **Test de Analisis de Estacionariedad** - Test que se utilizan para verificar si la serie de tiempo se encuentra en estado estacionario o no.\n",
    "    - Augmented Dickey-Fuller\n",
    "    - Kwiatkowski-Phillips-Schmidt-Shin\n",
    "    \n",
    "    \n",
    "4. **Test de Hipótesis Estadísticos Paramétricos** - Test que se utilizan para realizar comparaciones entre muestras de datos.\n",
    "    - Student’s t-test\n",
    "    - Paired Student’s t-test\n",
    "    - Analysis of Variance Test (ANOVA)\n",
    "    - Repeated Measures ANOVA Test\n",
    "    \n",
    "    \n",
    "5. **Test de Hipótesis Estadísticos No Paramétricos** - Test que se utilizan cuando no se requiere cumplir con una distribución de probabilidad en particular, para lograr cumplir con los supuestos básicos del test para poder ser analizados (especialmente si los datos no poseen una distribución Normal). Debido a esta razon, estos test también son conocidos como \"Test Libres de Distribuciones\".\n",
    "    - Mann-Whitney U Test\n",
    "    - Wilcoxon Signed-Rank Test\n",
    "    - Kruskal-Wallis H Test\n",
    "    - Friedman Test"
   ]
  },
  {
   "cell_type": "markdown",
   "metadata": {},
   "source": [
    "## Test de Normalidad\n",
    "\n",
    "1. **Shapiro-Wilk Test**\n",
    "    - *Función*: Se utiliza para probar si los datos poseen uns distribución Normal o Gaussiana.\n",
    "    - *Supuestos*:\n",
    "        - Las observaciones de la muestra deben ser independiente e identicamente distribuidas ($iid$).\n",
    "    - *Interpretación*:\n",
    "        - $H_{0}: \\textit{ La muestra de datos posee una distribución normal}$\n",
    "        - $H_{a}: \\textit{ La muestra de datos no posee una distribución normal}$"
   ]
  },
  {
   "cell_type": "code",
   "execution_count": 24,
   "metadata": {},
   "outputs": [
    {
     "name": "stdout",
     "output_type": "stream",
     "text": [
      "Shapiro-Wilk Normality Test\n",
      "============================== \n",
      "\n",
      "Estadístico de Prueba: 0.895\n",
      "P-Value: 0.193\n",
      "\t\tComo p-value es MAYOR a 5% = 0.05 NO SE PUEDE RECHAZAR la hipotesis nula, \n",
      "            y por tanto, la muestra de datos posiblemente posee una distribución normal.\n"
     ]
    }
   ],
   "source": [
    "# Shapiro-Wilk Normality Test\n",
    "from scipy.stats import shapiro\n",
    "\n",
    "data = [0.873, 2.817, 0.121, -0.945, -0.055, -1.436, 0.360, -1.478, -1.637, -1.869]\n",
    "stat, p_val = shapiro(data)\n",
    "print(\"Shapiro-Wilk Normality Test\")\n",
    "print(\"=\" *30,'\\n')\n",
    "print(f\"Estadístico de Prueba: {stat:.3f}\\nP-Value: {p_val:.3f}\")\n",
    "\n",
    "# Interpretacion p-value\n",
    "if p_val > 0.05:\n",
    "    print('''\\t\\tComo p-value es MAYOR a 5% = 0.05 NO SE PUEDE RECHAZAR la hipotesis nula, \n",
    "            y por tanto, la muestra de datos posiblemente posee una distribución normal.''')\n",
    "else:\n",
    "    print('''Como p-value es MENOR a 5% = 0.05 SI SE PUEDE RECHAZAR la hipotesis nula, \n",
    "y por tanto, la muestra de datos no posee una distribución normal.''')"
   ]
  },
  {
   "cell_type": "markdown",
   "metadata": {},
   "source": [
    "2. **D’Agostino’s K^2 Test**\n",
    "    - *Función*: Se utiliza para probar si los datos poseen uns distribución Normal o Gaussiana.\n",
    "    - *Supuestos*:\n",
    "        - Las observaciones de la muestra deben ser independiente e identicamente distribuidas ($iid$).\n",
    "    - *Interpretación*:\n",
    "        - $H_{0}: \\textit{ La muestra de datos posee una distribución normal}$\n",
    "        - $H_{a}: \\textit{ La muestra de datos no posee una distribución normal}$"
   ]
  },
  {
   "cell_type": "code",
   "execution_count": 25,
   "metadata": {},
   "outputs": [
    {
     "name": "stdout",
     "output_type": "stream",
     "text": [
      "D'Agostino's K^2 Normality Test\n",
      "============================== \n",
      "\n",
      "Estadístico de Prueba: 3.392\n",
      "P-Value: 0.183\n",
      "\t\tComo p-value es MAYOR a 5% = 0.05 NO SE PUEDE RECHAZAR la hipotesis nula, \n",
      "            y por tanto, la muestra de datos posiblemente posee una distribución normal.\n"
     ]
    },
    {
     "name": "stderr",
     "output_type": "stream",
     "text": [
      "/Users/NicolasEnriquez/opt/anaconda3/lib/python3.8/site-packages/scipy/stats/stats.py:1603: UserWarning: kurtosistest only valid for n>=20 ... continuing anyway, n=10\n",
      "  warnings.warn(\"kurtosistest only valid for n>=20 ... continuing \"\n"
     ]
    }
   ],
   "source": [
    "# D'Agostino's K^2 Normality Test\n",
    "from scipy.stats import normaltest\n",
    "\n",
    "data = [0.873, 2.817, 0.121, -0.945, -0.055, -1.436, 0.360, -1.478, -1.637, -1.869]\n",
    "stat, p_val = normaltest(data)\n",
    "print(\"D'Agostino's K^2 Normality Test\")\n",
    "print(\"=\" *30,'\\n')\n",
    "print(f\"Estadístico de Prueba: {stat:.3f}\\nP-Value: {p_val:.3f}\")\n",
    "\n",
    "# Interpretacion p-value\n",
    "if p_val > 0.05:\n",
    "    print('''\\t\\tComo p-value es MAYOR a 5% = 0.05 NO SE PUEDE RECHAZAR la hipotesis nula, \n",
    "            y por tanto, la muestra de datos posiblemente posee una distribución normal.''')\n",
    "else:\n",
    "    print('''Como p-value es MENOR a 5% = 0.05 SI SE PUEDE RECHAZAR la hipotesis nula, \n",
    "y por tanto, la muestra de datos probablemente no posee una distribución normal.''')"
   ]
  },
  {
   "cell_type": "markdown",
   "metadata": {},
   "source": [
    "3. **Anderson-Darling Test**\n",
    "    - *Función*: Se utiliza para probar si los datos poseen uns distribución Normal o Gaussiana.\n",
    "    - *Supuestos*:\n",
    "        - Las observaciones de la muestra deben ser independiente e identicamente distribuidas ($iid$).\n",
    "    - *Interpretación*:\n",
    "        - $H_{0}: \\textit{ La muestra de datos posee una distribución normal}$\n",
    "        - $H_{a}: \\textit{ La muestra de datos no posee una distribución normal}$"
   ]
  },
  {
   "cell_type": "code",
   "execution_count": 26,
   "metadata": {},
   "outputs": [
    {
     "name": "stdout",
     "output_type": "stream",
     "text": [
      "stat=0.424\n",
      "Probably Gaussian at the 15.0% level\n",
      "Probably Gaussian at the 10.0% level\n",
      "Probably Gaussian at the 5.0% level\n",
      "Probably Gaussian at the 2.5% level\n",
      "Probably Gaussian at the 1.0% level\n"
     ]
    }
   ],
   "source": [
    "# Example of the Anderson-Darling Normality Test\n",
    "from scipy.stats import anderson\n",
    "\n",
    "data = [0.873, 2.817, 0.121, -0.945, -0.055, -1.436, 0.360, -1.478, -1.637, -1.869]\n",
    "result = anderson(data)\n",
    "\n",
    "print('stat=%.3f' % (result.statistic))\n",
    "for i in range(len(result.critical_values)):\n",
    "    sl, cv = result.significance_level[i], result.critical_values[i]\n",
    "    if result.statistic < cv:\n",
    "        print('Probably Gaussian at the %.1f%% level' % (sl))\n",
    "    else:\n",
    "        print('Probably not Gaussian at the %.1f%% level' % (sl))"
   ]
  },
  {
   "cell_type": "markdown",
   "metadata": {},
   "source": [
    "## Test de Correlación\n",
    "\n",
    "1. **Pearson’s Correlation Coefficient**\n",
    "    - *Función*: Se utiliza para probar si los datos poseen una relación lineal entre ellos.\n",
    "    - *Supuestos*:\n",
    "        - Las observaciones de la muestra deben ser independiente e identicamente distribuidas ($iid$).\n",
    "        - Las observaciones de la muestra deben tener distribución normal.\n",
    "        - Las observaciones de la muestra poseen la misma varianza.\n",
    "    - *Interpretación*:\n",
    "        - $H_{0}: \\textit{ Las 2 muestras de datos son independientes entre sí}$\n",
    "        - $H_{a}: \\textit{ Las 2 muestras de datos no son independientes entre sí}$"
   ]
  },
  {
   "cell_type": "code",
   "execution_count": 27,
   "metadata": {},
   "outputs": [
    {
     "name": "stdout",
     "output_type": "stream",
     "text": [
      "Pearson's Correlation Test\n",
      "============================== \n",
      "\n",
      "stat=0.688, p=0.028\n",
      "\t\tComo p-value es MENOR a 5% = 0.05 SI SE PUEDE RECHAZAR la hipotesis nula, \n",
      "            y por tanto, entre las muestras de datos no son probablemente independientes entre sí.\n"
     ]
    }
   ],
   "source": [
    "# Example of the Pearson's Correlation Test\n",
    "from scipy.stats import pearsonr\n",
    "\n",
    "data1 = [0.873, 2.817, 0.121, -0.945, -0.055, -1.436, 0.360, -1.478, -1.637, -1.869]\n",
    "data2 = [0.353, 3.517, 0.125, -7.545, -0.555, -1.536, 3.350, -1.578, -3.537, -1.579]\n",
    "\n",
    "stat, p_val = pearsonr(data1, data2)\n",
    "print(\"Pearson's Correlation Test\")\n",
    "print(\"=\" *30,'\\n')\n",
    "print('stat=%.3f, p=%.3f' % (stat, p_val))\n",
    "\n",
    "# Interpretacion p-value\n",
    "if p_val > 0.05:\n",
    "    print('''\\t\\tComo p-value es MAYOR a 5% = 0.05 NO SE PUEDE RECHAZAR la hipotesis nula, \n",
    "            y por tanto, entre las muestras de datos son posiblemente independientes entre sí.''')\n",
    "else:\n",
    "    print('''\\t\\tComo p-value es MENOR a 5% = 0.05 SI SE PUEDE RECHAZAR la hipotesis nula, \n",
    "            y por tanto, entre las muestras de datos no son probablemente independientes entre sí.''')"
   ]
  },
  {
   "cell_type": "markdown",
   "metadata": {},
   "source": [
    "2. **Spearman’s Rank Correlation**\n",
    "    - *Función*: Se utiliza para probar si los datos poseen una relación monotónica entre ellos.\n",
    "    - *Supuestos*:\n",
    "        - Las observaciones de la muestra deben ser independiente e identicamente distribuidas ($iid$).\n",
    "        - Las observaciones de la muestra deben poder ser rankeables.\n",
    "    - *Interpretación*:\n",
    "        - $H_{0}: \\textit{ Las 2 muestras de datos son independientes entre sí}$\n",
    "        - $H_{a}: \\textit{ Las 2 muestras de datos existe una dependencia entre sí}$"
   ]
  },
  {
   "cell_type": "code",
   "execution_count": 32,
   "metadata": {},
   "outputs": [
    {
     "name": "stdout",
     "output_type": "stream",
     "text": [
      "Spearman's Rank Correlation Test\n",
      "============================== \n",
      "\n",
      "stat=0.855, p=0.002\n",
      "\t\tComo p-value es MENOR a 5% = 0.05 SI SE PUEDE RECHAZAR la hipotesis nula, \n",
      "            y por tanto, entre las muestras de datos no son probablemente independientes entre sí.\n"
     ]
    }
   ],
   "source": [
    "# Example of the Spearman's Rank Correlation Test\n",
    "from scipy.stats import spearmanr\n",
    "\n",
    "data1 = [0.873, 2.817, 0.121, -0.945, -0.055, -1.436, 0.360, -1.478, -1.637, -1.869]\n",
    "data2 = [0.353, 3.517, 0.125, -7.545, -0.555, -1.536, 3.350, -1.578, -3.537, -1.579]\n",
    "\n",
    "stat, p_val = spearmanr(data1, data2)\n",
    "print(\"Spearman's Rank Correlation Test\")\n",
    "print(\"=\" *30,'\\n')\n",
    "print('stat=%.3f, p=%.3f' % (stat, p_val))\n",
    "\n",
    "# Interpretacion p-value\n",
    "if p_val > 0.05:\n",
    "    print('''\\t\\tComo p-value es MAYOR a 5% = 0.05 NO SE PUEDE RECHAZAR la hipotesis nula, \n",
    "            y por tanto, entre las muestras de datos son posiblemente independientes entre sí.''')\n",
    "else:\n",
    "    print('''\\t\\tComo p-value es MENOR a 5% = 0.05 SI SE PUEDE RECHAZAR la hipotesis nula, \n",
    "            y por tanto, entre las muestras de datos no son probablemente independientes entre sí.''')"
   ]
  },
  {
   "cell_type": "markdown",
   "metadata": {},
   "source": [
    "3. **Kendall’s Rank Correlation**\n",
    "    - *Función*: Se utiliza para probar si los datos poseen una relación monotónica entre ellos.\n",
    "    - *Supuestos*:\n",
    "        - Las observaciones de la muestra deben ser independiente e identicamente distribuidas ($iid$).\n",
    "        - Las observaciones de la muestra deben poder ser rankeables.\n",
    "    - *Interpretación*:\n",
    "        - $H_{0}: \\textit{ Las 2 muestras de datos son independientes entre sí}$\n",
    "        - $H_{a}: \\textit{ Las 2 muestras de datos existe una dependencia entre sí}$"
   ]
  },
  {
   "cell_type": "code",
   "execution_count": 33,
   "metadata": {},
   "outputs": [
    {
     "name": "stdout",
     "output_type": "stream",
     "text": [
      "Kendall's Rank Correlation Test\n",
      "============================== \n",
      "\n",
      "stat=0.733, p=0.002\n",
      "\t\tComo p-value es MENOR a 5% = 0.05 SI SE PUEDE RECHAZAR la hipotesis nula, \n",
      "            y por tanto, entre las muestras de datos no son probablemente independientes entre sí.\n"
     ]
    }
   ],
   "source": [
    "# Example of the Kendall's Rank Correlation Test\n",
    "from scipy.stats import kendalltau\n",
    "\n",
    "data1 = [0.873, 2.817, 0.121, -0.945, -0.055, -1.436, 0.360, -1.478, -1.637, -1.869]\n",
    "data2 = [0.353, 3.517, 0.125, -7.545, -0.555, -1.536, 3.350, -1.578, -3.537, -1.579]\n",
    "\n",
    "stat, p_val = kendalltau(data1, data2)\n",
    "\n",
    "print(\"Kendall's Rank Correlation Test\")\n",
    "print(\"=\" *30,'\\n')\n",
    "print('stat=%.3f, p=%.3f' % (stat, p_val))\n",
    "\n",
    "# Interpretacion p-value\n",
    "if p_val > 0.05:\n",
    "    print('''\\t\\tComo p-value es MAYOR a 5% = 0.05 NO SE PUEDE RECHAZAR la hipotesis nula, \n",
    "            y por tanto, entre las muestras de datos son posiblemente independientes entre sí.''')\n",
    "else:\n",
    "    print('''\\t\\tComo p-value es MENOR a 5% = 0.05 SI SE PUEDE RECHAZAR la hipotesis nula, \n",
    "            y por tanto, entre las muestras de datos no son probablemente independientes entre sí.''')"
   ]
  },
  {
   "cell_type": "markdown",
   "metadata": {},
   "source": [
    "4. **Chi-Squared Test**\n",
    "    - *Función*: Se utiliza para probar si 2 variables categóricas se encuentran relacionadas o son independientes entre sí.\n",
    "    - *Supuestos*:\n",
    "        - Las observaciones de la muestra deben ser independientes dentro de la tabla de contingencia.\n",
    "        - 25 o más observaciones para cada una de las celdas de la tabla de contingencia.\n",
    "    - *Interpretación*:\n",
    "        - $H_{0}: \\textit{ Las 2 muestras de datos son independientes entre sí}$\n",
    "        - $H_{a}: \\textit{ Las 2 muestras de datos existe una dependencia entre sí}$"
   ]
  },
  {
   "cell_type": "code",
   "execution_count": 34,
   "metadata": {},
   "outputs": [
    {
     "name": "stdout",
     "output_type": "stream",
     "text": [
      "Chi-Squared Test\n",
      "============================== \n",
      "\n",
      "stat=0.272, p=0.873\n",
      "\t\tComo p-value es MAYOR a 5% = 0.05 NO SE PUEDE RECHAZAR la hipotesis nula, \n",
      "            y por tanto, entre las muestras de datos son posiblemente independientes entre sí.\n"
     ]
    }
   ],
   "source": [
    "# Example of the Chi-Squared Test\n",
    "from scipy.stats import chi2_contingency\n",
    "\n",
    "table = [[10, 20, 30],[6,  9,  17]]\n",
    "stat, p_val, dof, expected = chi2_contingency(table)\n",
    "\n",
    "print(\"Chi-Squared Test\")\n",
    "print(\"=\" *30,'\\n')\n",
    "print('stat=%.3f, p=%.3f' % (stat, p_val))\n",
    "\n",
    "# Interpretacion p-value\n",
    "if p_val > 0.05:\n",
    "    print('''\\t\\tComo p-value es MAYOR a 5% = 0.05 NO SE PUEDE RECHAZAR la hipotesis nula, \n",
    "            y por tanto, entre las muestras de datos son posiblemente independientes entre sí.''')\n",
    "else:\n",
    "    print('''\\t\\tComo p-value es MENOR a 5% = 0.05 SI SE PUEDE RECHAZAR la hipotesis nula, \n",
    "            y por tanto, entre las muestras de datos no son probablemente independientes entre sí.''')"
   ]
  },
  {
   "cell_type": "markdown",
   "metadata": {},
   "source": [
    "## Test de Estado Estacionario\n",
    "\n",
    "1. **Augmented Dickey-Fuller Unit Root Test**\n",
    "    - *Función*: Se utiliza para probar si la serie de tiempo posee unidad de raíz, por ejemplo, tiene una tendencia (trend) o mas generalmete es autoregresiva.\n",
    "    - *Supuestos*:\n",
    "        - Las observaciones de la muestra deben estar en orden cronológico.\n",
    "    - *Interpretación*:\n",
    "        - $H_{0}: \\textit{ Una Unidad Raíz se encuentra presente, por tanto la serie no se encuentra en estado estacionario}$\n",
    "        - $H_{a}: \\textit{ Una Unidad Raíz no se encuentra presente, por tanto la serie si se encuentra en estado estacionario}$"
   ]
  },
  {
   "cell_type": "code",
   "execution_count": 36,
   "metadata": {},
   "outputs": [
    {
     "name": "stdout",
     "output_type": "stream",
     "text": [
      "Augmented Dickey-Fuller unit root Test\n",
      "============================== \n",
      "\n",
      "stat=0.517, p=0.985\n",
      "\t\tComo p-value es MAYOR a 5% = 0.05 NO SE PUEDE RECHAZAR la hipotesis nula, \n",
      "            y por tanto, entre las muestras de datos posiblemente NO se encuentra en estado estacionario.\n"
     ]
    }
   ],
   "source": [
    "# Example of the Augmented Dickey-Fuller unit root Test\n",
    "from statsmodels.tsa.stattools import adfuller\n",
    "\n",
    "data = [0, 1, 2, 3, 4, 5, 6, 7, 8, 9]\n",
    "stat, p_val, lags, obs, crit, t = adfuller(data)\n",
    "\n",
    "print(\"Augmented Dickey-Fuller unit root Test\")\n",
    "print(\"=\" *30,'\\n')\n",
    "print('stat=%.3f, p=%.3f' % (stat, p_val))\n",
    "    \n",
    "# Interpretacion p-value\n",
    "if p_val > 0.05:\n",
    "    print('''\\t\\tComo p-value es MAYOR a 5% = 0.05 NO SE PUEDE RECHAZAR la hipotesis nula, \n",
    "            y por tanto, entre las muestras de datos posiblemente NO se encuentra en estado estacionario.''')\n",
    "else:\n",
    "    print('''\\t\\tComo p-value es MENOR a 5% = 0.05 SI SE PUEDE RECHAZAR la hipotesis nula, \n",
    "            y por tanto, entre las muestras de datos posiblemente SI se encuentra en estado estacionario.''')"
   ]
  },
  {
   "cell_type": "markdown",
   "metadata": {},
   "source": [
    "2. **Kwiatkowski-Phillips-Schmidt-Shin**\n",
    "    - *Función*: Se utiliza para probar si la serie de tiempo se encuentra con tendencia estacionaria o no.\n",
    "    - *Supuestos*:\n",
    "        - Las observaciones de la muestra deben estar en orden cronológico.\n",
    "    - *Interpretación*:\n",
    "        - $H_{0}: \\textit{ La serie de tiempo se encuentra con tendencia estacionaria}$\n",
    "        - $H_{a}: \\textit{ La serie de tiempo no se encuentra con tendencia estacionaria}$"
   ]
  },
  {
   "cell_type": "code",
   "execution_count": 37,
   "metadata": {},
   "outputs": [
    {
     "name": "stdout",
     "output_type": "stream",
     "text": [
      "Kwiatkowski-Phillips-Schmidt-Shin Test\n",
      "============================== \n",
      "\n",
      "stat=0.410, p=0.073\n",
      "\t\tComo p-value es MAYOR a 5% = 0.05 NO SE PUEDE RECHAZAR la hipotesis nula, \n",
      "            y por tanto, entre las muestras de datos posiblemente NO se encuentra en estado estacionario.\n"
     ]
    },
    {
     "name": "stderr",
     "output_type": "stream",
     "text": [
      "/Users/NicolasEnriquez/opt/anaconda3/lib/python3.8/site-packages/statsmodels/tsa/stattools.py:1661: FutureWarning: The behavior of using lags=None will change in the next release. Currently lags=None is the same as lags='legacy', and so a sample-size lag length is used. After the next release, the default will change to be the same as lags='auto' which uses an automatic lag length selection method. To silence this warning, either use 'auto' or 'legacy'\n",
      "  warn(msg, FutureWarning)\n"
     ]
    }
   ],
   "source": [
    "# Example of the Kwiatkowski-Phillips-Schmidt-Shin test\n",
    "from statsmodels.tsa.stattools import kpss\n",
    "\n",
    "data = [0, 1, 2, 3, 4, 5, 6, 7, 8, 9]\n",
    "stat, p_val, lags, crit = kpss(data)\n",
    "\n",
    "print(\"Kwiatkowski-Phillips-Schmidt-Shin Test\")\n",
    "print(\"=\" *30,'\\n')\n",
    "print('stat=%.3f, p=%.3f' % (stat, p_val))\n",
    "\n",
    "# Interpretacion p-value\n",
    "if p_val > 0.05:\n",
    "    print('''\\t\\tComo p-value es MAYOR a 5% = 0.05 NO SE PUEDE RECHAZAR la hipotesis nula, \n",
    "            y por tanto, entre las muestras de datos posiblemente NO se encuentra en estado estacionario.''')\n",
    "else:\n",
    "    print('''\\t\\tComo p-value es MENOR a 5% = 0.05 SI SE PUEDE RECHAZAR la hipotesis nula, \n",
    "            y por tanto, entre las muestras de datos posiblemente SI se encuentra en estado estacionario.''')"
   ]
  }
 ],
 "metadata": {
  "kernelspec": {
   "display_name": "Python 3",
   "language": "python",
   "name": "python3"
  },
  "language_info": {
   "codemirror_mode": {
    "name": "ipython",
    "version": 3
   },
   "file_extension": ".py",
   "mimetype": "text/x-python",
   "name": "python",
   "nbconvert_exporter": "python",
   "pygments_lexer": "ipython3",
   "version": "3.8.3"
  }
 },
 "nbformat": 4,
 "nbformat_minor": 4
}
