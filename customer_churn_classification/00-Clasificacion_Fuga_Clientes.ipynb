{
  "nbformat": 4,
  "nbformat_minor": 0,
  "metadata": {
    "colab": {
      "name": "Clasificacion de Fuga de Clientes",
      "provenance": [],
      "collapsed_sections": []
    },
    "kernelspec": {
      "name": "python3",
      "display_name": "Python 3"
    },
    "language_info": {
      "name": "python"
    }
  },
  "cells": [
    {
      "cell_type": "markdown",
      "metadata": {
        "id": "y_a5Q9oFzKIu"
      },
      "source": [
        "# Importar las Librerias, Cargar los Datos Preprocesados"
      ]
    },
    {
      "cell_type": "code",
      "metadata": {
        "id": "oF-1Ksyh44T-"
      },
      "source": [
        "import pandas as pd\n",
        "import numpy as np\n",
        "import pandas.util.testing as tm\n",
        "import matplotlib.pyplot as plt\n",
        "import seaborn as sn\n",
        "import random\n",
        "\n",
        "from pandas.api.types import is_numeric_dtype\n",
        "from scipy import stats\n",
        "from sklearn import preprocessing\n",
        "from sklearn.preprocessing import MinMaxScaler, KBinsDiscretizer\n",
        "from sklearn.feature_selection import SelectKBest, chi2\n",
        "from sklearn.model_selection import train_test_split\n",
        "\n",
        "#librerias para modelos de clasificacion\n",
        "from sklearn.linear_model import LogisticRegression\n",
        "from sklearn.tree import DecisionTreeClassifier\n",
        "from sklearn import tree\n",
        "from sklearn.neighbors import KNeighborsClassifier, kneighbors_graph\n",
        "from sklearn.ensemble import RandomForestClassifier\n",
        "from sklearn.neural_network import MLPClassifier\n",
        "from sklearn.svm import SVC\n",
        "import statsmodels.api as srm\n",
        "\n",
        "#para graficar el arbol de decision\n",
        "from sklearn.tree import export_graphviz\n",
        "from sklearn.externals.six import StringIO \n",
        "from IPython.display import Image \n",
        "from pydot import graph_from_dot_data\n",
        "\n",
        "#librerias para la validacion y obtener metricas\n",
        "from sklearn import metrics\n",
        "from sklearn.model_selection import GridSearchCV\n",
        "from sklearn.metrics import make_scorer,roc_curve, auc,r2_score, roc_auc_score, classification_report, confusion_matrix\n",
        "from sklearn.model_selection import cross_validate\n",
        "\n",
        "#guardar modelos entrenados\n",
        "from joblib import dump, load\n",
        "import os\n"
      ],
      "execution_count": null,
      "outputs": []
    },
    {
      "cell_type": "code",
      "metadata": {
        "id": "VtdQLyAY5TXN"
      },
      "source": [
        "ruta_data_set = 'Data/BankloanFULL2021_preprocess.xlsx'\n",
        "data_set = pd.read_excel(ruta_data_set, sheet_name='Sheet1', index_col=0)"
      ],
      "execution_count": null,
      "outputs": []
    },
    {
      "cell_type": "code",
      "metadata": {
        "colab": {
          "base_uri": "https://localhost:8080/",
          "height": 224
        },
        "id": "I5At9MH_6ht9",
        "outputId": "a12337f0-91a8-47a2-e1f7-c4f679b19b50"
      },
      "source": [
        "data_set.head()"
      ],
      "execution_count": null,
      "outputs": [
        {
          "output_type": "execute_result",
          "data": {
            "text/html": [
              "<div>\n",
              "<style scoped>\n",
              "    .dataframe tbody tr th:only-of-type {\n",
              "        vertical-align: middle;\n",
              "    }\n",
              "\n",
              "    .dataframe tbody tr th {\n",
              "        vertical-align: top;\n",
              "    }\n",
              "\n",
              "    .dataframe thead th {\n",
              "        text-align: right;\n",
              "    }\n",
              "</style>\n",
              "<table border=\"1\" class=\"dataframe\">\n",
              "  <thead>\n",
              "    <tr style=\"text-align: right;\">\n",
              "      <th></th>\n",
              "      <th>Edad</th>\n",
              "      <th>Prom_NumTarjCred</th>\n",
              "      <th>Prom_NumTransWeb</th>\n",
              "      <th>LN_Ingreso</th>\n",
              "      <th>LN_Prom_CreditMes</th>\n",
              "      <th>LN_Prom_MargenComp</th>\n",
              "      <th>Genero_M</th>\n",
              "      <th>FUGA_NF</th>\n",
              "      <th>EstCivil_Casado_si</th>\n",
              "      <th>NivelEduc_Univ_si</th>\n",
              "    </tr>\n",
              "  </thead>\n",
              "  <tbody>\n",
              "    <tr>\n",
              "      <th>0</th>\n",
              "      <td>0.230769</td>\n",
              "      <td>0.222222</td>\n",
              "      <td>0.002445</td>\n",
              "      <td>0.250369</td>\n",
              "      <td>0.098192</td>\n",
              "      <td>0.591422</td>\n",
              "      <td>1</td>\n",
              "      <td>1</td>\n",
              "      <td>0</td>\n",
              "      <td>1</td>\n",
              "    </tr>\n",
              "    <tr>\n",
              "      <th>1</th>\n",
              "      <td>0.353846</td>\n",
              "      <td>0.000000</td>\n",
              "      <td>0.004890</td>\n",
              "      <td>0.171057</td>\n",
              "      <td>0.095832</td>\n",
              "      <td>0.597611</td>\n",
              "      <td>0</td>\n",
              "      <td>1</td>\n",
              "      <td>1</td>\n",
              "      <td>0</td>\n",
              "    </tr>\n",
              "    <tr>\n",
              "      <th>2</th>\n",
              "      <td>0.153846</td>\n",
              "      <td>0.111111</td>\n",
              "      <td>0.000000</td>\n",
              "      <td>0.227254</td>\n",
              "      <td>0.120531</td>\n",
              "      <td>0.580333</td>\n",
              "      <td>0</td>\n",
              "      <td>1</td>\n",
              "      <td>0</td>\n",
              "      <td>1</td>\n",
              "    </tr>\n",
              "    <tr>\n",
              "      <th>3</th>\n",
              "      <td>0.476923</td>\n",
              "      <td>0.111111</td>\n",
              "      <td>0.000000</td>\n",
              "      <td>0.289353</td>\n",
              "      <td>0.063720</td>\n",
              "      <td>0.607018</td>\n",
              "      <td>1</td>\n",
              "      <td>1</td>\n",
              "      <td>1</td>\n",
              "      <td>0</td>\n",
              "    </tr>\n",
              "    <tr>\n",
              "      <th>4</th>\n",
              "      <td>0.615385</td>\n",
              "      <td>0.111111</td>\n",
              "      <td>0.044010</td>\n",
              "      <td>0.186191</td>\n",
              "      <td>0.081556</td>\n",
              "      <td>0.601114</td>\n",
              "      <td>0</td>\n",
              "      <td>1</td>\n",
              "      <td>0</td>\n",
              "      <td>0</td>\n",
              "    </tr>\n",
              "  </tbody>\n",
              "</table>\n",
              "</div>"
            ],
            "text/plain": [
              "       Edad  Prom_NumTarjCred  ...  EstCivil_Casado_si  NivelEduc_Univ_si\n",
              "0  0.230769          0.222222  ...                   0                  1\n",
              "1  0.353846          0.000000  ...                   1                  0\n",
              "2  0.153846          0.111111  ...                   0                  1\n",
              "3  0.476923          0.111111  ...                   1                  0\n",
              "4  0.615385          0.111111  ...                   0                  0\n",
              "\n",
              "[5 rows x 10 columns]"
            ]
          },
          "metadata": {
            "tags": []
          },
          "execution_count": 4
        }
      ]
    },
    {
      "cell_type": "markdown",
      "metadata": {
        "id": "w_PPTnxkFHrU"
      },
      "source": [
        "Eliminar las Variables las cuales fueron transformadas a logaritmos"
      ]
    },
    {
      "cell_type": "code",
      "metadata": {
        "id": "3MjXN3eMFBJr",
        "colab": {
          "base_uri": "https://localhost:8080/"
        },
        "outputId": "e2806c4c-73d7-447c-caac-f19f1a2e4610"
      },
      "source": [
        "data_set.info()"
      ],
      "execution_count": null,
      "outputs": [
        {
          "output_type": "stream",
          "text": [
            "<class 'pandas.core.frame.DataFrame'>\n",
            "Int64Index: 5605 entries, 0 to 5604\n",
            "Data columns (total 10 columns):\n",
            " #   Column              Non-Null Count  Dtype  \n",
            "---  ------              --------------  -----  \n",
            " 0   Edad                5605 non-null   float64\n",
            " 1   Prom_NumTarjCred    5605 non-null   float64\n",
            " 2   Prom_NumTransWeb    5605 non-null   float64\n",
            " 3   LN_Ingreso          5605 non-null   float64\n",
            " 4   LN_Prom_CreditMes   5605 non-null   float64\n",
            " 5   LN_Prom_MargenComp  5605 non-null   float64\n",
            " 6   Genero_M            5605 non-null   int64  \n",
            " 7   FUGA_NF             5605 non-null   int64  \n",
            " 8   EstCivil_Casado_si  5605 non-null   int64  \n",
            " 9   NivelEduc_Univ_si   5605 non-null   int64  \n",
            "dtypes: float64(6), int64(4)\n",
            "memory usage: 481.7 KB\n"
          ],
          "name": "stdout"
        }
      ]
    },
    {
      "cell_type": "code",
      "metadata": {
        "colab": {
          "base_uri": "https://localhost:8080/",
          "height": 359
        },
        "id": "PUfvU_HGG_SY",
        "outputId": "6c6119a4-55af-465c-fc0d-e3eef2401875"
      },
      "source": [
        "data_set.describe(include='all').T"
      ],
      "execution_count": null,
      "outputs": [
        {
          "output_type": "execute_result",
          "data": {
            "text/html": [
              "<div>\n",
              "<style scoped>\n",
              "    .dataframe tbody tr th:only-of-type {\n",
              "        vertical-align: middle;\n",
              "    }\n",
              "\n",
              "    .dataframe tbody tr th {\n",
              "        vertical-align: top;\n",
              "    }\n",
              "\n",
              "    .dataframe thead th {\n",
              "        text-align: right;\n",
              "    }\n",
              "</style>\n",
              "<table border=\"1\" class=\"dataframe\">\n",
              "  <thead>\n",
              "    <tr style=\"text-align: right;\">\n",
              "      <th></th>\n",
              "      <th>count</th>\n",
              "      <th>mean</th>\n",
              "      <th>std</th>\n",
              "      <th>min</th>\n",
              "      <th>25%</th>\n",
              "      <th>50%</th>\n",
              "      <th>75%</th>\n",
              "      <th>max</th>\n",
              "    </tr>\n",
              "  </thead>\n",
              "  <tbody>\n",
              "    <tr>\n",
              "      <th>Edad</th>\n",
              "      <td>5605.0</td>\n",
              "      <td>0.321265</td>\n",
              "      <td>0.139208</td>\n",
              "      <td>0.0</td>\n",
              "      <td>0.215385</td>\n",
              "      <td>0.276923</td>\n",
              "      <td>0.400000</td>\n",
              "      <td>1.0</td>\n",
              "    </tr>\n",
              "    <tr>\n",
              "      <th>Prom_NumTarjCred</th>\n",
              "      <td>5605.0</td>\n",
              "      <td>0.092517</td>\n",
              "      <td>0.077947</td>\n",
              "      <td>0.0</td>\n",
              "      <td>0.037037</td>\n",
              "      <td>0.111111</td>\n",
              "      <td>0.111111</td>\n",
              "      <td>1.0</td>\n",
              "    </tr>\n",
              "    <tr>\n",
              "      <th>Prom_NumTransWeb</th>\n",
              "      <td>5605.0</td>\n",
              "      <td>0.034151</td>\n",
              "      <td>0.067639</td>\n",
              "      <td>0.0</td>\n",
              "      <td>0.000000</td>\n",
              "      <td>0.012225</td>\n",
              "      <td>0.036675</td>\n",
              "      <td>1.0</td>\n",
              "    </tr>\n",
              "    <tr>\n",
              "      <th>LN_Ingreso</th>\n",
              "      <td>5605.0</td>\n",
              "      <td>0.278286</td>\n",
              "      <td>0.119710</td>\n",
              "      <td>0.0</td>\n",
              "      <td>0.194956</td>\n",
              "      <td>0.252809</td>\n",
              "      <td>0.338515</td>\n",
              "      <td>1.0</td>\n",
              "    </tr>\n",
              "    <tr>\n",
              "      <th>LN_Prom_CreditMes</th>\n",
              "      <td>5605.0</td>\n",
              "      <td>0.079881</td>\n",
              "      <td>0.045459</td>\n",
              "      <td>0.0</td>\n",
              "      <td>0.061749</td>\n",
              "      <td>0.066880</td>\n",
              "      <td>0.077846</td>\n",
              "      <td>1.0</td>\n",
              "    </tr>\n",
              "    <tr>\n",
              "      <th>LN_Prom_MargenComp</th>\n",
              "      <td>5605.0</td>\n",
              "      <td>0.600590</td>\n",
              "      <td>0.021106</td>\n",
              "      <td>0.0</td>\n",
              "      <td>0.594586</td>\n",
              "      <td>0.597817</td>\n",
              "      <td>0.605165</td>\n",
              "      <td>1.0</td>\n",
              "    </tr>\n",
              "    <tr>\n",
              "      <th>Genero_M</th>\n",
              "      <td>5605.0</td>\n",
              "      <td>0.700089</td>\n",
              "      <td>0.458260</td>\n",
              "      <td>0.0</td>\n",
              "      <td>0.000000</td>\n",
              "      <td>1.000000</td>\n",
              "      <td>1.000000</td>\n",
              "      <td>1.0</td>\n",
              "    </tr>\n",
              "    <tr>\n",
              "      <th>FUGA_NF</th>\n",
              "      <td>5605.0</td>\n",
              "      <td>0.872257</td>\n",
              "      <td>0.333833</td>\n",
              "      <td>0.0</td>\n",
              "      <td>1.000000</td>\n",
              "      <td>1.000000</td>\n",
              "      <td>1.000000</td>\n",
              "      <td>1.0</td>\n",
              "    </tr>\n",
              "    <tr>\n",
              "      <th>EstCivil_Casado_si</th>\n",
              "      <td>5605.0</td>\n",
              "      <td>0.528457</td>\n",
              "      <td>0.499234</td>\n",
              "      <td>0.0</td>\n",
              "      <td>0.000000</td>\n",
              "      <td>1.000000</td>\n",
              "      <td>1.000000</td>\n",
              "      <td>1.0</td>\n",
              "    </tr>\n",
              "    <tr>\n",
              "      <th>NivelEduc_Univ_si</th>\n",
              "      <td>5605.0</td>\n",
              "      <td>0.647636</td>\n",
              "      <td>0.477749</td>\n",
              "      <td>0.0</td>\n",
              "      <td>0.000000</td>\n",
              "      <td>1.000000</td>\n",
              "      <td>1.000000</td>\n",
              "      <td>1.0</td>\n",
              "    </tr>\n",
              "  </tbody>\n",
              "</table>\n",
              "</div>"
            ],
            "text/plain": [
              "                     count      mean       std  ...       50%       75%  max\n",
              "Edad                5605.0  0.321265  0.139208  ...  0.276923  0.400000  1.0\n",
              "Prom_NumTarjCred    5605.0  0.092517  0.077947  ...  0.111111  0.111111  1.0\n",
              "Prom_NumTransWeb    5605.0  0.034151  0.067639  ...  0.012225  0.036675  1.0\n",
              "LN_Ingreso          5605.0  0.278286  0.119710  ...  0.252809  0.338515  1.0\n",
              "LN_Prom_CreditMes   5605.0  0.079881  0.045459  ...  0.066880  0.077846  1.0\n",
              "LN_Prom_MargenComp  5605.0  0.600590  0.021106  ...  0.597817  0.605165  1.0\n",
              "Genero_M            5605.0  0.700089  0.458260  ...  1.000000  1.000000  1.0\n",
              "FUGA_NF             5605.0  0.872257  0.333833  ...  1.000000  1.000000  1.0\n",
              "EstCivil_Casado_si  5605.0  0.528457  0.499234  ...  1.000000  1.000000  1.0\n",
              "NivelEduc_Univ_si   5605.0  0.647636  0.477749  ...  1.000000  1.000000  1.0\n",
              "\n",
              "[10 rows x 8 columns]"
            ]
          },
          "metadata": {
            "tags": []
          },
          "execution_count": 6
        }
      ]
    },
    {
      "cell_type": "markdown",
      "metadata": {
        "id": "tp-2WNbqbEzo"
      },
      "source": [
        "# Arreglo de Desbalance de las Muestras"
      ]
    },
    {
      "cell_type": "markdown",
      "metadata": {
        "id": "YYr208AdA4ZR"
      },
      "source": [
        "Para arreglar el desbalanceo de los datos, ya que se puede observar que existe un total de 4889 valores No Fugados contra un total de 716 valores Fugados. Por lo que, para balancear los datos, se completará la columna 0 para llegar a un total de 4889 observaciones, esto se realizará de forma aleatoria escogiendo observaciones del dentro del subconjunto de observaciones en donde el cliente si se fuga, es decir, dentro de una base de 716 posibles datos.\n",
        "\n",
        "Por lo que la siguiente accion a tomar es el de crear dos data sets diferentes, uno balanceado y otro desbalanceado. El data set balanceado será utilizado para entrenar a los modelos, mientras que el modelo desbalanceado, es decir, los datos como provienen desde la base de datos sin ser alterados, será utilizado para posteriormente poder evaluar el rendimineto de los modelos y determinar cual es el mejor que se logra ajustar mejor a los datos."
      ]
    },
    {
      "cell_type": "code",
      "metadata": {
        "colab": {
          "base_uri": "https://localhost:8080/"
        },
        "id": "cIDfoT09bYNQ",
        "outputId": "cd0a2a90-10f8-409b-e257-2351dc496763"
      },
      "source": [
        "data_set['FUGA_NF'].value_counts()"
      ],
      "execution_count": null,
      "outputs": [
        {
          "output_type": "execute_result",
          "data": {
            "text/plain": [
              "1    4889\n",
              "0     716\n",
              "Name: FUGA_NF, dtype: int64"
            ]
          },
          "metadata": {
            "tags": []
          },
          "execution_count": 7
        }
      ]
    },
    {
      "cell_type": "code",
      "metadata": {
        "colab": {
          "base_uri": "https://localhost:8080/"
        },
        "id": "tYRdv5YufV2k",
        "outputId": "2b236966-ee38-4708-c2ea-82fc06718286"
      },
      "source": [
        "data_set"
      ],
      "execution_count": null,
      "outputs": [
        {
          "output_type": "execute_result",
          "data": {
            "text/plain": [
              "4173"
            ]
          },
          "metadata": {
            "tags": []
          },
          "execution_count": 23
        }
      ]
    },
    {
      "cell_type": "code",
      "metadata": {
        "colab": {
          "base_uri": "https://localhost:8080/"
        },
        "id": "Dv0r1abHb0YI",
        "outputId": "408641bd-01b0-480a-a601-8fc2d3a707e0"
      },
      "source": [
        "copy_df = data_set[data_set['FUGA_NF'] == 0]\n",
        "copy_df_index = [index for index in copy_df.index]\n",
        "\n",
        "rows_list = []\n",
        "for iteration in range(0, 4173):\n",
        "  num = random.choice(copy_df_index)\n",
        "  row = copy_df.loc[num, :]\n",
        "  rows_list.append(row)\n",
        "\n",
        "df = pd.DataFrame(rows_list)\n",
        "\n",
        "copy_df = pd.concat([copy_df, df], axis=0)\n",
        "copy_df.info()"
      ],
      "execution_count": null,
      "outputs": [
        {
          "output_type": "stream",
          "text": [
            "<class 'pandas.core.frame.DataFrame'>\n",
            "Int64Index: 4889 entries, 4889 to 5355\n",
            "Data columns (total 10 columns):\n",
            " #   Column              Non-Null Count  Dtype  \n",
            "---  ------              --------------  -----  \n",
            " 0   Edad                4889 non-null   float64\n",
            " 1   Prom_NumTarjCred    4889 non-null   float64\n",
            " 2   Prom_NumTransWeb    4889 non-null   float64\n",
            " 3   LN_Ingreso          4889 non-null   float64\n",
            " 4   LN_Prom_CreditMes   4889 non-null   float64\n",
            " 5   LN_Prom_MargenComp  4889 non-null   float64\n",
            " 6   Genero_M            4889 non-null   float64\n",
            " 7   FUGA_NF             4889 non-null   float64\n",
            " 8   EstCivil_Casado_si  4889 non-null   float64\n",
            " 9   NivelEduc_Univ_si   4889 non-null   float64\n",
            "dtypes: float64(10)\n",
            "memory usage: 420.1 KB\n"
          ],
          "name": "stdout"
        }
      ]
    },
    {
      "cell_type": "code",
      "metadata": {
        "id": "PVF1ox66iNy3"
      },
      "source": [
        "df1 = data_set[data_set['FUGA_NF'] == 1]\n",
        "copy_df\n",
        "\n",
        "# Data_set de Entrenamiento con los Datos BALANCEADOS, reemplaza a data_set original\n",
        "data_set = pd.concat([df1, copy_df], axis=0)"
      ],
      "execution_count": null,
      "outputs": []
    },
    {
      "cell_type": "markdown",
      "metadata": {
        "id": "Tnan1j2XHtuy"
      },
      "source": [
        "# Separación de los Datos usando Train-Test"
      ]
    },
    {
      "cell_type": "code",
      "metadata": {
        "id": "_lz9IHtdHCFA"
      },
      "source": [
        "# Datos Balanceados\n",
        "\n",
        "y = data_set['FUGA_NF']\n",
        "data_set.drop('FUGA_NF', axis=1, inplace=True)\n",
        "X = data_set"
      ],
      "execution_count": null,
      "outputs": []
    },
    {
      "cell_type": "code",
      "metadata": {
        "id": "oIfztqrqLaTl"
      },
      "source": [
        "# Datos Balanceados\n",
        "\n",
        "X_train, X_test, y_train, y_test = train_test_split(X, y, test_size=0.3, random_state=0)"
      ],
      "execution_count": null,
      "outputs": []
    },
    {
      "cell_type": "code",
      "metadata": {
        "colab": {
          "base_uri": "https://localhost:8080/"
        },
        "id": "MKn9rOfZjZGN",
        "outputId": "4f939881-82a4-4ae4-ea62-25ad1cec0281"
      },
      "source": [
        "X_test.shape"
      ],
      "execution_count": null,
      "outputs": [
        {
          "output_type": "execute_result",
          "data": {
            "text/plain": [
              "(2934, 9)"
            ]
          },
          "metadata": {
            "tags": []
          },
          "execution_count": 41
        }
      ]
    },
    {
      "cell_type": "code",
      "metadata": {
        "id": "w1ZznJ5UbQBr"
      },
      "source": [
        ""
      ],
      "execution_count": null,
      "outputs": []
    },
    {
      "cell_type": "markdown",
      "metadata": {
        "id": "sNLXX9imODCz"
      },
      "source": [
        "# Entrenamiento y Validación de los Modelos"
      ]
    },
    {
      "cell_type": "markdown",
      "metadata": {
        "id": "kKfovjrdOcM2"
      },
      "source": [
        "## Regresión Logística"
      ]
    },
    {
      "cell_type": "markdown",
      "metadata": {
        "id": "N9fjznSEOfs4"
      },
      "source": [
        "Dentro de las ventajas de realizar una regresión logística para un modelo de clasificación dado que los datos no se encuentran estandarizados, hace que sea más facil la interpretación ya que los coeficientes se encuentran en unidades de la variable dependiente y.\n",
        "\n",
        "La estrategia para esta clase de modelo es realizar diversar regresiones hasta lograr encontrar la que mejor estime el modelo, y descartando las variables cuyos p-values sean superiores a 0.05, este proceso de eliminación se realiza una por una."
      ]
    },
    {
      "cell_type": "code",
      "metadata": {
        "id": "aCGOlB3TOBbp"
      },
      "source": [
        "logit_model = srm.Logit(y_train, srm.add_constant(X_train))"
      ],
      "execution_count": null,
      "outputs": []
    },
    {
      "cell_type": "code",
      "metadata": {
        "colab": {
          "base_uri": "https://localhost:8080/"
        },
        "id": "68yLuaWWPvVN",
        "outputId": "64f99faa-1d1a-425c-ebdf-1c64de6c3ae1"
      },
      "source": [
        "results_00 = logit_model.fit()\n",
        "\n",
        "print(results_00.summary2())"
      ],
      "execution_count": null,
      "outputs": [
        {
          "output_type": "stream",
          "text": [
            "Optimization terminated successfully.\n",
            "         Current function value: 0.495382\n",
            "         Iterations 8\n",
            "                           Results: Logit\n",
            "====================================================================\n",
            "Model:                Logit             Pseudo R-squared:  0.285    \n",
            "Dependent Variable:   FUGA_NF           AIC:               6800.7896\n",
            "Date:                 2021-06-01 17:15  BIC:               6869.1008\n",
            "No. Observations:     6844              Log-Likelihood:    -3390.4  \n",
            "Df Model:             9                 LL-Null:           -4743.9  \n",
            "Df Residuals:         6834              LLR p-value:       0.0000   \n",
            "Converged:            1.0000            Scale:             1.0000   \n",
            "No. Iterations:       8.0000                                        \n",
            "--------------------------------------------------------------------\n",
            "                    Coef.   Std.Err.    z    P>|z|   [0.025   0.975]\n",
            "--------------------------------------------------------------------\n",
            "const              -10.1386   1.1724 -8.6476 0.0000 -12.4365 -7.8407\n",
            "Edad                 0.3729   0.2440  1.5284 0.1264  -0.1053  0.8512\n",
            "Prom_NumTarjCred    15.6881   0.5370 29.2168 0.0000  14.6357 16.7405\n",
            "Prom_NumTransWeb    10.0936   0.9155 11.0254 0.0000   8.2993 11.8879\n",
            "LN_Ingreso          -2.0623   0.3025 -6.8168 0.0000  -2.6553 -1.4694\n",
            "LN_Prom_CreditMes   41.7282   2.9732 14.0346 0.0000  35.9008 47.5556\n",
            "LN_Prom_MargenComp  10.9840   1.9460  5.6444 0.0000   7.1699 14.7980\n",
            "Genero_M             0.1837   0.0678  2.7103 0.0067   0.0509  0.3165\n",
            "EstCivil_Casado_si  -0.1520   0.0654 -2.3241 0.0201  -0.2803 -0.0238\n",
            "NivelEduc_Univ_si   -0.1285   0.0659 -1.9498 0.0512  -0.2578  0.0007\n",
            "====================================================================\n",
            "\n"
          ],
          "name": "stdout"
        }
      ]
    },
    {
      "cell_type": "markdown",
      "metadata": {
        "id": "PeIWD9cYQ5bJ"
      },
      "source": [
        "Ya que el proceso de busqueda resulta iterativo, se creará una lista que almacene el nombre de las variables que han sido descartadas para el modelo de regresión logistico debido a su alto p-value, y una función que realice el proceso de realizar el modelo e imprimir el resumen de los datos."
      ]
    },
    {
      "cell_type": "code",
      "metadata": {
        "id": "CyezdKBsRoHs"
      },
      "source": [
        "# Lista de Variables No Consideradas para el Modelo\n",
        "not_considered = []\n",
        "\n",
        "\n",
        "def logistic_model(X_train, y_train):\n",
        "  logit_model = srm.Logit(y_train, srm.add_constant(X_train))\n",
        "  results = logit_model.fit()\n",
        "  print(results.summary2())\n",
        "\n",
        "\n",
        "def columns_remaining_list(X_train):\n",
        "  return [cols for cols in X_train.columns if cols not in not_considered]"
      ],
      "execution_count": null,
      "outputs": []
    },
    {
      "cell_type": "markdown",
      "metadata": {
        "id": "97oIMGkPQTPv"
      },
      "source": [
        "Eliminando la variable:\n",
        "- Edad"
      ]
    },
    {
      "cell_type": "code",
      "metadata": {
        "id": "tHAase9IQDnB"
      },
      "source": [
        "not_considered.append('Edad')"
      ],
      "execution_count": null,
      "outputs": []
    },
    {
      "cell_type": "code",
      "metadata": {
        "colab": {
          "base_uri": "https://localhost:8080/"
        },
        "id": "BNuhMeFsTBA3",
        "outputId": "a3e9e2ef-aa8e-4fe0-ed38-ab9c7c069495"
      },
      "source": [
        "X_train_reg01 = X_train[columns_remaining_list(X_train)]\n",
        "X_test_reg01 = X_test[columns_remaining_list(X_test)]\n",
        "logistic_model(X_train_reg01, y_train)"
      ],
      "execution_count": null,
      "outputs": [
        {
          "output_type": "stream",
          "text": [
            "Optimization terminated successfully.\n",
            "         Current function value: 0.495553\n",
            "         Iterations 8\n",
            "                           Results: Logit\n",
            "====================================================================\n",
            "Model:                Logit             Pseudo R-squared:  0.285    \n",
            "Dependent Variable:   FUGA_NF           AIC:               6801.1249\n",
            "Date:                 2021-06-01 17:16  BIC:               6862.6050\n",
            "No. Observations:     6844              Log-Likelihood:    -3391.6  \n",
            "Df Model:             8                 LL-Null:           -4743.9  \n",
            "Df Residuals:         6835              LLR p-value:       0.0000   \n",
            "Converged:            1.0000            Scale:             1.0000   \n",
            "No. Iterations:       8.0000                                        \n",
            "--------------------------------------------------------------------\n",
            "                    Coef.   Std.Err.    z    P>|z|   [0.025   0.975]\n",
            "--------------------------------------------------------------------\n",
            "const              -10.1566   1.1770 -8.6291 0.0000 -12.4635 -7.8497\n",
            "Prom_NumTarjCred    15.6599   0.5364 29.1934 0.0000  14.6085 16.7112\n",
            "Prom_NumTransWeb    10.0155   0.9120 10.9815 0.0000   8.2280 11.8031\n",
            "LN_Ingreso          -1.9259   0.2889 -6.6654 0.0000  -2.4922 -1.3596\n",
            "LN_Prom_CreditMes   41.8516   2.9723 14.0807 0.0000  36.0260 47.6771\n",
            "LN_Prom_MargenComp  11.1334   1.9514  5.7054 0.0000   7.3088 14.9581\n",
            "Genero_M             0.1790   0.0677  2.6439 0.0082   0.0463  0.3116\n",
            "EstCivil_Casado_si  -0.1244   0.0628 -1.9803 0.0477  -0.2476 -0.0013\n",
            "NivelEduc_Univ_si   -0.1387   0.0656 -2.1152 0.0344  -0.2672 -0.0102\n",
            "====================================================================\n",
            "\n"
          ],
          "name": "stdout"
        }
      ]
    },
    {
      "cell_type": "markdown",
      "metadata": {
        "id": "6HknGhpCdyY2"
      },
      "source": [
        "Eliminando la variable:\n",
        "- EstCivil_Casado_si"
      ]
    },
    {
      "cell_type": "code",
      "metadata": {
        "id": "1Nv8w7zoVMM9"
      },
      "source": [
        "not_considered.append('EstCivil_Casado_si')"
      ],
      "execution_count": null,
      "outputs": []
    },
    {
      "cell_type": "code",
      "metadata": {
        "colab": {
          "base_uri": "https://localhost:8080/"
        },
        "id": "qljGkgjldlHI",
        "outputId": "83e99772-c5b7-42b9-d24d-88a4f2815f04"
      },
      "source": [
        "X_train_reg02 = X_train[columns_remaining_list(X_train)]\n",
        "X_test_reg02 = X_test[columns_remaining_list(X_test)]\n",
        "logistic_model(X_train_reg02, y_train)"
      ],
      "execution_count": null,
      "outputs": [
        {
          "output_type": "stream",
          "text": [
            "Optimization terminated successfully.\n",
            "         Current function value: 0.495839\n",
            "         Iterations 8\n",
            "                           Results: Logit\n",
            "====================================================================\n",
            "Model:                Logit             Pseudo R-squared:  0.285    \n",
            "Dependent Variable:   FUGA_NF           AIC:               6803.0454\n",
            "Date:                 2021-06-01 17:16  BIC:               6857.6945\n",
            "No. Observations:     6844              Log-Likelihood:    -3393.5  \n",
            "Df Model:             7                 LL-Null:           -4743.9  \n",
            "Df Residuals:         6836              LLR p-value:       0.0000   \n",
            "Converged:            1.0000            Scale:             1.0000   \n",
            "No. Iterations:       8.0000                                        \n",
            "--------------------------------------------------------------------\n",
            "                    Coef.   Std.Err.    z    P>|z|   [0.025   0.975]\n",
            "--------------------------------------------------------------------\n",
            "const              -10.1010   1.1720 -8.6185 0.0000 -12.3981 -7.8039\n",
            "Prom_NumTarjCred    15.6843   0.5363 29.2445 0.0000  14.6331 16.7354\n",
            "Prom_NumTransWeb     9.9954   0.9122 10.9575 0.0000   8.2076 11.7833\n",
            "LN_Ingreso          -2.0582   0.2812 -7.3183 0.0000  -2.6094 -1.5070\n",
            "LN_Prom_CreditMes   41.9422   2.9713 14.1158 0.0000  36.1186 47.7658\n",
            "LN_Prom_MargenComp  10.9867   1.9419  5.6577 0.0000   7.1807 14.7928\n",
            "Genero_M             0.1592   0.0669  2.3795 0.0173   0.0281  0.2904\n",
            "NivelEduc_Univ_si   -0.1253   0.0652 -1.9216 0.0547  -0.2531  0.0025\n",
            "====================================================================\n",
            "\n"
          ],
          "name": "stdout"
        }
      ]
    },
    {
      "cell_type": "markdown",
      "metadata": {
        "id": "k8S6cqGUe5GB"
      },
      "source": [
        "Eliminando la variable:\n",
        "- NivelEduc_Univ_si"
      ]
    },
    {
      "cell_type": "code",
      "metadata": {
        "id": "T4QNHOAedsVB"
      },
      "source": [
        "not_considered.append('NivelEduc_Univ_si')"
      ],
      "execution_count": null,
      "outputs": []
    },
    {
      "cell_type": "code",
      "metadata": {
        "colab": {
          "base_uri": "https://localhost:8080/"
        },
        "id": "NQtuvzsXfIPP",
        "outputId": "f97162e6-6a23-46b6-b509-1d9ffc7d7c41"
      },
      "source": [
        "X_train_reg03 = X_train[columns_remaining_list(X_train)]\n",
        "X_test_reg03 = X_test[columns_remaining_list(X_test)]\n",
        "logistic_model(X_train_reg03, y_train)"
      ],
      "execution_count": null,
      "outputs": [
        {
          "output_type": "stream",
          "text": [
            "Optimization terminated successfully.\n",
            "         Current function value: 0.496109\n",
            "         Iterations 8\n",
            "                           Results: Logit\n",
            "====================================================================\n",
            "Model:                Logit             Pseudo R-squared:  0.284    \n",
            "Dependent Variable:   FUGA_NF           AIC:               6804.7364\n",
            "Date:                 2021-06-01 17:16  BIC:               6852.5543\n",
            "No. Observations:     6844              Log-Likelihood:    -3395.4  \n",
            "Df Model:             6                 LL-Null:           -4743.9  \n",
            "Df Residuals:         6837              LLR p-value:       0.0000   \n",
            "Converged:            1.0000            Scale:             1.0000   \n",
            "No. Iterations:       8.0000                                        \n",
            "--------------------------------------------------------------------\n",
            "                    Coef.   Std.Err.    z    P>|z|   [0.025   0.975]\n",
            "--------------------------------------------------------------------\n",
            "const              -10.1022   1.1710 -8.6271 0.0000 -12.3973 -7.8071\n",
            "Prom_NumTarjCred    15.7051   0.5361 29.2937 0.0000  14.6544 16.7559\n",
            "Prom_NumTransWeb    10.0141   0.9131 10.9670 0.0000   8.2245 11.8038\n",
            "LN_Ingreso          -2.2090   0.2704 -8.1686 0.0000  -2.7391 -1.6790\n",
            "LN_Prom_CreditMes   41.8790   2.9720 14.0911 0.0000  36.0540 47.7041\n",
            "LN_Prom_MargenComp  10.9218   1.9401  5.6295 0.0000   7.1193 14.7243\n",
            "Genero_M             0.1634   0.0669  2.4425 0.0146   0.0323  0.2944\n",
            "====================================================================\n",
            "\n"
          ],
          "name": "stdout"
        }
      ]
    },
    {
      "cell_type": "markdown",
      "metadata": {
        "id": "QkrUGzCMfab2"
      },
      "source": [
        "Con las variables que quedan, en los valores de los p-value para el test individual de cada variable si es que es significativa para el modelo, todas las variables no significativas fueron removidas."
      ]
    },
    {
      "cell_type": "code",
      "metadata": {
        "colab": {
          "base_uri": "https://localhost:8080/"
        },
        "id": "gcZs1lv71jR4",
        "outputId": "b1b2d0db-789d-4a10-bb46-52f2649f2f54"
      },
      "source": [
        "regresion = LogisticRegression(random_state=0)\n",
        "regresion.fit(X_train_reg03, y_train)"
      ],
      "execution_count": null,
      "outputs": [
        {
          "output_type": "execute_result",
          "data": {
            "text/plain": [
              "LogisticRegression(C=1.0, class_weight=None, dual=False, fit_intercept=True,\n",
              "                   intercept_scaling=1, l1_ratio=None, max_iter=100,\n",
              "                   multi_class='auto', n_jobs=None, penalty='l2',\n",
              "                   random_state=0, solver='lbfgs', tol=0.0001, verbose=0,\n",
              "                   warm_start=False)"
            ]
          },
          "metadata": {
            "tags": []
          },
          "execution_count": 51
        }
      ]
    },
    {
      "cell_type": "code",
      "metadata": {
        "colab": {
          "base_uri": "https://localhost:8080/",
          "height": 235
        },
        "id": "-nAtguJK1o8V",
        "outputId": "edca76e5-2a1e-4003-a114-f5cd56efcd05"
      },
      "source": [
        "pd.DataFrame(zip(X_train_reg03.columns, np.transpose(regresion.coef_.tolist()[0])),columns=['features','coef'])"
      ],
      "execution_count": null,
      "outputs": [
        {
          "output_type": "execute_result",
          "data": {
            "text/html": [
              "<div>\n",
              "<style scoped>\n",
              "    .dataframe tbody tr th:only-of-type {\n",
              "        vertical-align: middle;\n",
              "    }\n",
              "\n",
              "    .dataframe tbody tr th {\n",
              "        vertical-align: top;\n",
              "    }\n",
              "\n",
              "    .dataframe thead th {\n",
              "        text-align: right;\n",
              "    }\n",
              "</style>\n",
              "<table border=\"1\" class=\"dataframe\">\n",
              "  <thead>\n",
              "    <tr style=\"text-align: right;\">\n",
              "      <th></th>\n",
              "      <th>features</th>\n",
              "      <th>coef</th>\n",
              "    </tr>\n",
              "  </thead>\n",
              "  <tbody>\n",
              "    <tr>\n",
              "      <th>0</th>\n",
              "      <td>Prom_NumTarjCred</td>\n",
              "      <td>13.824468</td>\n",
              "    </tr>\n",
              "    <tr>\n",
              "      <th>1</th>\n",
              "      <td>Prom_NumTransWeb</td>\n",
              "      <td>7.497916</td>\n",
              "    </tr>\n",
              "    <tr>\n",
              "      <th>2</th>\n",
              "      <td>LN_Ingreso</td>\n",
              "      <td>-1.658605</td>\n",
              "    </tr>\n",
              "    <tr>\n",
              "      <th>3</th>\n",
              "      <td>LN_Prom_CreditMes</td>\n",
              "      <td>9.600265</td>\n",
              "    </tr>\n",
              "    <tr>\n",
              "      <th>4</th>\n",
              "      <td>LN_Prom_MargenComp</td>\n",
              "      <td>3.526341</td>\n",
              "    </tr>\n",
              "    <tr>\n",
              "      <th>5</th>\n",
              "      <td>Genero_M</td>\n",
              "      <td>0.088555</td>\n",
              "    </tr>\n",
              "  </tbody>\n",
              "</table>\n",
              "</div>"
            ],
            "text/plain": [
              "             features       coef\n",
              "0    Prom_NumTarjCred  13.824468\n",
              "1    Prom_NumTransWeb   7.497916\n",
              "2          LN_Ingreso  -1.658605\n",
              "3   LN_Prom_CreditMes   9.600265\n",
              "4  LN_Prom_MargenComp   3.526341\n",
              "5            Genero_M   0.088555"
            ]
          },
          "metadata": {
            "tags": []
          },
          "execution_count": 52
        }
      ]
    },
    {
      "cell_type": "markdown",
      "metadata": {
        "id": "VY6PukKZtJWU"
      },
      "source": [
        "## Árboles de Decisión"
      ]
    },
    {
      "cell_type": "markdown",
      "metadata": {
        "id": "ypZPxUuNvFu8"
      },
      "source": [
        "Lo primero en hacer es determinar cuales son los mejores parámetros que se adecuen. Para esto se utilizará el método de GridSearch para determinar cuales son los mejores parámetros."
      ]
    },
    {
      "cell_type": "markdown",
      "metadata": {
        "id": "K9QgvX0B6Uw5"
      },
      "source": [
        "Crean una variable que contenga el modelo de Arbol de decisión"
      ]
    },
    {
      "cell_type": "code",
      "metadata": {
        "id": "pjoeGUWex3ES"
      },
      "source": [
        "arbol = DecisionTreeClassifier()"
      ],
      "execution_count": null,
      "outputs": []
    },
    {
      "cell_type": "markdown",
      "metadata": {
        "id": "P0-xClCZ6lip"
      },
      "source": [
        "Establecer los parámetros que serán utilizados en el Grid Search para determinar cuales se ajustan mejor al modelo de arbol de decisión."
      ]
    },
    {
      "cell_type": "code",
      "metadata": {
        "id": "S1YGtbtmtcvB"
      },
      "source": [
        "parametros= {'criterion': ['entropy', 'gini'], 'splitter': ['best', 'random'], 'max_leaf_nodes': [5,18,30], 'min_samples_split': [2, 3, 4], 'max_depth':[2,3,4]}"
      ],
      "execution_count": null,
      "outputs": []
    },
    {
      "cell_type": "markdown",
      "metadata": {
        "id": "g-JWOfTG6xo1"
      },
      "source": [
        "Realizar el Grid Search"
      ]
    },
    {
      "cell_type": "code",
      "metadata": {
        "colab": {
          "base_uri": "https://localhost:8080/"
        },
        "id": "-xlPSy8qxqG8",
        "outputId": "10a2b01d-da5b-464e-d495-3276c9d815da"
      },
      "source": [
        "tree_cv=GridSearchCV(arbol,parametros,cv=10)\n",
        "tree_cv.fit(X_train, y_train)"
      ],
      "execution_count": null,
      "outputs": [
        {
          "output_type": "execute_result",
          "data": {
            "text/plain": [
              "GridSearchCV(cv=10, error_score=nan,\n",
              "             estimator=DecisionTreeClassifier(ccp_alpha=0.0, class_weight=None,\n",
              "                                              criterion='gini', max_depth=None,\n",
              "                                              max_features=None,\n",
              "                                              max_leaf_nodes=None,\n",
              "                                              min_impurity_decrease=0.0,\n",
              "                                              min_impurity_split=None,\n",
              "                                              min_samples_leaf=1,\n",
              "                                              min_samples_split=2,\n",
              "                                              min_weight_fraction_leaf=0.0,\n",
              "                                              presort='deprecated',\n",
              "                                              random_state=None,\n",
              "                                              splitter='best'),\n",
              "             iid='deprecated', n_jobs=None,\n",
              "             param_grid={'criterion': ['entropy', 'gini'],\n",
              "                         'max_depth': [2, 3, 4], 'max_leaf_nodes': [5, 18, 30],\n",
              "                         'min_samples_split': [2, 3, 4],\n",
              "                         'splitter': ['best', 'random']},\n",
              "             pre_dispatch='2*n_jobs', refit=True, return_train_score=False,\n",
              "             scoring=None, verbose=0)"
            ]
          },
          "metadata": {
            "tags": []
          },
          "execution_count": 55
        }
      ]
    },
    {
      "cell_type": "markdown",
      "metadata": {
        "id": "8M08NMXP67Hv"
      },
      "source": [
        "Imprimir los resultados de la busqueda de grilla"
      ]
    },
    {
      "cell_type": "code",
      "metadata": {
        "colab": {
          "base_uri": "https://localhost:8080/"
        },
        "id": "Zlvrro4W6LBl",
        "outputId": "789b83bd-79ab-4cf8-d4db-28e0d89395ad"
      },
      "source": [
        "print('Best params:')\n",
        "print(tree_cv.best_params_)"
      ],
      "execution_count": null,
      "outputs": [
        {
          "output_type": "stream",
          "text": [
            "Best params:\n",
            "{'criterion': 'gini', 'max_depth': 4, 'max_leaf_nodes': 18, 'min_samples_split': 2, 'splitter': 'best'}\n"
          ],
          "name": "stdout"
        }
      ]
    },
    {
      "cell_type": "markdown",
      "metadata": {
        "id": "C_NKOBv07FdK"
      },
      "source": [
        "Guardamos el mejor modelo de la grilla para luego obtener sus resultados de predicción"
      ]
    },
    {
      "cell_type": "code",
      "metadata": {
        "colab": {
          "base_uri": "https://localhost:8080/"
        },
        "id": "NadO1y638RGk",
        "outputId": "410ec1c8-074a-45de-f598-80443bc81418"
      },
      "source": [
        "arbol = DecisionTreeClassifier(criterion = 'entropy',max_depth= 2, max_leaf_nodes= 5, min_samples_split= 2, splitter='best')\n",
        "arbol.fit(X_train, y_train)"
      ],
      "execution_count": null,
      "outputs": [
        {
          "output_type": "execute_result",
          "data": {
            "text/plain": [
              "DecisionTreeClassifier(ccp_alpha=0.0, class_weight=None, criterion='entropy',\n",
              "                       max_depth=2, max_features=None, max_leaf_nodes=5,\n",
              "                       min_impurity_decrease=0.0, min_impurity_split=None,\n",
              "                       min_samples_leaf=1, min_samples_split=2,\n",
              "                       min_weight_fraction_leaf=0.0, presort='deprecated',\n",
              "                       random_state=None, splitter='best')"
            ]
          },
          "metadata": {
            "tags": []
          },
          "execution_count": 57
        }
      ]
    },
    {
      "cell_type": "code",
      "metadata": {
        "colab": {
          "base_uri": "https://localhost:8080/",
          "height": 427
        },
        "id": "DXL5pXxa8n0u",
        "outputId": "f7dd8354-3bc5-4385-bc97-d91d7c51dd56"
      },
      "source": [
        "#con estas funciones se grafica mas grande y es mas facil de leer\n",
        "print('Best params:')\n",
        "print(tree_cv.best_params_)\n",
        "print()\n",
        "dot_data = StringIO()\n",
        "export_graphviz(arbol, out_file=dot_data, feature_names=data_set.columns,filled= True)\n",
        "(graph, ) = graph_from_dot_data(dot_data.getvalue())\n",
        "Image(graph.create_png())"
      ],
      "execution_count": null,
      "outputs": [
        {
          "output_type": "stream",
          "text": [
            "Best params:\n",
            "{'criterion': 'gini', 'max_depth': 4, 'max_leaf_nodes': 18, 'min_samples_split': 2, 'splitter': 'best'}\n",
            "\n"
          ],
          "name": "stdout"
        },
        {
          "output_type": "execute_result",
          "data": {
            "image/png": "[encoded data removed]",
            "text/plain": [
              "<IPython.core.display.Image object>"
            ]
          },
          "metadata": {
            "tags": []
          },
          "execution_count": 97
        }
      ]
    },
    {
      "cell_type": "code",
      "metadata": {
        "id": "kayRNSu47Gxr"
      },
      "source": [
        "#arbol = tree_cv.best_params_"
      ],
      "execution_count": null,
      "outputs": []
    },
    {
      "cell_type": "markdown",
      "metadata": {
        "id": "fYZg3xSl78ew"
      },
      "source": [
        "## Paso Intermedio: Normalizar los Datos"
      ]
    },
    {
      "cell_type": "markdown",
      "metadata": {
        "id": "X53mlC4U8BKn"
      },
      "source": [
        "Los modelos que vienen a continuación requieren que los datos se encuentren estandarizados o normalizados.\n"
      ]
    },
    {
      "cell_type": "code",
      "metadata": {
        "id": "XxCPWfDh_QY_"
      },
      "source": [
        "X_train_scaled, X_test_scaled, y_train_scaled, y_test_scaled = train_test_split(data_set, y, test_size=0.3, random_state = 0)"
      ],
      "execution_count": null,
      "outputs": []
    },
    {
      "cell_type": "markdown",
      "metadata": {
        "id": "Bpg5vtZIslZY"
      },
      "source": [
        "## K-Vecinos mas cercanos"
      ]
    },
    {
      "cell_type": "code",
      "metadata": {
        "id": "_RAGw5L8pKs3"
      },
      "source": [
        "Knn = KNeighborsClassifier()"
      ],
      "execution_count": null,
      "outputs": []
    },
    {
      "cell_type": "code",
      "metadata": {
        "id": "Cm8jPVtDAJVP"
      },
      "source": [
        "parametros= {'algorithm': ['ball_tree', 'kd_tree', 'brute'], 'n_neighbors': [3,5,11,19], 'weights': ['uniform','distance'], 'metric':['euclidean','manhattan']}"
      ],
      "execution_count": null,
      "outputs": []
    },
    {
      "cell_type": "code",
      "metadata": {
        "colab": {
          "base_uri": "https://localhost:8080/"
        },
        "id": "_vZphd99BVeQ",
        "outputId": "e1b27ad6-6d6f-4889-f1ab-0f142fb847c3"
      },
      "source": [
        "knn_cv=GridSearchCV(Knn,parametros,cv=10)\n",
        "knn_cv.fit(X_train_scaled, y_train_scaled)"
      ],
      "execution_count": null,
      "outputs": [
        {
          "output_type": "execute_result",
          "data": {
            "text/plain": [
              "GridSearchCV(cv=10, error_score=nan,\n",
              "             estimator=KNeighborsClassifier(algorithm='auto', leaf_size=30,\n",
              "                                            metric='minkowski',\n",
              "                                            metric_params=None, n_jobs=None,\n",
              "                                            n_neighbors=5, p=2,\n",
              "                                            weights='uniform'),\n",
              "             iid='deprecated', n_jobs=None,\n",
              "             param_grid={'algorithm': ['ball_tree', 'kd_tree', 'brute'],\n",
              "                         'metric': ['euclidean', 'manhattan'],\n",
              "                         'n_neighbors': [3, 5, 11, 19],\n",
              "                         'weights': ['uniform', 'distance']},\n",
              "             pre_dispatch='2*n_jobs', refit=True, return_train_score=False,\n",
              "             scoring=None, verbose=0)"
            ]
          },
          "metadata": {
            "tags": []
          },
          "execution_count": 63
        }
      ]
    },
    {
      "cell_type": "code",
      "metadata": {
        "colab": {
          "base_uri": "https://localhost:8080/"
        },
        "id": "eJ1HmsyXBkgD",
        "outputId": "e5012e71-34fe-4636-f1b8-942fb8729123"
      },
      "source": [
        "print('Best params for k-neighborns:')\n",
        "print(knn_cv.best_params_)"
      ],
      "execution_count": null,
      "outputs": [
        {
          "output_type": "stream",
          "text": [
            "Best params for k-neighborns:\n",
            "{'algorithm': 'ball_tree', 'metric': 'euclidean', 'n_neighbors': 3, 'weights': 'distance'}\n"
          ],
          "name": "stdout"
        }
      ]
    },
    {
      "cell_type": "code",
      "metadata": {
        "id": "R3Jb1gwHCdbx"
      },
      "source": [
        "Knn = knn_cv.best_estimator_"
      ],
      "execution_count": null,
      "outputs": []
    },
    {
      "cell_type": "code",
      "metadata": {
        "colab": {
          "base_uri": "https://localhost:8080/",
          "height": 418
        },
        "id": "tcvQNbAOCe_v",
        "outputId": "e546b7e9-f102-47b1-9b38-5d55911ecf4c"
      },
      "source": [
        "print('Best params for k-neighborns:')\n",
        "print(knn_cv.best_params_)\n",
        "grid_results = pd.DataFrame(knn_cv.cv_results_)\n",
        "sn.catplot(x=\"param_n_neighbors\", y=\"mean_test_score\", hue=\"param_weights\", kind=\"point\", col=\"param_metric\",data=grid_results);\n"
      ],
      "execution_count": null,
      "outputs": [
        {
          "output_type": "stream",
          "text": [
            "Best params for k-neighborns:\n",
            "{'algorithm': 'ball_tree', 'metric': 'euclidean', 'n_neighbors': 3, 'weights': 'distance'}\n"
          ],
          "name": "stdout"
        },
        {
          "output_type": "display_data",
          "data": {
            "image/png": "[encoded data removed]",
            "text/plain": [
              "<Figure size 804.25x360 with 2 Axes>"
            ]
          },
          "metadata": {
            "tags": [],
            "needs_background": "light"
          }
        }
      ]
    },
    {
      "cell_type": "markdown",
      "metadata": {
        "id": "y_khzemas4Nf"
      },
      "source": [
        "## Random forest"
      ]
    },
    {
      "cell_type": "code",
      "metadata": {
        "colab": {
          "base_uri": "https://localhost:8080/",
          "height": 418
        },
        "id": "gYO6SuK7s9Rp",
        "outputId": "b103d1fc-a826-48f6-d6b2-6cd32d62703f"
      },
      "source": [
        "rf = RandomForestClassifier()\n",
        "\n",
        "#Determinamos los parametros a probar en la grilla\n",
        "parametros={'criterion': ['gini', 'entropy'], 'n_estimators': [10, 100], 'max_features': ['auto', 'sqrt', 'log2'], 'max_depth': [4,5,6,7]}\n",
        "\n",
        "#Realizamos la grilla\n",
        "rf_cv=GridSearchCV(rf,parametros,cv=10)\n",
        "rf_cv.fit(X_train_scaled, y_train_scaled)\n",
        "\n",
        "#vemos los mejores parametros segun la grilla\n",
        "print('Best params for Random Forest:')\n",
        "print(rf_cv.best_params_)\n",
        "\n",
        "#Guardamos el mejor modelo para luego obtener sus reusltados de validacion\n",
        "rf = rf_cv.best_estimator_\n",
        "\n",
        "#transformamos los resultados de la grilla en un dataframe\n",
        "grid_results = pd.DataFrame(rf_cv.cv_results_)\n",
        "\n",
        "#graficamos los puntaje obtenidos segun cada parametro analizado\n",
        "sn.catplot(x=\"param_max_depth\", y=\"mean_test_score\", hue=\"param_max_features\", kind=\"point\", col=\"param_criterion\",data=grid_results);\n"
      ],
      "execution_count": null,
      "outputs": [
        {
          "output_type": "stream",
          "text": [
            "Best params for Random Forest:\n",
            "{'criterion': 'gini', 'max_depth': 7, 'max_features': 'auto', 'n_estimators': 100}\n"
          ],
          "name": "stdout"
        },
        {
          "output_type": "display_data",
          "data": {
            "image/png": "[encoded data removed]",
            "text/plain": [
              "<Figure size 833.25x360 with 2 Axes>"
            ]
          },
          "metadata": {
            "tags": [],
            "needs_background": "light"
          }
        }
      ]
    },
    {
      "cell_type": "markdown",
      "metadata": {
        "id": "xVseNvnUs-Cl"
      },
      "source": [
        "## Red Neuronal"
      ]
    },
    {
      "cell_type": "code",
      "metadata": {
        "colab": {
          "base_uri": "https://localhost:8080/"
        },
        "id": "QIAeJSt2tBve",
        "outputId": "a651dbd4-d42f-4d22-b97f-9c96d7ccd725"
      },
      "source": [
        "red = MLPClassifier(solver='lbfgs' ) \n",
        "\n",
        "#Determinamos los parametros a probar en la grilla\n",
        "\n",
        "parametros={\"batch_size\": [5, 10, 20], 'activation': ['identity', 'logistic', 'tanh', 'relu'],\n",
        "            'learning_rate':['constant', 'invscaling', 'adaptive'], 'max_iter': [50,100], 'alpha': [0.1, 0.01, 0.001],\n",
        "            'hidden_layer_sizes':[(2,3),3,5]}\n",
        "\n",
        "#Realizamos la grilla\n",
        "red_cv=GridSearchCV(red,parametros,n_jobs=2,cv=10)\n",
        "red_cv.fit(X_train_scaled, y_train_scaled)\n",
        "\n",
        "#vemos los mejores parametros segun la grilla\n",
        "print('Best params for neural network:')\n",
        "print(red_cv.best_params_)\n",
        "\n",
        "#Guardamos el mejor modelo para luego obtener sus resultados de validacion\n",
        "red = red_cv.best_estimator_"
      ],
      "execution_count": null,
      "outputs": [
        {
          "output_type": "stream",
          "text": [
            "Best params for neural network:\n",
            "{'activation': 'tanh', 'alpha': 0.01, 'batch_size': 20, 'hidden_layer_sizes': 3, 'learning_rate': 'adaptive', 'max_iter': 100}\n"
          ],
          "name": "stdout"
        },
        {
          "output_type": "stream",
          "text": [
            "/usr/local/lib/python3.7/dist-packages/sklearn/neural_network/_multilayer_perceptron.py:470: ConvergenceWarning: lbfgs failed to converge (status=1):\n",
            "STOP: TOTAL NO. of ITERATIONS REACHED LIMIT.\n",
            "\n",
            "Increase the number of iterations (max_iter) or scale the data as shown in:\n",
            "    https://scikit-learn.org/stable/modules/preprocessing.html\n",
            "  self.n_iter_ = _check_optimize_result(\"lbfgs\", opt_res, self.max_iter)\n"
          ],
          "name": "stderr"
        }
      ]
    },
    {
      "cell_type": "code",
      "metadata": {
        "colab": {
          "base_uri": "https://localhost:8080/"
        },
        "id": "vWdNCUyzO3XR",
        "outputId": "b0446588-2d54-4958-e8fe-7f2e173e20f3"
      },
      "source": [
        "! git clone https://github.com/jzliu-100/visualize-neural-network.git"
      ],
      "execution_count": null,
      "outputs": [
        {
          "output_type": "stream",
          "text": [
            "Cloning into 'visualize-neural-network'...\n",
            "remote: Enumerating objects: 61, done.\u001b[K\n",
            "remote: Total 61 (delta 0), reused 0 (delta 0), pack-reused 61\u001b[K\n",
            "Unpacking objects: 100% (61/61), done.\n"
          ],
          "name": "stdout"
        }
      ]
    },
    {
      "cell_type": "code",
      "metadata": {
        "colab": {
          "base_uri": "https://localhost:8080/"
        },
        "id": "FxPj3BktO5JD",
        "outputId": "773e234d-d5be-45ff-b54c-11c19b45d22d"
      },
      "source": [
        "! python /content/visualize-neural-network/VisualizeNN.py \n",
        "%cd /content/visualize-neural-network\n",
        "!ls"
      ],
      "execution_count": null,
      "outputs": [
        {
          "output_type": "stream",
          "text": [
            "/content/visualize-neural-network\n",
            "img  README.md\ttestVisualizeNN.py  VisualizeNN.py\n"
          ],
          "name": "stdout"
        }
      ]
    },
    {
      "cell_type": "code",
      "metadata": {
        "colab": {
          "base_uri": "https://localhost:8080/"
        },
        "id": "WSabZpnfO-cJ",
        "outputId": "6700dc94-a82e-440b-9aeb-4410955fe137"
      },
      "source": [
        "print(red.hidden_layer_sizes)"
      ],
      "execution_count": null,
      "outputs": [
        {
          "output_type": "stream",
          "text": [
            "3\n"
          ],
          "name": "stdout"
        }
      ]
    },
    {
      "cell_type": "code",
      "metadata": {
        "colab": {
          "base_uri": "https://localhost:8080/"
        },
        "id": "Q0su0O19PkPz",
        "outputId": "5c54d8bc-3ecd-48ea-bd93-a0a616d4eb37"
      },
      "source": [
        "print(red.coefs_)"
      ],
      "execution_count": null,
      "outputs": [
        {
          "output_type": "stream",
          "text": [
            "[array([[ 5.55487293e+00, -1.06016816e+00, -2.28735139e-01],\n",
            "       [ 6.51730415e+00,  1.34394762e+00, -4.98807396e+00],\n",
            "       [ 2.65968350e+00,  3.52263391e+00, -6.66544985e+00],\n",
            "       [ 3.71939581e+00, -2.30838057e+00,  5.34361528e-01],\n",
            "       [ 2.82974352e+00,  4.54533491e+00, -3.89301657e+01],\n",
            "       [ 1.24843634e+01, -3.27020492e+00,  4.31619755e-01],\n",
            "       [ 7.55429171e-01, -6.53737856e+00, -6.70857626e-02],\n",
            "       [ 1.33540076e+00, -6.59029263e+00,  9.86432445e-03],\n",
            "       [ 6.22848166e+00, -3.36793377e+00,  2.23442091e-02]]), array([[-20.09518801],\n",
            "       [ -5.54705429],\n",
            "       [-19.95475544]])]\n"
          ],
          "name": "stdout"
        }
      ]
    },
    {
      "cell_type": "code",
      "metadata": {
        "colab": {
          "base_uri": "https://localhost:8080/",
          "height": 609
        },
        "id": "PVnz_4AMPDKa",
        "outputId": "960442b9-3658-4d6c-a534-88fdf4ca055f"
      },
      "source": [
        "import VisualizeNN as VisNN\n",
        "print('Best params for neural network:')\n",
        "print(red_cv.best_params_)\n",
        "print()\n",
        "network = VisNN.DrawNN([X_train_scaled.shape[1], red.hidden_layer_sizes, 1], red.coefs_)\n",
        "network.draw()"
      ],
      "execution_count": null,
      "outputs": [
        {
          "output_type": "stream",
          "text": [
            "Best params for neural network:\n",
            "{'activation': 'tanh', 'alpha': 0.01, 'batch_size': 20, 'hidden_layer_sizes': 3, 'learning_rate': 'adaptive', 'max_iter': 100}\n",
            "\n"
          ],
          "name": "stdout"
        },
        {
          "output_type": "display_data",
          "data": {
            "image/png": "[encoded data removed]",
            "text/plain": [
              "<Figure size 864x648 with 1 Axes>"
            ]
          },
          "metadata": {
            "tags": [],
            "needs_background": "light"
          }
        }
      ]
    },
    {
      "cell_type": "markdown",
      "metadata": {
        "id": "Tw5hci-VtCOf"
      },
      "source": [
        "## Support Vector Machine"
      ]
    },
    {
      "cell_type": "code",
      "metadata": {
        "colab": {
          "base_uri": "https://localhost:8080/",
          "height": 417
        },
        "id": "-SoY0B_JtF4o",
        "outputId": "6adb3f7e-aa3e-4064-bf81-1580ef299a1f"
      },
      "source": [
        "svm = SVC(probability=True)\n",
        "\n",
        "#Aplicamos grid search para los parametros\n",
        "parametros={'C': [1e3, 1e4, 1e5],'gamma': [0.0001, 0.001, 0.01]}\n",
        "svm_cv=GridSearchCV(svm,parametros,cv=10)\n",
        "svm_cv.fit(X_train_scaled, y_train_scaled)\n",
        "\n",
        "#para ver los parametros del mejor modelo\n",
        "print('Best params for SVM:')\n",
        "print(svm_cv.best_params_)\n",
        "\n",
        "#Guardamos el mejor modelo para luego obtener sus reusltados de validacion\n",
        "svm = svm_cv.best_estimator_\n",
        "\n",
        "#transformamos los reusltados de la grilla en un dataframe\n",
        "grid_results = pd.DataFrame(svm_cv.cv_results_)\n",
        "\n",
        "#graficamos los puntaje obtenidos segun cada parametro analizado\n",
        "sn.catplot(x=\"param_gamma\", y=\"mean_test_score\", hue=\"param_C\", kind=\"point\",data=grid_results);\n"
      ],
      "execution_count": null,
      "outputs": [
        {
          "output_type": "stream",
          "text": [
            "Best params for SVM:\n",
            "{'C': 100000.0, 'gamma': 0.01}\n"
          ],
          "name": "stdout"
        },
        {
          "output_type": "display_data",
          "data": {
            "image/png": "[encoded data removed]",
            "text/plain": [
              "<Figure size 443.125x360 with 1 Axes>"
            ]
          },
          "metadata": {
            "tags": [],
            "needs_background": "light"
          }
        }
      ]
    },
    {
      "cell_type": "markdown",
      "metadata": {
        "id": "yecfqJy-bc0_"
      },
      "source": [
        "# Evaluación de los Modelos"
      ]
    },
    {
      "cell_type": "markdown",
      "metadata": {
        "id": "kDBj4uVPpw1V"
      },
      "source": [
        "## Utilizar los Datos Desbalanceados para Evaluar el Modelo."
      ]
    },
    {
      "cell_type": "code",
      "metadata": {
        "colab": {
          "base_uri": "https://localhost:8080/",
          "height": 224
        },
        "id": "VL5fa1UUkLfP",
        "outputId": "5cd7cf2a-ccf5-44f8-aaa6-9901abada726"
      },
      "source": [
        "ruta_data_set = '/content/gdrive/MyDrive/Colab Notebooks/BankloanFULL2021_preprocess.xlsx'\n",
        "data_set1 = pd.read_excel(ruta_data_set, sheet_name='Sheet1', index_col=0)\n",
        "data_set1.tail()"
      ],
      "execution_count": null,
      "outputs": [
        {
          "output_type": "execute_result",
          "data": {
            "text/html": [
              "<div>\n",
              "<style scoped>\n",
              "    .dataframe tbody tr th:only-of-type {\n",
              "        vertical-align: middle;\n",
              "    }\n",
              "\n",
              "    .dataframe tbody tr th {\n",
              "        vertical-align: top;\n",
              "    }\n",
              "\n",
              "    .dataframe thead th {\n",
              "        text-align: right;\n",
              "    }\n",
              "</style>\n",
              "<table border=\"1\" class=\"dataframe\">\n",
              "  <thead>\n",
              "    <tr style=\"text-align: right;\">\n",
              "      <th></th>\n",
              "      <th>Edad</th>\n",
              "      <th>Prom_NumTarjCred</th>\n",
              "      <th>Prom_NumTransWeb</th>\n",
              "      <th>LN_Ingreso</th>\n",
              "      <th>LN_Prom_CreditMes</th>\n",
              "      <th>LN_Prom_MargenComp</th>\n",
              "      <th>Genero_M</th>\n",
              "      <th>FUGA_NF</th>\n",
              "      <th>EstCivil_Casado_si</th>\n",
              "      <th>NivelEduc_Univ_si</th>\n",
              "    </tr>\n",
              "  </thead>\n",
              "  <tbody>\n",
              "    <tr>\n",
              "      <th>5600</th>\n",
              "      <td>0.169231</td>\n",
              "      <td>0.000000</td>\n",
              "      <td>0.00000</td>\n",
              "      <td>0.224292</td>\n",
              "      <td>0.060761</td>\n",
              "      <td>0.594586</td>\n",
              "      <td>0</td>\n",
              "      <td>0</td>\n",
              "      <td>0</td>\n",
              "      <td>1</td>\n",
              "    </tr>\n",
              "    <tr>\n",
              "      <th>5601</th>\n",
              "      <td>0.276923</td>\n",
              "      <td>0.111111</td>\n",
              "      <td>0.03912</td>\n",
              "      <td>0.231164</td>\n",
              "      <td>0.061200</td>\n",
              "      <td>0.571985</td>\n",
              "      <td>1</td>\n",
              "      <td>0</td>\n",
              "      <td>0</td>\n",
              "      <td>1</td>\n",
              "    </tr>\n",
              "    <tr>\n",
              "      <th>5602</th>\n",
              "      <td>0.230769</td>\n",
              "      <td>0.000000</td>\n",
              "      <td>0.00978</td>\n",
              "      <td>0.179464</td>\n",
              "      <td>0.061090</td>\n",
              "      <td>0.595136</td>\n",
              "      <td>1</td>\n",
              "      <td>0</td>\n",
              "      <td>1</td>\n",
              "      <td>0</td>\n",
              "    </tr>\n",
              "    <tr>\n",
              "      <th>5603</th>\n",
              "      <td>0.661538</td>\n",
              "      <td>0.000000</td>\n",
              "      <td>0.00000</td>\n",
              "      <td>0.675894</td>\n",
              "      <td>0.061200</td>\n",
              "      <td>0.654833</td>\n",
              "      <td>0</td>\n",
              "      <td>0</td>\n",
              "      <td>0</td>\n",
              "      <td>1</td>\n",
              "    </tr>\n",
              "    <tr>\n",
              "      <th>5604</th>\n",
              "      <td>0.076923</td>\n",
              "      <td>0.074074</td>\n",
              "      <td>0.00000</td>\n",
              "      <td>0.185450</td>\n",
              "      <td>0.061310</td>\n",
              "      <td>0.594586</td>\n",
              "      <td>1</td>\n",
              "      <td>0</td>\n",
              "      <td>0</td>\n",
              "      <td>1</td>\n",
              "    </tr>\n",
              "  </tbody>\n",
              "</table>\n",
              "</div>"
            ],
            "text/plain": [
              "          Edad  Prom_NumTarjCred  ...  EstCivil_Casado_si  NivelEduc_Univ_si\n",
              "5600  0.169231          0.000000  ...                   0                  1\n",
              "5601  0.276923          0.111111  ...                   0                  1\n",
              "5602  0.230769          0.000000  ...                   1                  0\n",
              "5603  0.661538          0.000000  ...                   0                  1\n",
              "5604  0.076923          0.074074  ...                   0                  1\n",
              "\n",
              "[5 rows x 10 columns]"
            ]
          },
          "metadata": {
            "tags": []
          },
          "execution_count": 75
        }
      ]
    },
    {
      "cell_type": "code",
      "metadata": {
        "id": "iUdyGVkDkNN1"
      },
      "source": [
        "# Datos Desbalanceados\n",
        "\n",
        "y = data_set1['FUGA_NF']\n",
        "data_set1.drop('FUGA_NF', axis=1, inplace=True)\n",
        "X = data_set1"
      ],
      "execution_count": null,
      "outputs": []
    },
    {
      "cell_type": "code",
      "metadata": {
        "id": "DJKfBWutu441"
      },
      "source": [
        "# Datos Desbalanceados\n",
        "\n",
        "X_train, X_test, y_train, y_test = train_test_split(X, y, test_size=0.3, random_state=0)"
      ],
      "execution_count": null,
      "outputs": []
    },
    {
      "cell_type": "code",
      "metadata": {
        "id": "StoRMmzKcc12"
      },
      "source": [
        "result_table = pd.DataFrame(columns=['classifiers', 'fpr','tpr','auc'])"
      ],
      "execution_count": null,
      "outputs": []
    },
    {
      "cell_type": "markdown",
      "metadata": {
        "id": "yrz7-Nv6bg9i"
      },
      "source": [
        "## Regresión Logística"
      ]
    },
    {
      "cell_type": "code",
      "metadata": {
        "colab": {
          "base_uri": "https://localhost:8080/"
        },
        "id": "5Rx1DhwhWU05",
        "outputId": "e6b3b826-ca90-4966-c5b0-dc0c30be4fb1"
      },
      "source": [
        "X_test_reg03 = X_test[columns_remaining_list(X_test)]\n",
        "Ac_reg = regresion.score(X_test_reg03, y_test)\n",
        "print('Accuracy of Decision trees: {:.2f}'.format(Ac_reg))"
      ],
      "execution_count": null,
      "outputs": [
        {
          "output_type": "stream",
          "text": [
            "Accuracy of Decision trees: 0.79\n"
          ],
          "name": "stdout"
        }
      ]
    },
    {
      "cell_type": "code",
      "metadata": {
        "colab": {
          "base_uri": "https://localhost:8080/",
          "height": 279
        },
        "id": "my-_zJeAsV3N",
        "outputId": "2539e4f1-af40-4bad-e726-311ca1de56b9"
      },
      "source": [
        "Y_pred_regresion = regresion.predict(X_test_reg03) # Eliminando las Columnas Elimminadas el Logit Reg\n",
        "metrics.plot_confusion_matrix(regresion, X_test_reg03, y_test, values_format='.6g', cmap='Blues') \n",
        "plt.show()"
      ],
      "execution_count": null,
      "outputs": [
        {
          "output_type": "display_data",
          "data": {
            "image/png": "[encoded data removed]",
            "text/plain": [
              "<Figure size 432x288 with 2 Axes>"
            ]
          },
          "metadata": {
            "tags": [],
            "needs_background": "light"
          }
        }
      ]
    },
    {
      "cell_type": "code",
      "metadata": {
        "colab": {
          "base_uri": "https://localhost:8080/"
        },
        "id": "Gk8sod7BsvZw",
        "outputId": "7756c866-fc1a-48e6-cf55-04daf68b7e96"
      },
      "source": [
        "Reporte = classification_report(y_test, Y_pred_regresion)\n",
        "print('Reporte de clasificacion: ')\n",
        "print(Reporte)"
      ],
      "execution_count": null,
      "outputs": [
        {
          "output_type": "stream",
          "text": [
            "Reporte de clasificacion: \n",
            "              precision    recall  f1-score   support\n",
            "\n",
            "           0       0.35      0.80      0.48       210\n",
            "           1       0.96      0.79      0.87      1472\n",
            "\n",
            "    accuracy                           0.79      1682\n",
            "   macro avg       0.66      0.79      0.68      1682\n",
            "weighted avg       0.89      0.79      0.82      1682\n",
            "\n"
          ],
          "name": "stdout"
        }
      ]
    },
    {
      "cell_type": "code",
      "metadata": {
        "colab": {
          "base_uri": "https://localhost:8080/"
        },
        "id": "ACwh05MVs260",
        "outputId": "7cf212a2-4263-4011-db25-c80772ad76fc"
      },
      "source": [
        "fpr, tpr, thresholds = roc_curve(y_test, regresion.predict_proba(X_test_reg03)[:,1])\n",
        "auc = roc_auc_score(y_test, Y_pred_regresion)\n",
        "print('AUC: %.3f' % auc)"
      ],
      "execution_count": null,
      "outputs": [
        {
          "output_type": "stream",
          "text": [
            "AUC: 0.791\n"
          ],
          "name": "stdout"
        }
      ]
    },
    {
      "cell_type": "code",
      "metadata": {
        "id": "ubRhx2bMtDJH"
      },
      "source": [
        "result_table = result_table.append({'classifiers': 'Regresion logistica','fpr':fpr,'tpr':tpr, 'auc':auc}, ignore_index=True)"
      ],
      "execution_count": null,
      "outputs": []
    },
    {
      "cell_type": "markdown",
      "metadata": {
        "id": "45WEIQqXbmuL"
      },
      "source": [
        "## Árboles de Decisión"
      ]
    },
    {
      "cell_type": "code",
      "metadata": {
        "colab": {
          "base_uri": "https://localhost:8080/"
        },
        "id": "wyxKVyluuxUr",
        "outputId": "4e32c707-2c76-4c5a-9797-25d3632efcb4"
      },
      "source": [
        "arbol"
      ],
      "execution_count": null,
      "outputs": [
        {
          "output_type": "execute_result",
          "data": {
            "text/plain": [
              "DecisionTreeClassifier(ccp_alpha=0.0, class_weight=None, criterion='entropy',\n",
              "                       max_depth=2, max_features=None, max_leaf_nodes=5,\n",
              "                       min_impurity_decrease=0.0, min_impurity_split=None,\n",
              "                       min_samples_leaf=1, min_samples_split=2,\n",
              "                       min_weight_fraction_leaf=0.0, presort='deprecated',\n",
              "                       random_state=None, splitter='best')"
            ]
          },
          "metadata": {
            "tags": []
          },
          "execution_count": 86
        }
      ]
    },
    {
      "cell_type": "code",
      "metadata": {
        "colab": {
          "base_uri": "https://localhost:8080/",
          "height": 483
        },
        "id": "D_Jq1obwbr2a",
        "outputId": "60103bfe-dfb8-4842-e9ed-ed1b2f12692e"
      },
      "source": [
        "# Accuracy\n",
        "Ac_tree = arbol.score(X_test, y_test) #con el modelo entrenado en entrenamiento (arbol)\n",
        "print('Accuracy of Decision trees: {:.2f}'.format(Ac_tree))\n",
        "\n",
        "#obtenemos el valor de la variable objetivo a partir de los datos de la variable independiente de prueba\n",
        "Y_pred_tree = arbol.predict(X_test)\n",
        "\n",
        "#matriz de confusion\n",
        "metrics.plot_confusion_matrix(arbol, X_test, y_test, values_format='.6g', cmap='Blues') \n",
        "plt.show()  \n",
        "\n",
        "#Reporte de clasificacion\n",
        "Reporte = classification_report(y_test, Y_pred_tree)\n",
        "print('Reporte de clasificacion: ')\n",
        "print(Reporte)\n",
        "\n",
        "# Calculo de AUC\n",
        "fpr, tpr, thresholds = roc_curve(y_test, arbol.predict_proba(X_test)[:,1])\n",
        "auc = roc_auc_score(y_test, Y_pred_tree)\n",
        "print('AUC: %.3f' % auc)\n",
        "\n",
        "#Para agregar a la tabla de reusltados\n",
        "result_table = result_table.append({'classifiers': 'Arbol de decisión','fpr':fpr,'tpr':tpr, 'auc':auc}, ignore_index=True)\n"
      ],
      "execution_count": null,
      "outputs": [
        {
          "output_type": "stream",
          "text": [
            "Accuracy of Decision trees: 0.80\n"
          ],
          "name": "stdout"
        },
        {
          "output_type": "display_data",
          "data": {
            "image/png": "[encoded data removed]",
            "text/plain": [
              "<Figure size 432x288 with 2 Axes>"
            ]
          },
          "metadata": {
            "tags": [],
            "needs_background": "light"
          }
        },
        {
          "output_type": "stream",
          "text": [
            "Reporte de clasificacion: \n",
            "              precision    recall  f1-score   support\n",
            "\n",
            "           0       0.37      0.83      0.51       210\n",
            "           1       0.97      0.79      0.87      1472\n",
            "\n",
            "    accuracy                           0.80      1682\n",
            "   macro avg       0.67      0.81      0.69      1682\n",
            "weighted avg       0.90      0.80      0.83      1682\n",
            "\n",
            "AUC: 0.813\n"
          ],
          "name": "stdout"
        }
      ]
    },
    {
      "cell_type": "markdown",
      "metadata": {
        "id": "COVqnLAKbv5U"
      },
      "source": [
        "## K-Vecinos mas cercanos\n",
        "\n"
      ]
    },
    {
      "cell_type": "code",
      "metadata": {
        "colab": {
          "base_uri": "https://localhost:8080/",
          "height": 483
        },
        "id": "Ogz-R_MZb0fC",
        "outputId": "9406ca8d-cecd-48f2-f82d-8d8dc6fee5f4"
      },
      "source": [
        "# Accuracy\n",
        "Ac_knn = Knn.score(X_test_scaled, y_test_scaled) #con el modelo entrenado en entrenamiento\n",
        "print('Accuracy of k-vecinos mas cercanos: {:.2f}'.format(Ac_knn))\n",
        "\n",
        "#obtenemos el valor de la variable objetivo a partir de los datos de la variable independiente de prueba\n",
        "Y_pred_knn = Knn.predict(X_test_scaled)\n",
        "\n",
        "#matriz de confusion\n",
        "metrics.plot_confusion_matrix(Knn, X_test_scaled, y_test_scaled, values_format='.6g', cmap='Blues') \n",
        "plt.show()  \n",
        "\n",
        "#Reporte de clasificacion\n",
        "Reporte = classification_report(y_test_scaled, Y_pred_knn)\n",
        "print('Reporte de clasificacion: ')\n",
        "print(Reporte)\n",
        "\n",
        "# Calculo de AUC\n",
        "fpr, tpr, thresholds = roc_curve(y_test_scaled, Knn.predict_proba(X_test_scaled)[:,1])\n",
        "auc = roc_auc_score(y_test_scaled, Y_pred_knn)\n",
        "print('AUC: %.3f' % auc)\n",
        "\n",
        "#Para agregar a la tabla de reusltados\n",
        "result_table = result_table.append({'classifiers': 'K-vecinos mas cercanos','fpr':fpr,'tpr':tpr, 'auc':auc}, ignore_index=True)\n"
      ],
      "execution_count": null,
      "outputs": [
        {
          "output_type": "stream",
          "text": [
            "Accuracy of k-vecinos mas cercanos: 0.89\n"
          ],
          "name": "stdout"
        },
        {
          "output_type": "display_data",
          "data": {
            "image/png": "[encoded data removed]",
            "text/plain": [
              "<Figure size 432x288 with 2 Axes>"
            ]
          },
          "metadata": {
            "tags": [],
            "needs_background": "light"
          }
        },
        {
          "output_type": "stream",
          "text": [
            "Reporte de clasificacion: \n",
            "              precision    recall  f1-score   support\n",
            "\n",
            "         0.0       0.82      1.00      0.90      1469\n",
            "         1.0       1.00      0.79      0.88      1465\n",
            "\n",
            "    accuracy                           0.89      2934\n",
            "   macro avg       0.91      0.89      0.89      2934\n",
            "weighted avg       0.91      0.89      0.89      2934\n",
            "\n",
            "AUC: 0.893\n"
          ],
          "name": "stdout"
        }
      ]
    },
    {
      "cell_type": "markdown",
      "metadata": {
        "id": "sSTPr3uqb1FF"
      },
      "source": [
        "## Random forest"
      ]
    },
    {
      "cell_type": "code",
      "metadata": {
        "colab": {
          "base_uri": "https://localhost:8080/",
          "height": 483
        },
        "id": "Qg1d4tUtb3f8",
        "outputId": "18e0fbe2-f15a-41b8-e02b-0b571b10afe1"
      },
      "source": [
        "# Accuracy\n",
        "Ac_rf = rf.score(X_test_scaled, y_test_scaled) #con el modelo entrenado en entrenamiento\n",
        "print('Accuracy of random forest: {:.2f}'.format(Ac_rf))\n",
        "\n",
        "#obtenemos el valor de la variable objetivo a partir de los datos de la variable independiente de prueba\n",
        "Y_pred_rf = rf.predict(X_test_scaled)\n",
        "\n",
        "#matriz de confusion\n",
        "metrics.plot_confusion_matrix(rf, X_test_scaled, y_test_scaled, values_format='.6g', cmap='Blues') \n",
        "plt.show()  \n",
        "\n",
        "#Reporte de clasificacion\n",
        "Reporte = classification_report(y_test_scaled, Y_pred_rf)\n",
        "print('Reporte de clasificacion: ')\n",
        "print(Reporte)\n",
        "\n",
        "# Calculo de AUC\n",
        "fpr, tpr, thresholds = roc_curve(y_test_scaled, rf.predict_proba(X_test_scaled)[:,1])\n",
        "auc = roc_auc_score(y_test_scaled, Y_pred_rf)\n",
        "print('AUC: %.3f' % auc)\n",
        "\n",
        "#Para agregar a la tabla de reusltados\n",
        "result_table = result_table.append({'classifiers': 'Random forest','fpr':fpr,'tpr':tpr, 'auc':auc}, ignore_index=True)\n"
      ],
      "execution_count": null,
      "outputs": [
        {
          "output_type": "stream",
          "text": [
            "Accuracy of random forest: 0.89\n"
          ],
          "name": "stdout"
        },
        {
          "output_type": "display_data",
          "data": {
            "image/png": "[encoded data removed]",
            "text/plain": [
              "<Figure size 432x288 with 2 Axes>"
            ]
          },
          "metadata": {
            "tags": [],
            "needs_background": "light"
          }
        },
        {
          "output_type": "stream",
          "text": [
            "Reporte de clasificacion: \n",
            "              precision    recall  f1-score   support\n",
            "\n",
            "         0.0       0.90      0.88      0.89      1469\n",
            "         1.0       0.88      0.91      0.89      1465\n",
            "\n",
            "    accuracy                           0.89      2934\n",
            "   macro avg       0.89      0.89      0.89      2934\n",
            "weighted avg       0.89      0.89      0.89      2934\n",
            "\n",
            "AUC: 0.890\n"
          ],
          "name": "stdout"
        }
      ]
    },
    {
      "cell_type": "markdown",
      "metadata": {
        "id": "CmX1eIlob4Bz"
      },
      "source": [
        "## Red Neuronal"
      ]
    },
    {
      "cell_type": "code",
      "metadata": {
        "colab": {
          "base_uri": "https://localhost:8080/",
          "height": 483
        },
        "id": "YnuMVZWyb6qi",
        "outputId": "1c935cb2-66ef-45c8-9392-44e38c26112f"
      },
      "source": [
        "# Accuracy\n",
        "Ac_red = red.score(X_test_scaled, y_test_scaled) #con el modelo entrenado en entrenamiento\n",
        "print('Accuracy of red neuronal: {:.2f}'.format(Ac_red))\n",
        "\n",
        "#obtenemos el valor de la variable objetivo a partir de los datos de la variable independiente de prueba\n",
        "Y_pred_red = red.predict(X_test_scaled)\n",
        "\n",
        "#matriz de confusion\n",
        "metrics.plot_confusion_matrix(red, X_test_scaled, y_test_scaled, values_format='.6g', cmap='Blues') \n",
        "plt.show()  \n",
        "\n",
        "#Reporte de clasificacion\n",
        "Reporte = classification_report(y_test_scaled, Y_pred_red)\n",
        "print('Reporte de clasificacion: ')\n",
        "print(Reporte)\n",
        "\n",
        "# Calculo de AUC\n",
        "fpr, tpr, thresholds = roc_curve(y_test_scaled, red.predict_proba(X_test_scaled)[:,1])\n",
        "auc = roc_auc_score(y_test_scaled, Y_pred_red)\n",
        "print('AUC: %.3f' % auc)\n",
        "\n",
        "#Para agregar a la tabla de reusltados\n",
        "result_table = result_table.append({'classifiers': 'Red neuronal','fpr':fpr,'tpr':tpr, 'auc':auc}, ignore_index=True)"
      ],
      "execution_count": null,
      "outputs": [
        {
          "output_type": "stream",
          "text": [
            "Accuracy of red neuronal: 0.81\n"
          ],
          "name": "stdout"
        },
        {
          "output_type": "display_data",
          "data": {
            "image/png": "[encoded data removed]",
            "text/plain": [
              "<Figure size 432x288 with 2 Axes>"
            ]
          },
          "metadata": {
            "tags": [],
            "needs_background": "light"
          }
        },
        {
          "output_type": "stream",
          "text": [
            "Reporte de clasificacion: \n",
            "              precision    recall  f1-score   support\n",
            "\n",
            "         0.0       0.86      0.75      0.80      1469\n",
            "         1.0       0.78      0.88      0.83      1465\n",
            "\n",
            "    accuracy                           0.81      2934\n",
            "   macro avg       0.82      0.81      0.81      2934\n",
            "weighted avg       0.82      0.81      0.81      2934\n",
            "\n",
            "AUC: 0.814\n"
          ],
          "name": "stdout"
        }
      ]
    },
    {
      "cell_type": "markdown",
      "metadata": {
        "id": "KCnMINgRb77C"
      },
      "source": [
        "## Support Vector Machine"
      ]
    },
    {
      "cell_type": "code",
      "metadata": {
        "colab": {
          "base_uri": "https://localhost:8080/",
          "height": 483
        },
        "id": "EthkeSDXb-1C",
        "outputId": "8ee9a525-bdf9-4bc2-8542-3b5209cdf0df"
      },
      "source": [
        "# Accuracy\n",
        "Ac_svm = svm.score(X_test_scaled, y_test_scaled) #con el modelo entrenado en entrenamiento\n",
        "print('Accuracy of support vector machine: {:.2f}'.format(Ac_svm))\n",
        "\n",
        "#obtenemos el valor de la variable objetivo a partir de los datos de la variable independiente de prueba\n",
        "Y_pred_svm = svm.predict(X_test_scaled)\n",
        "\n",
        "#matriz de confusion\n",
        "metrics.plot_confusion_matrix(svm, X_test_scaled, y_test_scaled, values_format='.6g', cmap='Blues') \n",
        "plt.show()  \n",
        "\n",
        "#Reporte de clasificacion\n",
        "Reporte = classification_report(y_test_scaled, Y_pred_svm)\n",
        "print('Reporte de clasificacion: ')\n",
        "print(Reporte)\n",
        "\n",
        "# Calculo de AUC\n",
        "fpr, tpr, thresholds = roc_curve(y_test_scaled, svm.predict_proba(X_test_scaled)[:,1])\n",
        "auc = roc_auc_score(y_test_scaled, Y_pred_svm)\n",
        "print('AUC: %.3f' % auc)\n",
        "\n",
        "#Para agregar a la tabla de reusltados\n",
        "result_table = result_table.append({'classifiers': 'Suport vector machine','fpr':fpr,'tpr':tpr, 'auc':auc}, ignore_index=True)"
      ],
      "execution_count": null,
      "outputs": [
        {
          "output_type": "stream",
          "text": [
            "Accuracy of support vector machine: 0.79\n"
          ],
          "name": "stdout"
        },
        {
          "output_type": "display_data",
          "data": {
            "image/png": "[encoded data removed]",
            "text/plain": [
              "<Figure size 432x288 with 2 Axes>"
            ]
          },
          "metadata": {
            "tags": [],
            "needs_background": "light"
          }
        },
        {
          "output_type": "stream",
          "text": [
            "Reporte de clasificacion: \n",
            "              precision    recall  f1-score   support\n",
            "\n",
            "         0.0       0.82      0.75      0.78      1469\n",
            "         1.0       0.77      0.83      0.80      1465\n",
            "\n",
            "    accuracy                           0.79      2934\n",
            "   macro avg       0.79      0.79      0.79      2934\n",
            "weighted avg       0.79      0.79      0.79      2934\n",
            "\n",
            "AUC: 0.792\n"
          ],
          "name": "stdout"
        }
      ]
    },
    {
      "cell_type": "markdown",
      "metadata": {
        "id": "9Bf_H9k0yTfp"
      },
      "source": [
        "## Curvas ROC"
      ]
    },
    {
      "cell_type": "code",
      "metadata": {
        "colab": {
          "base_uri": "https://localhost:8080/",
          "height": 337
        },
        "id": "kSL3dgtgy6PX",
        "outputId": "14788eaf-e715-479e-be0d-d1f15443a787"
      },
      "source": [
        "result_table"
      ],
      "execution_count": null,
      "outputs": [
        {
          "output_type": "execute_result",
          "data": {
            "text/html": [
              "<div>\n",
              "<style scoped>\n",
              "    .dataframe tbody tr th:only-of-type {\n",
              "        vertical-align: middle;\n",
              "    }\n",
              "\n",
              "    .dataframe tbody tr th {\n",
              "        vertical-align: top;\n",
              "    }\n",
              "\n",
              "    .dataframe thead th {\n",
              "        text-align: right;\n",
              "    }\n",
              "</style>\n",
              "<table border=\"1\" class=\"dataframe\">\n",
              "  <thead>\n",
              "    <tr style=\"text-align: right;\">\n",
              "      <th></th>\n",
              "      <th>classifiers</th>\n",
              "      <th>fpr</th>\n",
              "      <th>tpr</th>\n",
              "      <th>auc</th>\n",
              "    </tr>\n",
              "  </thead>\n",
              "  <tbody>\n",
              "    <tr>\n",
              "      <th>0</th>\n",
              "      <td>Regresion logistica</td>\n",
              "      <td>[0.0, 0.0, 0.0, 0.004761904761904762, 0.004761...</td>\n",
              "      <td>[0.0, 0.0006793478260869565, 0.010869565217391...</td>\n",
              "      <td>0.791301</td>\n",
              "    </tr>\n",
              "    <tr>\n",
              "      <th>1</th>\n",
              "      <td>Arbol de decisión</td>\n",
              "      <td>[0.0, 0.09047619047619047, 0.16666666666666666...</td>\n",
              "      <td>[0.0, 0.6304347826086957, 0.7934782608695652, ...</td>\n",
              "      <td>0.813406</td>\n",
              "    </tr>\n",
              "    <tr>\n",
              "      <th>2</th>\n",
              "      <td>K-vecinos mas cercanos</td>\n",
              "      <td>[0.0, 0.0020422055820285907, 0.002042205582028...</td>\n",
              "      <td>[0.0, 0.7174061433447099, 0.8730375426621161, ...</td>\n",
              "      <td>0.892836</td>\n",
              "    </tr>\n",
              "    <tr>\n",
              "      <th>3</th>\n",
              "      <td>Random forest</td>\n",
              "      <td>[0.0, 0.0, 0.0, 0.0020422055820285907, 0.00204...</td>\n",
              "      <td>[0.0, 0.0006825938566552901, 0.402047781569965...</td>\n",
              "      <td>0.890272</td>\n",
              "    </tr>\n",
              "    <tr>\n",
              "      <th>4</th>\n",
              "      <td>Red neuronal</td>\n",
              "      <td>[0.0, 0.0, 0.0, 0.0013614703880190605, 0.00136...</td>\n",
              "      <td>[0.0, 0.0006825938566552901, 0.003412969283276...</td>\n",
              "      <td>0.813995</td>\n",
              "    </tr>\n",
              "    <tr>\n",
              "      <th>5</th>\n",
              "      <td>Suport vector machine</td>\n",
              "      <td>[0.0, 0.0, 0.0, 0.0006807351940095302, 0.00068...</td>\n",
              "      <td>[0.0, 0.004095563139931741, 0.0457337883959044...</td>\n",
              "      <td>0.792488</td>\n",
              "    </tr>\n",
              "  </tbody>\n",
              "</table>\n",
              "</div>"
            ],
            "text/plain": [
              "              classifiers  ...       auc\n",
              "0     Regresion logistica  ...  0.791301\n",
              "1       Arbol de decisión  ...  0.813406\n",
              "2  K-vecinos mas cercanos  ...  0.892836\n",
              "3           Random forest  ...  0.890272\n",
              "4            Red neuronal  ...  0.813995\n",
              "5   Suport vector machine  ...  0.792488\n",
              "\n",
              "[6 rows x 4 columns]"
            ]
          },
          "metadata": {
            "tags": []
          },
          "execution_count": 92
        }
      ]
    },
    {
      "cell_type": "code",
      "metadata": {
        "colab": {
          "base_uri": "https://localhost:8080/",
          "height": 411
        },
        "id": "a-JljD-Oy8p8",
        "outputId": "50971e44-5386-402e-cf52-d6cb7c774464"
      },
      "source": [
        "result_table.set_index('classifiers', inplace=True)\n",
        "\n",
        "#plot\n",
        "fig = plt.figure(figsize=(8,6))\n",
        "\n",
        "for i in result_table.index:\n",
        "    plt.plot(result_table.loc[i]['fpr'], \n",
        "             result_table.loc[i]['tpr'], \n",
        "             label=\"{}, AUC={:.3f}\".format(i, result_table.loc[i]['auc']))\n",
        "    \n",
        "plt.plot([0,1], [0,1], color='orange', linestyle='--')\n",
        "\n",
        "plt.xticks(np.arange(0.0, 1.1, step=0.1))\n",
        "plt.xlabel(\"Flase Positive Rate\", fontsize=15)\n",
        "\n",
        "plt.yticks(np.arange(0.0, 1.1, step=0.1))\n",
        "plt.ylabel(\"True Positive Rate\", fontsize=15)\n",
        "\n",
        "plt.title('ROC Curve Analysis', fontweight='bold', fontsize=15)\n",
        "plt.legend(prop={'size':13}, loc='lower right')\n",
        "\n",
        "plt.show()"
      ],
      "execution_count": null,
      "outputs": [
        {
          "output_type": "display_data",
          "data": {
            "image/png": "[encoded data removed]",
            "text/plain": [
              "<Figure size 576x432 with 1 Axes>"
            ]
          },
          "metadata": {
            "tags": [],
            "needs_background": "light"
          }
        }
      ]
    },
    {
      "cell_type": "code",
      "metadata": {
        "colab": {
          "base_uri": "https://localhost:8080/"
        },
        "id": "gW9Dy4jNzNF3",
        "outputId": "255be68c-ac8b-4746-ea2c-2be383f60e0c"
      },
      "source": [
        "%cd /content\n",
        "drive.mount('/content/gdrive')\n",
        "dump(rf, 'gdrive/My Drive/modelo_entrenado.joblib')"
      ],
      "execution_count": null,
      "outputs": [
        {
          "output_type": "stream",
          "text": [
            "/content\n",
            "Drive already mounted at /content/gdrive; to attempt to forcibly remount, call drive.mount(\"/content/gdrive\", force_remount=True).\n"
          ],
          "name": "stdout"
        },
        {
          "output_type": "execute_result",
          "data": {
            "text/plain": [
              "['gdrive/My Drive/modelo_entrenado.joblib']"
            ]
          },
          "metadata": {
            "tags": []
          },
          "execution_count": 65
        }
      ]
    }
  ]
}