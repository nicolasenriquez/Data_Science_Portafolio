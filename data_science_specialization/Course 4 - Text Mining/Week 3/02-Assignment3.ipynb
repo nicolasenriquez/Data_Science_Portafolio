{
 "cells": [
  {
   "cell_type": "markdown",
   "metadata": {},
   "source": [
    "---\n",
    "\n",
    "_You are currently looking at **version 1.1** of this notebook. To download notebooks and datafiles, as well as get help on Jupyter notebooks in the Coursera platform, visit the [Jupyter Notebook FAQ](https://www.coursera.org/learn/python-text-mining/resources/d9pwm) course resource._\n",
    "\n",
    "---"
   ]
  },
  {
   "cell_type": "markdown",
   "metadata": {},
   "source": [
    "# Assignment 3\n",
    "\n",
    "In this assignment you will explore text message data and create models to predict if a message is spam or not. "
   ]
  },
  {
   "cell_type": "code",
   "execution_count": 1,
   "metadata": {},
   "outputs": [],
   "source": [
    "import pandas as pd\n",
    "import numpy as np\n",
    "\n",
    "spam_data = pd.read_csv('spam.csv')\n",
    "\n",
    "spam_data['target'] = np.where(spam_data['target']=='spam',1,0)\n",
    "#spam_data.head(10)"
   ]
  },
  {
   "cell_type": "code",
   "execution_count": 2,
   "metadata": {
    "collapsed": true
   },
   "outputs": [],
   "source": [
    "from sklearn.model_selection import train_test_split\n",
    "\n",
    "\n",
    "X_train, X_test, y_train, y_test = train_test_split(spam_data['text'], \n",
    "                                                    spam_data['target'], \n",
    "                                                    random_state=0)"
   ]
  },
  {
   "cell_type": "markdown",
   "metadata": {},
   "source": [
    "### Question 1\n",
    "What percentage of the documents in `spam_data` are spam?\n",
    "\n",
    "*This function should return a float, the percent value (i.e. $ratio * 100$).*"
   ]
  },
  {
   "cell_type": "code",
   "execution_count": 3,
   "metadata": {},
   "outputs": [],
   "source": [
    "q1_ratio = (spam_data['target'].sum() / len(spam_data['target'])) * 100"
   ]
  },
  {
   "cell_type": "code",
   "execution_count": 4,
   "metadata": {
    "collapsed": true
   },
   "outputs": [],
   "source": [
    "def answer_one():\n",
    "    \n",
    "    \n",
    "    return (spam_data['target'].sum() / len(spam_data['target'])) * 100"
   ]
  },
  {
   "cell_type": "markdown",
   "metadata": {},
   "source": [
    "### Question 2\n",
    "\n",
    "Fit the training data `X_train` using a Count Vectorizer with default parameters.\n",
    "\n",
    "What is the longest token in the vocabulary?\n",
    "\n",
    "*This function should return a string.*"
   ]
  },
  {
   "cell_type": "code",
   "execution_count": 5,
   "metadata": {},
   "outputs": [],
   "source": [
    "from sklearn.feature_extraction.text import CountVectorizer\n",
    "import operator\n",
    "\n",
    "\n",
    "count_vect = CountVectorizer().fit(X_train)\n",
    "\n",
    "long_word = sorted([(word, len(word)) for word in count_vect.get_feature_names()], \\\n",
    "                   key=operator.itemgetter(1), reverse=True)[0][0]"
   ]
  },
  {
   "cell_type": "code",
   "execution_count": 6,
   "metadata": {
    "collapsed": true
   },
   "outputs": [],
   "source": [
    "from sklearn.feature_extraction.text import CountVectorizer\n",
    "import operator\n",
    "\n",
    "\n",
    "def answer_two():\n",
    "    \n",
    "    count_vect = CountVectorizer().fit(X_train)\n",
    "    longest_word = sorted([(word, len(word)) for word in count_vect.get_feature_names()], \\\n",
    "                          key=operator.itemgetter(1), reverse=True)[0][0]\n",
    "    \n",
    "    \n",
    "    return longest_word\n"
   ]
  },
  {
   "cell_type": "markdown",
   "metadata": {},
   "source": [
    "### Question 3\n",
    "\n",
    "Fit and transform the training data `X_train` using a Count Vectorizer with default parameters.\n",
    "\n",
    "Next, fit a fit a multinomial Naive Bayes classifier model with smoothing `alpha=0.1`. Find the area under the curve (AUC) score using the transformed test data.\n",
    "\n",
    "*This function should return the AUC score as a float.*"
   ]
  },
  {
   "cell_type": "code",
   "execution_count": 7,
   "metadata": {},
   "outputs": [],
   "source": [
    "from sklearn.naive_bayes import MultinomialNB\n",
    "from sklearn.feature_extraction.text import CountVectorizer\n",
    "from sklearn.metrics import roc_auc_score\n",
    "\n",
    "\n",
    "# Fit the CountVectorizer with train data and transform in\n",
    "vect_count = CountVectorizer().fit(X_train)\n",
    "X_train_vectorized = vect_count.transform(X_train)\n",
    "X_train_vectorized\n",
    "\n",
    "# Set the Naive Bayes Multinomial\n",
    "multinomial_nb = MultinomialNB(alpha=0.1)\n",
    "multinomial_nb.fit(X_train_vectorized, y_train)\n",
    "\n",
    "# Make prediction and evaluate using ROC-AUC\n",
    "prediction = multinomial_nb.predict(vect_count.transform(X_test))\n",
    "auc_score = roc_auc_score(y_test, prediction)"
   ]
  },
  {
   "cell_type": "code",
   "execution_count": 8,
   "metadata": {
    "collapsed": true
   },
   "outputs": [],
   "source": [
    "from sklearn.naive_bayes import MultinomialNB\n",
    "from sklearn.feature_extraction.text import CountVectorizer\n",
    "from sklearn.metrics import roc_auc_score\n",
    "\n",
    "\n",
    "def answer_three():\n",
    "    \n",
    "    # Fit the CountVectorizer with train data and transform in\n",
    "    vect_count = CountVectorizer().fit(X_train)\n",
    "    X_train_vectorized = vect_count.transform(X_train)\n",
    "\n",
    "    # Set the Naive Bayes Multinomial\n",
    "    multinomial_nb = MultinomialNB(alpha=0.1)\n",
    "    multinomial_nb.fit(X_train_vectorized, y_train)\n",
    "\n",
    "    # Make prediction and evaluate using ROC-AUC\n",
    "    prediction = multinomial_nb.predict(vect_count.transform(X_test))\n",
    "    auc_score = roc_auc_score(y_test, prediction)\n",
    "    \n",
    "    \n",
    "    return auc_score"
   ]
  },
  {
   "cell_type": "markdown",
   "metadata": {},
   "source": [
    "### Question 4\n",
    "\n",
    "Fit and transform the training data `X_train` using a Tfidf Vectorizer with default parameters.\n",
    "\n",
    "What 20 features have the smallest tf-idf and what 20 have the largest tf-idf?\n",
    "\n",
    "Put these features in a two series where each series is sorted by tf-idf value and then alphabetically by feature name. The index of the series should be the feature name, and the data should be the tf-idf.\n",
    "\n",
    "The series of 20 features with smallest tf-idfs should be sorted smallest tfidf first, the list of 20 features with largest tf-idfs should be sorted largest first. \n",
    "\n",
    "*This function should return a tuple of two series\n",
    "`(smallest tf-idfs series, largest tf-idfs series)`.*"
   ]
  },
  {
   "cell_type": "code",
   "execution_count": 9,
   "metadata": {},
   "outputs": [],
   "source": [
    "from sklearn.feature_extraction.text import TfidfVectorizer\n",
    "\n",
    "\n",
    "# Set the TfidfVectorizer() \n",
    "tfidf = TfidfVectorizer()\n",
    "\n",
    "# Fit transform the training data\n",
    "X_train_vectorized = tfidf.fit_transform(X_train)\n",
    "\n",
    "# Extract the names from the features\n",
    "feature_names = tfidf.get_feature_names()\n",
    "\n",
    "# Estimate the idf using the idf_ method\n",
    "idf_est = tfidf.idf_\n",
    "\n",
    "# Save the values in a DataFrame\n",
    "df = pd.DataFrame({'feature_names': feature_names, 'idf': idf_est})\n",
    "\n",
    "# Top 20 smallest values\n",
    "smallest_20_idf = df.sort_values(by='idf', ascending=True, kind='mergesort').head(20).set_index('feature_names')\n",
    "largest_20_idf = df.sort_values(by='idf', ascending=False, kind='mergesort').head(20).set_index('feature_names')\n",
    "\n",
    "# Set the format for the correct answer\n",
    "smallest_20_series = smallest_20_idf['idf']\n",
    "largest_20_series = largest_20_idf['idf']"
   ]
  },
  {
   "cell_type": "code",
   "execution_count": 43,
   "metadata": {
    "collapsed": true
   },
   "outputs": [],
   "source": [
    "def answer_four():\n",
    "\n",
    "   # Set the TfidfVectorizer() \n",
    "    tfidf = TfidfVectorizer()\n",
    "\n",
    "    # Fit transform the training data\n",
    "    X_train_vectorized = tfidf.fit_transform(X_train)\n",
    "\n",
    "    # Extract the names from the features\n",
    "    feature_names = tfidf.get_feature_names()\n",
    "\n",
    "    # Estimate the idf using the idf_ method\n",
    "    idf_est = tfidf.idf_\n",
    "\n",
    "    # Save the values in a DataFrame\n",
    "    df = pd.DataFrame({'feature_names': feature_names, 'idf': idf_est})\n",
    "\n",
    "    # Top 20 smallest values\n",
    "    smallest_20_idf = df.sort_values(by='idf', ascending=True, kind='mergesort').head(20).set_index('feature_names')\n",
    "    largest_20_idf = df.sort_values(by='idf', ascending=False, kind='mergesort').head(20).set_index('feature_names')\n",
    "\n",
    "    # Set the format for the correct answer\n",
    "    smallest_20_series = smallest_20_idf['idf']\n",
    "    largest_20_series = largest_20_idf['idf']\n",
    "    \n",
    "    \n",
    "    return (smallest_20_series, largest_20_series)"
   ]
  },
  {
   "cell_type": "markdown",
   "metadata": {},
   "source": [
    "### Question 5\n",
    "\n",
    "Fit and transform the training data `X_train` using a Tfidf Vectorizer ignoring terms that have a document frequency strictly lower than **3**.\n",
    "\n",
    "Then fit a multinomial Naive Bayes classifier model with smoothing `alpha=0.1` and compute the area under the curve (AUC) score using the transformed test data.\n",
    "\n",
    "*This function should return the AUC score as a float.*"
   ]
  },
  {
   "cell_type": "code",
   "execution_count": 11,
   "metadata": {},
   "outputs": [
    {
     "data": {
      "text/plain": [
       "0.94162436548223349"
      ]
     },
     "execution_count": 11,
     "metadata": {},
     "output_type": "execute_result"
    }
   ],
   "source": [
    "from sklearn.feature_extraction.text import TfidfVectorizer\n",
    "from sklearn.naive_bayes import MultinomialNB\n",
    "from sklearn.metrics import roc_auc_score\n",
    "\n",
    "\n",
    "# Set, fit and transform the tfidf vectorizer with min_df=3\n",
    "tfidf = TfidfVectorizer(min_df=3)\n",
    "X_train_vectorized = tfidf.fit_transform(X_train)\n",
    "\n",
    "# Set the Naive Bayes Multinomial\n",
    "multinomial_nb = MultinomialNB(alpha=0.1)\n",
    "multinomial_nb.fit(X_train_vectorized, y_train)\n",
    "\n",
    "# Make prediction and evaluate using ROC-AUC\n",
    "prediction = multinomial_nb.predict(tfidf.transform(X_test))\n",
    "auc_score = roc_auc_score(y_test, prediction)\n",
    "\n",
    "auc_score"
   ]
  },
  {
   "cell_type": "code",
   "execution_count": 12,
   "metadata": {
    "collapsed": true
   },
   "outputs": [],
   "source": [
    "from sklearn.feature_extraction.text import TfidfVectorizer\n",
    "from sklearn.naive_bayes import MultinomialNB\n",
    "from sklearn.metrics import roc_auc_score\n",
    "\n",
    "\n",
    "def answer_five():\n",
    "        \n",
    "    # Set, fit and transform the tfidf vectorizer with min_df=3\n",
    "    tfidf = TfidfVectorizer(min_df=3)\n",
    "    X_train_vectorized = tfidf.fit_transform(X_train)\n",
    "\n",
    "    # Set the Naive Bayes Multinomial\n",
    "    multinomial_nb = MultinomialNB(alpha=0.1)\n",
    "    multinomial_nb.fit(X_train_vectorized, y_train)\n",
    "\n",
    "    # Make prediction and evaluate using ROC-AUC\n",
    "    prediction = multinomial_nb.predict(tfidf.transform(X_test))\n",
    "    auc_score = roc_auc_score(y_test, prediction)\n",
    "    \n",
    "    \n",
    "    return auc_score"
   ]
  },
  {
   "cell_type": "markdown",
   "metadata": {},
   "source": [
    "### Question 6\n",
    "\n",
    "What is the average length of documents (number of characters) for not spam and spam documents?\n",
    "\n",
    "*This function should return a tuple (average length not spam, average length spam).*"
   ]
  },
  {
   "cell_type": "code",
   "execution_count": 13,
   "metadata": {},
   "outputs": [],
   "source": [
    "# Estimate the amount of characters in the text for every document in the dataframe\n",
    "spam_data['amount_characters'] = spam_data['text'].apply(lambda x: len(x))\n",
    "\n",
    "# Filter the spam_data for target == 0 (No spam)\n",
    "no_spam_mean = np.mean(spam_data[spam_data['target'] == 0]['amount_characters'])\n",
    "\n",
    "# Filter the spam_data for target == 1 (Spam)\n",
    "spam_mean = np.mean(spam_data[spam_data['target'] == 1]['amount_characters'])"
   ]
  },
  {
   "cell_type": "code",
   "execution_count": 14,
   "metadata": {
    "collapsed": true
   },
   "outputs": [],
   "source": [
    "def answer_six():\n",
    "    \n",
    "    \n",
    "    # Estimate the amount of characters in the text for every document in the dataframe\n",
    "    spam_data['amount_characters'] = spam_data['text'].apply(lambda x: len(x))\n",
    "\n",
    "    # Filter the spam_data for target == 0 (No spam)\n",
    "    no_spam_mean = np.mean(spam_data[spam_data['target'] == 0]['amount_characters'])\n",
    "\n",
    "    # Filter the spam_data for target == 1 (Spam)\n",
    "    spam_mean = np.mean(spam_data[spam_data['target'] == 1]['amount_characters'])\n",
    "    \n",
    "    \n",
    "    return (no_spam_mean, spam_mean)"
   ]
  },
  {
   "cell_type": "markdown",
   "metadata": {},
   "source": [
    "<br>\n",
    "<br>\n",
    "The following function has been provided to help you combine new features into the training data:"
   ]
  },
  {
   "cell_type": "code",
   "execution_count": 15,
   "metadata": {
    "collapsed": true
   },
   "outputs": [],
   "source": [
    "def add_feature(X, feature_to_add):\n",
    "    \"\"\"\n",
    "    Returns sparse feature matrix with added feature.\n",
    "    feature_to_add can also be a list of features.\n",
    "    \"\"\"\n",
    "    from scipy.sparse import csr_matrix, hstack\n",
    "    return hstack([X, csr_matrix(feature_to_add).T], 'csr')"
   ]
  },
  {
   "cell_type": "markdown",
   "metadata": {},
   "source": [
    "### Question 7\n",
    "\n",
    "Fit and transform the training data X_train using a Tfidf Vectorizer ignoring terms that have a document frequency strictly lower than **5**.\n",
    "\n",
    "Using this document-term matrix and an additional feature, **the length of document (number of characters)**, fit a Support Vector Classification model with regularization `C=10000`. Then compute the area under the curve (AUC) score using the transformed test data.\n",
    "\n",
    "*This function should return the AUC score as a float.*"
   ]
  },
  {
   "cell_type": "code",
   "execution_count": 16,
   "metadata": {},
   "outputs": [],
   "source": [
    "from sklearn.feature_extraction.text import TfidfVectorizer\n",
    "from sklearn.svm import SVC\n",
    "from sklearn.metrics import roc_auc_score\n",
    "\n",
    "\n",
    "# Train\n",
    "# Set, fit and transform the tfidf vectorizer with min_df=5\n",
    "tfidf = TfidfVectorizer(min_df=5)\n",
    "X_train_vectorized = tfidf.fit_transform(X_train)\n",
    "\n",
    "# Estimate the amount of characters in the text for every document in the train data\n",
    "X_train_text_length = X_train.str.len()\n",
    "\n",
    "# Add the text length as a matrix feature\n",
    "X_train_vectorized_text_length = add_feature(X_train_vectorized, X_train_text_length)\n",
    "\n",
    "\n",
    "# Test\n",
    "# Transform the test data with tfidf vectorizer\n",
    "X_test_vectorized = tfidf.transform(X_test)\n",
    "\n",
    "# Estimate the amount of characters in the text for every document in the train data\n",
    "X_test_text_length = X_test.str.len()\n",
    "\n",
    "# Add the text length as a matrix feature\n",
    "X_test_vectorized_text_length = add_feature(X_test_vectorized, X_test_text_length)\n",
    "\n",
    "\n",
    "# Set the Support Vector Classifier\n",
    "svm = SVC(C=10000).fit(X_train_vectorized_text_length, y_train)\n",
    "\n",
    "# Make prediction and evaluate using ROC-AUC\n",
    "predictions = svm.predict(X_test_vectorized_text_length)\n",
    "auc_score = roc_auc_score(y_test, predictions)"
   ]
  },
  {
   "cell_type": "code",
   "execution_count": 17,
   "metadata": {
    "collapsed": true
   },
   "outputs": [],
   "source": [
    "from sklearn.svm import SVC\n",
    "from sklearn.feature_extraction.text import TfidfVectorizer\n",
    "from sklearn.metrics import roc_auc_score\n",
    "\n",
    "\n",
    "def answer_seven():\n",
    "    \n",
    "    # Train\n",
    "    # Set, fit and transform the tfidf vectorizer with min_df=3\n",
    "    tfidf = TfidfVectorizer(min_df=5)\n",
    "    X_train_vectorized = tfidf.fit_transform(X_train)\n",
    "\n",
    "    # Estimate the amount of characters in the text for every document in the train data\n",
    "    X_train_text_length = X_train.str.len()\n",
    "\n",
    "    # Add the text length as a matrix feature\n",
    "    X_train_vectorized_text_length = add_feature(X_train_vectorized, X_train_text_length)\n",
    "\n",
    "\n",
    "    # Test\n",
    "    # Transform the test data with tfidf vectorizer\n",
    "    X_test_vectorized = tfidf.transform(X_test)\n",
    "\n",
    "    # Estimate the amount of characters in the text for every document in the train data\n",
    "    X_test_text_length = X_test.str.len()\n",
    "\n",
    "    # Add the text length as a matrix feature\n",
    "    X_test_vectorized_text_length = add_feature(X_test_vectorized, X_test_text_length)\n",
    "    \n",
    "    # Support vector classifier\n",
    "    # Set the svc\n",
    "    svm = SVC(C=10000).fit(X_train_vectorized_text_length, y_train)\n",
    "\n",
    "    # Make prediction and evaluate using ROC-AUC\n",
    "    predictions = svm.predict(X_test_vectorized_text_length)\n",
    "    auc_score = roc_auc_score(y_test, predictions)\n",
    "    \n",
    "    \n",
    "    return auc_score"
   ]
  },
  {
   "cell_type": "markdown",
   "metadata": {},
   "source": [
    "### Question 8\n",
    "\n",
    "What is the average number of digits per document for not spam and spam documents?\n",
    "\n",
    "*This function should return a tuple (average # digits not spam, average # digits spam).*"
   ]
  },
  {
   "cell_type": "code",
   "execution_count": 18,
   "metadata": {},
   "outputs": [],
   "source": [
    "# Estimate the amount of digits in every document in the spam_df\n",
    "spam_data['digit_count'] = spam_data['text'].apply(lambda x: len([char for char in x if char.isdigit()]))\n",
    "\n",
    "# Filter the spam_data for target == 0 (No spam)\n",
    "no_spam_mean = np.mean(spam_data[spam_data['target'] == 0]['digit_count'])\n",
    "\n",
    "# Filter the spam_data for target == 1 (Spam)\n",
    "spam_mean = np.mean(spam_data[spam_data['target'] == 1]['digit_count'])"
   ]
  },
  {
   "cell_type": "code",
   "execution_count": 19,
   "metadata": {
    "collapsed": true
   },
   "outputs": [],
   "source": [
    "def answer_eight():\n",
    "    \n",
    "    # Estimate the amount of digits in every document in the spam_df\n",
    "    spam_data['digit_count'] = spam_data['text'].apply(lambda x: len([char for char in x if char.isdigit()]))\n",
    "\n",
    "    # Filter the spam_data for target == 0 (No spam)\n",
    "    no_spam_mean = np.mean(spam_data[spam_data['target'] == 0]['digit_count'])\n",
    "\n",
    "    # Filter the spam_data for target == 1 (Spam)\n",
    "    spam_mean = np.mean(spam_data[spam_data['target'] == 1]['digit_count'])\n",
    "\n",
    "    \n",
    "    return (no_spam_mean, spam_mean)"
   ]
  },
  {
   "cell_type": "markdown",
   "metadata": {},
   "source": [
    "### Question 9\n",
    "\n",
    "Fit and transform the training data `X_train` using a Tfidf Vectorizer ignoring terms that have a document frequency strictly lower than **5** and using **word n-grams from n=1 to n=3** (unigrams, bigrams, and trigrams).\n",
    "\n",
    "Using this document-term matrix and the following additional features:\n",
    "* the length of document (number of characters)\n",
    "* **number of digits per document**\n",
    "\n",
    "fit a Logistic Regression model with regularization `C=100`. Then compute the area under the curve (AUC) score using the transformed test data.\n",
    "\n",
    "*This function should return the AUC score as a float.*"
   ]
  },
  {
   "cell_type": "code",
   "execution_count": 20,
   "metadata": {},
   "outputs": [],
   "source": [
    "from sklearn.feature_extraction.text import TfidfVectorizer\n",
    "from sklearn.linear_model import LogisticRegression\n",
    "from sklearn.metrics import roc_auc_score\n",
    "\n",
    "\n",
    "# Train\n",
    "# Set, fit and transform the tfidf vectorizer with min_df=5 and ngram_range=(1,3)\n",
    "tfidf = TfidfVectorizer(min_df=5, ngram_range=(1,3))\n",
    "X_train_vectorized = tfidf.fit_transform(X_train)\n",
    "\n",
    "# Estimate the amount of characters in the text for every document in the train data\n",
    "X_train_text_length = X_train.str.len()\n",
    "\n",
    "# Estimate the amount of digits in the document on the training data\n",
    "X_train_text_digits = X_train.apply(lambda x: len([char for char in x if char.isdigit()]))\n",
    "\n",
    "# Add the text length and digit count to the matrix feature\n",
    "X_train_vectorized_text_length_digit = add_feature(X_train_vectorized, [X_train_text_length, X_train_text_digits])\n",
    "\n",
    "\n",
    "# Test\n",
    "# Transform the test data with tfidf vectorizer\n",
    "X_test_vectorized = tfidf.transform(X_test)\n",
    "\n",
    "# Estimate the amount of characters in the text for every document in the train data\n",
    "X_test_text_length = X_test.str.len()\n",
    "\n",
    "# Estimate the amount of digits in the document on the training data\n",
    "X_test_text_digits = X_test.apply(lambda x: len([char for char in x if char.isdigit()]))\n",
    "\n",
    "# Add the text length and digit count to the matrix feature\n",
    "X_test_vectorized_text_length_digit = add_feature(X_test_vectorized, [X_test_text_length, X_test_text_digits])\n",
    "\n",
    "\n",
    "# Logistic Regression\n",
    "log_reg = LogisticRegression(C=100).fit(X_train_vectorized_text_length_digit, y_train)\n",
    "\n",
    "# Make prediction and evaluate using ROC-AUC\n",
    "predictions = log_reg.predict(X_test_vectorized_text_length_digit)\n",
    "auc_score = roc_auc_score(y_test, predictions)"
   ]
  },
  {
   "cell_type": "code",
   "execution_count": 21,
   "metadata": {
    "collapsed": true
   },
   "outputs": [],
   "source": [
    "from sklearn.linear_model import LogisticRegression\n",
    "from sklearn.feature_extraction.text import TfidfVectorizer\n",
    "from sklearn.metrics import roc_auc_score\n",
    "\n",
    "\n",
    "def answer_nine():\n",
    "    \n",
    "    # Train\n",
    "    # Set, fit and transform the tfidf vectorizer with min_df=5 and ngram_range=(1,3)\n",
    "    tfidf = TfidfVectorizer(min_df=5, ngram_range=(1,3))\n",
    "    X_train_vectorized = tfidf.fit_transform(X_train)\n",
    "\n",
    "    # Estimate the amount of characters in the text for every document in the train data\n",
    "    X_train_text_length = X_train.str.len()\n",
    "\n",
    "    # Estimate the amount of digits in the document on the training data\n",
    "    X_train_text_digits = X_train.apply(lambda x: len([char for char in x if char.isdigit()]))\n",
    "\n",
    "    # Add the text length and digit count to the matrix feature\n",
    "    X_train_vectorized_text_length_digit = add_feature(X_train_vectorized, [X_train_text_length, X_train_text_digits])\n",
    "\n",
    "\n",
    "    # Test\n",
    "    # Transform the test data with tfidf vectorizer\n",
    "    X_test_vectorized = tfidf.transform(X_test)\n",
    "\n",
    "    # Estimate the amount of characters in the text for every document in the train data\n",
    "    X_test_text_length = X_test.str.len()\n",
    "\n",
    "    # Estimate the amount of digits in the document on the training data\n",
    "    X_test_text_digits = X_test.apply(lambda x: len([char for char in x if char.isdigit()]))\n",
    "\n",
    "    # Add the text length and digit count to the matrix feature\n",
    "    X_test_vectorized_text_length_digit = add_feature(X_test_vectorized, [X_test_text_length, X_test_text_digits])\n",
    "\n",
    "\n",
    "    # Logistic Regression\n",
    "    log_reg = LogisticRegression(C=100).fit(X_train_vectorized_text_length_digit, y_train)\n",
    "\n",
    "    # Make prediction and evaluate using ROC-AUC\n",
    "    predictions = log_reg.predict(X_test_vectorized_text_length_digit)\n",
    "    auc_score = roc_auc_score(y_test, predictions)\n",
    "    \n",
    "    \n",
    "    return auc_score"
   ]
  },
  {
   "cell_type": "markdown",
   "metadata": {},
   "source": [
    "### Question 10\n",
    "\n",
    "What is the average number of non-word characters (anything other than a letter, digit or underscore) per document for not spam and spam documents?\n",
    "\n",
    "*Hint: Use `\\w` and `\\W` character classes*\n",
    "\n",
    "*This function should return a tuple (average # non-word characters not spam, average # non-word characters spam).*"
   ]
  },
  {
   "cell_type": "code",
   "execution_count": 22,
   "metadata": {},
   "outputs": [],
   "source": [
    "# Count the number of non characters (\\W in regex) in every document\n",
    "spam_data['non_character_count'] = spam_data['text'].str.findall(r\"\\W\").str.len()\n",
    "\n",
    "# Filter the spam_data for target == 0 (No spam)\n",
    "no_spam_mean = np.mean(spam_data[spam_data['target'] == 0]['non_character_count'])\n",
    "\n",
    "# Filter the spam_data for target == 1 (Spam)\n",
    "spam_mean = np.mean(spam_data[spam_data['target'] == 1]['non_character_count'])"
   ]
  },
  {
   "cell_type": "code",
   "execution_count": 23,
   "metadata": {
    "collapsed": true
   },
   "outputs": [],
   "source": [
    "def answer_ten():\n",
    "    \n",
    "    spam_data['non_character_count'] = spam_data['text'].str.findall(r\"\\W\").str.len()\n",
    "\n",
    "    # Filter the spam_data for target == 0 (No spam)\n",
    "    no_spam_mean = np.mean(spam_data[spam_data['target'] == 0]['non_character_count'])\n",
    "\n",
    "    # Filter the spam_data for target == 1 (Spam)\n",
    "    spam_mean = np.mean(spam_data[spam_data['target'] == 1]['non_character_count'])\n",
    "    \n",
    "    \n",
    "    return (no_spam_mean, spam_mean)"
   ]
  },
  {
   "cell_type": "markdown",
   "metadata": {},
   "source": [
    "### Question 11\n",
    "\n",
    "Fit and transform the training data X_train using a Count Vectorizer ignoring terms that have a document frequency strictly lower than **5** and using **character n-grams from n=2 to n=5.**\n",
    "\n",
    "To tell Count Vectorizer to use character n-grams pass in `analyzer='char_wb'` which creates character n-grams only from text inside word boundaries. This should make the model more robust to spelling mistakes.\n",
    "\n",
    "Using this document-term matrix and the following additional features:\n",
    "* the length of document (number of characters)\n",
    "* number of digits per document\n",
    "* **number of non-word characters (anything other than a letter, digit or underscore.)**\n",
    "\n",
    "fit a Logistic Regression model with regularization C=100. Then compute the area under the curve (AUC) score using the transformed test data.\n",
    "\n",
    "Also **find the 10 smallest and 10 largest coefficients from the model** and return them along with the AUC score in a tuple.\n",
    "\n",
    "The list of 10 smallest coefficients should be sorted smallest first, the list of 10 largest coefficients should be sorted largest first.\n",
    "\n",
    "The three features that were added to the document term matrix should have the following names should they appear in the list of coefficients:\n",
    "['length_of_doc', 'digit_count', 'non_word_char_count']\n",
    "\n",
    "*This function should return a tuple `(AUC score as a float, smallest coefs list, largest coefs list)`.*"
   ]
  },
  {
   "cell_type": "code",
   "execution_count": 24,
   "metadata": {},
   "outputs": [],
   "source": [
    "from sklearn.feature_extraction.text import TfidfVectorizer\n",
    "from sklearn.linear_model import LogisticRegression\n",
    "from sklearn.metrics import roc_auc_score\n",
    "import re\n",
    "\n",
    "\n",
    "# Train\n",
    "# Set, fit and transform the tfidf vectorizer with min_df=5, ngram_range=(1,3), analyzer='word_wb'\n",
    "tfidf = TfidfVectorizer(min_df=5, ngram_range=(2,5), analyzer='char_wb')\n",
    "X_train_vectorized = tfidf.fit_transform(X_train)\n",
    "\n",
    "# Estimate the amount of characters in the text for every document in the train data\n",
    "X_train_text_length = X_train.str.len()\n",
    "\n",
    "# Estimate the amount of digits in the document on the training data\n",
    "X_train_text_digits = X_train.apply(lambda x: len([char for char in x if char.isdigit()]))\n",
    "\n",
    "# Estimate the number of non-word characters\n",
    "X_train_non_char = X_train.apply(lambda x: len(re.findall(r\"\\W\", x)))\n",
    "\n",
    "# Add the text length and digit count to the matrix feature\n",
    "training_feature_list = [X_train_text_length, X_train_text_digits, X_train_non_char]\n",
    "X_train_vectorized_text_length_digit = add_feature(X_train_vectorized, training_feature_list)\n",
    "\n",
    "\n",
    "# Test\n",
    "# Transform the test data with tfidf vectorizer\n",
    "X_test_vectorized = tfidf.transform(X_test)\n",
    "\n",
    "# Estimate the amount of characters in the text for every document in the train data\n",
    "X_test_text_length = X_test.str.len()\n",
    "\n",
    "# Estimate the amount of digits in the document on the training data\n",
    "X_test_text_digits = X_test.apply(lambda x: len([char for char in x if char.isdigit()]))\n",
    "\n",
    "# Estimate the number of non-word characters\n",
    "X_test_non_char = X_test.apply(lambda x: len(re.findall(r\"\\W\", x)))\n",
    "\n",
    "# Add the text length and digit count to the matrix feature\n",
    "testing_feature_list = [X_test_text_length, X_test_text_digits, X_test_non_char]\n",
    "X_test_vectorized_text_length_digit = add_feature(X_test_vectorized, testing_feature_list)\n",
    "\n",
    "\n",
    "# Logistic Regression\n",
    "log_reg = LogisticRegression(C=100).fit(X_train_vectorized_text_length_digit, y_train)\n",
    "\n",
    "# Make prediction and evaluate using ROC-AUC\n",
    "predictions = log_reg.predict(X_test_vectorized_text_length_digit)\n",
    "auc_score = roc_auc_score(y_test, predictions)\n",
    "\n",
    "\n",
    "feature_names = np.array(tfidf.get_feature_names() + ['length_of_doc', 'digit_count', 'non_word_char_count'])\n",
    "sorted_logreg_coef_index = log_reg.coef_[0].argsort()\n",
    "top10_smallest = list(feature_names[sorted_logreg_coef_index[:10]])\n",
    "top10_largest = list(feature_names[sorted_logreg_coef_index[:-11:-1]])\n",
    "\n",
    "answer = (auc_score, top10_smallest, top10_largest)"
   ]
  },
  {
   "cell_type": "code",
   "execution_count": 28,
   "metadata": {
    "collapsed": true
   },
   "outputs": [],
   "source": [
    "def answer_eleven():\n",
    "    \n",
    "    # Train\n",
    "    # Set, fit and transform the tfidf vectorizer with min_df=5, ngram_range=(1,3), analyzer='word_wb'\n",
    "    tfidf = CountVectorizer(min_df=5, analyzer='char_wb', ngram_range=[2,5])\n",
    "    X_train_vectorized = tfidf.fit_transform(X_train)\n",
    "\n",
    "    # Estimate the amount of characters in the text for every document in the train data\n",
    "    X_train_text_length = X_train.str.len()\n",
    "\n",
    "    # Estimate the amount of digits in the document on the training data\n",
    "    X_train_text_digits = X_train.apply(lambda x: len([char for char in x if char.isdigit()]))\n",
    "\n",
    "    # Estimate the number of non-word characters\n",
    "    X_train_non_char = X_train.apply(lambda x: len(re.findall(r\"\\W\", x)))\n",
    "\n",
    "    # Add the text length and digit count to the matrix feature\n",
    "    training_feature_list = [X_train_text_length, X_train_text_digits, X_train_non_char]\n",
    "    X_train_vectorized_text_length_digit = add_feature(X_train_vectorized, training_feature_list)\n",
    "\n",
    "\n",
    "    # Test\n",
    "    # Transform the test data with tfidf vectorizer\n",
    "    X_test_vectorized = tfidf.transform(X_test)\n",
    "\n",
    "    # Estimate the amount of characters in the text for every document in the train data\n",
    "    X_test_text_length = X_test.str.len()\n",
    "\n",
    "    # Estimate the amount of digits in the document on the training data\n",
    "    X_test_text_digits = X_test.apply(lambda x: len([char for char in x if char.isdigit()]))\n",
    "\n",
    "    # Estimate the number of non-word characters\n",
    "    X_test_non_char = X_test.apply(lambda x: len(re.findall(r\"\\W\", x)))\n",
    "\n",
    "    # Add the text length and digit count to the matrix feature\n",
    "    testing_feature_list = [X_test_text_length, X_test_text_digits, X_test_non_char]\n",
    "    X_test_vectorized_text_length_digit = add_feature(X_test_vectorized, testing_feature_list)\n",
    "\n",
    "\n",
    "    # Logistic Regression\n",
    "    log_reg = LogisticRegression(C=100).fit(X_train_vectorized_text_length_digit, y_train)\n",
    "\n",
    "    # Make prediction and evaluate using ROC-AUC\n",
    "    predictions = log_reg.predict(X_test_vectorized_text_length_digit)\n",
    "    auc_score = roc_auc_score(y_test, predictions)\n",
    "\n",
    "    # Append the 3 features names in the get_features_names\n",
    "    feature_names = np.array(tfidf.get_feature_names() + ['length_of_doc', 'digit_count', 'non_word_char_count'])\n",
    "    \n",
    "    # Sort the logic results data by the coef and extract the index\n",
    "    sorted_logreg_coef_index = log_reg.coef_[0].argsort()\n",
    "    \n",
    "    # Filter the sorted data to return the smallest and the largest resuts\n",
    "    top10_smallest = list(feature_names[sorted_logreg_coef_index[:10]])\n",
    "    top10_largest = list(feature_names[sorted_logreg_coef_index[:-11:-1]])\n",
    "\n",
    "    \n",
    "    return (auc_score, top10_smallest, top10_largest)"
   ]
  },
  {
   "cell_type": "code",
   "execution_count": 29,
   "metadata": {},
   "outputs": [
    {
     "data": {
      "text/plain": [
       "(0.97885931107074342,\n",
       " ['. ', '..', '? ', ' i', ' y', ' go', ':)', ' h', 'go', ' m'],\n",
       " ['digit_count', 'ne', 'ia', 'co', 'xt', ' ch', 'mob', ' x', 'ww', 'ar'])"
      ]
     },
     "execution_count": 29,
     "metadata": {},
     "output_type": "execute_result"
    }
   ],
   "source": [
    "answer_eleven()"
   ]
  },
  {
   "cell_type": "code",
   "execution_count": null,
   "metadata": {
    "collapsed": true
   },
   "outputs": [],
   "source": []
  }
 ],
 "metadata": {
  "coursera": {
   "course_slug": "python-text-mining",
   "graded_item_id": "Pn19K",
   "launcher_item_id": "y1juS",
   "part_id": "ctlgo"
  },
  "kernelspec": {
   "display_name": "Python 3",
   "language": "python",
   "name": "python3"
  },
  "language_info": {
   "codemirror_mode": {
    "name": "ipython",
    "version": 3
   },
   "file_extension": ".py",
   "mimetype": "text/x-python",
   "name": "python",
   "nbconvert_exporter": "python",
   "pygments_lexer": "ipython3",
   "version": "3.6.2"
  }
 },
 "nbformat": 4,
 "nbformat_minor": 2
}
