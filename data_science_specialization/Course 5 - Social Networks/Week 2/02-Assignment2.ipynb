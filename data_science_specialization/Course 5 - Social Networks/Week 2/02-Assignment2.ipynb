{
 "cells": [
  {
   "cell_type": "markdown",
   "metadata": {},
   "source": [
    "---\n",
    "\n",
    "_You are currently looking at **version 1.2** of this notebook. To download notebooks and datafiles, as well as get help on Jupyter notebooks in the Coursera platform, visit the [Jupyter Notebook FAQ](https://www.coursera.org/learn/python-social-network-analysis/resources/yPcBs) course resource._\n",
    "\n",
    "---"
   ]
  },
  {
   "cell_type": "markdown",
   "metadata": {},
   "source": [
    "# Assignment 2 - Network Connectivity\n",
    "\n",
    "In this assignment you will go through the process of importing and analyzing an internal email communication network between employees of a mid-sized manufacturing company. \n",
    "Each node represents an employee and each directed edge between two nodes represents an individual email. The left node represents the sender and the right node represents the recipient."
   ]
  },
  {
   "cell_type": "code",
   "execution_count": 1,
   "metadata": {},
   "outputs": [],
   "source": [
    "import networkx as nx\n",
    "\n",
    "# This line must be commented out when submitting to the autograder\n",
    "#!head email_network.txt"
   ]
  },
  {
   "cell_type": "markdown",
   "metadata": {},
   "source": [
    "### Question 1\n",
    "\n",
    "Using networkx, load up the directed multigraph from `email_network.txt`. Make sure the node names are strings.\n",
    "\n",
    "*This function should return a directed multigraph networkx graph.*"
   ]
  },
  {
   "cell_type": "code",
   "execution_count": 2,
   "metadata": {},
   "outputs": [],
   "source": [
    "email_network = nx.read_edgelist('email_network.txt',              # Load email_network.txt\n",
    "                                 data=[('time', int)],             # Set the time as int (nodes are str)\n",
    "                                 create_using=nx.MultiDiGraph())   # Use a Multi-directed graph"
   ]
  },
  {
   "cell_type": "code",
   "execution_count": 3,
   "metadata": {},
   "outputs": [],
   "source": [
    "def answer_one():\n",
    "    \n",
    "    # Your Code Here\n",
    "    \n",
    "    return nx.read_edgelist('email_network.txt', data=[('time', int)], create_using=nx.MultiDiGraph())"
   ]
  },
  {
   "cell_type": "markdown",
   "metadata": {},
   "source": [
    "### Question 2\n",
    "\n",
    "How many employees and emails are represented in the graph from Question 1?\n",
    "\n",
    "*This function should return a tuple (#employees, #emails).*"
   ]
  },
  {
   "cell_type": "code",
   "execution_count": 4,
   "metadata": {},
   "outputs": [],
   "source": [
    "# Estimate the total number of employees --> Nodes\n",
    "total_num_employees = len(answer_one().nodes())\n",
    "\n",
    "# Estimate the total number of emails between employees --> Edges\n",
    "total_emails_employees = len(answer_one().edges())"
   ]
  },
  {
   "cell_type": "code",
   "execution_count": 5,
   "metadata": {},
   "outputs": [],
   "source": [
    "def answer_two():\n",
    "        \n",
    "    # Your Code Here\n",
    "    # Estimate the total number of employees --> Nodes\n",
    "    total_num_employees = len(answer_one().nodes())\n",
    "\n",
    "    # Estimate the total number of emails between employees --> Edges\n",
    "    total_emails_employees = len(answer_one().edges())\n",
    "    \n",
    "    \n",
    "    return (total_num_employees, total_emails_employees)"
   ]
  },
  {
   "cell_type": "markdown",
   "metadata": {},
   "source": [
    "### Question 3\n",
    "\n",
    "* Part 1. Assume that information in this company can only be exchanged through email.\n",
    "\n",
    "    When an employee sends an email to another employee, a communication channel has been created, allowing the sender to provide information to the receiver, but not vice versa. \n",
    "\n",
    "    Based on the emails sent in the data, is it possible for information to go from every employee to every other employee?\n",
    "\n",
    "\n",
    "* Part 2. Now assume that a communication channel established by an email allows information to be exchanged both ways. \n",
    "\n",
    "    Based on the emails sent in the data, is it possible for information to go from every employee to every other employee?\n",
    "\n",
    "\n",
    "*This function should return a tuple of bools (part1, part2).*"
   ]
  },
  {
   "cell_type": "code",
   "execution_count": 6,
   "metadata": {},
   "outputs": [],
   "source": [
    "# Because this is a Directed Graph:\n",
    "# Part I: Check if the email network is strongly connected (directed graph and connected)\n",
    "strongly_connected = nx.is_strongly_connected(answer_one())\n",
    "\n",
    "# Part II: Check if the email network is weakly connected (transforn to an undirected graph and connected)\n",
    "weakly_connected = nx.is_weakly_connected(answer_one())"
   ]
  },
  {
   "cell_type": "code",
   "execution_count": 7,
   "metadata": {},
   "outputs": [],
   "source": [
    "def answer_three():\n",
    "        \n",
    "    # Your Code Here\n",
    "    # Part I: Check if the email network is strongly connected (directed graph and connected)\n",
    "    strongly_connected = nx.is_strongly_connected(answer_one())\n",
    "\n",
    "    # Part II: Check if the email network is weakly connected (transforn to an undirected graph and connected)\n",
    "    weakly_connected = nx.is_weakly_connected(answer_one())\n",
    "\n",
    "    \n",
    "    return (strongly_connected, weakly_connected)"
   ]
  },
  {
   "cell_type": "markdown",
   "metadata": {},
   "source": [
    "### Question 4\n",
    "\n",
    "How many nodes are in the largest (in terms of nodes) weakly connected component?\n",
    "\n",
    "*This function should return an int.*"
   ]
  },
  {
   "cell_type": "code",
   "execution_count": 8,
   "metadata": {},
   "outputs": [],
   "source": [
    "max_len_weak_connected_components = len(max(nx.weakly_connected_components(answer_one())))"
   ]
  },
  {
   "cell_type": "code",
   "execution_count": 9,
   "metadata": {
    "scrolled": true
   },
   "outputs": [],
   "source": [
    "def answer_four():\n",
    "        \n",
    "    # Your Code Here\n",
    "    \n",
    "    return len(max(nx.weakly_connected_components(answer_one())))"
   ]
  },
  {
   "cell_type": "markdown",
   "metadata": {},
   "source": [
    "### Question 5\n",
    "\n",
    "How many nodes are in the largest (in terms of nodes) strongly connected component?\n",
    "\n",
    "*This function should return an int*"
   ]
  },
  {
   "cell_type": "code",
   "execution_count": 10,
   "metadata": {},
   "outputs": [],
   "source": [
    "max_len_strong_connected_components = len(max(nx.strongly_connected_components(answer_one()), key=len))"
   ]
  },
  {
   "cell_type": "code",
   "execution_count": 11,
   "metadata": {},
   "outputs": [],
   "source": [
    "def answer_five():\n",
    "        \n",
    "    # Your Code Here\n",
    "    \n",
    "    return len(max(nx.strongly_connected_components(answer_one()), key=len))"
   ]
  },
  {
   "cell_type": "markdown",
   "metadata": {},
   "source": [
    "### Question 6\n",
    "\n",
    "Using the NetworkX function strongly_connected_component_subgraphs, find the subgraph of nodes in a largest strongly connected component. \n",
    "Call this graph G_sc.\n",
    "\n",
    "*This function should return a networkx MultiDiGraph named G_sc.*"
   ]
  },
  {
   "cell_type": "code",
   "execution_count": 12,
   "metadata": {},
   "outputs": [],
   "source": [
    "# How many nodes are in the largest strongly connected component\n",
    "G = max(nx.strongly_connected_components(answer_one()), key=len)\n",
    "\n",
    "# MultiDirected-Subgraph of nodes in a largest strongly connected component\n",
    "G_sc = answer_one().subgraph(G)"
   ]
  },
  {
   "cell_type": "code",
   "execution_count": 13,
   "metadata": {},
   "outputs": [],
   "source": [
    "def answer_six():\n",
    "        \n",
    "    # Your Code Here\n",
    "    # How many nodes are in the largest strongly connected component\n",
    "    G = max(nx.strongly_connected_components(answer_one()), key=len)\n",
    "    \n",
    "    \n",
    "    return answer_one().subgraph(G)"
   ]
  },
  {
   "cell_type": "markdown",
   "metadata": {},
   "source": [
    "### Question 7\n",
    "\n",
    "What is the average distance between nodes in G_sc?\n",
    "\n",
    "*This function should return a float.*"
   ]
  },
  {
   "cell_type": "code",
   "execution_count": 14,
   "metadata": {},
   "outputs": [],
   "source": [
    "# Estimate the avg shortest path among all nodes (should return an float value)\n",
    "avg_distance = nx.average_shortest_path_length(answer_six())"
   ]
  },
  {
   "cell_type": "code",
   "execution_count": 15,
   "metadata": {
    "collapsed": true
   },
   "outputs": [],
   "source": [
    "def answer_seven():\n",
    "        \n",
    "    # Your Code Here\n",
    "    \n",
    "    return nx.average_shortest_path_length(answer_six())"
   ]
  },
  {
   "cell_type": "markdown",
   "metadata": {},
   "source": [
    "### Question 8\n",
    "\n",
    "What is the largest possible distance between two employees in G_sc?\n",
    "\n",
    "*This function should return an int.*"
   ]
  },
  {
   "cell_type": "code",
   "execution_count": 16,
   "metadata": {},
   "outputs": [],
   "source": [
    "# Option 1: Search for the max value in the dict (should return an int value)\n",
    "max_distance_1 = max(nx.eccentricity(answer_six()).values())\n",
    "\n",
    "# Option 2: Use nx.diamiter() function to find max distance from 2 nodes\n",
    "max_distance_2 = nx.diameter(answer_six())"
   ]
  },
  {
   "cell_type": "code",
   "execution_count": 17,
   "metadata": {},
   "outputs": [],
   "source": [
    "def answer_eight():\n",
    "        \n",
    "    # Your Code Here\n",
    "    \n",
    "    return nx.diameter(answer_six())"
   ]
  },
  {
   "cell_type": "markdown",
   "metadata": {},
   "source": [
    "### Question 9\n",
    "\n",
    "What is the set of nodes in G_sc with eccentricity equal to the diameter?\n",
    "\n",
    "*This function should return a set of the node(s).*"
   ]
  },
  {
   "cell_type": "code",
   "execution_count": 18,
   "metadata": {},
   "outputs": [],
   "source": [
    "# Estimate the set nodes of periphery using nx.periphery() (condition eccentricity = diamiter)\n",
    "periphery_set_nodes = set(nx.periphery(answer_six()))"
   ]
  },
  {
   "cell_type": "code",
   "execution_count": 19,
   "metadata": {
    "collapsed": true
   },
   "outputs": [],
   "source": [
    "def answer_nine():\n",
    "       \n",
    "    # Your Code Here\n",
    "    \n",
    "    return set(nx.periphery(answer_six()))"
   ]
  },
  {
   "cell_type": "markdown",
   "metadata": {},
   "source": [
    "### Question 10\n",
    "\n",
    "What is the set of node(s) in G_sc with eccentricity equal to the radius?\n",
    "\n",
    "*This function should return a set of the node(s).*"
   ]
  },
  {
   "cell_type": "code",
   "execution_count": 20,
   "metadata": {},
   "outputs": [],
   "source": [
    "# Estimate the set nodes of center using nx.center() (condition eccentricity = radius)\n",
    "center_set_nodes = set(nx.center(answer_six()))"
   ]
  },
  {
   "cell_type": "code",
   "execution_count": 21,
   "metadata": {
    "collapsed": true
   },
   "outputs": [],
   "source": [
    "def answer_ten():\n",
    "        \n",
    "    # Your Code Here\n",
    "    \n",
    "    return set(nx.center(answer_six()))"
   ]
  },
  {
   "cell_type": "markdown",
   "metadata": {},
   "source": [
    "### Question 11\n",
    "\n",
    "Which node in G_sc is connected to the most other nodes by a shortest path of length equal to the diameter of G_sc?\n",
    "\n",
    "How many nodes are connected to this node?\n",
    "\n",
    "\n",
    "*This function should return a tuple (name of node, number of satisfied connected nodes).*"
   ]
  },
  {
   "cell_type": "code",
   "execution_count": 22,
   "metadata": {},
   "outputs": [],
   "source": [
    "# Set empty dict to store the lengths and names of the nodes if short_path = diamiter\n",
    "number_paths_diamiter = {}\n",
    "\n",
    "# Estimate the diamiter of the subgraph\n",
    "diamiter = nx.diameter(G_sc)\n",
    "\n",
    "# Loop through the nodes in the periphery\n",
    "for node in nx.periphery(G_sc)[:]:\n",
    "    # Estimate the shortest path from node in the periphery\n",
    "    shortest_path = nx.shortest_path(G=G_sc, source=node)\n",
    "    # List the paths where shortest_path = diamiter\n",
    "    paths_lenght_diamiter = [path for path in shortest_path.values() if (len(path)-1 == diamiter)]\n",
    "    # Save the node number and the length\n",
    "    number_paths_diamiter[node] = len(paths_lenght_diamiter)\n",
    "\n",
    "# Extract the keys from the dict and save them in a list\n",
    "keys = list(number_paths_diamiter.keys())\n",
    "# Extract the values from the dict and save them in a list\n",
    "values = list(number_paths_diamiter.values())\n",
    "# Extract the key from the max length value\n",
    "result_key = keys[values.index(max(values))]\n",
    "\n",
    "tuple_results_11 = result_key, number_paths_diamiter[result_key]"
   ]
  },
  {
   "cell_type": "code",
   "execution_count": 23,
   "metadata": {
    "collapsed": true
   },
   "outputs": [],
   "source": [
    "def answer_eleven():\n",
    "        \n",
    "    # Your Code Here\n",
    "        # Set empty dict to store the lengths and names of the nodes if short_path = diamiter\n",
    "    number_paths_diamiter = {}\n",
    "\n",
    "    # Estimate the diamiter of the subgraph\n",
    "    diamiter = nx.diameter(G_sc)\n",
    "\n",
    "    # Loop through the nodes in the periphery\n",
    "    for node in nx.periphery(G_sc)[:]:\n",
    "        # Estimate the shortest path from node in the periphery\n",
    "        shortest_path = nx.shortest_path(G=G_sc, source=node)\n",
    "        # List the paths where shortest_path = diamiter\n",
    "        paths_lenght_diamiter = [path for path in shortest_path.values() if (len(path)-1 == diamiter)]\n",
    "        # Save the node number and the length\n",
    "        number_paths_diamiter[node] = len(paths_lenght_diamiter)\n",
    "\n",
    "    # Extract the keys from the dict and save them in a list\n",
    "    keys = list(number_paths_diamiter.keys())\n",
    "    # Extract the values from the dict and save them in a list\n",
    "    values = list(number_paths_diamiter.values())\n",
    "    # Extract the key from the max length value\n",
    "    result_key = keys[values.index(max(values))]\n",
    "    \n",
    "    \n",
    "    return (result_key, number_paths_diamiter[result_key])"
   ]
  },
  {
   "cell_type": "markdown",
   "metadata": {},
   "source": [
    "### Question 12\n",
    "\n",
    "Suppose you want to prevent communication from flowing to the node that you found in the previous question from any node in the center of G_sc, what is the smallest number of nodes you would need to remove from the graph (you're not allowed to remove the node from the previous question or the center nodes)? \n",
    "\n",
    "*This function should return an integer.*"
   ]
  },
  {
   "cell_type": "code",
   "execution_count": 24,
   "metadata": {},
   "outputs": [],
   "source": [
    "# Extract Node number from answer 11\n",
    "periphery_node = answer_eleven()[0]\n",
    "\n",
    "# Extract the center Node from answer 6\n",
    "center_node = nx.center(answer_six())[0]\n",
    "\n",
    "# Estimate the smallest number of nodes to remove to prevent communication\n",
    "node_connectivity = nx.node_connectivity(G=answer_six(), s=center_node, t=periphery_node) - 1"
   ]
  },
  {
   "cell_type": "code",
   "execution_count": 25,
   "metadata": {},
   "outputs": [],
   "source": [
    "def answer_twelve():\n",
    "        \n",
    "    # Your Code Here\n",
    "    # Extract Node number from answer 11\n",
    "    periphery_node = answer_eleven()[0]\n",
    "\n",
    "    # Extract the center Node from answer 6\n",
    "    center_node = nx.center(answer_six())[0]\n",
    "\n",
    "    # Estimate the smallest number of nodes to remove to prevent communication\n",
    "    node_connectivity = nx.node_connectivity(G=answer_six(), s=center_node, t=periphery_node) - 1\n",
    "    \n",
    "    return node_connectivity"
   ]
  },
  {
   "cell_type": "markdown",
   "metadata": {},
   "source": [
    "### Question 13\n",
    "\n",
    "Construct an undirected graph G_un using G_sc (you can ignore the attributes).\n",
    "\n",
    "*This function should return a networkx Graph.*"
   ]
  },
  {
   "cell_type": "code",
   "execution_count": 26,
   "metadata": {},
   "outputs": [],
   "source": [
    "# Transform answer 6 directed graph to undirected graph\n",
    "G_un = nx.Graph(answer_six().to_undirected())"
   ]
  },
  {
   "cell_type": "code",
   "execution_count": 27,
   "metadata": {
    "collapsed": true
   },
   "outputs": [],
   "source": [
    "def answer_thirteen():\n",
    "        \n",
    "    # Your Code Here\n",
    "    \n",
    "    return nx.Graph(answer_six().to_undirected())"
   ]
  },
  {
   "cell_type": "markdown",
   "metadata": {},
   "source": [
    "### Question 14\n",
    "\n",
    "What is the transitivity and average clustering coefficient of graph G_un?\n",
    "\n",
    "*This function should return a tuple (transitivity, avg clustering).*"
   ]
  },
  {
   "cell_type": "code",
   "execution_count": 28,
   "metadata": {},
   "outputs": [],
   "source": [
    "transitivity_avg_cluster = nx.transitivity(answer_thirteen()), nx.average_clustering(answer_thirteen())"
   ]
  },
  {
   "cell_type": "code",
   "execution_count": 29,
   "metadata": {
    "collapsed": true
   },
   "outputs": [],
   "source": [
    "def answer_fourteen():\n",
    "        \n",
    "    # Your Code Here\n",
    "    \n",
    "    return (nx.transitivity(answer_thirteen()), nx.average_clustering(answer_thirteen()))"
   ]
  }
 ],
 "metadata": {
  "coursera": {
   "course_slug": "python-social-network-analysis",
   "graded_item_id": "jMCHR",
   "launcher_item_id": "7RsKp",
   "part_id": "E9gn5"
  },
  "kernelspec": {
   "display_name": "Python 3",
   "language": "python",
   "name": "python3"
  },
  "language_info": {
   "codemirror_mode": {
    "name": "ipython",
    "version": 3
   },
   "file_extension": ".py",
   "mimetype": "text/x-python",
   "name": "python",
   "nbconvert_exporter": "python",
   "pygments_lexer": "ipython3",
   "version": "3.6.2"
  }
 },
 "nbformat": 4,
 "nbformat_minor": 2
}
