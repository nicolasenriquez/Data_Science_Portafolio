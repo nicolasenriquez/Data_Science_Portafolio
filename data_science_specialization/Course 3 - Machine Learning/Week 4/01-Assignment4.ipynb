{
 "cells": [
  {
   "cell_type": "markdown",
   "metadata": {},
   "source": [
    "---\n",
    "\n",
    "_You are currently looking at **version 1.1** of this notebook. To download notebooks and datafiles, as well as get help on Jupyter notebooks in the Coursera platform, visit the [Jupyter Notebook FAQ](https://www.coursera.org/learn/python-machine-learning/resources/bANLa) course resource._\n",
    "\n",
    "---"
   ]
  },
  {
   "cell_type": "markdown",
   "metadata": {},
   "source": [
    "## Assignment 4 - Understanding and Predicting Property Maintenance Fines\n",
    "\n",
    "This assignment is based on a data challenge from the Michigan Data Science Team ([MDST](http://midas.umich.edu/mdst/)). \n",
    "\n",
    "The Michigan Data Science Team ([MDST](http://midas.umich.edu/mdst/)) and the Michigan Student Symposium for Interdisciplinary Statistical Sciences ([MSSISS](https://sites.lsa.umich.edu/mssiss/)) have partnered with the City of Detroit to help solve one of the most pressing problems facing Detroit - blight. [Blight violations](http://www.detroitmi.gov/How-Do-I/Report/Blight-Complaint-FAQs) are issued by the city to individuals who allow their properties to remain in a deteriorated condition. Every year, the city of Detroit issues millions of dollars in fines to residents and every year, many of these fines remain unpaid. Enforcing unpaid blight fines is a costly and tedious process, so the city wants to know: how can we increase blight ticket compliance?\n",
    "\n",
    "The first step in answering this question is understanding when and why a resident might fail to comply with a blight ticket. This is where predictive modeling comes in. For this assignment, your task is to predict whether a given blight ticket will be paid on time.\n",
    "\n",
    "All data for this assignment has been provided to us through the [Detroit Open Data Portal](https://data.detroitmi.gov/). **Only the data already included in your Coursera directory can be used for training the model for this assignment.** Nonetheless, we encourage you to look into data from other Detroit datasets to help inform feature creation and model selection. We recommend taking a look at the following related datasets:\n",
    "\n",
    "* [Building Permits](https://data.detroitmi.gov/Property-Parcels/Building-Permits/xw2a-a7tf)\n",
    "* [Trades Permits](https://data.detroitmi.gov/Property-Parcels/Trades-Permits/635b-dsgv)\n",
    "* [Improve Detroit: Submitted Issues](https://data.detroitmi.gov/Government/Improve-Detroit-Submitted-Issues/fwz3-w3yn)\n",
    "* [DPD: Citizen Complaints](https://data.detroitmi.gov/Public-Safety/DPD-Citizen-Complaints-2016/kahe-efs3)\n",
    "* [Parcel Map](https://data.detroitmi.gov/Property-Parcels/Parcel-Map/fxkw-udwf)\n",
    "\n",
    "___\n",
    "\n",
    "We provide you with two data files for use in training and validating your models: train.csv and test.csv. Each row in these two files corresponds to a single blight ticket, and includes information about when, why, and to whom each ticket was issued. The target variable is compliance, which is True if the ticket was paid early, on time, or within one month of the hearing data, False if the ticket was paid after the hearing date or not at all, and Null if the violator was found not responsible. Compliance, as well as a handful of other variables that will not be available at test-time, are only included in train.csv.\n",
    "\n",
    "Note: All tickets where the violators were found not responsible are not considered during evaluation. They are included in the training set as an additional source of data for visualization, and to enable unsupervised and semi-supervised approaches. However, they are not included in the test set.\n",
    "\n",
    "<br>\n",
    "\n",
    "**File descriptions** (Use only this data for training your model!)\n",
    "\n",
    "    readonly/train.csv - the training set (all tickets issued 2004-2011)\n",
    "    readonly/test.csv - the test set (all tickets issued 2012-2016)\n",
    "    readonly/addresses.csv & readonly/latlons.csv - mapping from ticket id to addresses, and from addresses to lat/lon coordinates. \n",
    "     Note: misspelled addresses may be incorrectly geolocated.\n",
    "\n",
    "<br>\n",
    "\n",
    "**Data fields**\n",
    "\n",
    "train.csv & test.csv\n",
    "    \n",
    "| Column Name| Description |\n",
    "| :-: | :-: |\n",
    "|ticket_id| Unique identifier for tickets|\n",
    "|agency_name| Agency that issued the ticket|\n",
    "|inspector_name| Name of inspector that issued the ticket|\n",
    "|violator_name| Name of the person/organization that the ticket was issued to |\n",
    "|violation_street_number, violation_street_name, violation_zip_code | Address where the violation occurred|\n",
    "|mailing_address_str_number, mailing_address_str_name, city, state, zip_code, non_us_str_code, country | Mailing address of the violator |\n",
    "|ticket_issued_date | Date and time the ticket was issued|\n",
    "|hearing_date| Date and time the violator's hearing was scheduled|\n",
    "|violation_code, violation_description | Type of violation |\n",
    "|disposition | Judgment and judgement type |\n",
    "|fine_amount | Violation fine amount, excluding fees |\n",
    "|admin_fee | 20 dollar fee assigned to responsible judgments |\n",
    "|state_fee | 10 dollar fee assigned to responsible judgments|\n",
    "|late_fee | 10% fee assigned to responsible judgments |\n",
    "|discount_amount | discount applied, if any |\n",
    "|clean_up_cost | DPW clean-up or graffiti removal cost |\n",
    "|judgment_amount | Sum of all fines and fees |\n",
    "|grafitti_status | Flag for graffiti violations |\n",
    "    \n",
    "train.csv only\n",
    "\n",
    "    payment_amount - Amount paid, if any\n",
    "    payment_date - Date payment was made, if it was received\n",
    "    payment_status - Current payment status as of Feb 1 2017\n",
    "    balance_due - Fines and fees still owed\n",
    "    collection_status - Flag for payments in collections\n",
    "    compliance [target variable for prediction] \n",
    "     Null = Not responsible\n",
    "     0 = Responsible, non-compliant\n",
    "     1 = Responsible, compliant\n",
    "    compliance_detail - More information on why each ticket was marked compliant or non-compliant\n",
    "\n",
    "\n",
    "___\n",
    "\n",
    "## Evaluation\n",
    "\n",
    "Your predictions will be given as the probability that the corresponding blight ticket will be paid on time.\n",
    "\n",
    "The evaluation metric for this assignment is the Area Under the ROC Curve (AUC). \n",
    "\n",
    "Your grade will be based on the AUC score computed for your classifier. A model which with an AUROC of 0.7 passes this assignment, over 0.75 will recieve full points.\n",
    "___\n",
    "\n",
    "For this assignment, create a function that trains a model to predict blight ticket compliance in Detroit using `readonly/train.csv`. Using this model, return a series of length 61001 with the data being the probability that each corresponding ticket from `readonly/test.csv` will be paid, and the index being the ticket_id.\n",
    "\n",
    "Example:\n",
    "\n",
    "    ticket_id\n",
    "       284932    0.531842\n",
    "       285362    0.401958\n",
    "       285361    0.105928\n",
    "       285338    0.018572\n",
    "                 ...\n",
    "       376499    0.208567\n",
    "       376500    0.818759\n",
    "       369851    0.018528\n",
    "       Name: compliance, dtype: float32\n",
    "       \n",
    "### Hints\n",
    "\n",
    "* Make sure your code is working before submitting it to the autograder.\n",
    "\n",
    "* Print out your result to see whether there is anything weird (e.g., all probabilities are the same).\n",
    "\n",
    "* Generally the total runtime should be less than 10 mins. You should NOT use Neural Network related classifiers (e.g., MLPClassifier) in this question. \n",
    "\n",
    "* Try to avoid global variables. If you have other functions besides blight_model, you should move those functions inside the scope of blight_model.\n",
    "\n",
    "* Refer to the pinned threads in Week 4's discussion forum when there is something you could not figure it out."
   ]
  },
  {
   "cell_type": "code",
   "execution_count": 25,
   "metadata": {
    "collapsed": true
   },
   "outputs": [],
   "source": [
    "import pandas as pd\n",
    "import numpy as np"
   ]
  },
  {
   "cell_type": "code",
   "execution_count": 26,
   "metadata": {
    "collapsed": false
   },
   "outputs": [
    {
     "name": "stderr",
     "output_type": "stream",
     "text": [
      "/opt/conda/lib/python3.6/site-packages/IPython/core/interactiveshell.py:2717: DtypeWarning: Columns (11,12,31) have mixed types. Specify dtype option on import or set low_memory=False.\n",
      "  interactivity=interactivity, compiler=compiler, result=result)\n"
     ]
    }
   ],
   "source": [
    "# Import the data\n",
    "#train_data = pd.read_csv(\"readonly/train.csv\", encoding='latin-1')\n",
    "#test_data = pd.read_csv(\"readonly/test.csv\")\n",
    "#addresses_data = pd.read_csv(\"readonly/addresses.csv\")\n",
    "#lat_lons_data = pd.read_csv(\"readonly/latlons.csv\")"
   ]
  },
  {
   "cell_type": "code",
   "execution_count": 27,
   "metadata": {
    "collapsed": false
   },
   "outputs": [],
   "source": [
    "# EDA\n",
    "#print(f\"* Training Data - Column Nº: {len(train_data.columns)}\")\n",
    "#print(train_data.columns,'\\n')\n",
    "#print(f\"* Test Data Column Nº: {len(test_data.columns)} cols\")\n",
    "#print(test_data.columns,'\\n')\n",
    "#print(f\"* Addresses Data Column Nº: {len(addresses_data.columns)} cols\")\n",
    "#print(addresses_data.columns,'\\n')\n",
    "#print(f\"* Lat & Long Data Column Nº: {len(lat_lons_data.columns)} cols\")\n",
    "#print(lat_lons_data.columns)"
   ]
  },
  {
   "cell_type": "code",
   "execution_count": 28,
   "metadata": {
    "collapsed": true
   },
   "outputs": [],
   "source": [
    "# Check for null values in the predicted values\n",
    "# We can see that the compliance column have missing values, and because we want to predict that column, we cannot\n",
    "# think of a good way to impute those values, so we are going to drop the NaN from the training data\n",
    "# Drop the Null values in comliance column\n",
    "#train_data = train_data[~train_data['compliance'].isnull()]\n",
    "\n",
    "# Filter the train and test data by country\n",
    "# Because the addresses are only from the US, there is no sence to keep the data that is not from the US, so the\n",
    "# next step is to filter the data by the country == 'USA'\n",
    "#us_train_data = train_data[train_data['country'] == 'USA']\n",
    "#us_test_data = test_data[test_data['country'] == 'USA']"
   ]
  },
  {
   "cell_type": "code",
   "execution_count": 29,
   "metadata": {
    "collapsed": false
   },
   "outputs": [],
   "source": [
    "# As seen before in the columns, the dataframes can be merged together, the first merge (inner) is between the\n",
    "# address and ticket, then, the second merge (inner) is joining the train and test datasets with the first merge.\n",
    "# Merge the train and test datasets\n",
    "#train_merged = pd.merge(train_data, pd.merge(addresses_data, lat_lons_data, on='address'), on='ticket_id')\n",
    "#test_merged = pd.merge(test_data, pd.merge(addresses_data, lat_lons_data, on='address'), on='ticket_id')"
   ]
  },
  {
   "cell_type": "code",
   "execution_count": 30,
   "metadata": {
    "collapsed": false
   },
   "outputs": [],
   "source": [
    "# The next step is to check for null values in the merged datasets and select only the columns that can be used\n",
    "# to estimate the predictions\n",
    "\n",
    "# For the latitud and the longitud we cannot delete the values because they have the requeired length for the correct\n",
    "# answer, so if we remove them, wi won't have all the points for the assignment\n",
    "# Fill the train and test lat and long nan values with median() of the respective column\n",
    "#train_merged['lat'] = train_merged['lat'].fillna(train_merged['lat'].median())\n",
    "#train_merged['lon'] = train_merged['lon'].fillna(train_merged['lon'].median())\n",
    "#test_merged['lat'] = test_merged['lat'].fillna(test_merged['lat'].median())\n",
    "#test_merged['lon'] = test_merged['lon'].fillna(test_merged['lon'].median())"
   ]
  },
  {
   "cell_type": "code",
   "execution_count": 32,
   "metadata": {
    "collapsed": false
   },
   "outputs": [
    {
     "data": {
      "text/plain": [
       "<matplotlib.axes._subplots.AxesSubplot at 0x7f90179bf320>"
      ]
     },
     "execution_count": 32,
     "metadata": {},
     "output_type": "execute_result"
    },
    {
     "data": {
      "image/png": "[encoded data removed]",
      "text/plain": [
       "<matplotlib.figure.Figure at 0x7f905cc8f518>"
      ]
     },
     "metadata": {},
     "output_type": "display_data"
    }
   ],
   "source": [
    "#%matplotlib inline\n",
    "\n",
    "#import seaborn as sns\n",
    "#import matplotlib.pyplot as plt\n",
    "\n",
    "# Plot the correlation heatmap to select the best features that influence in the compliance (target value)\n",
    "\n",
    "#plt.figure(figsize=(12,12))\n",
    "#sns.heatmap(train_merged.drop(drop_col_list_train_mask, axis=1).corr(), annot=True)"
   ]
  },
  {
   "cell_type": "code",
   "execution_count": 33,
   "metadata": {
    "collapsed": false
   },
   "outputs": [
    {
     "data": {
      "text/plain": [
       "Index(['ticket_id', 'violation_code', 'disposition', 'late_fee',\n",
       "       'discount_amount', 'compliance', 'lat', 'lon'],\n",
       "      dtype='object')"
      ]
     },
     "execution_count": 33,
     "metadata": {},
     "output_type": "execute_result"
    }
   ],
   "source": [
    "#train_merged.drop(drop_col_list_train_mask, axis=1).columns"
   ]
  },
  {
   "cell_type": "code",
   "execution_count": 34,
   "metadata": {
    "collapsed": false
   },
   "outputs": [],
   "source": [
    "# Now that we have selected the mail columns from the training dataframe, the next step is to set the test columns\n",
    "# to be the same as the train dataset\n",
    "\n",
    "# To look for the exact test columns let's use sets theory to elaborate a mask\n",
    "#test_col_mask = set(test_merged.columns).intersection(set(train_merged.columns).difference(set(drop_col_list_train_mask)))\n",
    "#test_merged = test_merged.loc[:, test_col_mask]\n",
    "\n",
    "# The only difference is that the train_merged dataset contains the target value column and the test doesn't\n",
    "#train_merged = train_merged.drop(drop_col_list_train_mask, axis=1)\n",
    "\n",
    "# There are no null values in eather one of the new merged dataframes from this point forward"
   ]
  },
  {
   "cell_type": "code",
   "execution_count": 36,
   "metadata": {
    "collapsed": false
   },
   "outputs": [],
   "source": [
    "# The next step is going to transform the disposition object using OneHotEncoding\n",
    "#from sklearn.preprocessing import LabelEncoder\n",
    "\n",
    "# The next step is going to transform using Label Encoder\n",
    "#label_encoder = LabelEncoder()\n",
    "#label_encoder.fit(train_merged['disposition'].append(test_merged['disposition']))\n",
    "#train_merged['disposition'] = label_encoder.transform(train_merged['disposition'])\n",
    "#test_merged['disposition'] = label_encoder.transform(test_merged['disposition'])\n",
    "\n",
    "#label_encoder = LabelEncoder()\n",
    "#label_encoder.fit(train_merged['violation_code'].append(test_merged['violation_code']))\n",
    "#train_merged['violation_code'] = label_encoder.transform(train_merged['violation_code'])\n",
    "#test_merged['violation_code'] = label_encoder.transform(test_merged['violation_code'])"
   ]
  },
  {
   "cell_type": "code",
   "execution_count": null,
   "metadata": {
    "collapsed": false,
    "scrolled": false
   },
   "outputs": [],
   "source": [
    "#from sklearn.model_selection import train_test_split\n",
    "#from sklearn.ensemble import RandomForestRegressor\n",
    "#from sklearn.model_selection import GridSearchCV\n",
    "#from sklearn.metrics import roc_auc_score\n",
    "\n",
    "#features = ['disposition', 'violation_code', 'discount_amount', 'lat', 'lon']\n",
    "\n",
    "# Split the data in train and test split (dummy_train_data)\n",
    "#X = train_merged[features]\n",
    "#y = train_merged['compliance']\n",
    "\n",
    "#X_train, X_test, y_train, y_test = train_test_split(X, y, random_state=0)\n",
    "\n",
    "\n",
    "# Set the random forest regressor() object\n",
    "#reg_rf = RandomForestRegressor()\n",
    "\n",
    "# Set the grid values parameters for the gridsearch\n",
    "#param_grid = {'max_depth': [None, 10, 20, 30]} # 'max_features': ['auto', 'sqrt', 'log2'], 'criterion': ['mse', 'mae']\n",
    "#grid_auc = GridSearchCV(reg_rf, param_grid=param_grid, scoring='roc_auc')\n",
    "#grid_auc.fit(X_train, y_train)\n",
    "\n",
    "#print('Grid best parameter (max. AUC): ', grid_auc.best_params_)\n",
    "#print('Grid best score (AUC): ', grid_auc.best_score_)\n",
    "\n",
    "#df = pd.DataFrame(grid_auc.predict(test_merged[features]), index=test_merged['ticket_id'])\n",
    "#df"
   ]
  },
  {
   "cell_type": "markdown",
   "metadata": {
    "collapsed": true
   },
   "source": [
    "---"
   ]
  },
  {
   "cell_type": "code",
   "execution_count": 1,
   "metadata": {
    "collapsed": true
   },
   "outputs": [],
   "source": [
    "import pandas as pd\n",
    "import numpy as np\n",
    "from sklearn.model_selection import train_test_split\n",
    "from sklearn.ensemble import RandomForestRegressor\n",
    "from sklearn.model_selection import GridSearchCV\n",
    "from sklearn.metrics import roc_auc_score\n",
    "from sklearn.preprocessing import LabelEncoder\n",
    "\n",
    "\n",
    "def blight_model():\n",
    "\n",
    "    # Your code here\n",
    "    # Import the data\n",
    "    train_data = pd.read_csv(\"train.csv\", encoding='latin-1')\n",
    "    test_data = pd.read_csv(\"test.csv\")\n",
    "    addresses_data = pd.read_csv(\"addresses.csv\")\n",
    "    lat_lons_data = pd.read_csv(\"latlons.csv\")\n",
    "    \n",
    "    # Check for null values in the predicted values\n",
    "    # We can see that the compliance column have missing values, and because we want to predict that column, we cannot\n",
    "    # think of a good way to impute those values, so we are going to drop the NaN from the training data\n",
    "    # Drop the Null values in comliance column\n",
    "    train_data = train_data[~train_data['compliance'].isnull()]\n",
    "\n",
    "    # Filter the train and test data by country\n",
    "    # Because the addresses are only from the US, there is no sence to keep the data that is not from the US, so the\n",
    "    # next step is to filter the data by the country == 'USA'\n",
    "    us_train_data = train_data[train_data['country'] == 'USA']\n",
    "    us_test_data = test_data[test_data['country'] == 'USA']\n",
    "    \n",
    "    # As seen before in the columns, the dataframes can be merged together, the first merge (inner) is between the\n",
    "    # address and ticket, then, the second merge (inner) is joining the train and test datasets with the first merge.\n",
    "    # Merge the train and test datasets\n",
    "    train_merged = pd.merge(train_data, pd.merge(addresses_data, lat_lons_data, on='address'), on='ticket_id')\n",
    "    test_merged = pd.merge(test_data, pd.merge(addresses_data, lat_lons_data, on='address'), on='ticket_id')\n",
    "    \n",
    "    # The next step is to check for null values in the merged datasets and select only the columns that can be used\n",
    "    # to estimate the predictions\n",
    "\n",
    "    # For the latitud and the longitud we cannot delete the values because they have the requeired length for the correct\n",
    "    # answer, so if we remove them, wi won't have all the points for the assignment\n",
    "    # Fill the train and test lat and long nan values with median() of the respective column\n",
    "    train_merged['lat'] = train_merged['lat'].fillna(train_merged['lat'].median())\n",
    "    train_merged['lon'] = train_merged['lon'].fillna(train_merged['lon'].median())\n",
    "    test_merged['lat'] = test_merged['lat'].fillna(test_merged['lat'].median())\n",
    "    test_merged['lon'] = test_merged['lon'].fillna(test_merged['lon'].median())\n",
    "    \n",
    "    # The next step is going to transform using Label Encoder\n",
    "    label_encoder = LabelEncoder()\n",
    "    label_encoder.fit(train_merged['disposition'].append(test_merged['disposition']))\n",
    "    train_merged['disposition'] = label_encoder.transform(train_merged['disposition'])\n",
    "    test_merged['disposition'] = label_encoder.transform(test_merged['disposition'])\n",
    "\n",
    "    label_encoder = LabelEncoder()\n",
    "    label_encoder.fit(train_merged['violation_code'].append(test_merged['violation_code']))\n",
    "    train_merged['violation_code'] = label_encoder.transform(train_merged['violation_code'])\n",
    "    test_merged['violation_code'] = label_encoder.transform(test_merged['violation_code'])\n",
    "    \n",
    "    # Set the features that are going to be used in the model\n",
    "    features = ['disposition', 'violation_code', 'discount_amount', 'lat', 'lon']\n",
    "\n",
    "    # Split the data in train and test split (dummy_train_data)\n",
    "    X = train_merged[features]\n",
    "    y = train_merged['compliance']\n",
    "\n",
    "    X_train, X_test, y_train, y_test = train_test_split(X, y, random_state=0)\n",
    "\n",
    "    # Set the random forest regressor() object\n",
    "    reg_rf = RandomForestRegressor()\n",
    "\n",
    "    # Set the grid values parameters for the gridsearch\n",
    "    param_grid = {'max_depth': [None, 10, 20, 30]}\n",
    "    grid_auc = GridSearchCV(reg_rf, param_grid=param_grid, scoring='roc_auc')\n",
    "    grid_auc.fit(X_train, y_train)\n",
    "\n",
    "    #print('Grid best parameter (max. AUC): ', grid_auc.best_params_)\n",
    "    #print('Grid best score (AUC): ', grid_auc.best_score_)\n",
    "\n",
    "    df = pd.DataFrame(grid_auc.predict(test_merged[features]), index=test_merged['ticket_id'])\n",
    "    \n",
    "    return df"
   ]
  },
  {
   "cell_type": "code",
   "execution_count": 2,
   "metadata": {
    "collapsed": false
   },
   "outputs": [
    {
     "name": "stderr",
     "output_type": "stream",
     "text": [
      "/opt/conda/lib/python3.6/site-packages/IPython/core/interactiveshell.py:2827: DtypeWarning: Columns (11,12,31) have mixed types. Specify dtype option on import or set low_memory=False.\n",
      "  if self.run_code(code, result):\n"
     ]
    },
    {
     "ename": "FileNotFoundError",
     "evalue": "File b'test.csv' does not exist",
     "output_type": "error",
     "traceback": [
      "\u001b[0;31m---------------------------------------------------------------------------\u001b[0m",
      "\u001b[0;31mFileNotFoundError\u001b[0m                         Traceback (most recent call last)",
      "\u001b[0;32m<ipython-input-2-727b6e959f85>\u001b[0m in \u001b[0;36m<module>\u001b[0;34m()\u001b[0m\n\u001b[0;32m----> 1\u001b[0;31m \u001b[0mblight_model\u001b[0m\u001b[0;34m(\u001b[0m\u001b[0;34m)\u001b[0m\u001b[0;34m\u001b[0m\u001b[0m\n\u001b[0m",
      "\u001b[0;32m<ipython-input-1-4bf1da0de7f8>\u001b[0m in \u001b[0;36mblight_model\u001b[0;34m()\u001b[0m\n\u001b[1;32m     13\u001b[0m     \u001b[0;31m# Import the data\u001b[0m\u001b[0;34m\u001b[0m\u001b[0;34m\u001b[0m\u001b[0m\n\u001b[1;32m     14\u001b[0m     \u001b[0mtrain_data\u001b[0m \u001b[0;34m=\u001b[0m \u001b[0mpd\u001b[0m\u001b[0;34m.\u001b[0m\u001b[0mread_csv\u001b[0m\u001b[0;34m(\u001b[0m\u001b[0;34m\"train.csv\"\u001b[0m\u001b[0;34m,\u001b[0m \u001b[0mencoding\u001b[0m\u001b[0;34m=\u001b[0m\u001b[0;34m'latin-1'\u001b[0m\u001b[0;34m)\u001b[0m\u001b[0;34m\u001b[0m\u001b[0m\n\u001b[0;32m---> 15\u001b[0;31m     \u001b[0mtest_data\u001b[0m \u001b[0;34m=\u001b[0m \u001b[0mpd\u001b[0m\u001b[0;34m.\u001b[0m\u001b[0mread_csv\u001b[0m\u001b[0;34m(\u001b[0m\u001b[0;34m\"test.csv\"\u001b[0m\u001b[0;34m)\u001b[0m\u001b[0;34m\u001b[0m\u001b[0m\n\u001b[0m\u001b[1;32m     16\u001b[0m     \u001b[0maddresses_data\u001b[0m \u001b[0;34m=\u001b[0m \u001b[0mpd\u001b[0m\u001b[0;34m.\u001b[0m\u001b[0mread_csv\u001b[0m\u001b[0;34m(\u001b[0m\u001b[0;34m\"addresses.csv\"\u001b[0m\u001b[0;34m)\u001b[0m\u001b[0;34m\u001b[0m\u001b[0m\n\u001b[1;32m     17\u001b[0m     \u001b[0mlat_lons_data\u001b[0m \u001b[0;34m=\u001b[0m \u001b[0mpd\u001b[0m\u001b[0;34m.\u001b[0m\u001b[0mread_csv\u001b[0m\u001b[0;34m(\u001b[0m\u001b[0;34m\"latlons.csv\"\u001b[0m\u001b[0;34m)\u001b[0m\u001b[0;34m\u001b[0m\u001b[0m\n",
      "\u001b[0;32m/opt/conda/lib/python3.6/site-packages/pandas/io/parsers.py\u001b[0m in \u001b[0;36mparser_f\u001b[0;34m(filepath_or_buffer, sep, delimiter, header, names, index_col, usecols, squeeze, prefix, mangle_dupe_cols, dtype, engine, converters, true_values, false_values, skipinitialspace, skiprows, nrows, na_values, keep_default_na, na_filter, verbose, skip_blank_lines, parse_dates, infer_datetime_format, keep_date_col, date_parser, dayfirst, iterator, chunksize, compression, thousands, decimal, lineterminator, quotechar, quoting, escapechar, comment, encoding, dialect, tupleize_cols, error_bad_lines, warn_bad_lines, skipfooter, skip_footer, doublequote, delim_whitespace, as_recarray, compact_ints, use_unsigned, low_memory, buffer_lines, memory_map, float_precision)\u001b[0m\n\u001b[1;32m    644\u001b[0m                     skip_blank_lines=skip_blank_lines)\n\u001b[1;32m    645\u001b[0m \u001b[0;34m\u001b[0m\u001b[0m\n\u001b[0;32m--> 646\u001b[0;31m         \u001b[0;32mreturn\u001b[0m \u001b[0m_read\u001b[0m\u001b[0;34m(\u001b[0m\u001b[0mfilepath_or_buffer\u001b[0m\u001b[0;34m,\u001b[0m \u001b[0mkwds\u001b[0m\u001b[0;34m)\u001b[0m\u001b[0;34m\u001b[0m\u001b[0m\n\u001b[0m\u001b[1;32m    647\u001b[0m \u001b[0;34m\u001b[0m\u001b[0m\n\u001b[1;32m    648\u001b[0m     \u001b[0mparser_f\u001b[0m\u001b[0;34m.\u001b[0m\u001b[0m__name__\u001b[0m \u001b[0;34m=\u001b[0m \u001b[0mname\u001b[0m\u001b[0;34m\u001b[0m\u001b[0m\n",
      "\u001b[0;32m/opt/conda/lib/python3.6/site-packages/pandas/io/parsers.py\u001b[0m in \u001b[0;36m_read\u001b[0;34m(filepath_or_buffer, kwds)\u001b[0m\n\u001b[1;32m    387\u001b[0m \u001b[0;34m\u001b[0m\u001b[0m\n\u001b[1;32m    388\u001b[0m     \u001b[0;31m# Create the parser.\u001b[0m\u001b[0;34m\u001b[0m\u001b[0;34m\u001b[0m\u001b[0m\n\u001b[0;32m--> 389\u001b[0;31m     \u001b[0mparser\u001b[0m \u001b[0;34m=\u001b[0m \u001b[0mTextFileReader\u001b[0m\u001b[0;34m(\u001b[0m\u001b[0mfilepath_or_buffer\u001b[0m\u001b[0;34m,\u001b[0m \u001b[0;34m**\u001b[0m\u001b[0mkwds\u001b[0m\u001b[0;34m)\u001b[0m\u001b[0;34m\u001b[0m\u001b[0m\n\u001b[0m\u001b[1;32m    390\u001b[0m \u001b[0;34m\u001b[0m\u001b[0m\n\u001b[1;32m    391\u001b[0m     \u001b[0;32mif\u001b[0m \u001b[0;34m(\u001b[0m\u001b[0mnrows\u001b[0m \u001b[0;32mis\u001b[0m \u001b[0;32mnot\u001b[0m \u001b[0;32mNone\u001b[0m\u001b[0;34m)\u001b[0m \u001b[0;32mand\u001b[0m \u001b[0;34m(\u001b[0m\u001b[0mchunksize\u001b[0m \u001b[0;32mis\u001b[0m \u001b[0;32mnot\u001b[0m \u001b[0;32mNone\u001b[0m\u001b[0;34m)\u001b[0m\u001b[0;34m:\u001b[0m\u001b[0;34m\u001b[0m\u001b[0m\n",
      "\u001b[0;32m/opt/conda/lib/python3.6/site-packages/pandas/io/parsers.py\u001b[0m in \u001b[0;36m__init__\u001b[0;34m(self, f, engine, **kwds)\u001b[0m\n\u001b[1;32m    728\u001b[0m             \u001b[0mself\u001b[0m\u001b[0;34m.\u001b[0m\u001b[0moptions\u001b[0m\u001b[0;34m[\u001b[0m\u001b[0;34m'has_index_names'\u001b[0m\u001b[0;34m]\u001b[0m \u001b[0;34m=\u001b[0m \u001b[0mkwds\u001b[0m\u001b[0;34m[\u001b[0m\u001b[0;34m'has_index_names'\u001b[0m\u001b[0;34m]\u001b[0m\u001b[0;34m\u001b[0m\u001b[0m\n\u001b[1;32m    729\u001b[0m \u001b[0;34m\u001b[0m\u001b[0m\n\u001b[0;32m--> 730\u001b[0;31m         \u001b[0mself\u001b[0m\u001b[0;34m.\u001b[0m\u001b[0m_make_engine\u001b[0m\u001b[0;34m(\u001b[0m\u001b[0mself\u001b[0m\u001b[0;34m.\u001b[0m\u001b[0mengine\u001b[0m\u001b[0;34m)\u001b[0m\u001b[0;34m\u001b[0m\u001b[0m\n\u001b[0m\u001b[1;32m    731\u001b[0m \u001b[0;34m\u001b[0m\u001b[0m\n\u001b[1;32m    732\u001b[0m     \u001b[0;32mdef\u001b[0m \u001b[0mclose\u001b[0m\u001b[0;34m(\u001b[0m\u001b[0mself\u001b[0m\u001b[0;34m)\u001b[0m\u001b[0;34m:\u001b[0m\u001b[0;34m\u001b[0m\u001b[0m\n",
      "\u001b[0;32m/opt/conda/lib/python3.6/site-packages/pandas/io/parsers.py\u001b[0m in \u001b[0;36m_make_engine\u001b[0;34m(self, engine)\u001b[0m\n\u001b[1;32m    921\u001b[0m     \u001b[0;32mdef\u001b[0m \u001b[0m_make_engine\u001b[0m\u001b[0;34m(\u001b[0m\u001b[0mself\u001b[0m\u001b[0;34m,\u001b[0m \u001b[0mengine\u001b[0m\u001b[0;34m=\u001b[0m\u001b[0;34m'c'\u001b[0m\u001b[0;34m)\u001b[0m\u001b[0;34m:\u001b[0m\u001b[0;34m\u001b[0m\u001b[0m\n\u001b[1;32m    922\u001b[0m         \u001b[0;32mif\u001b[0m \u001b[0mengine\u001b[0m \u001b[0;34m==\u001b[0m \u001b[0;34m'c'\u001b[0m\u001b[0;34m:\u001b[0m\u001b[0;34m\u001b[0m\u001b[0m\n\u001b[0;32m--> 923\u001b[0;31m             \u001b[0mself\u001b[0m\u001b[0;34m.\u001b[0m\u001b[0m_engine\u001b[0m \u001b[0;34m=\u001b[0m \u001b[0mCParserWrapper\u001b[0m\u001b[0;34m(\u001b[0m\u001b[0mself\u001b[0m\u001b[0;34m.\u001b[0m\u001b[0mf\u001b[0m\u001b[0;34m,\u001b[0m \u001b[0;34m**\u001b[0m\u001b[0mself\u001b[0m\u001b[0;34m.\u001b[0m\u001b[0moptions\u001b[0m\u001b[0;34m)\u001b[0m\u001b[0;34m\u001b[0m\u001b[0m\n\u001b[0m\u001b[1;32m    924\u001b[0m         \u001b[0;32melse\u001b[0m\u001b[0;34m:\u001b[0m\u001b[0;34m\u001b[0m\u001b[0m\n\u001b[1;32m    925\u001b[0m             \u001b[0;32mif\u001b[0m \u001b[0mengine\u001b[0m \u001b[0;34m==\u001b[0m \u001b[0;34m'python'\u001b[0m\u001b[0;34m:\u001b[0m\u001b[0;34m\u001b[0m\u001b[0m\n",
      "\u001b[0;32m/opt/conda/lib/python3.6/site-packages/pandas/io/parsers.py\u001b[0m in \u001b[0;36m__init__\u001b[0;34m(self, src, **kwds)\u001b[0m\n\u001b[1;32m   1388\u001b[0m         \u001b[0mkwds\u001b[0m\u001b[0;34m[\u001b[0m\u001b[0;34m'allow_leading_cols'\u001b[0m\u001b[0;34m]\u001b[0m \u001b[0;34m=\u001b[0m \u001b[0mself\u001b[0m\u001b[0;34m.\u001b[0m\u001b[0mindex_col\u001b[0m \u001b[0;32mis\u001b[0m \u001b[0;32mnot\u001b[0m \u001b[0;32mFalse\u001b[0m\u001b[0;34m\u001b[0m\u001b[0m\n\u001b[1;32m   1389\u001b[0m \u001b[0;34m\u001b[0m\u001b[0m\n\u001b[0;32m-> 1390\u001b[0;31m         \u001b[0mself\u001b[0m\u001b[0;34m.\u001b[0m\u001b[0m_reader\u001b[0m \u001b[0;34m=\u001b[0m \u001b[0m_parser\u001b[0m\u001b[0;34m.\u001b[0m\u001b[0mTextReader\u001b[0m\u001b[0;34m(\u001b[0m\u001b[0msrc\u001b[0m\u001b[0;34m,\u001b[0m \u001b[0;34m**\u001b[0m\u001b[0mkwds\u001b[0m\u001b[0;34m)\u001b[0m\u001b[0;34m\u001b[0m\u001b[0m\n\u001b[0m\u001b[1;32m   1391\u001b[0m \u001b[0;34m\u001b[0m\u001b[0m\n\u001b[1;32m   1392\u001b[0m         \u001b[0;31m# XXX\u001b[0m\u001b[0;34m\u001b[0m\u001b[0;34m\u001b[0m\u001b[0m\n",
      "\u001b[0;32mpandas/parser.pyx\u001b[0m in \u001b[0;36mpandas.parser.TextReader.__cinit__ (pandas/parser.c:4184)\u001b[0;34m()\u001b[0m\n",
      "\u001b[0;32mpandas/parser.pyx\u001b[0m in \u001b[0;36mpandas.parser.TextReader._setup_parser_source (pandas/parser.c:8449)\u001b[0;34m()\u001b[0m\n",
      "\u001b[0;31mFileNotFoundError\u001b[0m: File b'test.csv' does not exist"
     ]
    }
   ],
   "source": [
    "#blight_model()"
   ]
  },
  {
   "cell_type": "code",
   "execution_count": null,
   "metadata": {
    "collapsed": true
   },
   "outputs": [],
   "source": []
  },
  {
   "cell_type": "markdown",
   "metadata": {},
   "source": [
    "---"
   ]
  },
  {
   "cell_type": "code",
   "execution_count": null,
   "metadata": {
    "collapsed": true
   },
   "outputs": [],
   "source": []
  }
 ],
 "metadata": {
  "coursera": {
   "course_slug": "python-machine-learning",
   "graded_item_id": "nNS8l",
   "launcher_item_id": "yWWk7",
   "part_id": "w8BSS"
  },
  "kernelspec": {
   "display_name": "Python 3",
   "language": "python",
   "name": "python3"
  },
  "language_info": {
   "codemirror_mode": {
    "name": "ipython",
    "version": 3
   },
   "file_extension": ".py",
   "mimetype": "text/x-python",
   "name": "python",
   "nbconvert_exporter": "python",
   "pygments_lexer": "ipython3",
   "version": "3.6.2"
  }
 },
 "nbformat": 4,
 "nbformat_minor": 2
}
