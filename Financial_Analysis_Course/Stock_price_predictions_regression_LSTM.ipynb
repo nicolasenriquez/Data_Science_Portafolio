{
 "cells": [
  {
   "cell_type": "markdown",
   "metadata": {
    "colab_type": "text",
    "id": "vqgA_yPbGFnM"
   },
   "source": [
    "#TASK #1: UNDERSTAND THE PROBLEM STATEMENT & BUSINESS CASE"
   ]
  },
  {
   "cell_type": "markdown",
   "metadata": {
    "colab_type": "text",
    "id": "7o5Rh_XophbT"
   },
   "source": [
    "![alt text](https://drive.google.com/uc?id=1U3eRNUYyza1A7EFopacJyujR87Vm_ae8)\n"
   ]
  },
  {
   "cell_type": "markdown",
   "metadata": {
    "colab_type": "text",
    "id": "ttbJv3I1rpn3"
   },
   "source": [
    "![alt text](https://drive.google.com/uc?id=139zlnLGzYen-GbcnkXQZs44tf7OqV8e4)"
   ]
  },
  {
   "cell_type": "markdown",
   "metadata": {
    "colab_type": "text",
    "id": "3n66xj4BGKWM"
   },
   "source": [
    "#TASK #2: IMPORT DATASETS AND LIBRARIES\n"
   ]
  },
  {
   "cell_type": "code",
   "execution_count": 1,
   "metadata": {
    "colab": {},
    "colab_type": "code",
    "id": "KVxYSMIUxx_U"
   },
   "outputs": [],
   "source": [
    "import pandas as pd\n",
    "import plotly.express as px\n",
    "from copy import copy\n",
    "from scipy import stats\n",
    "import numpy as np\n",
    "from sklearn.linear_model import LinearRegression\n",
    "from sklearn.svm import SVR\n",
    "from sklearn.model_selection import train_test_split\n",
    "from sklearn.metrics import r2_score\n",
    "from tensorflow import keras\n",
    "import matplotlib.pyplot as plt\n",
    "import plotly.figure_factory as ff\n",
    "import plotly.io as pio\n",
    "pio.renderers.default = 'iframe'   #'iframe' # or 'notebook' or 'colab' or 'jupyterlab'"
   ]
  },
  {
   "cell_type": "code",
   "execution_count": 2,
   "metadata": {
    "colab": {},
    "colab_type": "code",
    "id": "HbxX37RAYEXS"
   },
   "outputs": [
    {
     "data": {
      "text/html": [
       "<div>\n",
       "<style scoped>\n",
       "    .dataframe tbody tr th:only-of-type {\n",
       "        vertical-align: middle;\n",
       "    }\n",
       "\n",
       "    .dataframe tbody tr th {\n",
       "        vertical-align: top;\n",
       "    }\n",
       "\n",
       "    .dataframe thead th {\n",
       "        text-align: right;\n",
       "    }\n",
       "</style>\n",
       "<table border=\"1\" class=\"dataframe\">\n",
       "  <thead>\n",
       "    <tr style=\"text-align: right;\">\n",
       "      <th></th>\n",
       "      <th>Date</th>\n",
       "      <th>AAPL</th>\n",
       "      <th>BA</th>\n",
       "      <th>T</th>\n",
       "      <th>MGM</th>\n",
       "      <th>AMZN</th>\n",
       "      <th>IBM</th>\n",
       "      <th>TSLA</th>\n",
       "      <th>GOOG</th>\n",
       "      <th>sp500</th>\n",
       "    </tr>\n",
       "  </thead>\n",
       "  <tbody>\n",
       "    <tr>\n",
       "      <th>0</th>\n",
       "      <td>2012-01-12</td>\n",
       "      <td>60.198570</td>\n",
       "      <td>75.510002</td>\n",
       "      <td>30.120001</td>\n",
       "      <td>12.130000</td>\n",
       "      <td>175.929993</td>\n",
       "      <td>180.550003</td>\n",
       "      <td>28.250000</td>\n",
       "      <td>313.644379</td>\n",
       "      <td>1295.500000</td>\n",
       "    </tr>\n",
       "    <tr>\n",
       "      <th>1</th>\n",
       "      <td>2012-01-13</td>\n",
       "      <td>59.972858</td>\n",
       "      <td>74.599998</td>\n",
       "      <td>30.070000</td>\n",
       "      <td>12.350000</td>\n",
       "      <td>178.419998</td>\n",
       "      <td>179.160004</td>\n",
       "      <td>22.790001</td>\n",
       "      <td>311.328064</td>\n",
       "      <td>1289.089966</td>\n",
       "    </tr>\n",
       "    <tr>\n",
       "      <th>2</th>\n",
       "      <td>2012-01-17</td>\n",
       "      <td>60.671429</td>\n",
       "      <td>75.239998</td>\n",
       "      <td>30.250000</td>\n",
       "      <td>12.250000</td>\n",
       "      <td>181.660004</td>\n",
       "      <td>180.000000</td>\n",
       "      <td>26.600000</td>\n",
       "      <td>313.116364</td>\n",
       "      <td>1293.670044</td>\n",
       "    </tr>\n",
       "    <tr>\n",
       "      <th>3</th>\n",
       "      <td>2012-01-18</td>\n",
       "      <td>61.301430</td>\n",
       "      <td>75.059998</td>\n",
       "      <td>30.330000</td>\n",
       "      <td>12.730000</td>\n",
       "      <td>189.440002</td>\n",
       "      <td>181.070007</td>\n",
       "      <td>26.809999</td>\n",
       "      <td>315.273285</td>\n",
       "      <td>1308.040039</td>\n",
       "    </tr>\n",
       "    <tr>\n",
       "      <th>4</th>\n",
       "      <td>2012-01-19</td>\n",
       "      <td>61.107143</td>\n",
       "      <td>75.559998</td>\n",
       "      <td>30.420000</td>\n",
       "      <td>12.800000</td>\n",
       "      <td>194.449997</td>\n",
       "      <td>180.520004</td>\n",
       "      <td>26.760000</td>\n",
       "      <td>318.590851</td>\n",
       "      <td>1314.500000</td>\n",
       "    </tr>\n",
       "    <tr>\n",
       "      <th>...</th>\n",
       "      <td>...</td>\n",
       "      <td>...</td>\n",
       "      <td>...</td>\n",
       "      <td>...</td>\n",
       "      <td>...</td>\n",
       "      <td>...</td>\n",
       "      <td>...</td>\n",
       "      <td>...</td>\n",
       "      <td>...</td>\n",
       "      <td>...</td>\n",
       "    </tr>\n",
       "    <tr>\n",
       "      <th>2154</th>\n",
       "      <td>2020-08-05</td>\n",
       "      <td>440.250000</td>\n",
       "      <td>174.279999</td>\n",
       "      <td>29.850000</td>\n",
       "      <td>16.719999</td>\n",
       "      <td>3205.030029</td>\n",
       "      <td>125.449997</td>\n",
       "      <td>1485.020020</td>\n",
       "      <td>1473.609985</td>\n",
       "      <td>3327.770020</td>\n",
       "    </tr>\n",
       "    <tr>\n",
       "      <th>2155</th>\n",
       "      <td>2020-08-06</td>\n",
       "      <td>455.609985</td>\n",
       "      <td>172.199997</td>\n",
       "      <td>29.840000</td>\n",
       "      <td>18.459999</td>\n",
       "      <td>3225.000000</td>\n",
       "      <td>126.120003</td>\n",
       "      <td>1489.579956</td>\n",
       "      <td>1500.099976</td>\n",
       "      <td>3349.159912</td>\n",
       "    </tr>\n",
       "    <tr>\n",
       "      <th>2156</th>\n",
       "      <td>2020-08-07</td>\n",
       "      <td>444.450012</td>\n",
       "      <td>170.020004</td>\n",
       "      <td>30.020000</td>\n",
       "      <td>19.030001</td>\n",
       "      <td>3167.459961</td>\n",
       "      <td>124.959999</td>\n",
       "      <td>1452.709961</td>\n",
       "      <td>1494.489990</td>\n",
       "      <td>3351.280029</td>\n",
       "    </tr>\n",
       "    <tr>\n",
       "      <th>2157</th>\n",
       "      <td>2020-08-10</td>\n",
       "      <td>450.910004</td>\n",
       "      <td>179.410004</td>\n",
       "      <td>30.200001</td>\n",
       "      <td>21.650000</td>\n",
       "      <td>3148.159912</td>\n",
       "      <td>127.110001</td>\n",
       "      <td>1418.569946</td>\n",
       "      <td>1496.099976</td>\n",
       "      <td>3360.469971</td>\n",
       "    </tr>\n",
       "    <tr>\n",
       "      <th>2158</th>\n",
       "      <td>2020-08-11</td>\n",
       "      <td>437.500000</td>\n",
       "      <td>180.130005</td>\n",
       "      <td>30.200001</td>\n",
       "      <td>21.500000</td>\n",
       "      <td>3080.669922</td>\n",
       "      <td>126.750000</td>\n",
       "      <td>1374.390015</td>\n",
       "      <td>1480.319946</td>\n",
       "      <td>3333.689941</td>\n",
       "    </tr>\n",
       "  </tbody>\n",
       "</table>\n",
       "<p>2159 rows × 10 columns</p>\n",
       "</div>"
      ],
      "text/plain": [
       "            Date        AAPL          BA          T        MGM         AMZN  \\\n",
       "0     2012-01-12   60.198570   75.510002  30.120001  12.130000   175.929993   \n",
       "1     2012-01-13   59.972858   74.599998  30.070000  12.350000   178.419998   \n",
       "2     2012-01-17   60.671429   75.239998  30.250000  12.250000   181.660004   \n",
       "3     2012-01-18   61.301430   75.059998  30.330000  12.730000   189.440002   \n",
       "4     2012-01-19   61.107143   75.559998  30.420000  12.800000   194.449997   \n",
       "...          ...         ...         ...        ...        ...          ...   \n",
       "2154  2020-08-05  440.250000  174.279999  29.850000  16.719999  3205.030029   \n",
       "2155  2020-08-06  455.609985  172.199997  29.840000  18.459999  3225.000000   \n",
       "2156  2020-08-07  444.450012  170.020004  30.020000  19.030001  3167.459961   \n",
       "2157  2020-08-10  450.910004  179.410004  30.200001  21.650000  3148.159912   \n",
       "2158  2020-08-11  437.500000  180.130005  30.200001  21.500000  3080.669922   \n",
       "\n",
       "             IBM         TSLA         GOOG        sp500  \n",
       "0     180.550003    28.250000   313.644379  1295.500000  \n",
       "1     179.160004    22.790001   311.328064  1289.089966  \n",
       "2     180.000000    26.600000   313.116364  1293.670044  \n",
       "3     181.070007    26.809999   315.273285  1308.040039  \n",
       "4     180.520004    26.760000   318.590851  1314.500000  \n",
       "...          ...          ...          ...          ...  \n",
       "2154  125.449997  1485.020020  1473.609985  3327.770020  \n",
       "2155  126.120003  1489.579956  1500.099976  3349.159912  \n",
       "2156  124.959999  1452.709961  1494.489990  3351.280029  \n",
       "2157  127.110001  1418.569946  1496.099976  3360.469971  \n",
       "2158  126.750000  1374.390015  1480.319946  3333.689941  \n",
       "\n",
       "[2159 rows x 10 columns]"
      ]
     },
     "execution_count": 2,
     "metadata": {},
     "output_type": "execute_result"
    }
   ],
   "source": [
    "# Read stock prices data\n",
    "stock_price_df = pd.read_csv('stock.csv')\n",
    "stock_price_df"
   ]
  },
  {
   "cell_type": "code",
   "execution_count": 3,
   "metadata": {
    "colab": {},
    "colab_type": "code",
    "id": "WbBDdWcm9dLH"
   },
   "outputs": [
    {
     "data": {
      "text/html": [
       "<div>\n",
       "<style scoped>\n",
       "    .dataframe tbody tr th:only-of-type {\n",
       "        vertical-align: middle;\n",
       "    }\n",
       "\n",
       "    .dataframe tbody tr th {\n",
       "        vertical-align: top;\n",
       "    }\n",
       "\n",
       "    .dataframe thead th {\n",
       "        text-align: right;\n",
       "    }\n",
       "</style>\n",
       "<table border=\"1\" class=\"dataframe\">\n",
       "  <thead>\n",
       "    <tr style=\"text-align: right;\">\n",
       "      <th></th>\n",
       "      <th>Date</th>\n",
       "      <th>AAPL</th>\n",
       "      <th>BA</th>\n",
       "      <th>T</th>\n",
       "      <th>MGM</th>\n",
       "      <th>AMZN</th>\n",
       "      <th>IBM</th>\n",
       "      <th>TSLA</th>\n",
       "      <th>GOOG</th>\n",
       "      <th>sp500</th>\n",
       "    </tr>\n",
       "  </thead>\n",
       "  <tbody>\n",
       "    <tr>\n",
       "      <th>0</th>\n",
       "      <td>2012-01-12</td>\n",
       "      <td>53146800</td>\n",
       "      <td>3934500</td>\n",
       "      <td>26511100</td>\n",
       "      <td>17891100</td>\n",
       "      <td>5385800</td>\n",
       "      <td>6881000</td>\n",
       "      <td>729300</td>\n",
       "      <td>3764400</td>\n",
       "      <td>4019890000</td>\n",
       "    </tr>\n",
       "    <tr>\n",
       "      <th>1</th>\n",
       "      <td>2012-01-13</td>\n",
       "      <td>56505400</td>\n",
       "      <td>4641100</td>\n",
       "      <td>22096800</td>\n",
       "      <td>16621800</td>\n",
       "      <td>4753500</td>\n",
       "      <td>5279200</td>\n",
       "      <td>5500400</td>\n",
       "      <td>4631800</td>\n",
       "      <td>3692370000</td>\n",
       "    </tr>\n",
       "    <tr>\n",
       "      <th>2</th>\n",
       "      <td>2012-01-17</td>\n",
       "      <td>60724300</td>\n",
       "      <td>3700100</td>\n",
       "      <td>23500200</td>\n",
       "      <td>15480800</td>\n",
       "      <td>5644500</td>\n",
       "      <td>6003400</td>\n",
       "      <td>4651600</td>\n",
       "      <td>3832800</td>\n",
       "      <td>4010490000</td>\n",
       "    </tr>\n",
       "    <tr>\n",
       "      <th>3</th>\n",
       "      <td>2012-01-18</td>\n",
       "      <td>69197800</td>\n",
       "      <td>4189500</td>\n",
       "      <td>22015000</td>\n",
       "      <td>18387600</td>\n",
       "      <td>7473500</td>\n",
       "      <td>4600600</td>\n",
       "      <td>1260200</td>\n",
       "      <td>5544000</td>\n",
       "      <td>4096160000</td>\n",
       "    </tr>\n",
       "    <tr>\n",
       "      <th>4</th>\n",
       "      <td>2012-01-19</td>\n",
       "      <td>65434600</td>\n",
       "      <td>5397300</td>\n",
       "      <td>25524000</td>\n",
       "      <td>14022900</td>\n",
       "      <td>7096000</td>\n",
       "      <td>8567200</td>\n",
       "      <td>1246300</td>\n",
       "      <td>12657800</td>\n",
       "      <td>4465890000</td>\n",
       "    </tr>\n",
       "    <tr>\n",
       "      <th>...</th>\n",
       "      <td>...</td>\n",
       "      <td>...</td>\n",
       "      <td>...</td>\n",
       "      <td>...</td>\n",
       "      <td>...</td>\n",
       "      <td>...</td>\n",
       "      <td>...</td>\n",
       "      <td>...</td>\n",
       "      <td>...</td>\n",
       "      <td>...</td>\n",
       "    </tr>\n",
       "    <tr>\n",
       "      <th>2154</th>\n",
       "      <td>2020-08-05</td>\n",
       "      <td>30498000</td>\n",
       "      <td>46551000</td>\n",
       "      <td>22991700</td>\n",
       "      <td>18914200</td>\n",
       "      <td>3930000</td>\n",
       "      <td>3675400</td>\n",
       "      <td>4978000</td>\n",
       "      <td>1979500</td>\n",
       "      <td>4732220000</td>\n",
       "    </tr>\n",
       "    <tr>\n",
       "      <th>2155</th>\n",
       "      <td>2020-08-06</td>\n",
       "      <td>50607200</td>\n",
       "      <td>32921600</td>\n",
       "      <td>21908700</td>\n",
       "      <td>35867700</td>\n",
       "      <td>3940600</td>\n",
       "      <td>3417100</td>\n",
       "      <td>5992300</td>\n",
       "      <td>1995400</td>\n",
       "      <td>4267490000</td>\n",
       "    </tr>\n",
       "    <tr>\n",
       "      <th>2156</th>\n",
       "      <td>2020-08-07</td>\n",
       "      <td>49453300</td>\n",
       "      <td>19301600</td>\n",
       "      <td>30398500</td>\n",
       "      <td>34530300</td>\n",
       "      <td>3929600</td>\n",
       "      <td>3651000</td>\n",
       "      <td>8883500</td>\n",
       "      <td>1576600</td>\n",
       "      <td>4104860000</td>\n",
       "    </tr>\n",
       "    <tr>\n",
       "      <th>2157</th>\n",
       "      <td>2020-08-10</td>\n",
       "      <td>53100900</td>\n",
       "      <td>35857700</td>\n",
       "      <td>35514400</td>\n",
       "      <td>71219700</td>\n",
       "      <td>3167300</td>\n",
       "      <td>3968300</td>\n",
       "      <td>7522300</td>\n",
       "      <td>1289300</td>\n",
       "      <td>4318570000</td>\n",
       "    </tr>\n",
       "    <tr>\n",
       "      <th>2158</th>\n",
       "      <td>2020-08-11</td>\n",
       "      <td>46871100</td>\n",
       "      <td>60966900</td>\n",
       "      <td>30978300</td>\n",
       "      <td>34357900</td>\n",
       "      <td>3706600</td>\n",
       "      <td>4998500</td>\n",
       "      <td>8356000</td>\n",
       "      <td>1452000</td>\n",
       "      <td>5087650000</td>\n",
       "    </tr>\n",
       "  </tbody>\n",
       "</table>\n",
       "<p>2159 rows × 10 columns</p>\n",
       "</div>"
      ],
      "text/plain": [
       "            Date      AAPL        BA         T       MGM     AMZN      IBM  \\\n",
       "0     2012-01-12  53146800   3934500  26511100  17891100  5385800  6881000   \n",
       "1     2012-01-13  56505400   4641100  22096800  16621800  4753500  5279200   \n",
       "2     2012-01-17  60724300   3700100  23500200  15480800  5644500  6003400   \n",
       "3     2012-01-18  69197800   4189500  22015000  18387600  7473500  4600600   \n",
       "4     2012-01-19  65434600   5397300  25524000  14022900  7096000  8567200   \n",
       "...          ...       ...       ...       ...       ...      ...      ...   \n",
       "2154  2020-08-05  30498000  46551000  22991700  18914200  3930000  3675400   \n",
       "2155  2020-08-06  50607200  32921600  21908700  35867700  3940600  3417100   \n",
       "2156  2020-08-07  49453300  19301600  30398500  34530300  3929600  3651000   \n",
       "2157  2020-08-10  53100900  35857700  35514400  71219700  3167300  3968300   \n",
       "2158  2020-08-11  46871100  60966900  30978300  34357900  3706600  4998500   \n",
       "\n",
       "         TSLA      GOOG       sp500  \n",
       "0      729300   3764400  4019890000  \n",
       "1     5500400   4631800  3692370000  \n",
       "2     4651600   3832800  4010490000  \n",
       "3     1260200   5544000  4096160000  \n",
       "4     1246300  12657800  4465890000  \n",
       "...       ...       ...         ...  \n",
       "2154  4978000   1979500  4732220000  \n",
       "2155  5992300   1995400  4267490000  \n",
       "2156  8883500   1576600  4104860000  \n",
       "2157  7522300   1289300  4318570000  \n",
       "2158  8356000   1452000  5087650000  \n",
       "\n",
       "[2159 rows x 10 columns]"
      ]
     },
     "execution_count": 3,
     "metadata": {},
     "output_type": "execute_result"
    }
   ],
   "source": [
    "# Read the stocks volume data\n",
    "stock_vol_df = pd.read_csv(\"stock_volume.csv\")\n",
    "stock_vol_df"
   ]
  },
  {
   "cell_type": "code",
   "execution_count": 4,
   "metadata": {
    "colab": {},
    "colab_type": "code",
    "id": "et-6_Df_Gcod"
   },
   "outputs": [
    {
     "data": {
      "text/html": [
       "<div>\n",
       "<style scoped>\n",
       "    .dataframe tbody tr th:only-of-type {\n",
       "        vertical-align: middle;\n",
       "    }\n",
       "\n",
       "    .dataframe tbody tr th {\n",
       "        vertical-align: top;\n",
       "    }\n",
       "\n",
       "    .dataframe thead th {\n",
       "        text-align: right;\n",
       "    }\n",
       "</style>\n",
       "<table border=\"1\" class=\"dataframe\">\n",
       "  <thead>\n",
       "    <tr style=\"text-align: right;\">\n",
       "      <th></th>\n",
       "      <th>Date</th>\n",
       "      <th>AAPL</th>\n",
       "      <th>BA</th>\n",
       "      <th>T</th>\n",
       "      <th>MGM</th>\n",
       "      <th>AMZN</th>\n",
       "      <th>IBM</th>\n",
       "      <th>TSLA</th>\n",
       "      <th>GOOG</th>\n",
       "      <th>sp500</th>\n",
       "    </tr>\n",
       "  </thead>\n",
       "  <tbody>\n",
       "    <tr>\n",
       "      <th>0</th>\n",
       "      <td>2012-01-12</td>\n",
       "      <td>60.198570</td>\n",
       "      <td>75.510002</td>\n",
       "      <td>30.120001</td>\n",
       "      <td>12.130000</td>\n",
       "      <td>175.929993</td>\n",
       "      <td>180.550003</td>\n",
       "      <td>28.250000</td>\n",
       "      <td>313.644379</td>\n",
       "      <td>1295.500000</td>\n",
       "    </tr>\n",
       "    <tr>\n",
       "      <th>1</th>\n",
       "      <td>2012-01-13</td>\n",
       "      <td>59.972858</td>\n",
       "      <td>74.599998</td>\n",
       "      <td>30.070000</td>\n",
       "      <td>12.350000</td>\n",
       "      <td>178.419998</td>\n",
       "      <td>179.160004</td>\n",
       "      <td>22.790001</td>\n",
       "      <td>311.328064</td>\n",
       "      <td>1289.089966</td>\n",
       "    </tr>\n",
       "    <tr>\n",
       "      <th>2</th>\n",
       "      <td>2012-01-17</td>\n",
       "      <td>60.671429</td>\n",
       "      <td>75.239998</td>\n",
       "      <td>30.250000</td>\n",
       "      <td>12.250000</td>\n",
       "      <td>181.660004</td>\n",
       "      <td>180.000000</td>\n",
       "      <td>26.600000</td>\n",
       "      <td>313.116364</td>\n",
       "      <td>1293.670044</td>\n",
       "    </tr>\n",
       "    <tr>\n",
       "      <th>3</th>\n",
       "      <td>2012-01-18</td>\n",
       "      <td>61.301430</td>\n",
       "      <td>75.059998</td>\n",
       "      <td>30.330000</td>\n",
       "      <td>12.730000</td>\n",
       "      <td>189.440002</td>\n",
       "      <td>181.070007</td>\n",
       "      <td>26.809999</td>\n",
       "      <td>315.273285</td>\n",
       "      <td>1308.040039</td>\n",
       "    </tr>\n",
       "    <tr>\n",
       "      <th>4</th>\n",
       "      <td>2012-01-19</td>\n",
       "      <td>61.107143</td>\n",
       "      <td>75.559998</td>\n",
       "      <td>30.420000</td>\n",
       "      <td>12.800000</td>\n",
       "      <td>194.449997</td>\n",
       "      <td>180.520004</td>\n",
       "      <td>26.760000</td>\n",
       "      <td>318.590851</td>\n",
       "      <td>1314.500000</td>\n",
       "    </tr>\n",
       "    <tr>\n",
       "      <th>...</th>\n",
       "      <td>...</td>\n",
       "      <td>...</td>\n",
       "      <td>...</td>\n",
       "      <td>...</td>\n",
       "      <td>...</td>\n",
       "      <td>...</td>\n",
       "      <td>...</td>\n",
       "      <td>...</td>\n",
       "      <td>...</td>\n",
       "      <td>...</td>\n",
       "    </tr>\n",
       "    <tr>\n",
       "      <th>2154</th>\n",
       "      <td>2020-08-05</td>\n",
       "      <td>440.250000</td>\n",
       "      <td>174.279999</td>\n",
       "      <td>29.850000</td>\n",
       "      <td>16.719999</td>\n",
       "      <td>3205.030029</td>\n",
       "      <td>125.449997</td>\n",
       "      <td>1485.020020</td>\n",
       "      <td>1473.609985</td>\n",
       "      <td>3327.770020</td>\n",
       "    </tr>\n",
       "    <tr>\n",
       "      <th>2155</th>\n",
       "      <td>2020-08-06</td>\n",
       "      <td>455.609985</td>\n",
       "      <td>172.199997</td>\n",
       "      <td>29.840000</td>\n",
       "      <td>18.459999</td>\n",
       "      <td>3225.000000</td>\n",
       "      <td>126.120003</td>\n",
       "      <td>1489.579956</td>\n",
       "      <td>1500.099976</td>\n",
       "      <td>3349.159912</td>\n",
       "    </tr>\n",
       "    <tr>\n",
       "      <th>2156</th>\n",
       "      <td>2020-08-07</td>\n",
       "      <td>444.450012</td>\n",
       "      <td>170.020004</td>\n",
       "      <td>30.020000</td>\n",
       "      <td>19.030001</td>\n",
       "      <td>3167.459961</td>\n",
       "      <td>124.959999</td>\n",
       "      <td>1452.709961</td>\n",
       "      <td>1494.489990</td>\n",
       "      <td>3351.280029</td>\n",
       "    </tr>\n",
       "    <tr>\n",
       "      <th>2157</th>\n",
       "      <td>2020-08-10</td>\n",
       "      <td>450.910004</td>\n",
       "      <td>179.410004</td>\n",
       "      <td>30.200001</td>\n",
       "      <td>21.650000</td>\n",
       "      <td>3148.159912</td>\n",
       "      <td>127.110001</td>\n",
       "      <td>1418.569946</td>\n",
       "      <td>1496.099976</td>\n",
       "      <td>3360.469971</td>\n",
       "    </tr>\n",
       "    <tr>\n",
       "      <th>2158</th>\n",
       "      <td>2020-08-11</td>\n",
       "      <td>437.500000</td>\n",
       "      <td>180.130005</td>\n",
       "      <td>30.200001</td>\n",
       "      <td>21.500000</td>\n",
       "      <td>3080.669922</td>\n",
       "      <td>126.750000</td>\n",
       "      <td>1374.390015</td>\n",
       "      <td>1480.319946</td>\n",
       "      <td>3333.689941</td>\n",
       "    </tr>\n",
       "  </tbody>\n",
       "</table>\n",
       "<p>2159 rows × 10 columns</p>\n",
       "</div>"
      ],
      "text/plain": [
       "            Date        AAPL          BA          T        MGM         AMZN  \\\n",
       "0     2012-01-12   60.198570   75.510002  30.120001  12.130000   175.929993   \n",
       "1     2012-01-13   59.972858   74.599998  30.070000  12.350000   178.419998   \n",
       "2     2012-01-17   60.671429   75.239998  30.250000  12.250000   181.660004   \n",
       "3     2012-01-18   61.301430   75.059998  30.330000  12.730000   189.440002   \n",
       "4     2012-01-19   61.107143   75.559998  30.420000  12.800000   194.449997   \n",
       "...          ...         ...         ...        ...        ...          ...   \n",
       "2154  2020-08-05  440.250000  174.279999  29.850000  16.719999  3205.030029   \n",
       "2155  2020-08-06  455.609985  172.199997  29.840000  18.459999  3225.000000   \n",
       "2156  2020-08-07  444.450012  170.020004  30.020000  19.030001  3167.459961   \n",
       "2157  2020-08-10  450.910004  179.410004  30.200001  21.650000  3148.159912   \n",
       "2158  2020-08-11  437.500000  180.130005  30.200001  21.500000  3080.669922   \n",
       "\n",
       "             IBM         TSLA         GOOG        sp500  \n",
       "0     180.550003    28.250000   313.644379  1295.500000  \n",
       "1     179.160004    22.790001   311.328064  1289.089966  \n",
       "2     180.000000    26.600000   313.116364  1293.670044  \n",
       "3     181.070007    26.809999   315.273285  1308.040039  \n",
       "4     180.520004    26.760000   318.590851  1314.500000  \n",
       "...          ...          ...          ...          ...  \n",
       "2154  125.449997  1485.020020  1473.609985  3327.770020  \n",
       "2155  126.120003  1489.579956  1500.099976  3349.159912  \n",
       "2156  124.959999  1452.709961  1494.489990  3351.280029  \n",
       "2157  127.110001  1418.569946  1496.099976  3360.469971  \n",
       "2158  126.750000  1374.390015  1480.319946  3333.689941  \n",
       "\n",
       "[2159 rows x 10 columns]"
      ]
     },
     "execution_count": 4,
     "metadata": {},
     "output_type": "execute_result"
    }
   ],
   "source": [
    "# Sort the data based on Date\n",
    "stock_price_df = stock_price_df.sort_values(by = ['Date'])\n",
    "stock_price_df"
   ]
  },
  {
   "cell_type": "code",
   "execution_count": 5,
   "metadata": {
    "colab": {},
    "colab_type": "code",
    "id": "ROFg8mJP9s0W"
   },
   "outputs": [
    {
     "data": {
      "text/html": [
       "<div>\n",
       "<style scoped>\n",
       "    .dataframe tbody tr th:only-of-type {\n",
       "        vertical-align: middle;\n",
       "    }\n",
       "\n",
       "    .dataframe tbody tr th {\n",
       "        vertical-align: top;\n",
       "    }\n",
       "\n",
       "    .dataframe thead th {\n",
       "        text-align: right;\n",
       "    }\n",
       "</style>\n",
       "<table border=\"1\" class=\"dataframe\">\n",
       "  <thead>\n",
       "    <tr style=\"text-align: right;\">\n",
       "      <th></th>\n",
       "      <th>Date</th>\n",
       "      <th>AAPL</th>\n",
       "      <th>BA</th>\n",
       "      <th>T</th>\n",
       "      <th>MGM</th>\n",
       "      <th>AMZN</th>\n",
       "      <th>IBM</th>\n",
       "      <th>TSLA</th>\n",
       "      <th>GOOG</th>\n",
       "      <th>sp500</th>\n",
       "    </tr>\n",
       "  </thead>\n",
       "  <tbody>\n",
       "    <tr>\n",
       "      <th>0</th>\n",
       "      <td>2012-01-12</td>\n",
       "      <td>53146800</td>\n",
       "      <td>3934500</td>\n",
       "      <td>26511100</td>\n",
       "      <td>17891100</td>\n",
       "      <td>5385800</td>\n",
       "      <td>6881000</td>\n",
       "      <td>729300</td>\n",
       "      <td>3764400</td>\n",
       "      <td>4019890000</td>\n",
       "    </tr>\n",
       "    <tr>\n",
       "      <th>1</th>\n",
       "      <td>2012-01-13</td>\n",
       "      <td>56505400</td>\n",
       "      <td>4641100</td>\n",
       "      <td>22096800</td>\n",
       "      <td>16621800</td>\n",
       "      <td>4753500</td>\n",
       "      <td>5279200</td>\n",
       "      <td>5500400</td>\n",
       "      <td>4631800</td>\n",
       "      <td>3692370000</td>\n",
       "    </tr>\n",
       "    <tr>\n",
       "      <th>2</th>\n",
       "      <td>2012-01-17</td>\n",
       "      <td>60724300</td>\n",
       "      <td>3700100</td>\n",
       "      <td>23500200</td>\n",
       "      <td>15480800</td>\n",
       "      <td>5644500</td>\n",
       "      <td>6003400</td>\n",
       "      <td>4651600</td>\n",
       "      <td>3832800</td>\n",
       "      <td>4010490000</td>\n",
       "    </tr>\n",
       "    <tr>\n",
       "      <th>3</th>\n",
       "      <td>2012-01-18</td>\n",
       "      <td>69197800</td>\n",
       "      <td>4189500</td>\n",
       "      <td>22015000</td>\n",
       "      <td>18387600</td>\n",
       "      <td>7473500</td>\n",
       "      <td>4600600</td>\n",
       "      <td>1260200</td>\n",
       "      <td>5544000</td>\n",
       "      <td>4096160000</td>\n",
       "    </tr>\n",
       "    <tr>\n",
       "      <th>4</th>\n",
       "      <td>2012-01-19</td>\n",
       "      <td>65434600</td>\n",
       "      <td>5397300</td>\n",
       "      <td>25524000</td>\n",
       "      <td>14022900</td>\n",
       "      <td>7096000</td>\n",
       "      <td>8567200</td>\n",
       "      <td>1246300</td>\n",
       "      <td>12657800</td>\n",
       "      <td>4465890000</td>\n",
       "    </tr>\n",
       "    <tr>\n",
       "      <th>...</th>\n",
       "      <td>...</td>\n",
       "      <td>...</td>\n",
       "      <td>...</td>\n",
       "      <td>...</td>\n",
       "      <td>...</td>\n",
       "      <td>...</td>\n",
       "      <td>...</td>\n",
       "      <td>...</td>\n",
       "      <td>...</td>\n",
       "      <td>...</td>\n",
       "    </tr>\n",
       "    <tr>\n",
       "      <th>2154</th>\n",
       "      <td>2020-08-05</td>\n",
       "      <td>30498000</td>\n",
       "      <td>46551000</td>\n",
       "      <td>22991700</td>\n",
       "      <td>18914200</td>\n",
       "      <td>3930000</td>\n",
       "      <td>3675400</td>\n",
       "      <td>4978000</td>\n",
       "      <td>1979500</td>\n",
       "      <td>4732220000</td>\n",
       "    </tr>\n",
       "    <tr>\n",
       "      <th>2155</th>\n",
       "      <td>2020-08-06</td>\n",
       "      <td>50607200</td>\n",
       "      <td>32921600</td>\n",
       "      <td>21908700</td>\n",
       "      <td>35867700</td>\n",
       "      <td>3940600</td>\n",
       "      <td>3417100</td>\n",
       "      <td>5992300</td>\n",
       "      <td>1995400</td>\n",
       "      <td>4267490000</td>\n",
       "    </tr>\n",
       "    <tr>\n",
       "      <th>2156</th>\n",
       "      <td>2020-08-07</td>\n",
       "      <td>49453300</td>\n",
       "      <td>19301600</td>\n",
       "      <td>30398500</td>\n",
       "      <td>34530300</td>\n",
       "      <td>3929600</td>\n",
       "      <td>3651000</td>\n",
       "      <td>8883500</td>\n",
       "      <td>1576600</td>\n",
       "      <td>4104860000</td>\n",
       "    </tr>\n",
       "    <tr>\n",
       "      <th>2157</th>\n",
       "      <td>2020-08-10</td>\n",
       "      <td>53100900</td>\n",
       "      <td>35857700</td>\n",
       "      <td>35514400</td>\n",
       "      <td>71219700</td>\n",
       "      <td>3167300</td>\n",
       "      <td>3968300</td>\n",
       "      <td>7522300</td>\n",
       "      <td>1289300</td>\n",
       "      <td>4318570000</td>\n",
       "    </tr>\n",
       "    <tr>\n",
       "      <th>2158</th>\n",
       "      <td>2020-08-11</td>\n",
       "      <td>46871100</td>\n",
       "      <td>60966900</td>\n",
       "      <td>30978300</td>\n",
       "      <td>34357900</td>\n",
       "      <td>3706600</td>\n",
       "      <td>4998500</td>\n",
       "      <td>8356000</td>\n",
       "      <td>1452000</td>\n",
       "      <td>5087650000</td>\n",
       "    </tr>\n",
       "  </tbody>\n",
       "</table>\n",
       "<p>2159 rows × 10 columns</p>\n",
       "</div>"
      ],
      "text/plain": [
       "            Date      AAPL        BA         T       MGM     AMZN      IBM  \\\n",
       "0     2012-01-12  53146800   3934500  26511100  17891100  5385800  6881000   \n",
       "1     2012-01-13  56505400   4641100  22096800  16621800  4753500  5279200   \n",
       "2     2012-01-17  60724300   3700100  23500200  15480800  5644500  6003400   \n",
       "3     2012-01-18  69197800   4189500  22015000  18387600  7473500  4600600   \n",
       "4     2012-01-19  65434600   5397300  25524000  14022900  7096000  8567200   \n",
       "...          ...       ...       ...       ...       ...      ...      ...   \n",
       "2154  2020-08-05  30498000  46551000  22991700  18914200  3930000  3675400   \n",
       "2155  2020-08-06  50607200  32921600  21908700  35867700  3940600  3417100   \n",
       "2156  2020-08-07  49453300  19301600  30398500  34530300  3929600  3651000   \n",
       "2157  2020-08-10  53100900  35857700  35514400  71219700  3167300  3968300   \n",
       "2158  2020-08-11  46871100  60966900  30978300  34357900  3706600  4998500   \n",
       "\n",
       "         TSLA      GOOG       sp500  \n",
       "0      729300   3764400  4019890000  \n",
       "1     5500400   4631800  3692370000  \n",
       "2     4651600   3832800  4010490000  \n",
       "3     1260200   5544000  4096160000  \n",
       "4     1246300  12657800  4465890000  \n",
       "...       ...       ...         ...  \n",
       "2154  4978000   1979500  4732220000  \n",
       "2155  5992300   1995400  4267490000  \n",
       "2156  8883500   1576600  4104860000  \n",
       "2157  7522300   1289300  4318570000  \n",
       "2158  8356000   1452000  5087650000  \n",
       "\n",
       "[2159 rows x 10 columns]"
      ]
     },
     "execution_count": 5,
     "metadata": {},
     "output_type": "execute_result"
    }
   ],
   "source": [
    "# Sort the data based on Date\n",
    "stock_vol_df = stock_vol_df.sort_values(by = ['Date'])\n",
    "stock_vol_df"
   ]
  },
  {
   "cell_type": "code",
   "execution_count": 6,
   "metadata": {
    "colab": {},
    "colab_type": "code",
    "id": "hvihVJ0UZ2fe"
   },
   "outputs": [
    {
     "data": {
      "text/plain": [
       "Date     0\n",
       "AAPL     0\n",
       "BA       0\n",
       "T        0\n",
       "MGM      0\n",
       "AMZN     0\n",
       "IBM      0\n",
       "TSLA     0\n",
       "GOOG     0\n",
       "sp500    0\n",
       "dtype: int64"
      ]
     },
     "execution_count": 6,
     "metadata": {},
     "output_type": "execute_result"
    }
   ],
   "source": [
    "# Check if Null values exist in stock prices data\n",
    "stock_price_df.isnull().sum()"
   ]
  },
  {
   "cell_type": "code",
   "execution_count": 7,
   "metadata": {
    "colab": {},
    "colab_type": "code",
    "id": "NkMQnKIZ099u"
   },
   "outputs": [
    {
     "data": {
      "text/plain": [
       "Date     0\n",
       "AAPL     0\n",
       "BA       0\n",
       "T        0\n",
       "MGM      0\n",
       "AMZN     0\n",
       "IBM      0\n",
       "TSLA     0\n",
       "GOOG     0\n",
       "sp500    0\n",
       "dtype: int64"
      ]
     },
     "execution_count": 7,
     "metadata": {},
     "output_type": "execute_result"
    }
   ],
   "source": [
    "# Check if Null values exist in stocks volume data\n",
    "stock_vol_df.isnull().sum()"
   ]
  },
  {
   "cell_type": "code",
   "execution_count": 8,
   "metadata": {
    "colab": {},
    "colab_type": "code",
    "id": "Z4nClRot5F4y"
   },
   "outputs": [
    {
     "name": "stdout",
     "output_type": "stream",
     "text": [
      "<class 'pandas.core.frame.DataFrame'>\n",
      "Int64Index: 2159 entries, 0 to 2158\n",
      "Data columns (total 10 columns):\n",
      " #   Column  Non-Null Count  Dtype  \n",
      "---  ------  --------------  -----  \n",
      " 0   Date    2159 non-null   object \n",
      " 1   AAPL    2159 non-null   float64\n",
      " 2   BA      2159 non-null   float64\n",
      " 3   T       2159 non-null   float64\n",
      " 4   MGM     2159 non-null   float64\n",
      " 5   AMZN    2159 non-null   float64\n",
      " 6   IBM     2159 non-null   float64\n",
      " 7   TSLA    2159 non-null   float64\n",
      " 8   GOOG    2159 non-null   float64\n",
      " 9   sp500   2159 non-null   float64\n",
      "dtypes: float64(9), object(1)\n",
      "memory usage: 185.5+ KB\n"
     ]
    }
   ],
   "source": [
    "# Get stock prices dataframe info\n",
    "stock_price_df.info()"
   ]
  },
  {
   "cell_type": "code",
   "execution_count": 9,
   "metadata": {
    "colab": {},
    "colab_type": "code",
    "id": "onwN8ky494An"
   },
   "outputs": [
    {
     "name": "stdout",
     "output_type": "stream",
     "text": [
      "<class 'pandas.core.frame.DataFrame'>\n",
      "Int64Index: 2159 entries, 0 to 2158\n",
      "Data columns (total 10 columns):\n",
      " #   Column  Non-Null Count  Dtype \n",
      "---  ------  --------------  ----- \n",
      " 0   Date    2159 non-null   object\n",
      " 1   AAPL    2159 non-null   int64 \n",
      " 2   BA      2159 non-null   int64 \n",
      " 3   T       2159 non-null   int64 \n",
      " 4   MGM     2159 non-null   int64 \n",
      " 5   AMZN    2159 non-null   int64 \n",
      " 6   IBM     2159 non-null   int64 \n",
      " 7   TSLA    2159 non-null   int64 \n",
      " 8   GOOG    2159 non-null   int64 \n",
      " 9   sp500   2159 non-null   int64 \n",
      "dtypes: int64(9), object(1)\n",
      "memory usage: 185.5+ KB\n"
     ]
    }
   ],
   "source": [
    "# Get stock volume dataframe info\n",
    "stock_vol_df.info()"
   ]
  },
  {
   "cell_type": "code",
   "execution_count": 10,
   "metadata": {
    "colab": {},
    "colab_type": "code",
    "id": "8mvKrUmhmxeR"
   },
   "outputs": [
    {
     "data": {
      "text/html": [
       "<div>\n",
       "<style scoped>\n",
       "    .dataframe tbody tr th:only-of-type {\n",
       "        vertical-align: middle;\n",
       "    }\n",
       "\n",
       "    .dataframe tbody tr th {\n",
       "        vertical-align: top;\n",
       "    }\n",
       "\n",
       "    .dataframe thead th {\n",
       "        text-align: right;\n",
       "    }\n",
       "</style>\n",
       "<table border=\"1\" class=\"dataframe\">\n",
       "  <thead>\n",
       "    <tr style=\"text-align: right;\">\n",
       "      <th></th>\n",
       "      <th>AAPL</th>\n",
       "      <th>BA</th>\n",
       "      <th>T</th>\n",
       "      <th>MGM</th>\n",
       "      <th>AMZN</th>\n",
       "      <th>IBM</th>\n",
       "      <th>TSLA</th>\n",
       "      <th>GOOG</th>\n",
       "      <th>sp500</th>\n",
       "    </tr>\n",
       "  </thead>\n",
       "  <tbody>\n",
       "    <tr>\n",
       "      <th>count</th>\n",
       "      <td>2.159000e+03</td>\n",
       "      <td>2.159000e+03</td>\n",
       "      <td>2.159000e+03</td>\n",
       "      <td>2.159000e+03</td>\n",
       "      <td>2.159000e+03</td>\n",
       "      <td>2.159000e+03</td>\n",
       "      <td>2.159000e+03</td>\n",
       "      <td>2.159000e+03</td>\n",
       "      <td>2.159000e+03</td>\n",
       "    </tr>\n",
       "    <tr>\n",
       "      <th>mean</th>\n",
       "      <td>5.820332e+07</td>\n",
       "      <td>6.419916e+06</td>\n",
       "      <td>2.832131e+07</td>\n",
       "      <td>9.845582e+06</td>\n",
       "      <td>4.102673e+06</td>\n",
       "      <td>4.453090e+06</td>\n",
       "      <td>7.001302e+06</td>\n",
       "      <td>2.498238e+06</td>\n",
       "      <td>3.680732e+09</td>\n",
       "    </tr>\n",
       "    <tr>\n",
       "      <th>std</th>\n",
       "      <td>4.568141e+07</td>\n",
       "      <td>9.711873e+06</td>\n",
       "      <td>1.428911e+07</td>\n",
       "      <td>7.295753e+06</td>\n",
       "      <td>2.290722e+06</td>\n",
       "      <td>2.462811e+06</td>\n",
       "      <td>5.781208e+06</td>\n",
       "      <td>1.928407e+06</td>\n",
       "      <td>8.622717e+08</td>\n",
       "    </tr>\n",
       "    <tr>\n",
       "      <th>min</th>\n",
       "      <td>1.136200e+07</td>\n",
       "      <td>7.889000e+05</td>\n",
       "      <td>6.862400e+06</td>\n",
       "      <td>9.507000e+05</td>\n",
       "      <td>8.813000e+05</td>\n",
       "      <td>1.193000e+06</td>\n",
       "      <td>3.649000e+05</td>\n",
       "      <td>7.900000e+03</td>\n",
       "      <td>1.248960e+09</td>\n",
       "    </tr>\n",
       "    <tr>\n",
       "      <th>25%</th>\n",
       "      <td>2.769930e+07</td>\n",
       "      <td>3.031850e+06</td>\n",
       "      <td>2.002150e+07</td>\n",
       "      <td>5.796450e+06</td>\n",
       "      <td>2.675700e+06</td>\n",
       "      <td>3.111250e+06</td>\n",
       "      <td>3.433450e+06</td>\n",
       "      <td>1.325400e+06</td>\n",
       "      <td>3.211890e+09</td>\n",
       "    </tr>\n",
       "    <tr>\n",
       "      <th>50%</th>\n",
       "      <td>4.209420e+07</td>\n",
       "      <td>3.991000e+06</td>\n",
       "      <td>2.485930e+07</td>\n",
       "      <td>7.899800e+06</td>\n",
       "      <td>3.494800e+06</td>\n",
       "      <td>3.825000e+06</td>\n",
       "      <td>5.581100e+06</td>\n",
       "      <td>1.813900e+06</td>\n",
       "      <td>3.526890e+09</td>\n",
       "    </tr>\n",
       "    <tr>\n",
       "      <th>75%</th>\n",
       "      <td>7.182480e+07</td>\n",
       "      <td>5.325900e+06</td>\n",
       "      <td>3.210565e+07</td>\n",
       "      <td>1.104055e+07</td>\n",
       "      <td>4.768150e+06</td>\n",
       "      <td>4.937300e+06</td>\n",
       "      <td>8.619550e+06</td>\n",
       "      <td>3.245350e+06</td>\n",
       "      <td>3.933290e+09</td>\n",
       "    </tr>\n",
       "    <tr>\n",
       "      <th>max</th>\n",
       "      <td>3.765300e+08</td>\n",
       "      <td>1.032128e+08</td>\n",
       "      <td>1.950827e+08</td>\n",
       "      <td>9.009820e+07</td>\n",
       "      <td>2.385610e+07</td>\n",
       "      <td>3.049020e+07</td>\n",
       "      <td>6.093880e+07</td>\n",
       "      <td>2.497790e+07</td>\n",
       "      <td>9.044690e+09</td>\n",
       "    </tr>\n",
       "  </tbody>\n",
       "</table>\n",
       "</div>"
      ],
      "text/plain": [
       "               AAPL            BA             T           MGM          AMZN  \\\n",
       "count  2.159000e+03  2.159000e+03  2.159000e+03  2.159000e+03  2.159000e+03   \n",
       "mean   5.820332e+07  6.419916e+06  2.832131e+07  9.845582e+06  4.102673e+06   \n",
       "std    4.568141e+07  9.711873e+06  1.428911e+07  7.295753e+06  2.290722e+06   \n",
       "min    1.136200e+07  7.889000e+05  6.862400e+06  9.507000e+05  8.813000e+05   \n",
       "25%    2.769930e+07  3.031850e+06  2.002150e+07  5.796450e+06  2.675700e+06   \n",
       "50%    4.209420e+07  3.991000e+06  2.485930e+07  7.899800e+06  3.494800e+06   \n",
       "75%    7.182480e+07  5.325900e+06  3.210565e+07  1.104055e+07  4.768150e+06   \n",
       "max    3.765300e+08  1.032128e+08  1.950827e+08  9.009820e+07  2.385610e+07   \n",
       "\n",
       "                IBM          TSLA          GOOG         sp500  \n",
       "count  2.159000e+03  2.159000e+03  2.159000e+03  2.159000e+03  \n",
       "mean   4.453090e+06  7.001302e+06  2.498238e+06  3.680732e+09  \n",
       "std    2.462811e+06  5.781208e+06  1.928407e+06  8.622717e+08  \n",
       "min    1.193000e+06  3.649000e+05  7.900000e+03  1.248960e+09  \n",
       "25%    3.111250e+06  3.433450e+06  1.325400e+06  3.211890e+09  \n",
       "50%    3.825000e+06  5.581100e+06  1.813900e+06  3.526890e+09  \n",
       "75%    4.937300e+06  8.619550e+06  3.245350e+06  3.933290e+09  \n",
       "max    3.049020e+07  6.093880e+07  2.497790e+07  9.044690e+09  "
      ]
     },
     "execution_count": 10,
     "metadata": {},
     "output_type": "execute_result"
    }
   ],
   "source": [
    "stock_vol_df.describe()"
   ]
  },
  {
   "cell_type": "markdown",
   "metadata": {
    "colab_type": "text",
    "id": "-nFC4pHcGr57"
   },
   "source": [
    "#TASK #3: PERFORM EXPLORATORY DATA ANALYSIS AND VISUALIZATION"
   ]
  },
  {
   "cell_type": "code",
   "execution_count": 11,
   "metadata": {
    "colab": {},
    "colab_type": "code",
    "id": "YDkIJX8rEMxC"
   },
   "outputs": [],
   "source": [
    "# Function to normalize stock prices based on their initial price\n",
    "def normalize(df):\n",
    "  x = df.copy()\n",
    "  for i in x.columns[1:]:\n",
    "    x[i] = x[i]/x[i][0]\n",
    "  return x"
   ]
  },
  {
   "cell_type": "code",
   "execution_count": 13,
   "metadata": {
    "colab": {},
    "colab_type": "code",
    "id": "hGNiYwkkLqfu"
   },
   "outputs": [],
   "source": [
    "# Function to plot interactive plots using Plotly Express\n",
    "def interactive_plot(df, title):\n",
    "  fig = px.line(title = title)\n",
    "  for i in df.columns[1:]:\n",
    "    fig.add_scatter(x = df['Date'], y = df[i], name = i)\n",
    "  fig.show()"
   ]
  },
  {
   "cell_type": "code",
   "execution_count": 14,
   "metadata": {
    "colab": {},
    "colab_type": "code",
    "id": "zzkZZQ5NO2AJ"
   },
   "outputs": [
    {
     "data": {
      "text/html": [
       "<iframe\n",
       "    scrolling=\"no\"\n",
       "    width=\"100%\"\n",
       "    height=\"545px\"\n",
       "    src=\"iframe_figures/figure_14.html\"\n",
       "    frameborder=\"0\"\n",
       "    allowfullscreen\n",
       "></iframe>\n"
      ]
     },
     "metadata": {},
     "output_type": "display_data"
    }
   ],
   "source": [
    "# plot interactive chart for stocks data\n",
    "interactive_plot(stock_price_df, 'Stock Prices')"
   ]
  },
  {
   "cell_type": "markdown",
   "metadata": {
    "colab_type": "text",
    "id": "DFE61_E-gu5V"
   },
   "source": [
    "# TASK #4: PREPARE THE DATA BEFORE TRAINING THE AI/ML MODEL"
   ]
  },
  {
   "cell_type": "markdown",
   "metadata": {
    "colab_type": "text",
    "id": "sWflwv1or9s_"
   },
   "source": [
    "![alt text](https://drive.google.com/uc?id=1uXYYHfgeJyncu4BZRAooTC4iCclH9e9B)"
   ]
  },
  {
   "cell_type": "code",
   "execution_count": 15,
   "metadata": {
    "colab": {},
    "colab_type": "code",
    "id": "LA1XN-zgBMHI"
   },
   "outputs": [],
   "source": [
    "# Function to concatenate the date, stock price, and volume in one dataframe\n",
    "def individual_stock(price_df, vol_df, name):\n",
    "    return pd.DataFrame({'Date': price_df['Date'], 'Close': price_df[name], 'Volume': vol_df[name]})"
   ]
  },
  {
   "cell_type": "code",
   "execution_count": 16,
   "metadata": {
    "colab": {},
    "colab_type": "code",
    "id": "NP_-Yyay__cb"
   },
   "outputs": [],
   "source": [
    "# Function to return the input/output (target) data for AI/ML Model\n",
    "# Note that our goal is to predict the future stock price \n",
    "# Target stock price today will be tomorrow's price \n",
    "def trading_window(data):\n",
    "  \n",
    "  # 1 day window \n",
    "  n = 1\n",
    "\n",
    "  # Create a column containing the prices for the next 1 days\n",
    "  data['Target'] = data[['Close']].shift(-n)\n",
    "  \n",
    "  # return the new dataset \n",
    "  return data"
   ]
  },
  {
   "cell_type": "code",
   "execution_count": 17,
   "metadata": {
    "colab": {},
    "colab_type": "code",
    "id": "-VdtCh0BB_vH"
   },
   "outputs": [
    {
     "data": {
      "text/html": [
       "<div>\n",
       "<style scoped>\n",
       "    .dataframe tbody tr th:only-of-type {\n",
       "        vertical-align: middle;\n",
       "    }\n",
       "\n",
       "    .dataframe tbody tr th {\n",
       "        vertical-align: top;\n",
       "    }\n",
       "\n",
       "    .dataframe thead th {\n",
       "        text-align: right;\n",
       "    }\n",
       "</style>\n",
       "<table border=\"1\" class=\"dataframe\">\n",
       "  <thead>\n",
       "    <tr style=\"text-align: right;\">\n",
       "      <th></th>\n",
       "      <th>Date</th>\n",
       "      <th>Close</th>\n",
       "      <th>Volume</th>\n",
       "    </tr>\n",
       "  </thead>\n",
       "  <tbody>\n",
       "    <tr>\n",
       "      <th>0</th>\n",
       "      <td>2012-01-12</td>\n",
       "      <td>60.198570</td>\n",
       "      <td>53146800</td>\n",
       "    </tr>\n",
       "    <tr>\n",
       "      <th>1</th>\n",
       "      <td>2012-01-13</td>\n",
       "      <td>59.972858</td>\n",
       "      <td>56505400</td>\n",
       "    </tr>\n",
       "    <tr>\n",
       "      <th>2</th>\n",
       "      <td>2012-01-17</td>\n",
       "      <td>60.671429</td>\n",
       "      <td>60724300</td>\n",
       "    </tr>\n",
       "    <tr>\n",
       "      <th>3</th>\n",
       "      <td>2012-01-18</td>\n",
       "      <td>61.301430</td>\n",
       "      <td>69197800</td>\n",
       "    </tr>\n",
       "    <tr>\n",
       "      <th>4</th>\n",
       "      <td>2012-01-19</td>\n",
       "      <td>61.107143</td>\n",
       "      <td>65434600</td>\n",
       "    </tr>\n",
       "    <tr>\n",
       "      <th>...</th>\n",
       "      <td>...</td>\n",
       "      <td>...</td>\n",
       "      <td>...</td>\n",
       "    </tr>\n",
       "    <tr>\n",
       "      <th>2154</th>\n",
       "      <td>2020-08-05</td>\n",
       "      <td>440.250000</td>\n",
       "      <td>30498000</td>\n",
       "    </tr>\n",
       "    <tr>\n",
       "      <th>2155</th>\n",
       "      <td>2020-08-06</td>\n",
       "      <td>455.609985</td>\n",
       "      <td>50607200</td>\n",
       "    </tr>\n",
       "    <tr>\n",
       "      <th>2156</th>\n",
       "      <td>2020-08-07</td>\n",
       "      <td>444.450012</td>\n",
       "      <td>49453300</td>\n",
       "    </tr>\n",
       "    <tr>\n",
       "      <th>2157</th>\n",
       "      <td>2020-08-10</td>\n",
       "      <td>450.910004</td>\n",
       "      <td>53100900</td>\n",
       "    </tr>\n",
       "    <tr>\n",
       "      <th>2158</th>\n",
       "      <td>2020-08-11</td>\n",
       "      <td>437.500000</td>\n",
       "      <td>46871100</td>\n",
       "    </tr>\n",
       "  </tbody>\n",
       "</table>\n",
       "<p>2159 rows × 3 columns</p>\n",
       "</div>"
      ],
      "text/plain": [
       "            Date       Close    Volume\n",
       "0     2012-01-12   60.198570  53146800\n",
       "1     2012-01-13   59.972858  56505400\n",
       "2     2012-01-17   60.671429  60724300\n",
       "3     2012-01-18   61.301430  69197800\n",
       "4     2012-01-19   61.107143  65434600\n",
       "...          ...         ...       ...\n",
       "2154  2020-08-05  440.250000  30498000\n",
       "2155  2020-08-06  455.609985  50607200\n",
       "2156  2020-08-07  444.450012  49453300\n",
       "2157  2020-08-10  450.910004  53100900\n",
       "2158  2020-08-11  437.500000  46871100\n",
       "\n",
       "[2159 rows x 3 columns]"
      ]
     },
     "execution_count": 17,
     "metadata": {},
     "output_type": "execute_result"
    }
   ],
   "source": [
    "# Let's test the functions and get individual stock prices and volumes for AAPL\n",
    "price_volume_df = individual_stock(stock_price_df, stock_vol_df, 'AAPL')\n",
    "price_volume_df"
   ]
  },
  {
   "cell_type": "code",
   "execution_count": 18,
   "metadata": {
    "colab": {},
    "colab_type": "code",
    "id": "8sZ9a0mMCYq-"
   },
   "outputs": [
    {
     "data": {
      "text/html": [
       "<div>\n",
       "<style scoped>\n",
       "    .dataframe tbody tr th:only-of-type {\n",
       "        vertical-align: middle;\n",
       "    }\n",
       "\n",
       "    .dataframe tbody tr th {\n",
       "        vertical-align: top;\n",
       "    }\n",
       "\n",
       "    .dataframe thead th {\n",
       "        text-align: right;\n",
       "    }\n",
       "</style>\n",
       "<table border=\"1\" class=\"dataframe\">\n",
       "  <thead>\n",
       "    <tr style=\"text-align: right;\">\n",
       "      <th></th>\n",
       "      <th>Date</th>\n",
       "      <th>Close</th>\n",
       "      <th>Volume</th>\n",
       "      <th>Target</th>\n",
       "    </tr>\n",
       "  </thead>\n",
       "  <tbody>\n",
       "    <tr>\n",
       "      <th>0</th>\n",
       "      <td>2012-01-12</td>\n",
       "      <td>60.198570</td>\n",
       "      <td>53146800</td>\n",
       "      <td>59.972858</td>\n",
       "    </tr>\n",
       "    <tr>\n",
       "      <th>1</th>\n",
       "      <td>2012-01-13</td>\n",
       "      <td>59.972858</td>\n",
       "      <td>56505400</td>\n",
       "      <td>60.671429</td>\n",
       "    </tr>\n",
       "    <tr>\n",
       "      <th>2</th>\n",
       "      <td>2012-01-17</td>\n",
       "      <td>60.671429</td>\n",
       "      <td>60724300</td>\n",
       "      <td>61.301430</td>\n",
       "    </tr>\n",
       "    <tr>\n",
       "      <th>3</th>\n",
       "      <td>2012-01-18</td>\n",
       "      <td>61.301430</td>\n",
       "      <td>69197800</td>\n",
       "      <td>61.107143</td>\n",
       "    </tr>\n",
       "    <tr>\n",
       "      <th>4</th>\n",
       "      <td>2012-01-19</td>\n",
       "      <td>61.107143</td>\n",
       "      <td>65434600</td>\n",
       "      <td>60.042858</td>\n",
       "    </tr>\n",
       "    <tr>\n",
       "      <th>...</th>\n",
       "      <td>...</td>\n",
       "      <td>...</td>\n",
       "      <td>...</td>\n",
       "      <td>...</td>\n",
       "    </tr>\n",
       "    <tr>\n",
       "      <th>2154</th>\n",
       "      <td>2020-08-05</td>\n",
       "      <td>440.250000</td>\n",
       "      <td>30498000</td>\n",
       "      <td>455.609985</td>\n",
       "    </tr>\n",
       "    <tr>\n",
       "      <th>2155</th>\n",
       "      <td>2020-08-06</td>\n",
       "      <td>455.609985</td>\n",
       "      <td>50607200</td>\n",
       "      <td>444.450012</td>\n",
       "    </tr>\n",
       "    <tr>\n",
       "      <th>2156</th>\n",
       "      <td>2020-08-07</td>\n",
       "      <td>444.450012</td>\n",
       "      <td>49453300</td>\n",
       "      <td>450.910004</td>\n",
       "    </tr>\n",
       "    <tr>\n",
       "      <th>2157</th>\n",
       "      <td>2020-08-10</td>\n",
       "      <td>450.910004</td>\n",
       "      <td>53100900</td>\n",
       "      <td>437.500000</td>\n",
       "    </tr>\n",
       "    <tr>\n",
       "      <th>2158</th>\n",
       "      <td>2020-08-11</td>\n",
       "      <td>437.500000</td>\n",
       "      <td>46871100</td>\n",
       "      <td>NaN</td>\n",
       "    </tr>\n",
       "  </tbody>\n",
       "</table>\n",
       "<p>2159 rows × 4 columns</p>\n",
       "</div>"
      ],
      "text/plain": [
       "            Date       Close    Volume      Target\n",
       "0     2012-01-12   60.198570  53146800   59.972858\n",
       "1     2012-01-13   59.972858  56505400   60.671429\n",
       "2     2012-01-17   60.671429  60724300   61.301430\n",
       "3     2012-01-18   61.301430  69197800   61.107143\n",
       "4     2012-01-19   61.107143  65434600   60.042858\n",
       "...          ...         ...       ...         ...\n",
       "2154  2020-08-05  440.250000  30498000  455.609985\n",
       "2155  2020-08-06  455.609985  50607200  444.450012\n",
       "2156  2020-08-07  444.450012  49453300  450.910004\n",
       "2157  2020-08-10  450.910004  53100900  437.500000\n",
       "2158  2020-08-11  437.500000  46871100         NaN\n",
       "\n",
       "[2159 rows x 4 columns]"
      ]
     },
     "execution_count": 18,
     "metadata": {},
     "output_type": "execute_result"
    }
   ],
   "source": [
    "price_volume_target_df = trading_window(price_volume_df)\n",
    "price_volume_target_df"
   ]
  },
  {
   "cell_type": "code",
   "execution_count": 19,
   "metadata": {
    "colab": {},
    "colab_type": "code",
    "id": "6UdkMEUcD18c"
   },
   "outputs": [
    {
     "data": {
      "text/html": [
       "<div>\n",
       "<style scoped>\n",
       "    .dataframe tbody tr th:only-of-type {\n",
       "        vertical-align: middle;\n",
       "    }\n",
       "\n",
       "    .dataframe tbody tr th {\n",
       "        vertical-align: top;\n",
       "    }\n",
       "\n",
       "    .dataframe thead th {\n",
       "        text-align: right;\n",
       "    }\n",
       "</style>\n",
       "<table border=\"1\" class=\"dataframe\">\n",
       "  <thead>\n",
       "    <tr style=\"text-align: right;\">\n",
       "      <th></th>\n",
       "      <th>Date</th>\n",
       "      <th>Close</th>\n",
       "      <th>Volume</th>\n",
       "      <th>Target</th>\n",
       "    </tr>\n",
       "  </thead>\n",
       "  <tbody>\n",
       "    <tr>\n",
       "      <th>0</th>\n",
       "      <td>2012-01-12</td>\n",
       "      <td>60.198570</td>\n",
       "      <td>53146800</td>\n",
       "      <td>59.972858</td>\n",
       "    </tr>\n",
       "    <tr>\n",
       "      <th>1</th>\n",
       "      <td>2012-01-13</td>\n",
       "      <td>59.972858</td>\n",
       "      <td>56505400</td>\n",
       "      <td>60.671429</td>\n",
       "    </tr>\n",
       "    <tr>\n",
       "      <th>2</th>\n",
       "      <td>2012-01-17</td>\n",
       "      <td>60.671429</td>\n",
       "      <td>60724300</td>\n",
       "      <td>61.301430</td>\n",
       "    </tr>\n",
       "    <tr>\n",
       "      <th>3</th>\n",
       "      <td>2012-01-18</td>\n",
       "      <td>61.301430</td>\n",
       "      <td>69197800</td>\n",
       "      <td>61.107143</td>\n",
       "    </tr>\n",
       "    <tr>\n",
       "      <th>4</th>\n",
       "      <td>2012-01-19</td>\n",
       "      <td>61.107143</td>\n",
       "      <td>65434600</td>\n",
       "      <td>60.042858</td>\n",
       "    </tr>\n",
       "    <tr>\n",
       "      <th>...</th>\n",
       "      <td>...</td>\n",
       "      <td>...</td>\n",
       "      <td>...</td>\n",
       "      <td>...</td>\n",
       "    </tr>\n",
       "    <tr>\n",
       "      <th>2153</th>\n",
       "      <td>2020-08-04</td>\n",
       "      <td>438.660004</td>\n",
       "      <td>43267900</td>\n",
       "      <td>440.250000</td>\n",
       "    </tr>\n",
       "    <tr>\n",
       "      <th>2154</th>\n",
       "      <td>2020-08-05</td>\n",
       "      <td>440.250000</td>\n",
       "      <td>30498000</td>\n",
       "      <td>455.609985</td>\n",
       "    </tr>\n",
       "    <tr>\n",
       "      <th>2155</th>\n",
       "      <td>2020-08-06</td>\n",
       "      <td>455.609985</td>\n",
       "      <td>50607200</td>\n",
       "      <td>444.450012</td>\n",
       "    </tr>\n",
       "    <tr>\n",
       "      <th>2156</th>\n",
       "      <td>2020-08-07</td>\n",
       "      <td>444.450012</td>\n",
       "      <td>49453300</td>\n",
       "      <td>450.910004</td>\n",
       "    </tr>\n",
       "    <tr>\n",
       "      <th>2157</th>\n",
       "      <td>2020-08-10</td>\n",
       "      <td>450.910004</td>\n",
       "      <td>53100900</td>\n",
       "      <td>437.500000</td>\n",
       "    </tr>\n",
       "  </tbody>\n",
       "</table>\n",
       "<p>2158 rows × 4 columns</p>\n",
       "</div>"
      ],
      "text/plain": [
       "            Date       Close    Volume      Target\n",
       "0     2012-01-12   60.198570  53146800   59.972858\n",
       "1     2012-01-13   59.972858  56505400   60.671429\n",
       "2     2012-01-17   60.671429  60724300   61.301430\n",
       "3     2012-01-18   61.301430  69197800   61.107143\n",
       "4     2012-01-19   61.107143  65434600   60.042858\n",
       "...          ...         ...       ...         ...\n",
       "2153  2020-08-04  438.660004  43267900  440.250000\n",
       "2154  2020-08-05  440.250000  30498000  455.609985\n",
       "2155  2020-08-06  455.609985  50607200  444.450012\n",
       "2156  2020-08-07  444.450012  49453300  450.910004\n",
       "2157  2020-08-10  450.910004  53100900  437.500000\n",
       "\n",
       "[2158 rows x 4 columns]"
      ]
     },
     "execution_count": 19,
     "metadata": {},
     "output_type": "execute_result"
    }
   ],
   "source": [
    "# Remove the last row as it will be a null value\n",
    "price_volume_target_df = price_volume_target_df[:-1]\n",
    "price_volume_target_df"
   ]
  },
  {
   "cell_type": "code",
   "execution_count": 20,
   "metadata": {
    "colab": {},
    "colab_type": "code",
    "id": "M08n1GlnZtlL"
   },
   "outputs": [],
   "source": [
    "# Scale the data\n",
    "from sklearn.preprocessing import MinMaxScaler\n",
    "sc = MinMaxScaler(feature_range = (0, 1))\n",
    "price_volume_target_scaled_df = sc.fit_transform(price_volume_target_df.drop(columns = ['Date']))"
   ]
  },
  {
   "cell_type": "code",
   "execution_count": 21,
   "metadata": {
    "colab": {},
    "colab_type": "code",
    "id": "4zq-g6ifiAxz"
   },
   "outputs": [
    {
     "data": {
      "text/plain": [
       "array([[0.01102638, 0.11442624, 0.01046185],\n",
       "       [0.01046185, 0.12362365, 0.01220906],\n",
       "       [0.01220906, 0.13517696, 0.01378478],\n",
       "       ...,\n",
       "       [1.        , 0.10747163, 0.97208751],\n",
       "       [0.97208751, 0.10431171, 0.98824476],\n",
       "       [0.98824476, 0.11430054, 0.95470465]])"
      ]
     },
     "execution_count": 21,
     "metadata": {},
     "output_type": "execute_result"
    }
   ],
   "source": [
    "price_volume_target_scaled_df"
   ]
  },
  {
   "cell_type": "code",
   "execution_count": 22,
   "metadata": {
    "colab": {},
    "colab_type": "code",
    "id": "WO3fljBwZ7S9"
   },
   "outputs": [
    {
     "data": {
      "text/plain": [
       "(2158, 3)"
      ]
     },
     "execution_count": 22,
     "metadata": {},
     "output_type": "execute_result"
    }
   ],
   "source": [
    "price_volume_target_scaled_df.shape"
   ]
  },
  {
   "cell_type": "code",
   "execution_count": 23,
   "metadata": {
    "colab": {},
    "colab_type": "code",
    "id": "RvVJa_UvD_uB"
   },
   "outputs": [],
   "source": [
    "# Creating Feature and Target\n",
    "X = price_volume_target_scaled_df[:,:2]\n",
    "y = price_volume_target_scaled_df[:,2:]"
   ]
  },
  {
   "cell_type": "code",
   "execution_count": 24,
   "metadata": {
    "colab": {},
    "colab_type": "code",
    "id": "0azmQvOXEsGW"
   },
   "outputs": [
    {
     "data": {
      "text/plain": [
       "((2158, 2), (2158, 1))"
      ]
     },
     "execution_count": 24,
     "metadata": {},
     "output_type": "execute_result"
    }
   ],
   "source": [
    "# Converting dataframe to arrays\n",
    "# X = np.asarray(X)\n",
    "# y = np.asarray(y)\n",
    "X.shape, y.shape"
   ]
  },
  {
   "cell_type": "code",
   "execution_count": 25,
   "metadata": {
    "colab": {},
    "colab_type": "code",
    "id": "HIlzHnyxGoXI"
   },
   "outputs": [],
   "source": [
    "# Spliting the data this way, since order is important in time-series\n",
    "# Note that we did not use train test split with it's default settings since it shuffles the data\n",
    "split = int(0.65 * len(X))\n",
    "X_train = X[:split]\n",
    "y_train = y[:split]\n",
    "X_test = X[split:]\n",
    "y_test = y[split:]"
   ]
  },
  {
   "cell_type": "code",
   "execution_count": 26,
   "metadata": {
    "colab": {},
    "colab_type": "code",
    "id": "-cg-HNcvFJak"
   },
   "outputs": [
    {
     "data": {
      "text/plain": [
       "((1402, 2), (1402, 1))"
      ]
     },
     "execution_count": 26,
     "metadata": {},
     "output_type": "execute_result"
    }
   ],
   "source": [
    "X_train.shape, y_train.shape"
   ]
  },
  {
   "cell_type": "code",
   "execution_count": 27,
   "metadata": {
    "colab": {},
    "colab_type": "code",
    "id": "gH88gQ1vif5j"
   },
   "outputs": [
    {
     "data": {
      "text/plain": [
       "((756, 2), (756, 1))"
      ]
     },
     "execution_count": 27,
     "metadata": {},
     "output_type": "execute_result"
    }
   ],
   "source": [
    "X_test.shape, y_test.shape"
   ]
  },
  {
   "cell_type": "code",
   "execution_count": 28,
   "metadata": {
    "colab": {},
    "colab_type": "code",
    "id": "GFtSZ4_lk4Aq"
   },
   "outputs": [
    {
     "data": {
      "image/png": "[encoded data removed]",
      "text/plain": [
       "<Figure size 936x360 with 1 Axes>"
      ]
     },
     "metadata": {
      "needs_background": "light"
     },
     "output_type": "display_data"
    },
    {
     "data": {
      "image/png": "[encoded data removed]",
      "text/plain": [
       "<Figure size 936x360 with 1 Axes>"
      ]
     },
     "metadata": {
      "needs_background": "light"
     },
     "output_type": "display_data"
    }
   ],
   "source": [
    "# Define a data plotting function\n",
    "def show_plot(data, title):\n",
    "  plt.figure(figsize = (13, 5))\n",
    "  plt.plot(data, linewidth = 3)\n",
    "  plt.title(title)\n",
    "  plt.grid()\n",
    "\n",
    "show_plot(X_train, 'Training Data')\n",
    "show_plot(X_test, 'Testing Data')\n"
   ]
  },
  {
   "cell_type": "markdown",
   "metadata": {
    "colab_type": "text",
    "id": "3L9IZXbB_JEu"
   },
   "source": [
    "# TASK #5: UNDERSTAND THE THEORY AND INTUITION BEHIND REGRESSION "
   ]
  },
  {
   "cell_type": "markdown",
   "metadata": {
    "colab_type": "text",
    "id": "c-8o7GKqrpxW"
   },
   "source": [
    "![alt text](https://drive.google.com/uc?id=1wJHaXRzsqMi713Qkzo2IQgZTmsDxU8f7)"
   ]
  },
  {
   "cell_type": "markdown",
   "metadata": {
    "colab_type": "text",
    "id": "20Lu4pwHr9Kn"
   },
   "source": [
    "![alt text](https://drive.google.com/uc?id=1vDuV9M1b6KF5yIvWpiUqhI7zSr7CKk5g)"
   ]
  },
  {
   "cell_type": "markdown",
   "metadata": {
    "colab_type": "text",
    "id": "XanItQ7dr9fb"
   },
   "source": [
    "![alt text](https://drive.google.com/uc?id=1H-wED3vnYj3ZpsvK0dOEPwYGVjSVhpfI)"
   ]
  },
  {
   "cell_type": "markdown",
   "metadata": {
    "colab_type": "text",
    "id": "v9v70Skjr9nM"
   },
   "source": [
    "![alt text](https://drive.google.com/uc?id=1KM0yvHp1DjVZ87uf68yJdqj2Sh_oTLLT)"
   ]
  },
  {
   "cell_type": "markdown",
   "metadata": {
    "colab_type": "text",
    "id": "4VFLC6-ggdLH"
   },
   "source": [
    "# TASK #6: UNDERSTAND THE CONCEPT OF REGULARIZATION & RIDGE REGRESSION"
   ]
  },
  {
   "cell_type": "markdown",
   "metadata": {
    "colab_type": "text",
    "id": "HByHVSuEr9xM"
   },
   "source": [
    "![alt text](https://drive.google.com/uc?id=1m9NX1aEDLAW2QCqeiQMYggnY3ovVW8QO)"
   ]
  },
  {
   "cell_type": "markdown",
   "metadata": {
    "colab_type": "text",
    "id": "54t65rEZr91p"
   },
   "source": [
    "![alt text](https://drive.google.com/uc?id=13Wn7UkxVkbRlIiJ-rZIrqAItfumj_wzi)"
   ]
  },
  {
   "cell_type": "markdown",
   "metadata": {
    "colab_type": "text",
    "id": "Rr15j2Glr9-7"
   },
   "source": [
    "![alt text](https://drive.google.com/uc?id=1WB1wdMUYqDNAhCytmk889w9SVQQVrwlt)"
   ]
  },
  {
   "cell_type": "markdown",
   "metadata": {
    "colab_type": "text",
    "id": "bq6MBEUGr-A-"
   },
   "source": [
    "![alt text](https://drive.google.com/uc?id=1IsQLtMZbKMyITX_FVr50ZkB68uUuQwmB)"
   ]
  },
  {
   "cell_type": "markdown",
   "metadata": {
    "colab_type": "text",
    "id": "ahHVswb1r-C_"
   },
   "source": [
    "![alt text](https://drive.google.com/uc?id=1D37GCrEMLdFwjTQL9WIoPEsLlEyITuX5)"
   ]
  },
  {
   "cell_type": "markdown",
   "metadata": {
    "colab_type": "text",
    "id": "6tLvna5Gr-FL"
   },
   "source": [
    "![alt text](https://drive.google.com/uc?id=1IBz73HFZPUD6wTEoerXGFTJKhhZyAyb9)"
   ]
  },
  {
   "cell_type": "markdown",
   "metadata": {
    "colab_type": "text",
    "id": "2FVSgRmFFkW5"
   },
   "source": [
    "# TASK #7: BUILD AND TRAIN A RIDGE LINEAR REGRESSION MODEL"
   ]
  },
  {
   "cell_type": "code",
   "execution_count": 29,
   "metadata": {
    "colab": {},
    "colab_type": "code",
    "id": "QECbURfqFvBP"
   },
   "outputs": [
    {
     "data": {
      "text/plain": [
       "Ridge()"
      ]
     },
     "execution_count": 29,
     "metadata": {},
     "output_type": "execute_result"
    }
   ],
   "source": [
    "from sklearn.linear_model import Ridge\n",
    "# Note that Ridge regression performs linear least squares with L2 regularization.\n",
    "# Create and train the Ridge Linear Regression  Model\n",
    "regression_model = Ridge()\n",
    "regression_model.fit(X_train, y_train)"
   ]
  },
  {
   "cell_type": "code",
   "execution_count": 30,
   "metadata": {
    "colab": {},
    "colab_type": "code",
    "id": "gFxXpwVfWPaC"
   },
   "outputs": [
    {
     "name": "stdout",
     "output_type": "stream",
     "text": [
      "Linear Regression Score:  0.7950028030821766\n"
     ]
    }
   ],
   "source": [
    "# Test the model and calculate its accuracy \n",
    "lr_accuracy = regression_model.score(X_test, y_test)\n",
    "print(\"Linear Regression Score: \", lr_accuracy)"
   ]
  },
  {
   "cell_type": "code",
   "execution_count": 31,
   "metadata": {
    "colab": {},
    "colab_type": "code",
    "id": "V1Jw5dmMJGwP"
   },
   "outputs": [
    {
     "data": {
      "text/plain": [
       "array([[0.03466412],\n",
       "       [0.03374627],\n",
       "       [0.03451936],\n",
       "       ...,\n",
       "       [0.81048342],\n",
       "       [0.78876033],\n",
       "       [0.80091324]])"
      ]
     },
     "execution_count": 31,
     "metadata": {},
     "output_type": "execute_result"
    }
   ],
   "source": [
    "# Make Prediction\n",
    "predicted_prices = regression_model.predict(X)\n",
    "predicted_prices"
   ]
  },
  {
   "cell_type": "code",
   "execution_count": 32,
   "metadata": {
    "colab": {},
    "colab_type": "code",
    "id": "2VNXZpyehMct"
   },
   "outputs": [],
   "source": [
    "# Append the predicted values into a list\n",
    "Predicted = []\n",
    "for i in predicted_prices:\n",
    "  Predicted.append(i[0])"
   ]
  },
  {
   "cell_type": "code",
   "execution_count": 33,
   "metadata": {
    "colab": {},
    "colab_type": "code",
    "id": "uYzR5OwB8a4E"
   },
   "outputs": [
    {
     "data": {
      "text/plain": [
       "2158"
      ]
     },
     "execution_count": 33,
     "metadata": {},
     "output_type": "execute_result"
    }
   ],
   "source": [
    "len(Predicted)"
   ]
  },
  {
   "cell_type": "code",
   "execution_count": 34,
   "metadata": {
    "colab": {},
    "colab_type": "code",
    "id": "AYGT3NAlah-1"
   },
   "outputs": [],
   "source": [
    "# Append the close values to the list\n",
    "close = []\n",
    "for i in price_volume_target_scaled_df:\n",
    "  close.append(i[0])\n"
   ]
  },
  {
   "cell_type": "code",
   "execution_count": 35,
   "metadata": {
    "colab": {},
    "colab_type": "code",
    "id": "KAZJ5HnsJjDH"
   },
   "outputs": [
    {
     "data": {
      "text/html": [
       "<div>\n",
       "<style scoped>\n",
       "    .dataframe tbody tr th:only-of-type {\n",
       "        vertical-align: middle;\n",
       "    }\n",
       "\n",
       "    .dataframe tbody tr th {\n",
       "        vertical-align: top;\n",
       "    }\n",
       "\n",
       "    .dataframe thead th {\n",
       "        text-align: right;\n",
       "    }\n",
       "</style>\n",
       "<table border=\"1\" class=\"dataframe\">\n",
       "  <thead>\n",
       "    <tr style=\"text-align: right;\">\n",
       "      <th></th>\n",
       "      <th>Date</th>\n",
       "    </tr>\n",
       "  </thead>\n",
       "  <tbody>\n",
       "    <tr>\n",
       "      <th>0</th>\n",
       "      <td>2012-01-12</td>\n",
       "    </tr>\n",
       "    <tr>\n",
       "      <th>1</th>\n",
       "      <td>2012-01-13</td>\n",
       "    </tr>\n",
       "    <tr>\n",
       "      <th>2</th>\n",
       "      <td>2012-01-17</td>\n",
       "    </tr>\n",
       "    <tr>\n",
       "      <th>3</th>\n",
       "      <td>2012-01-18</td>\n",
       "    </tr>\n",
       "    <tr>\n",
       "      <th>4</th>\n",
       "      <td>2012-01-19</td>\n",
       "    </tr>\n",
       "    <tr>\n",
       "      <th>...</th>\n",
       "      <td>...</td>\n",
       "    </tr>\n",
       "    <tr>\n",
       "      <th>2153</th>\n",
       "      <td>2020-08-04</td>\n",
       "    </tr>\n",
       "    <tr>\n",
       "      <th>2154</th>\n",
       "      <td>2020-08-05</td>\n",
       "    </tr>\n",
       "    <tr>\n",
       "      <th>2155</th>\n",
       "      <td>2020-08-06</td>\n",
       "    </tr>\n",
       "    <tr>\n",
       "      <th>2156</th>\n",
       "      <td>2020-08-07</td>\n",
       "    </tr>\n",
       "    <tr>\n",
       "      <th>2157</th>\n",
       "      <td>2020-08-10</td>\n",
       "    </tr>\n",
       "  </tbody>\n",
       "</table>\n",
       "<p>2158 rows × 1 columns</p>\n",
       "</div>"
      ],
      "text/plain": [
       "            Date\n",
       "0     2012-01-12\n",
       "1     2012-01-13\n",
       "2     2012-01-17\n",
       "3     2012-01-18\n",
       "4     2012-01-19\n",
       "...          ...\n",
       "2153  2020-08-04\n",
       "2154  2020-08-05\n",
       "2155  2020-08-06\n",
       "2156  2020-08-07\n",
       "2157  2020-08-10\n",
       "\n",
       "[2158 rows x 1 columns]"
      ]
     },
     "execution_count": 35,
     "metadata": {},
     "output_type": "execute_result"
    }
   ],
   "source": [
    "# Create a dataframe based on the dates in the individual stock data\n",
    "df_predicted = price_volume_target_df[['Date']]\n",
    "df_predicted"
   ]
  },
  {
   "cell_type": "code",
   "execution_count": 36,
   "metadata": {
    "colab": {},
    "colab_type": "code",
    "id": "ap51j2zMbukl"
   },
   "outputs": [
    {
     "data": {
      "text/html": [
       "<div>\n",
       "<style scoped>\n",
       "    .dataframe tbody tr th:only-of-type {\n",
       "        vertical-align: middle;\n",
       "    }\n",
       "\n",
       "    .dataframe tbody tr th {\n",
       "        vertical-align: top;\n",
       "    }\n",
       "\n",
       "    .dataframe thead th {\n",
       "        text-align: right;\n",
       "    }\n",
       "</style>\n",
       "<table border=\"1\" class=\"dataframe\">\n",
       "  <thead>\n",
       "    <tr style=\"text-align: right;\">\n",
       "      <th></th>\n",
       "      <th>Date</th>\n",
       "      <th>Close</th>\n",
       "    </tr>\n",
       "  </thead>\n",
       "  <tbody>\n",
       "    <tr>\n",
       "      <th>0</th>\n",
       "      <td>2012-01-12</td>\n",
       "      <td>0.011026</td>\n",
       "    </tr>\n",
       "    <tr>\n",
       "      <th>1</th>\n",
       "      <td>2012-01-13</td>\n",
       "      <td>0.010462</td>\n",
       "    </tr>\n",
       "    <tr>\n",
       "      <th>2</th>\n",
       "      <td>2012-01-17</td>\n",
       "      <td>0.012209</td>\n",
       "    </tr>\n",
       "    <tr>\n",
       "      <th>3</th>\n",
       "      <td>2012-01-18</td>\n",
       "      <td>0.013785</td>\n",
       "    </tr>\n",
       "    <tr>\n",
       "      <th>4</th>\n",
       "      <td>2012-01-19</td>\n",
       "      <td>0.013299</td>\n",
       "    </tr>\n",
       "    <tr>\n",
       "      <th>...</th>\n",
       "      <td>...</td>\n",
       "      <td>...</td>\n",
       "    </tr>\n",
       "    <tr>\n",
       "      <th>2153</th>\n",
       "      <td>2020-08-04</td>\n",
       "      <td>0.957606</td>\n",
       "    </tr>\n",
       "    <tr>\n",
       "      <th>2154</th>\n",
       "      <td>2020-08-05</td>\n",
       "      <td>0.961583</td>\n",
       "    </tr>\n",
       "    <tr>\n",
       "      <th>2155</th>\n",
       "      <td>2020-08-06</td>\n",
       "      <td>1.000000</td>\n",
       "    </tr>\n",
       "    <tr>\n",
       "      <th>2156</th>\n",
       "      <td>2020-08-07</td>\n",
       "      <td>0.972088</td>\n",
       "    </tr>\n",
       "    <tr>\n",
       "      <th>2157</th>\n",
       "      <td>2020-08-10</td>\n",
       "      <td>0.988245</td>\n",
       "    </tr>\n",
       "  </tbody>\n",
       "</table>\n",
       "<p>2158 rows × 2 columns</p>\n",
       "</div>"
      ],
      "text/plain": [
       "            Date     Close\n",
       "0     2012-01-12  0.011026\n",
       "1     2012-01-13  0.010462\n",
       "2     2012-01-17  0.012209\n",
       "3     2012-01-18  0.013785\n",
       "4     2012-01-19  0.013299\n",
       "...          ...       ...\n",
       "2153  2020-08-04  0.957606\n",
       "2154  2020-08-05  0.961583\n",
       "2155  2020-08-06  1.000000\n",
       "2156  2020-08-07  0.972088\n",
       "2157  2020-08-10  0.988245\n",
       "\n",
       "[2158 rows x 2 columns]"
      ]
     },
     "execution_count": 36,
     "metadata": {},
     "output_type": "execute_result"
    }
   ],
   "source": [
    "# Add the close values to the dataframe\n",
    "df_predicted['Close'] = close\n",
    "df_predicted"
   ]
  },
  {
   "cell_type": "code",
   "execution_count": 37,
   "metadata": {
    "colab": {},
    "colab_type": "code",
    "id": "xTvlo0ZpJ2Sn"
   },
   "outputs": [
    {
     "data": {
      "text/html": [
       "<div>\n",
       "<style scoped>\n",
       "    .dataframe tbody tr th:only-of-type {\n",
       "        vertical-align: middle;\n",
       "    }\n",
       "\n",
       "    .dataframe tbody tr th {\n",
       "        vertical-align: top;\n",
       "    }\n",
       "\n",
       "    .dataframe thead th {\n",
       "        text-align: right;\n",
       "    }\n",
       "</style>\n",
       "<table border=\"1\" class=\"dataframe\">\n",
       "  <thead>\n",
       "    <tr style=\"text-align: right;\">\n",
       "      <th></th>\n",
       "      <th>Date</th>\n",
       "      <th>Close</th>\n",
       "      <th>Prediction</th>\n",
       "    </tr>\n",
       "  </thead>\n",
       "  <tbody>\n",
       "    <tr>\n",
       "      <th>0</th>\n",
       "      <td>2012-01-12</td>\n",
       "      <td>0.011026</td>\n",
       "      <td>0.034664</td>\n",
       "    </tr>\n",
       "    <tr>\n",
       "      <th>1</th>\n",
       "      <td>2012-01-13</td>\n",
       "      <td>0.010462</td>\n",
       "      <td>0.033746</td>\n",
       "    </tr>\n",
       "    <tr>\n",
       "      <th>2</th>\n",
       "      <td>2012-01-17</td>\n",
       "      <td>0.012209</td>\n",
       "      <td>0.034519</td>\n",
       "    </tr>\n",
       "    <tr>\n",
       "      <th>3</th>\n",
       "      <td>2012-01-18</td>\n",
       "      <td>0.013785</td>\n",
       "      <td>0.034556</td>\n",
       "    </tr>\n",
       "    <tr>\n",
       "      <th>4</th>\n",
       "      <td>2012-01-19</td>\n",
       "      <td>0.013299</td>\n",
       "      <td>0.034707</td>\n",
       "    </tr>\n",
       "    <tr>\n",
       "      <th>...</th>\n",
       "      <td>...</td>\n",
       "      <td>...</td>\n",
       "      <td>...</td>\n",
       "    </tr>\n",
       "    <tr>\n",
       "      <th>2153</th>\n",
       "      <td>2020-08-04</td>\n",
       "      <td>0.957606</td>\n",
       "      <td>0.778280</td>\n",
       "    </tr>\n",
       "    <tr>\n",
       "      <th>2154</th>\n",
       "      <td>2020-08-05</td>\n",
       "      <td>0.961583</td>\n",
       "      <td>0.783205</td>\n",
       "    </tr>\n",
       "    <tr>\n",
       "      <th>2155</th>\n",
       "      <td>2020-08-06</td>\n",
       "      <td>1.000000</td>\n",
       "      <td>0.810483</td>\n",
       "    </tr>\n",
       "    <tr>\n",
       "      <th>2156</th>\n",
       "      <td>2020-08-07</td>\n",
       "      <td>0.972088</td>\n",
       "      <td>0.788760</td>\n",
       "    </tr>\n",
       "    <tr>\n",
       "      <th>2157</th>\n",
       "      <td>2020-08-10</td>\n",
       "      <td>0.988245</td>\n",
       "      <td>0.800913</td>\n",
       "    </tr>\n",
       "  </tbody>\n",
       "</table>\n",
       "<p>2158 rows × 3 columns</p>\n",
       "</div>"
      ],
      "text/plain": [
       "            Date     Close  Prediction\n",
       "0     2012-01-12  0.011026    0.034664\n",
       "1     2012-01-13  0.010462    0.033746\n",
       "2     2012-01-17  0.012209    0.034519\n",
       "3     2012-01-18  0.013785    0.034556\n",
       "4     2012-01-19  0.013299    0.034707\n",
       "...          ...       ...         ...\n",
       "2153  2020-08-04  0.957606    0.778280\n",
       "2154  2020-08-05  0.961583    0.783205\n",
       "2155  2020-08-06  1.000000    0.810483\n",
       "2156  2020-08-07  0.972088    0.788760\n",
       "2157  2020-08-10  0.988245    0.800913\n",
       "\n",
       "[2158 rows x 3 columns]"
      ]
     },
     "execution_count": 37,
     "metadata": {},
     "output_type": "execute_result"
    }
   ],
   "source": [
    "# Add the predicted values to the dataframe\n",
    "df_predicted['Prediction'] = Predicted\n",
    "df_predicted"
   ]
  },
  {
   "cell_type": "code",
   "execution_count": 38,
   "metadata": {
    "colab": {},
    "colab_type": "code",
    "id": "d8OSiw6IKBXX"
   },
   "outputs": [
    {
     "data": {
      "text/html": [
       "<iframe\n",
       "    scrolling=\"no\"\n",
       "    width=\"100%\"\n",
       "    height=\"545px\"\n",
       "    src=\"iframe_figures/figure_38.html\"\n",
       "    frameborder=\"0\"\n",
       "    allowfullscreen\n",
       "></iframe>\n"
      ]
     },
     "metadata": {},
     "output_type": "display_data"
    }
   ],
   "source": [
    "# Plot the results\n",
    "interactive_plot(df_predicted, \"Original Vs. Prediction\")"
   ]
  },
  {
   "cell_type": "markdown",
   "metadata": {
    "colab_type": "text",
    "id": "0nFLBX8zmngT"
   },
   "source": [
    "# TASK #8: UNDERSTAND THE THEORY AND INTUITION BEHIND NEURAL NETWORKS"
   ]
  },
  {
   "cell_type": "markdown",
   "metadata": {
    "colab_type": "text",
    "id": "6v2WxCTHr-JN"
   },
   "source": [
    "![alt text](https://drive.google.com/uc?id=1U2auh7KSalF4qc8iWFScawEB3TniFeXw)"
   ]
  },
  {
   "cell_type": "markdown",
   "metadata": {
    "colab_type": "text",
    "id": "Z7PIHLB3r-Qp"
   },
   "source": [
    "![alt text](https://drive.google.com/uc?id=1xsy74Dj9JyuvwcPzmQcwN9hzHGevAvKB)"
   ]
  },
  {
   "cell_type": "markdown",
   "metadata": {
    "colab_type": "text",
    "id": "BTWwwQl5r-S_"
   },
   "source": [
    "![alt text](https://drive.google.com/uc?id=1b2wIRl63jXgyoh_w1ysxk3XvTJ5j8864)"
   ]
  },
  {
   "cell_type": "markdown",
   "metadata": {
    "colab_type": "text",
    "id": "liBQUqelyoPD"
   },
   "source": [
    "# TASK #9: UNDERSTAND HOW DO ARTFICIAL NEURAL NETWORKS TRAIN "
   ]
  },
  {
   "cell_type": "markdown",
   "metadata": {
    "colab_type": "text",
    "id": "tZsmueG8r-VN"
   },
   "source": [
    "![alt text](https://drive.google.com/uc?id=1pg1rxBoHDtRNVNN0TyMvnCMVKw9ni5pN)"
   ]
  },
  {
   "cell_type": "markdown",
   "metadata": {
    "colab_type": "text",
    "id": "YOB2MNCXr-X2"
   },
   "source": [
    "![alt text](https://drive.google.com/uc?id=1wc4NOBLC55Hb2s8s_hLI2LWykV4WmLwU)"
   ]
  },
  {
   "cell_type": "markdown",
   "metadata": {
    "colab_type": "text",
    "id": "E7Pr4BgOr-aS"
   },
   "source": [
    "![alt text](https://drive.google.com/uc?id=1zI3MbDUAws-gpPisqDrVL8BoupWRO6KJ)"
   ]
  },
  {
   "cell_type": "markdown",
   "metadata": {
    "colab_type": "text",
    "id": "3tx6z-y4r-cd"
   },
   "source": [
    "![alt text](https://drive.google.com/uc?id=1twCXUdFtdFMGsicoQOWI0a9RiHMZ9MK_)"
   ]
  },
  {
   "cell_type": "markdown",
   "metadata": {
    "colab_type": "text",
    "id": "MLVvVZzEy5I2"
   },
   "source": [
    "# TASK #10: UNDERSTAND THE THEORY AND INTUITION BEHIND RECURRENT NEURAL NETWORKS"
   ]
  },
  {
   "cell_type": "markdown",
   "metadata": {
    "colab_type": "text",
    "id": "y8rHBMBKr-ey"
   },
   "source": [
    "![alt text](https://drive.google.com/uc?id=1a6w38XX_W2Zcsvde5FDepUax1aRyvnBT)"
   ]
  },
  {
   "cell_type": "markdown",
   "metadata": {
    "colab_type": "text",
    "id": "KmDdrLdXr9-G"
   },
   "source": [
    "![alt text](https://drive.google.com/uc?id=1tc1SRSaFp-zuvujAQY66E_JEoY6doI0m)"
   ]
  },
  {
   "cell_type": "markdown",
   "metadata": {
    "colab_type": "text",
    "id": "RmSRXe1Mr95B"
   },
   "source": [
    "![alt text](https://drive.google.com/uc?id=10xmgZjv2IjaY4xFm81rwgKqOC0119tug)"
   ]
  },
  {
   "cell_type": "markdown",
   "metadata": {
    "colab_type": "text",
    "id": "4Oru5hmFvlsL"
   },
   "source": [
    "![alt text](https://drive.google.com/uc?id=1CwBOagYD82QaayeGDndRjb_Irm5HIwBs)"
   ]
  },
  {
   "cell_type": "markdown",
   "metadata": {
    "colab_type": "text",
    "id": "3SvxVh1Xvl1z"
   },
   "source": [
    "![alt text](https://drive.google.com/uc?id=148mslyqerZ_gLzQIkPFiDsewCO5nMNK7)"
   ]
  },
  {
   "cell_type": "markdown",
   "metadata": {
    "colab_type": "text",
    "id": "EaENxN6Lvl65"
   },
   "source": [
    "![alt text](https://drive.google.com/uc?id=1_Ky5ek9gq_Ov6VLTkXFmmzEhvjo91tpB)"
   ]
  },
  {
   "cell_type": "markdown",
   "metadata": {
    "colab_type": "text",
    "id": "b_ucc-z2_Y8z"
   },
   "source": [
    "# TASK #11: UNDERSTAND THE THEORY AND INTUITION BEHIND LONG SHORT TERM MEMORY NETWORKS"
   ]
  },
  {
   "cell_type": "markdown",
   "metadata": {
    "colab_type": "text",
    "id": "tv1OwUFYvl9G"
   },
   "source": [
    "![alt text](https://drive.google.com/uc?id=1cd3jZpTuSzsPjMps6SRFqvXNfs4jA_vu)"
   ]
  },
  {
   "cell_type": "markdown",
   "metadata": {
    "colab_type": "text",
    "id": "rnciLV3Evl_i"
   },
   "source": [
    "![alt text](https://drive.google.com/uc?id=1URS5Ny54g-c3ookAL1FLn28TYFlbDIdG)"
   ]
  },
  {
   "cell_type": "markdown",
   "metadata": {
    "colab_type": "text",
    "id": "J_ND1n67vmCX"
   },
   "source": [
    "![alt text](https://drive.google.com/uc?id=1Cm3Unnn_b71rfklW_ejm50xYOYkXh8cl)"
   ]
  },
  {
   "cell_type": "markdown",
   "metadata": {
    "colab_type": "text",
    "id": "aAZRk8GPvmFH"
   },
   "source": [
    "![alt text](https://drive.google.com/uc?id=1pU8lbF965n38ZspjIFsEAU3CEjpclpfd)"
   ]
  },
  {
   "cell_type": "markdown",
   "metadata": {
    "colab_type": "text",
    "id": "7_CvxPPqvmHW"
   },
   "source": [
    "![alt text](https://drive.google.com/uc?id=1zSqTnPZDfiz6qRgMHaFB9wpB55Fnzwf4)"
   ]
  },
  {
   "cell_type": "markdown",
   "metadata": {
    "colab_type": "text",
    "id": "vazFXbaOUBPt"
   },
   "source": [
    "# TASK #12: TRAIN AN LSTM TIME SERIES MODEL"
   ]
  },
  {
   "cell_type": "code",
   "execution_count": 39,
   "metadata": {
    "colab": {},
    "colab_type": "code",
    "id": "9EIXG9USAXRa"
   },
   "outputs": [
    {
     "data": {
      "text/html": [
       "<div>\n",
       "<style scoped>\n",
       "    .dataframe tbody tr th:only-of-type {\n",
       "        vertical-align: middle;\n",
       "    }\n",
       "\n",
       "    .dataframe tbody tr th {\n",
       "        vertical-align: top;\n",
       "    }\n",
       "\n",
       "    .dataframe thead th {\n",
       "        text-align: right;\n",
       "    }\n",
       "</style>\n",
       "<table border=\"1\" class=\"dataframe\">\n",
       "  <thead>\n",
       "    <tr style=\"text-align: right;\">\n",
       "      <th></th>\n",
       "      <th>Date</th>\n",
       "      <th>Close</th>\n",
       "      <th>Volume</th>\n",
       "    </tr>\n",
       "  </thead>\n",
       "  <tbody>\n",
       "    <tr>\n",
       "      <th>0</th>\n",
       "      <td>2012-01-12</td>\n",
       "      <td>1295.500000</td>\n",
       "      <td>4019890000</td>\n",
       "    </tr>\n",
       "    <tr>\n",
       "      <th>1</th>\n",
       "      <td>2012-01-13</td>\n",
       "      <td>1289.089966</td>\n",
       "      <td>3692370000</td>\n",
       "    </tr>\n",
       "    <tr>\n",
       "      <th>2</th>\n",
       "      <td>2012-01-17</td>\n",
       "      <td>1293.670044</td>\n",
       "      <td>4010490000</td>\n",
       "    </tr>\n",
       "    <tr>\n",
       "      <th>3</th>\n",
       "      <td>2012-01-18</td>\n",
       "      <td>1308.040039</td>\n",
       "      <td>4096160000</td>\n",
       "    </tr>\n",
       "    <tr>\n",
       "      <th>4</th>\n",
       "      <td>2012-01-19</td>\n",
       "      <td>1314.500000</td>\n",
       "      <td>4465890000</td>\n",
       "    </tr>\n",
       "    <tr>\n",
       "      <th>...</th>\n",
       "      <td>...</td>\n",
       "      <td>...</td>\n",
       "      <td>...</td>\n",
       "    </tr>\n",
       "    <tr>\n",
       "      <th>2154</th>\n",
       "      <td>2020-08-05</td>\n",
       "      <td>3327.770020</td>\n",
       "      <td>4732220000</td>\n",
       "    </tr>\n",
       "    <tr>\n",
       "      <th>2155</th>\n",
       "      <td>2020-08-06</td>\n",
       "      <td>3349.159912</td>\n",
       "      <td>4267490000</td>\n",
       "    </tr>\n",
       "    <tr>\n",
       "      <th>2156</th>\n",
       "      <td>2020-08-07</td>\n",
       "      <td>3351.280029</td>\n",
       "      <td>4104860000</td>\n",
       "    </tr>\n",
       "    <tr>\n",
       "      <th>2157</th>\n",
       "      <td>2020-08-10</td>\n",
       "      <td>3360.469971</td>\n",
       "      <td>4318570000</td>\n",
       "    </tr>\n",
       "    <tr>\n",
       "      <th>2158</th>\n",
       "      <td>2020-08-11</td>\n",
       "      <td>3333.689941</td>\n",
       "      <td>5087650000</td>\n",
       "    </tr>\n",
       "  </tbody>\n",
       "</table>\n",
       "<p>2159 rows × 3 columns</p>\n",
       "</div>"
      ],
      "text/plain": [
       "            Date        Close      Volume\n",
       "0     2012-01-12  1295.500000  4019890000\n",
       "1     2012-01-13  1289.089966  3692370000\n",
       "2     2012-01-17  1293.670044  4010490000\n",
       "3     2012-01-18  1308.040039  4096160000\n",
       "4     2012-01-19  1314.500000  4465890000\n",
       "...          ...          ...         ...\n",
       "2154  2020-08-05  3327.770020  4732220000\n",
       "2155  2020-08-06  3349.159912  4267490000\n",
       "2156  2020-08-07  3351.280029  4104860000\n",
       "2157  2020-08-10  3360.469971  4318570000\n",
       "2158  2020-08-11  3333.689941  5087650000\n",
       "\n",
       "[2159 rows x 3 columns]"
      ]
     },
     "execution_count": 39,
     "metadata": {},
     "output_type": "execute_result"
    }
   ],
   "source": [
    "# Let's test the functions and get individual stock prices and volumes for AAPL\n",
    "price_volume_df = individual_stock(stock_price_df, stock_vol_df, 'sp500')\n",
    "price_volume_df"
   ]
  },
  {
   "cell_type": "code",
   "execution_count": 40,
   "metadata": {
    "colab": {},
    "colab_type": "code",
    "id": "U-vk2wswjHSV"
   },
   "outputs": [
    {
     "data": {
      "text/plain": [
       "array([[1.29550000e+03, 4.01989000e+09],\n",
       "       [1.28908997e+03, 3.69237000e+09],\n",
       "       [1.29367004e+03, 4.01049000e+09],\n",
       "       ...,\n",
       "       [3.35128003e+03, 4.10486000e+09],\n",
       "       [3.36046997e+03, 4.31857000e+09],\n",
       "       [3.33368994e+03, 5.08765000e+09]])"
      ]
     },
     "execution_count": 40,
     "metadata": {},
     "output_type": "execute_result"
    }
   ],
   "source": [
    "# Get the close and volume data as training data (Input)\n",
    "training_data = price_volume_df.iloc[:, 1:3].values\n",
    "training_data"
   ]
  },
  {
   "cell_type": "code",
   "execution_count": 41,
   "metadata": {
    "colab": {},
    "colab_type": "code",
    "id": "3v0W8w5hUznl"
   },
   "outputs": [],
   "source": [
    "# Normalize the data\n",
    "from sklearn.preprocessing import MinMaxScaler\n",
    "sc = MinMaxScaler(feature_range = (0, 1))\n",
    "training_set_scaled = sc.fit_transform(training_data)"
   ]
  },
  {
   "cell_type": "code",
   "execution_count": 42,
   "metadata": {
    "colab": {},
    "colab_type": "code",
    "id": "j0qoyucIdSUm"
   },
   "outputs": [],
   "source": [
    "# Create the training and testing data, training data contains present day and previous day values\n",
    "X = []\n",
    "y = []\n",
    "for i in range(1, len(price_volume_df)):\n",
    "    X.append(training_set_scaled [i-1:i, 0])\n",
    "    y.append(training_set_scaled [i, 0])"
   ]
  },
  {
   "cell_type": "code",
   "execution_count": 43,
   "metadata": {
    "colab": {},
    "colab_type": "code",
    "id": "NhoAnE5BBy4q"
   },
   "outputs": [
    {
     "data": {
      "text/plain": [
       "[array([0.00828228]),\n",
       " array([0.00524163]),\n",
       " array([0.00741423]),\n",
       " array([0.01423076]),\n",
       " array([0.0172951]),\n",
       " array([0.01771253]),\n",
       " array([0.01800663]),\n",
       " array([0.01736626]),\n",
       " array([0.02277871]),\n",
       " array([0.01915935]),\n",
       " array([0.01816315]),\n",
       " array([0.01658831]),\n",
       " array([0.0163037]),\n",
       " array([0.02184418]),\n",
       " array([0.02253203]),\n",
       " array([0.03171561]),\n",
       " array([0.03144519]),\n",
       " array([0.03273549]),\n",
       " array([0.03411583]),\n",
       " array([0.0350598]),\n",
       " array([0.03064355]),\n",
       " array([0.03497445]),\n",
       " array([0.034372]),\n",
       " array([0.03092341]),\n",
       " array([0.03794869]),\n",
       " array([0.03946186]),\n",
       " array([0.03992672]),\n",
       " array([0.03776843]),\n",
       " array([0.04051967]),\n",
       " array([0.04160122]),\n",
       " array([0.04247878]),\n",
       " array([0.04465612]),\n",
       " array([0.04157279]),\n",
       " array([0.04556211]),\n",
       " array([0.04344649]),\n",
       " array([0.04093236]),\n",
       " array([0.03098508]),\n",
       " array([0.03538239]),\n",
       " array([0.04168189]),\n",
       " array([0.04403469]),\n",
       " array([0.04413903]),\n",
       " array([0.05593158]),\n",
       " array([0.05513944]),\n",
       " array([0.05908607]),\n",
       " array([0.05983085]),\n",
       " array([0.06247775]),\n",
       " array([0.06047122]),\n",
       " array([0.05922366]),\n",
       " array([0.0544279]),\n",
       " array([0.05648185]),\n",
       " array([0.06568442]),\n",
       " array([0.06379173]),\n",
       " array([0.06048072]),\n",
       " array([0.05940866]),\n",
       " array([0.06187056]),\n",
       " array([0.06688456]),\n",
       " array([0.06419967]),\n",
       " array([0.0573594]),\n",
       " array([0.05694196]),\n",
       " array([0.04940915]),\n",
       " array([0.03820955]),\n",
       " array([0.04301006]),\n",
       " array([0.05195645]),\n",
       " array([0.04374533]),\n",
       " array([0.043418]),\n",
       " array([0.05347918]),\n",
       " array([0.05080379]),\n",
       " array([0.04690458]),\n",
       " array([0.04766829]),\n",
       " array([0.04217043]),\n",
       " array([0.04455647]),\n",
       " array([0.05343645]),\n",
       " array([0.05784326]),\n",
       " array([0.05944659]),\n",
       " array([0.05686136]),\n",
       " array([0.0606135]),\n",
       " array([0.05894855]),\n",
       " array([0.05385389]),\n",
       " array([0.04319506]),\n",
       " array([0.04342274]),\n",
       " array([0.04064301]),\n",
       " array([0.03630737]),\n",
       " array([0.03792495]),\n",
       " array([0.03574291]),\n",
       " array([0.02860854]),\n",
       " array([0.02496075]),\n",
       " array([0.02218101]),\n",
       " array([0.01272227]),\n",
       " array([0.00814945]),\n",
       " array([0.01800188]),\n",
       " array([0.01830548]),\n",
       " array([0.01936329]),\n",
       " array([0.02022666]),\n",
       " array([0.01886994]),\n",
       " array([0.02579562]),\n",
       " array([0.01673533]),\n",
       " array([0.015317]),\n",
       " array([0.]),\n",
       " array([6.64173165e-05]),\n",
       " array([0.0035387]),\n",
       " array([0.01759394]),\n",
       " array([0.01752753]),\n",
       " array([0.02258895]),\n",
       " array([0.01465294]),\n",
       " array([0.02188691]),\n",
       " array([0.01747535]),\n",
       " array([0.02422072]),\n",
       " array([0.0307384]),\n",
       " array([0.03165869]),\n",
       " array([0.0379202]),\n",
       " array([0.0368339]),\n",
       " array([0.02251779]),\n",
       " array([0.02702894]),\n",
       " array([0.01692508]),\n",
       " array([0.01989932]),\n",
       " array([0.02552521]),\n",
       " array([0.02419229]),\n",
       " array([0.03990304]),\n",
       " array([0.04149213]),\n",
       " array([0.04552893]),\n",
       " array([0.04247403]),\n",
       " array([0.03635485]),\n",
       " array([0.03530173]),\n",
       " array([0.03008853]),\n",
       " array([0.03007904]),\n",
       " array([0.0269056]),\n",
       " array([0.03735099]),\n",
       " array([0.0358615]),\n",
       " array([0.04061933]),\n",
       " array([0.04494073]),\n",
       " array([0.04671008]),\n",
       " array([0.04014022]),\n",
       " array([0.0343815]),\n",
       " array([0.0285896]),\n",
       " array([0.02839035]),\n",
       " array([0.03888791]),\n",
       " array([0.05119749]),\n",
       " array([0.05087971]),\n",
       " array([0.04804299]),\n",
       " array([0.04614556]),\n",
       " array([0.0412502]),\n",
       " array([0.05357878]),\n",
       " array([0.0551157]),\n",
       " array([0.05849313]),\n",
       " array([0.05890582]),\n",
       " array([0.05918098]),\n",
       " array([0.06063724]),\n",
       " array([0.05980236]),\n",
       " array([0.05971701]),\n",
       " array([0.06047597]),\n",
       " array([0.06521006]),\n",
       " array([0.06646712]),\n",
       " array([0.06645288]),\n",
       " array([0.06410008]),\n",
       " array([0.06425185]),\n",
       " array([0.0588394]),\n",
       " array([0.06313237]),\n",
       " array([0.06280503]),\n",
       " array([0.06226431]),\n",
       " array([0.06282877]),\n",
       " array([0.05760608]),\n",
       " array([0.06097401]),\n",
       " array([0.06019606]),\n",
       " array([0.05948452]),\n",
       " array([0.07308915]),\n",
       " array([0.07584045]),\n",
       " array([0.07164708]),\n",
       " array([0.07377226]),\n",
       " array([0.07519533]),\n",
       " array([0.08630952]),\n",
       " array([0.08905133]),\n",
       " array([0.08687873]),\n",
       " array([0.08599168]),\n",
       " array([0.08681237]),\n",
       " array([0.08643761]),\n",
       " array([0.08638543]),\n",
       " array([0.08483902]),\n",
       " array([0.07758131]),\n",
       " array([0.07365836]),\n",
       " array([0.08021877]),\n",
       " array([0.07714494]),\n",
       " array([0.07895696]),\n",
       " array([0.07955466]),\n",
       " array([0.08204029]),\n",
       " array([0.08697838]),\n",
       " array([0.08675545]),\n",
       " array([0.08435991]),\n",
       " array([0.07752914]),\n",
       " array([0.0732979]),\n",
       " array([0.07343067]),\n",
       " array([0.07141465]),\n",
       " array([0.07688877]),\n",
       " array([0.08390455]),\n",
       " array([0.08674595]),\n",
       " array([0.08505246]),\n",
       " array([0.07359669]),\n",
       " array([0.07389554]),\n",
       " array([0.06407159]),\n",
       " array([0.06200339]),\n",
       " array([0.06400517]),\n",
       " array([0.06351657]),\n",
       " array([0.06362097]),\n",
       " array([0.07094029]),\n",
       " array([0.06458862]),\n",
       " array([0.06604019]),\n",
       " array([0.0713198]),\n",
       " array([0.05525803]),\n",
       " array([0.04718443]),\n",
       " array([0.04829442]),\n",
       " array([0.04837983]),\n",
       " array([0.04577085]),\n",
       " array([0.03673905]),\n",
       " array([0.03571442]),\n",
       " array([0.03882149]),\n",
       " array([0.05163392]),\n",
       " array([0.05207035]),\n",
       " array([0.05359777]),\n",
       " array([0.06219315]),\n",
       " array([0.06083649]),\n",
       " array([0.05734991]),\n",
       " array([0.06256316]),\n",
       " array([0.06541875]),\n",
       " array([0.0655279]),\n",
       " array([0.06234017]),\n",
       " array([0.06119701]),\n",
       " array([0.06225482]),\n",
       " array([0.06446528]),\n",
       " array([0.06642439]),\n",
       " array([0.06665213]),\n",
       " array([0.07105888]),\n",
       " array([0.07136248]),\n",
       " array([0.067079]),\n",
       " array([0.06429452]),\n",
       " array([0.07225427]),\n",
       " array([0.08004801]),\n",
       " array([0.07483956]),\n",
       " array([0.07857745]),\n",
       " array([0.07215468]),\n",
       " array([0.07049917]),\n",
       " array([0.06725926]),\n",
       " array([0.06643863]),\n",
       " array([0.05900547]),\n",
       " array([0.07027618]),\n",
       " array([0.08746224]),\n",
       " array([0.08601542]),\n",
       " array([0.08938335]),\n",
       " array([0.08721081]),\n",
       " array([0.08496236]),\n",
       " array([0.08679812]),\n",
       " array([0.09206349]),\n",
       " array([0.09203031]),\n",
       " array([0.09138044]),\n",
       " array([0.09216784]),\n",
       " array([0.09230542]),\n",
       " array([0.09624731]),\n",
       " array([0.0986381]),\n",
       " array([0.10175941]),\n",
       " array([0.10282672]),\n",
       " array([0.10283141]),\n",
       " array([0.10669269]),\n",
       " array([0.10537402]),\n",
       " array([0.10900757]),\n",
       " array([0.10621834]),\n",
       " array([0.10439207]),\n",
       " array([0.11153594]),\n",
       " array([0.10325359]),\n",
       " array([0.11064414]),\n",
       " array([0.11103784]),\n",
       " array([0.10974285]),\n",
       " array([0.11379389]),\n",
       " array([0.11335746]),\n",
       " array([0.11450542]),\n",
       " array([0.1149323]),\n",
       " array([0.1154304]),\n",
       " array([0.11467619]),\n",
       " array([0.11996524]),\n",
       " array([0.11095717]),\n",
       " array([0.10643658]),\n",
       " array([0.11268859]),\n",
       " array([0.09952514]),\n",
       " array([0.10383705]),\n",
       " array([0.1128736]),\n",
       " array([0.11225222]),\n",
       " array([0.11392191]),\n",
       " array([0.11724242]),\n",
       " array([0.12416336]),\n",
       " array([0.1249555]),\n",
       " array([0.12628373]),\n",
       " array([0.12956631]),\n",
       " array([0.13195704]),\n",
       " array([0.13018294]),\n",
       " array([0.13115065]),\n",
       " array([0.1352823]),\n",
       " array([0.13408215]),\n",
       " array([0.13000268]),\n",
       " array([0.12821909]),\n",
       " array([0.13313819]),\n",
       " array([0.12701426]),\n",
       " array([0.13227488]),\n",
       " array([0.12980818]),\n",
       " array([0.13553847]),\n",
       " array([0.13510204]),\n",
       " array([0.13810945]),\n",
       " array([0.13477951]),\n",
       " array([0.1386123]),\n",
       " array([0.1307569]),\n",
       " array([0.13374063]),\n",
       " array([0.13056245]),\n",
       " array([0.13520638]),\n",
       " array([0.13783435]),\n",
       " array([0.14690408]),\n",
       " array([0.14957947]),\n",
       " array([0.14743536]),\n",
       " array([0.13012602]),\n",
       " array([0.14066151]),\n",
       " array([0.12996001]),\n",
       " array([0.12502667]),\n",
       " array([0.13149692]),\n",
       " array([0.13493602]),\n",
       " array([0.14265859]),\n",
       " array([0.14266334]),\n",
       " array([0.145685]),\n",
       " array([0.14429986]),\n",
       " array([0.14969331]),\n",
       " array([0.15157175]),\n",
       " array([0.14451804]),\n",
       " array([0.15158125]),\n",
       " array([0.15956474]),\n",
       " array([0.16102574]),\n",
       " array([0.1650388]),\n",
       " array([0.16823122]),\n",
       " array([0.16537563]),\n",
       " array([0.16871033]),\n",
       " array([0.16874357]),\n",
       " array([0.17660366]),\n",
       " array([0.18060728]),\n",
       " array([0.17666533]),\n",
       " array([0.18472943]),\n",
       " array([0.18416972]),\n",
       " array([0.18553113]),\n",
       " array([0.17898021]),\n",
       " array([0.17668433]),\n",
       " array([0.17625264]),\n",
       " array([0.18121447]),\n",
       " array([0.17566444]),\n",
       " array([0.17853434]),\n",
       " array([0.16730625]),\n",
       " array([0.17189806]),\n",
       " array([0.16760984]),\n",
       " array([0.15694627]),\n",
       " array([0.16342603]),\n",
       " array([0.17330215]),\n",
       " array([0.17303179]),\n",
       " array([0.16511946]),\n",
       " array([0.15866345]),\n",
       " array([0.16997214]),\n",
       " array([0.16540407]),\n",
       " array([0.17124345]),\n",
       " array([0.17730102]),\n",
       " array([0.16644769]),\n",
       " array([0.14712227]),\n",
       " array([0.1491336]),\n",
       " array([0.13995946]),\n",
       " array([0.14704641]),\n",
       " array([0.15427088]),\n",
       " array([0.15898598]),\n",
       " array([0.15570346]),\n",
       " array([0.15982086]),\n",
       " array([0.15940342]),\n",
       " array([0.16003435]),\n",
       " array([0.16785177]),\n",
       " array([0.171917]),\n",
       " array([0.17754289]),\n",
       " array([0.17768522]),\n",
       " array([0.18831086]),\n",
       " array([0.19076326]),\n",
       " array([0.19185905]),\n",
       " array([0.18889906]),\n",
       " array([0.19110484]),\n",
       " array([0.19511789]),\n",
       " array([0.19640814]),\n",
       " array([0.19803996]),\n",
       " array([0.19655047]),\n",
       " array([0.19349082]),\n",
       " array([0.19553533]),\n",
       " array([0.19619944]),\n",
       " array([0.19320147]),\n",
       " array([0.19350031]),\n",
       " array([0.19339122]),\n",
       " array([0.20341917]),\n",
       " array([0.2047474]),\n",
       " array([0.20354726]),\n",
       " array([0.19891276]),\n",
       " array([0.19584842]),\n",
       " array([0.19896493]),\n",
       " array([0.19609035]),\n",
       " array([0.19516532]),\n",
       " array([0.19739009]),\n",
       " array([0.19322996]),\n",
       " array([0.18181211]),\n",
       " array([0.17920789]),\n",
       " array([0.17457345]),\n",
       " array([0.17755713]),\n",
       " array([0.17302704]),\n",
       " array([0.17974392]),\n",
       " array([0.18284624]),\n",
       " array([0.17965856]),\n",
       " array([0.16718291]),\n",
       " array([0.16930803]),\n",
       " array([0.17083076]),\n",
       " array([0.16836406]),\n",
       " array([0.17158972]),\n",
       " array([0.1779034]),\n",
       " array([0.17885212]),\n",
       " array([0.17889485]),\n",
       " array([0.1867407]),\n",
       " array([0.19256584]),\n",
       " array([0.19500405]),\n",
       " array([0.19229548]),\n",
       " array([0.19446328]),\n",
       " array([0.19902186]),\n",
       " array([0.20241828]),\n",
       " array([0.21226597]),\n",
       " array([0.21075748]),\n",
       " array([0.20486124]),\n",
       " array([0.20103313]),\n",
       " array([0.1989365]),\n",
       " array([0.19673072]),\n",
       " array([0.19952945]),\n",
       " array([0.19624687]),\n",
       " array([0.19140844]),\n",
       " array([0.19778853]),\n",
       " array([0.19725251]),\n",
       " array([0.19003753]),\n",
       " array([0.19565392]),\n",
       " array([0.18883264]),\n",
       " array([0.17902763]),\n",
       " array([0.17947831]),\n",
       " array([0.19663113]),\n",
       " array([0.20167825]),\n",
       " array([0.20497033]),\n",
       " array([0.1992401]),\n",
       " array([0.21037803]),\n",
       " array([0.21588533]),\n",
       " array([0.22126928]),\n",
       " array([0.2213452]),\n",
       " array([0.22609353]),\n",
       " array([0.22216108]),\n",
       " array([0.22486015]),\n",
       " array([0.22851275]),\n",
       " array([0.22962273]),\n",
       " array([0.2342904]),\n",
       " array([0.230192]),\n",
       " array([0.22698058]),\n",
       " array([0.2293998]),\n",
       " array([0.23238353]),\n",
       " array([0.23003067]),\n",
       " array([0.23359786]),\n",
       " array([0.22252635]),\n",
       " array([0.23365478]),\n",
       " array([0.23426197]),\n",
       " array([0.23226963]),\n",
       " array([0.23905773]),\n",
       " array([0.2431467]),\n",
       " array([0.24673288]),\n",
       " array([0.24357838]),\n",
       " array([0.24184221]),\n",
       " array([0.23875888]),\n",
       " array([0.24562759]),\n",
       " array([0.24985414]),\n",
       " array([0.24877259]),\n",
       " array([0.24890067]),\n",
       " array([0.25102579]),\n",
       " array([0.25035224]),\n",
       " array([0.24802312]),\n",
       " array([0.24529556]),\n",
       " array([0.24418558]),\n",
       " array([0.24049505]),\n",
       " array([0.25001065]),\n",
       " array([0.25156656]),\n",
       " array([0.248839]),\n",
       " array([0.23916208]),\n",
       " array([0.2359744]),\n",
       " array([0.23588899]),\n",
       " array([0.24121134]),\n",
       " array([0.23858337]),\n",
       " array([0.25264812]),\n",
       " array([0.25215002]),\n",
       " array([0.25628641]),\n",
       " array([0.26087348]),\n",
       " array([0.26340179]),\n",
       " array([0.26752874]),\n",
       " array([0.26723464]),\n",
       " array([0.26707807]),\n",
       " array([0.27053616]),\n",
       " array([0.26276616]),\n",
       " array([0.26247681]),\n",
       " array([0.26029477]),\n",
       " array([0.26556489]),\n",
       " array([0.26537988]),\n",
       " array([0.26568348]),\n",
       " array([0.26769476]),\n",
       " array([0.25670385]),\n",
       " array([0.26603925]),\n",
       " array([0.27054566]),\n",
       " array([0.26936451]),\n",
       " array([0.26595384]),\n",
       " array([0.26837311]),\n",
       " array([0.2688759]),\n",
       " array([0.26109641]),\n",
       " array([0.24299018]),\n",
       " array([0.23884904]),\n",
       " array([0.2440385]),\n",
       " array([0.23535771]),\n",
       " array([0.24484013]),\n",
       " array([0.23933759]),\n",
       " array([0.22003122]),\n",
       " array([0.2263449]),\n",
       " array([0.22465621]),\n",
       " array([0.2349925]),\n",
       " array([0.24618261]),\n",
       " array([0.24752027]),\n",
       " array([0.25696477]),\n",
       " array([0.25673234]),\n",
       " array([0.26174628]),\n",
       " array([0.26592066]),\n",
       " array([0.26693105]),\n",
       " array([0.26123399]),\n",
       " array([0.26646618]),\n",
       " array([0.26479168]),\n",
       " array([0.27018039]),\n",
       " array([0.26899924]),\n",
       " array([0.26901824]),\n",
       " array([0.27334913]),\n",
       " array([0.27579678]),\n",
       " array([0.26928859]),\n",
       " array([0.28265604]),\n",
       " array([0.28260862]),\n",
       " array([0.28413604]),\n",
       " array([0.28461515]),\n",
       " array([0.28420246]),\n",
       " array([0.27967706]),\n",
       " array([0.27994742]),\n",
       " array([0.26957795]),\n",
       " array([0.26710656]),\n",
       " array([0.27550268]),\n",
       " array([0.28186859]),\n",
       " array([0.27642297]),\n",
       " array([0.28175475]),\n",
       " array([0.27915053]),\n",
       " array([0.27484331]),\n",
       " array([0.27872359]),\n",
       " array([0.2725285]),\n",
       " array([0.27085875]),\n",
       " array([0.27492872]),\n",
       " array([0.28191127]),\n",
       " array([0.28816334]),\n",
       " array([0.29071539]),\n",
       " array([0.28970501]),\n",
       " array([0.27847217]),\n",
       " array([0.26896131]),\n",
       " array([0.27224384]),\n",
       " array([0.28183541]),\n",
       " array([0.26328795]),\n",
       " array([0.25503884]),\n",
       " array([0.26211629]),\n",
       " array([0.26798411]),\n",
       " array([0.2771535]),\n",
       " array([0.27835833]),\n",
       " array([0.28169783]),\n",
       " array([0.28533143]),\n",
       " array([0.28335809]),\n",
       " array([0.28488551]),\n",
       " array([0.27767053]),\n",
       " array([0.28053093]),\n",
       " array([0.28475267]),\n",
       " array([0.28741857]),\n",
       " array([0.28729054]),\n",
       " array([0.28608565]),\n",
       " array([0.2877554]),\n",
       " array([0.27971973]),\n",
       " array([0.28469575]),\n",
       " array([0.28347193]),\n",
       " array([0.28482384]),\n",
       " array([0.29344295]),\n",
       " array([0.29382241]),\n",
       " array([0.28959116]),\n",
       " array([0.28120448]),\n",
       " array([0.28452974]),\n",
       " array([0.28795459]),\n",
       " array([0.2821437]),\n",
       " array([0.28935399]),\n",
       " array([0.29146961]),\n",
       " array([0.29528347]),\n",
       " array([0.30068167]),\n",
       " array([0.29967128]),\n",
       " array([0.30453346]),\n",
       " array([0.30621265]),\n",
       " array([0.30687676]),\n",
       " array([0.30653049]),\n",
       " array([0.30825716]),\n",
       " array([0.31422457]),\n",
       " array([0.3184843]),\n",
       " array([0.31935242]),\n",
       " array([0.31912473]),\n",
       " array([0.31585165]),\n",
       " array([0.30931497]),\n",
       " array([0.31218487]),\n",
       " array([0.31295332]),\n",
       " array([0.31495036]),\n",
       " array([0.32206099]),\n",
       " array([0.32324688]),\n",
       " array([0.32485497]),\n",
       " array([0.32473163]),\n",
       " array([0.31874048]),\n",
       " array([0.32327062]),\n",
       " array([0.32217483]),\n",
       " array([0.32394892]),\n",
       " array([0.32360265]),\n",
       " array([0.32981199]),\n",
       " array([0.33042868]),\n",
       " array([0.33556121]),\n",
       " array([0.331866]),\n",
       " array([0.32525341]),\n",
       " array([0.32957956]),\n",
       " array([0.32571358]),\n",
       " array([0.32708443]),\n",
       " array([0.33160508]),\n",
       " array([0.32979305]),\n",
       " array([0.33372545]),\n",
       " array([0.32260176]),\n",
       " array([0.33213636]),\n",
       " array([0.32995907]),\n",
       " array([0.33465523]),\n",
       " array([0.33630599]),\n",
       " array([0.3367661]),\n",
       " array([0.33219328]),\n",
       " array([0.3324637]),\n",
       " array([0.3282134]),\n",
       " array([0.32827032]),\n",
       " array([0.30958064]),\n",
       " array([0.30696217]),\n",
       " array([0.31352728]),\n",
       " array([0.30461881]),\n",
       " array([0.30463306]),\n",
       " array([0.29957163]),\n",
       " array([0.31001701]),\n",
       " array([0.31254538]),\n",
       " array([0.31104165]),\n",
       " array([0.31719406]),\n",
       " array([0.32120718]),\n",
       " array([0.32115025]),\n",
       " array([0.32906252]),\n",
       " array([0.33373969]),\n",
       " array([0.33606881]),\n",
       " array([0.33884854]),\n",
       " array([0.33696535]),\n",
       " array([0.34148126]),\n",
       " array([0.3424774]),\n",
       " array([0.34252482]),\n",
       " array([0.34092149]),\n",
       " array([0.34406649]),\n",
       " array([0.34354945]),\n",
       " array([0.34280943]),\n",
       " array([0.34135317]),\n",
       " array([0.34612519]),\n",
       " array([0.34319843]),\n",
       " array([0.33698429]),\n",
       " array([0.34042339]),\n",
       " array([0.34125826]),\n",
       " array([0.33560869]),\n",
       " array([0.33493983]),\n",
       " array([0.34198405]),\n",
       " array([0.34321262]),\n",
       " array([0.34785661]),\n",
       " array([0.34740124]),\n",
       " array([0.33975933]),\n",
       " array([0.33429471]),\n",
       " array([0.34166152]),\n",
       " array([0.32633496]),\n",
       " array([0.33433264]),\n",
       " array([0.33193716]),\n",
       " array([0.32932344]),\n",
       " array([0.31692845]),\n",
       " array([0.3169332]),\n",
       " array([0.327241]),\n",
       " array([0.32577994]),\n",
       " array([0.31168202]),\n",
       " array([0.32771061]),\n",
       " array([0.30841368]),\n",
       " array([0.29793986]),\n",
       " array([0.28304974]),\n",
       " array([0.28445382]),\n",
       " array([0.27723885]),\n",
       " array([0.27736693]),\n",
       " array([0.28875154]),\n",
       " array([0.29693423]),\n",
       " array([0.31461358]),\n",
       " array([0.3078919]),\n",
       " array([0.31913892]),\n",
       " array([0.3256661]),\n",
       " array([0.32426677]),\n",
       " array([0.33537626]),\n",
       " array([0.33407178]),\n",
       " array([0.33993009]),\n",
       " array([0.3510301]),\n",
       " array([0.35091626]),\n",
       " array([0.34820763]),\n",
       " array([0.35364851]),\n",
       " array([0.35727261]),\n",
       " array([0.35760945]),\n",
       " array([0.36061687]),\n",
       " array([0.36129048]),\n",
       " array([0.36061212]),\n",
       " array([0.3611244]),\n",
       " array([0.36135683]),\n",
       " array([0.36206837]),\n",
       " array([0.3670397]),\n",
       " array([0.36557864]),\n",
       " array([0.36749032]),\n",
       " array([0.37258967]),\n",
       " array([0.37539309]),\n",
       " array([0.37426417]),\n",
       " array([0.37701547]),\n",
       " array([0.3745156]),\n",
       " array([0.3678176]),\n",
       " array([0.37403649]),\n",
       " array([0.37772701]),\n",
       " array([0.37658373]),\n",
       " array([0.37822036]),\n",
       " array([0.3710765]),\n",
       " array([0.37084406]),\n",
       " array([0.35486764]),\n",
       " array([0.35922697]),\n",
       " array([0.34357314]),\n",
       " array([0.33754881]),\n",
       " array([0.32953688]),\n",
       " array([0.34858239]),\n",
       " array([0.37151287]),\n",
       " array([0.37598129]),\n",
       " array([0.37972404]),\n",
       " array([0.38144591]),\n",
       " array([0.38130833]),\n",
       " array([0.38457672]),\n",
       " array([0.38543059]),\n",
       " array([0.38058266]),\n",
       " array([0.37040758]),\n",
       " array([0.37007555]),\n",
       " array([0.35223018]),\n",
       " array([0.34370597]),\n",
       " array([0.3547538]),\n",
       " array([0.37194449]),\n",
       " array([0.36372394]),\n",
       " array([0.35587328]),\n",
       " array([0.35339239]),\n",
       " array([0.34781393]),\n",
       " array([0.33899087]),\n",
       " array([0.35167997]),\n",
       " array([0.35316471]),\n",
       " array([0.3577043]),\n",
       " array([0.3724236]),\n",
       " array([0.3670492]),\n",
       " array([0.36954907]),\n",
       " array([0.35648522]),\n",
       " array([0.34349253]),\n",
       " array([0.35254802]),\n",
       " array([0.34009136]),\n",
       " array([0.35235827]),\n",
       " array([0.36620008]),\n",
       " array([0.36215853]),\n",
       " array([0.37212481]),\n",
       " array([0.36878056]),\n",
       " array([0.36463942]),\n",
       " array([0.3750042]),\n",
       " array([0.37497571]),\n",
       " array([0.38443914]),\n",
       " array([0.38847594]),\n",
       " array([0.39006508]),\n",
       " array([0.38975193]),\n",
       " array([0.38869412]),\n",
       " array([0.39478968]),\n",
       " array([0.39448602]),\n",
       " array([0.39724682]),\n",
       " array([0.39647842]),\n",
       " array([0.39499837]),\n",
       " array([0.39203837]),\n",
       " array([0.3981528]),\n",
       " array([0.39359428]),\n",
       " array([0.38920647]),\n",
       " array([0.39039711]),\n",
       " array([0.3762707]),\n",
       " array([0.38014617]),\n",
       " array([0.36341559]),\n",
       " array([0.36155609]),\n",
       " array([0.37375183]),\n",
       " array([0.3677986]),\n",
       " array([0.38098105]),\n",
       " array([0.37770327]),\n",
       " array([0.38966658]),\n",
       " array([0.3848139]),\n",
       " array([0.39374611]),\n",
       " array([0.39200039]),\n",
       " array([0.38587171]),\n",
       " array([0.37142752]),\n",
       " array([0.36910309]),\n",
       " array([0.37141327]),\n",
       " array([0.38337658]),\n",
       " array([0.37467205]),\n",
       " array([0.37078234]),\n",
       " array([0.37423093]),\n",
       " array([0.38071075]),\n",
       " array([0.37867573]),\n",
       " array([0.38131782]),\n",
       " array([0.38571988]),\n",
       " array([0.39088097]),\n",
       " array([0.38631283]),\n",
       " array([0.38793047]),\n",
       " array([0.3930487]),\n",
       " array([0.3922708]),\n",
       " array([0.3809763]),\n",
       " array([0.39009346]),\n",
       " array([0.38861827]),\n",
       " array([0.39367964]),\n",
       " array([0.39603718]),\n",
       " array([0.39829513]),\n",
       " array([0.394135]),\n",
       " array([0.3969053]),\n",
       " array([0.39315316]),\n",
       " array([0.38303031]),\n",
       " array([0.39383621]),\n",
       " array([0.39677721]),\n",
       " array([0.384904]),\n",
       " array([0.3804877]),\n",
       " array([0.38421146]),\n",
       " array([0.39754098]),\n",
       " array([0.39243213]),\n",
       " array([0.38948638]),\n",
       " array([0.38918272]),\n",
       " array([0.39991277]),\n",
       " array([0.40068592]),\n",
       " array([0.40375501]),\n",
       " array([0.4031052]),\n",
       " array([0.40216598]),\n",
       " array([0.40452352]),\n",
       " array([0.40226557]),\n",
       " array([0.39189604]),\n",
       " array([0.40104169]),\n",
       " array([0.39976569]),\n",
       " array([0.39340922]),\n",
       " array([0.39546798]),\n",
       " array([0.39445765]),\n",
       " array([0.39657802]),\n",
       " array([0.38793047]),\n",
       " array([0.38650265]),\n",
       " array([0.38007506]),\n",
       " array([0.3804877]),\n",
       " array([0.3923704]),\n",
       " array([0.39410663]),\n",
       " array([0.38710984]),\n",
       " array([0.38251796]),\n",
       " array([0.38814391]),\n",
       " array([0.39011245]),\n",
       " array([0.39997913]),\n",
       " array([0.3946426]),\n",
       " array([0.4007429]),\n",
       " array([0.40138321]),\n",
       " array([0.39397379]),\n",
       " array([0.39099956]),\n",
       " array([0.39061055]),\n",
       " array([0.36980988]),\n",
       " array([0.37240472]),\n",
       " array([0.37919271]),\n",
       " array([0.37888917]),\n",
       " array([0.3750848]),\n",
       " array([0.38105227]),\n",
       " array([0.36461099]),\n",
       " array([0.36680727]),\n",
       " array([0.37881331]),\n",
       " array([0.38971406]),\n",
       " array([0.39414925]),\n",
       " array([0.39341397]),\n",
       " array([0.40142595]),\n",
       " array([0.40254062]),\n",
       " array([0.40331863]),\n",
       " array([0.39901617]),\n",
       " array([0.39661589]),\n",
       " array([0.39092358]),\n",
       " array([0.38025052]),\n",
       " array([0.37455347]),\n",
       " array([0.38670184]),\n",
       " array([0.39396904]),\n",
       " array([0.39399742]),\n",
       " array([0.39172534]),\n",
       " array([0.38897404]),\n",
       " array([0.38673508]),\n",
       " array([0.3898279]),\n",
       " array([0.38210533]),\n",
       " array([0.37926393]),\n",
       " array([0.39188655]),\n",
       " array([0.38234726]),\n",
       " array([0.38328648]),\n",
       " array([0.38202461]),\n",
       " array([0.3858907]),\n",
       " array([0.39106117]),\n",
       " array([0.3884427]),\n",
       " array([0.38023164]),\n",
       " array([0.35941672]),\n",
       " array([0.32865933]),\n",
       " array([0.29181113]),\n",
       " array([0.27966756]),\n",
       " array([0.31424831]),\n",
       " array([0.33661433]),\n",
       " array([0.33718829]),\n",
       " array([0.32927127]),\n",
       " array([0.3016019]),\n",
       " array([0.3182092]),\n",
       " array([0.319286]),\n",
       " array([0.30509792]),\n",
       " array([0.32795729]),\n",
       " array([0.3149741]),\n",
       " array([0.31983627]),\n",
       " array([0.32399166]),\n",
       " array([0.32018729]),\n",
       " array([0.33207469]),\n",
       " array([0.34024319]),\n",
       " array([0.33781916]),\n",
       " array([0.32255909]),\n",
       " array([0.32679982]),\n",
       " array([0.31530612]),\n",
       " array([0.31341819]),\n",
       " array([0.31032536]),\n",
       " array([0.30989843]),\n",
       " array([0.2863845]),\n",
       " array([0.28748498]),\n",
       " array([0.30453346]),\n",
       " array([0.30633124]),\n",
       " array([0.31939509]),\n",
       " array([0.33632498]),\n",
       " array([0.3329428]),\n",
       " array([0.34048981]),\n",
       " array([0.34883856]),\n",
       " array([0.34953111]),\n",
       " array([0.35075018]),\n",
       " array([0.34421826]),\n",
       " array([0.33973559]),\n",
       " array([0.35378609]),\n",
       " array([0.35817391]),\n",
       " array([0.35843483]),\n",
       " array([0.35706392]),\n",
       " array([0.35145223]),\n",
       " array([0.36737648]),\n",
       " array([0.3781159]),\n",
       " array([0.37623271]),\n",
       " array([0.37372334]),\n",
       " array([0.38532625]),\n",
       " array([0.38488026]),\n",
       " array([0.38011305]),\n",
       " array([0.39182493]),\n",
       " array([0.39454775]),\n",
       " array([0.39099956]),\n",
       " array([0.38987052]),\n",
       " array([0.38952425]),\n",
       " array([0.37974304]),\n",
       " array([0.38123247]),\n",
       " array([0.3780448]),\n",
       " array([0.36427415]),\n",
       " array([0.35339714]),\n",
       " array([0.36769901]),\n",
       " array([0.36639452]),\n",
       " array([0.38211483]),\n",
       " array([0.38100479]),\n",
       " array([0.38476642]),\n",
       " array([0.38354265]),\n",
       " array([0.38475217]),\n",
       " array([0.3846242]),\n",
       " array([0.3852124]),\n",
       " array([0.38061103]),\n",
       " array([0.39115127]),\n",
       " array([0.38018416]),\n",
       " array([0.36600563]),\n",
       " array([0.38596181]),\n",
       " array([0.37902675]),\n",
       " array([0.37263241]),\n",
       " array([0.36505685]),\n",
       " array([0.36724364]),\n",
       " array([0.34833571]),\n",
       " array([0.3528753]),\n",
       " array([0.36305982]),\n",
       " array([0.37712932]),\n",
       " array([0.36233879]),\n",
       " array([0.34510061]),\n",
       " array([0.3525006]),\n",
       " array([0.36095364]),\n",
       " array([0.37296443]),\n",
       " array([0.37139903]),\n",
       " array([0.36926916]),\n",
       " array([0.37963869]),\n",
       " array([0.37252331]),\n",
       " array([0.36331119]),\n",
       " array([0.3484733]),\n",
       " ...]"
      ]
     },
     "execution_count": 43,
     "metadata": {},
     "output_type": "execute_result"
    }
   ],
   "source": [
    "X"
   ]
  },
  {
   "cell_type": "code",
   "execution_count": 44,
   "metadata": {
    "colab": {},
    "colab_type": "code",
    "id": "x8wykXAUbKI8"
   },
   "outputs": [],
   "source": [
    "# Convert the data into array format\n",
    "X = np.asarray(X)\n",
    "y = np.asarray(y)"
   ]
  },
  {
   "cell_type": "code",
   "execution_count": 45,
   "metadata": {
    "colab": {},
    "colab_type": "code",
    "id": "hphqavfBne49"
   },
   "outputs": [],
   "source": [
    "# Split the data\n",
    "split = int(0.7 * len(X))\n",
    "X_train = X[:split]\n",
    "y_train = y[:split]\n",
    "X_test = X[split:]\n",
    "y_test = y[split:]"
   ]
  },
  {
   "cell_type": "code",
   "execution_count": 46,
   "metadata": {
    "colab": {},
    "colab_type": "code",
    "id": "VdDmlfesj1tO"
   },
   "outputs": [
    {
     "data": {
      "text/plain": [
       "((1510, 1, 1), (648, 1, 1))"
      ]
     },
     "execution_count": 46,
     "metadata": {},
     "output_type": "execute_result"
    }
   ],
   "source": [
    "# Reshape the 1D arrays to 3D arrays to feed in the model\n",
    "X_train = np.reshape(X_train, (X_train.shape[0], X_train.shape[1], 1))\n",
    "X_test = np.reshape(X_test, (X_test.shape[0], X_test.shape[1], 1))\n",
    "X_train.shape, X_test.shape"
   ]
  },
  {
   "cell_type": "code",
   "execution_count": 54,
   "metadata": {},
   "outputs": [],
   "source": [
    "! pip install numpy --upgrade -q"
   ]
  },
  {
   "cell_type": "code",
   "execution_count": 55,
   "metadata": {
    "colab": {},
    "colab_type": "code",
    "id": "wv2oJunPj7h5"
   },
   "outputs": [
    {
     "ename": "NotImplementedError",
     "evalue": "Cannot convert a symbolic Tensor (lstm_3/strided_slice:0) to a numpy array. This error may indicate that you're trying to pass a Tensor to a NumPy call, which is not supported",
     "output_type": "error",
     "traceback": [
      "\u001b[0;31m---------------------------------------------------------------------------\u001b[0m",
      "\u001b[0;31mNotImplementedError\u001b[0m                       Traceback (most recent call last)",
      "\u001b[0;32m<ipython-input-55-1b4c5680858d>\u001b[0m in \u001b[0;36m<module>\u001b[0;34m\u001b[0m\n\u001b[1;32m      1\u001b[0m \u001b[0;31m# Create the model\u001b[0m\u001b[0;34m\u001b[0m\u001b[0;34m\u001b[0m\u001b[0;34m\u001b[0m\u001b[0m\n\u001b[1;32m      2\u001b[0m \u001b[0minputs\u001b[0m \u001b[0;34m=\u001b[0m \u001b[0mkeras\u001b[0m\u001b[0;34m.\u001b[0m\u001b[0mlayers\u001b[0m\u001b[0;34m.\u001b[0m\u001b[0mInput\u001b[0m\u001b[0;34m(\u001b[0m\u001b[0mshape\u001b[0m\u001b[0;34m=\u001b[0m\u001b[0;34m(\u001b[0m\u001b[0mX_train\u001b[0m\u001b[0;34m.\u001b[0m\u001b[0mshape\u001b[0m\u001b[0;34m[\u001b[0m\u001b[0;36m1\u001b[0m\u001b[0;34m]\u001b[0m\u001b[0;34m,\u001b[0m \u001b[0mX_train\u001b[0m\u001b[0;34m.\u001b[0m\u001b[0mshape\u001b[0m\u001b[0;34m[\u001b[0m\u001b[0;36m2\u001b[0m\u001b[0;34m]\u001b[0m\u001b[0;34m)\u001b[0m\u001b[0;34m)\u001b[0m\u001b[0;34m\u001b[0m\u001b[0;34m\u001b[0m\u001b[0m\n\u001b[0;32m----> 3\u001b[0;31m \u001b[0mx\u001b[0m \u001b[0;34m=\u001b[0m \u001b[0mkeras\u001b[0m\u001b[0;34m.\u001b[0m\u001b[0mlayers\u001b[0m\u001b[0;34m.\u001b[0m\u001b[0mLSTM\u001b[0m\u001b[0;34m(\u001b[0m\u001b[0;36m150\u001b[0m\u001b[0;34m,\u001b[0m \u001b[0mreturn_sequences\u001b[0m\u001b[0;34m=\u001b[0m \u001b[0;32mTrue\u001b[0m\u001b[0;34m)\u001b[0m\u001b[0;34m(\u001b[0m\u001b[0minputs\u001b[0m\u001b[0;34m)\u001b[0m\u001b[0;34m\u001b[0m\u001b[0;34m\u001b[0m\u001b[0m\n\u001b[0m\u001b[1;32m      4\u001b[0m \u001b[0mx\u001b[0m \u001b[0;34m=\u001b[0m \u001b[0mkeras\u001b[0m\u001b[0;34m.\u001b[0m\u001b[0mlayers\u001b[0m\u001b[0;34m.\u001b[0m\u001b[0mDropout\u001b[0m\u001b[0;34m(\u001b[0m\u001b[0;36m0.3\u001b[0m\u001b[0;34m)\u001b[0m\u001b[0;34m(\u001b[0m\u001b[0mx\u001b[0m\u001b[0;34m)\u001b[0m\u001b[0;34m\u001b[0m\u001b[0;34m\u001b[0m\u001b[0m\n\u001b[1;32m      5\u001b[0m \u001b[0mx\u001b[0m \u001b[0;34m=\u001b[0m \u001b[0mkeras\u001b[0m\u001b[0;34m.\u001b[0m\u001b[0mlayers\u001b[0m\u001b[0;34m.\u001b[0m\u001b[0mLSTM\u001b[0m\u001b[0;34m(\u001b[0m\u001b[0;36m150\u001b[0m\u001b[0;34m,\u001b[0m \u001b[0mreturn_sequences\u001b[0m\u001b[0;34m=\u001b[0m\u001b[0;32mTrue\u001b[0m\u001b[0;34m)\u001b[0m\u001b[0;34m(\u001b[0m\u001b[0mx\u001b[0m\u001b[0;34m)\u001b[0m\u001b[0;34m\u001b[0m\u001b[0;34m\u001b[0m\u001b[0m\n",
      "\u001b[0;32m~/opt/anaconda3/lib/python3.8/site-packages/tensorflow/python/keras/layers/recurrent.py\u001b[0m in \u001b[0;36m__call__\u001b[0;34m(self, inputs, initial_state, constants, **kwargs)\u001b[0m\n\u001b[1;32m    666\u001b[0m \u001b[0;34m\u001b[0m\u001b[0m\n\u001b[1;32m    667\u001b[0m     \u001b[0;32mif\u001b[0m \u001b[0minitial_state\u001b[0m \u001b[0;32mis\u001b[0m \u001b[0;32mNone\u001b[0m \u001b[0;32mand\u001b[0m \u001b[0mconstants\u001b[0m \u001b[0;32mis\u001b[0m \u001b[0;32mNone\u001b[0m\u001b[0;34m:\u001b[0m\u001b[0;34m\u001b[0m\u001b[0;34m\u001b[0m\u001b[0m\n\u001b[0;32m--> 668\u001b[0;31m       \u001b[0;32mreturn\u001b[0m \u001b[0msuper\u001b[0m\u001b[0;34m(\u001b[0m\u001b[0mRNN\u001b[0m\u001b[0;34m,\u001b[0m \u001b[0mself\u001b[0m\u001b[0;34m)\u001b[0m\u001b[0;34m.\u001b[0m\u001b[0m__call__\u001b[0m\u001b[0;34m(\u001b[0m\u001b[0minputs\u001b[0m\u001b[0;34m,\u001b[0m \u001b[0;34m**\u001b[0m\u001b[0mkwargs\u001b[0m\u001b[0;34m)\u001b[0m\u001b[0;34m\u001b[0m\u001b[0;34m\u001b[0m\u001b[0m\n\u001b[0m\u001b[1;32m    669\u001b[0m \u001b[0;34m\u001b[0m\u001b[0m\n\u001b[1;32m    670\u001b[0m     \u001b[0;31m# If any of `initial_state` or `constants` are specified and are Keras\u001b[0m\u001b[0;34m\u001b[0m\u001b[0;34m\u001b[0m\u001b[0;34m\u001b[0m\u001b[0m\n",
      "\u001b[0;32m~/opt/anaconda3/lib/python3.8/site-packages/tensorflow/python/keras/engine/base_layer.py\u001b[0m in \u001b[0;36m__call__\u001b[0;34m(self, *args, **kwargs)\u001b[0m\n\u001b[1;32m    967\u001b[0m     \u001b[0;31m# >> model = tf.keras.Model(inputs, outputs)\u001b[0m\u001b[0;34m\u001b[0m\u001b[0;34m\u001b[0m\u001b[0;34m\u001b[0m\u001b[0m\n\u001b[1;32m    968\u001b[0m     \u001b[0;32mif\u001b[0m \u001b[0m_in_functional_construction_mode\u001b[0m\u001b[0;34m(\u001b[0m\u001b[0mself\u001b[0m\u001b[0;34m,\u001b[0m \u001b[0minputs\u001b[0m\u001b[0;34m,\u001b[0m \u001b[0margs\u001b[0m\u001b[0;34m,\u001b[0m \u001b[0mkwargs\u001b[0m\u001b[0;34m,\u001b[0m \u001b[0minput_list\u001b[0m\u001b[0;34m)\u001b[0m\u001b[0;34m:\u001b[0m\u001b[0;34m\u001b[0m\u001b[0;34m\u001b[0m\u001b[0m\n\u001b[0;32m--> 969\u001b[0;31m       return self._functional_construction_call(inputs, args, kwargs,\n\u001b[0m\u001b[1;32m    970\u001b[0m                                                 input_list)\n\u001b[1;32m    971\u001b[0m \u001b[0;34m\u001b[0m\u001b[0m\n",
      "\u001b[0;32m~/opt/anaconda3/lib/python3.8/site-packages/tensorflow/python/keras/engine/base_layer.py\u001b[0m in \u001b[0;36m_functional_construction_call\u001b[0;34m(self, inputs, args, kwargs, input_list)\u001b[0m\n\u001b[1;32m   1105\u001b[0m         layer=self, inputs=inputs, build_graph=True, training=training_value):\n\u001b[1;32m   1106\u001b[0m       \u001b[0;31m# Check input assumptions set after layer building, e.g. input shape.\u001b[0m\u001b[0;34m\u001b[0m\u001b[0;34m\u001b[0m\u001b[0;34m\u001b[0m\u001b[0m\n\u001b[0;32m-> 1107\u001b[0;31m       outputs = self._keras_tensor_symbolic_call(\n\u001b[0m\u001b[1;32m   1108\u001b[0m           inputs, input_masks, args, kwargs)\n\u001b[1;32m   1109\u001b[0m \u001b[0;34m\u001b[0m\u001b[0m\n",
      "\u001b[0;32m~/opt/anaconda3/lib/python3.8/site-packages/tensorflow/python/keras/engine/base_layer.py\u001b[0m in \u001b[0;36m_keras_tensor_symbolic_call\u001b[0;34m(self, inputs, input_masks, args, kwargs)\u001b[0m\n\u001b[1;32m    838\u001b[0m       \u001b[0;32mreturn\u001b[0m \u001b[0mnest\u001b[0m\u001b[0;34m.\u001b[0m\u001b[0mmap_structure\u001b[0m\u001b[0;34m(\u001b[0m\u001b[0mkeras_tensor\u001b[0m\u001b[0;34m.\u001b[0m\u001b[0mKerasTensor\u001b[0m\u001b[0;34m,\u001b[0m \u001b[0moutput_signature\u001b[0m\u001b[0;34m)\u001b[0m\u001b[0;34m\u001b[0m\u001b[0;34m\u001b[0m\u001b[0m\n\u001b[1;32m    839\u001b[0m     \u001b[0;32melse\u001b[0m\u001b[0;34m:\u001b[0m\u001b[0;34m\u001b[0m\u001b[0;34m\u001b[0m\u001b[0m\n\u001b[0;32m--> 840\u001b[0;31m       \u001b[0;32mreturn\u001b[0m \u001b[0mself\u001b[0m\u001b[0;34m.\u001b[0m\u001b[0m_infer_output_signature\u001b[0m\u001b[0;34m(\u001b[0m\u001b[0minputs\u001b[0m\u001b[0;34m,\u001b[0m \u001b[0margs\u001b[0m\u001b[0;34m,\u001b[0m \u001b[0mkwargs\u001b[0m\u001b[0;34m,\u001b[0m \u001b[0minput_masks\u001b[0m\u001b[0;34m)\u001b[0m\u001b[0;34m\u001b[0m\u001b[0;34m\u001b[0m\u001b[0m\n\u001b[0m\u001b[1;32m    841\u001b[0m \u001b[0;34m\u001b[0m\u001b[0m\n\u001b[1;32m    842\u001b[0m   \u001b[0;32mdef\u001b[0m \u001b[0m_infer_output_signature\u001b[0m\u001b[0;34m(\u001b[0m\u001b[0mself\u001b[0m\u001b[0;34m,\u001b[0m \u001b[0minputs\u001b[0m\u001b[0;34m,\u001b[0m \u001b[0margs\u001b[0m\u001b[0;34m,\u001b[0m \u001b[0mkwargs\u001b[0m\u001b[0;34m,\u001b[0m \u001b[0minput_masks\u001b[0m\u001b[0;34m)\u001b[0m\u001b[0;34m:\u001b[0m\u001b[0;34m\u001b[0m\u001b[0;34m\u001b[0m\u001b[0m\n",
      "\u001b[0;32m~/opt/anaconda3/lib/python3.8/site-packages/tensorflow/python/keras/engine/base_layer.py\u001b[0m in \u001b[0;36m_infer_output_signature\u001b[0;34m(self, inputs, args, kwargs, input_masks)\u001b[0m\n\u001b[1;32m    878\u001b[0m           \u001b[0mself\u001b[0m\u001b[0;34m.\u001b[0m\u001b[0m_maybe_build\u001b[0m\u001b[0;34m(\u001b[0m\u001b[0minputs\u001b[0m\u001b[0;34m)\u001b[0m\u001b[0;34m\u001b[0m\u001b[0;34m\u001b[0m\u001b[0m\n\u001b[1;32m    879\u001b[0m           \u001b[0minputs\u001b[0m \u001b[0;34m=\u001b[0m \u001b[0mself\u001b[0m\u001b[0;34m.\u001b[0m\u001b[0m_maybe_cast_inputs\u001b[0m\u001b[0;34m(\u001b[0m\u001b[0minputs\u001b[0m\u001b[0;34m)\u001b[0m\u001b[0;34m\u001b[0m\u001b[0;34m\u001b[0m\u001b[0m\n\u001b[0;32m--> 880\u001b[0;31m           \u001b[0moutputs\u001b[0m \u001b[0;34m=\u001b[0m \u001b[0mcall_fn\u001b[0m\u001b[0;34m(\u001b[0m\u001b[0minputs\u001b[0m\u001b[0;34m,\u001b[0m \u001b[0;34m*\u001b[0m\u001b[0margs\u001b[0m\u001b[0;34m,\u001b[0m \u001b[0;34m**\u001b[0m\u001b[0mkwargs\u001b[0m\u001b[0;34m)\u001b[0m\u001b[0;34m\u001b[0m\u001b[0;34m\u001b[0m\u001b[0m\n\u001b[0m\u001b[1;32m    881\u001b[0m \u001b[0;34m\u001b[0m\u001b[0m\n\u001b[1;32m    882\u001b[0m         \u001b[0mself\u001b[0m\u001b[0;34m.\u001b[0m\u001b[0m_handle_activity_regularization\u001b[0m\u001b[0;34m(\u001b[0m\u001b[0minputs\u001b[0m\u001b[0;34m,\u001b[0m \u001b[0moutputs\u001b[0m\u001b[0;34m)\u001b[0m\u001b[0;34m\u001b[0m\u001b[0;34m\u001b[0m\u001b[0m\n",
      "\u001b[0;32m~/opt/anaconda3/lib/python3.8/site-packages/tensorflow/python/keras/layers/recurrent_v2.py\u001b[0m in \u001b[0;36mcall\u001b[0;34m(self, inputs, mask, training, initial_state)\u001b[0m\n\u001b[1;32m   1151\u001b[0m \u001b[0;34m\u001b[0m\u001b[0m\n\u001b[1;32m   1152\u001b[0m     \u001b[0;31m# LSTM does not support constants. Ignore it during process.\u001b[0m\u001b[0;34m\u001b[0m\u001b[0;34m\u001b[0m\u001b[0;34m\u001b[0m\u001b[0m\n\u001b[0;32m-> 1153\u001b[0;31m     \u001b[0minputs\u001b[0m\u001b[0;34m,\u001b[0m \u001b[0minitial_state\u001b[0m\u001b[0;34m,\u001b[0m \u001b[0m_\u001b[0m \u001b[0;34m=\u001b[0m \u001b[0mself\u001b[0m\u001b[0;34m.\u001b[0m\u001b[0m_process_inputs\u001b[0m\u001b[0;34m(\u001b[0m\u001b[0minputs\u001b[0m\u001b[0;34m,\u001b[0m \u001b[0minitial_state\u001b[0m\u001b[0;34m,\u001b[0m \u001b[0;32mNone\u001b[0m\u001b[0;34m)\u001b[0m\u001b[0;34m\u001b[0m\u001b[0;34m\u001b[0m\u001b[0m\n\u001b[0m\u001b[1;32m   1154\u001b[0m \u001b[0;34m\u001b[0m\u001b[0m\n\u001b[1;32m   1155\u001b[0m     \u001b[0;32mif\u001b[0m \u001b[0misinstance\u001b[0m\u001b[0;34m(\u001b[0m\u001b[0mmask\u001b[0m\u001b[0;34m,\u001b[0m \u001b[0mlist\u001b[0m\u001b[0;34m)\u001b[0m\u001b[0;34m:\u001b[0m\u001b[0;34m\u001b[0m\u001b[0;34m\u001b[0m\u001b[0m\n",
      "\u001b[0;32m~/opt/anaconda3/lib/python3.8/site-packages/tensorflow/python/keras/layers/recurrent.py\u001b[0m in \u001b[0;36m_process_inputs\u001b[0;34m(self, inputs, initial_state, constants)\u001b[0m\n\u001b[1;32m    866\u001b[0m         \u001b[0minitial_state\u001b[0m \u001b[0;34m=\u001b[0m \u001b[0mself\u001b[0m\u001b[0;34m.\u001b[0m\u001b[0mstates\u001b[0m\u001b[0;34m\u001b[0m\u001b[0;34m\u001b[0m\u001b[0m\n\u001b[1;32m    867\u001b[0m     \u001b[0;32melif\u001b[0m \u001b[0minitial_state\u001b[0m \u001b[0;32mis\u001b[0m \u001b[0;32mNone\u001b[0m\u001b[0;34m:\u001b[0m\u001b[0;34m\u001b[0m\u001b[0;34m\u001b[0m\u001b[0m\n\u001b[0;32m--> 868\u001b[0;31m       \u001b[0minitial_state\u001b[0m \u001b[0;34m=\u001b[0m \u001b[0mself\u001b[0m\u001b[0;34m.\u001b[0m\u001b[0mget_initial_state\u001b[0m\u001b[0;34m(\u001b[0m\u001b[0minputs\u001b[0m\u001b[0;34m)\u001b[0m\u001b[0;34m\u001b[0m\u001b[0;34m\u001b[0m\u001b[0m\n\u001b[0m\u001b[1;32m    869\u001b[0m \u001b[0;34m\u001b[0m\u001b[0m\n\u001b[1;32m    870\u001b[0m     \u001b[0;32mif\u001b[0m \u001b[0mlen\u001b[0m\u001b[0;34m(\u001b[0m\u001b[0minitial_state\u001b[0m\u001b[0;34m)\u001b[0m \u001b[0;34m!=\u001b[0m \u001b[0mlen\u001b[0m\u001b[0;34m(\u001b[0m\u001b[0mself\u001b[0m\u001b[0;34m.\u001b[0m\u001b[0mstates\u001b[0m\u001b[0;34m)\u001b[0m\u001b[0;34m:\u001b[0m\u001b[0;34m\u001b[0m\u001b[0;34m\u001b[0m\u001b[0m\n",
      "\u001b[0;32m~/opt/anaconda3/lib/python3.8/site-packages/tensorflow/python/keras/layers/recurrent.py\u001b[0m in \u001b[0;36mget_initial_state\u001b[0;34m(self, inputs)\u001b[0m\n\u001b[1;32m    648\u001b[0m     \u001b[0mdtype\u001b[0m \u001b[0;34m=\u001b[0m \u001b[0minputs\u001b[0m\u001b[0;34m.\u001b[0m\u001b[0mdtype\u001b[0m\u001b[0;34m\u001b[0m\u001b[0;34m\u001b[0m\u001b[0m\n\u001b[1;32m    649\u001b[0m     \u001b[0;32mif\u001b[0m \u001b[0mget_initial_state_fn\u001b[0m\u001b[0;34m:\u001b[0m\u001b[0;34m\u001b[0m\u001b[0;34m\u001b[0m\u001b[0m\n\u001b[0;32m--> 650\u001b[0;31m       init_state = get_initial_state_fn(\n\u001b[0m\u001b[1;32m    651\u001b[0m           inputs=None, batch_size=batch_size, dtype=dtype)\n\u001b[1;32m    652\u001b[0m     \u001b[0;32melse\u001b[0m\u001b[0;34m:\u001b[0m\u001b[0;34m\u001b[0m\u001b[0;34m\u001b[0m\u001b[0m\n",
      "\u001b[0;32m~/opt/anaconda3/lib/python3.8/site-packages/tensorflow/python/keras/layers/recurrent.py\u001b[0m in \u001b[0;36mget_initial_state\u001b[0;34m(self, inputs, batch_size, dtype)\u001b[0m\n\u001b[1;32m   2514\u001b[0m \u001b[0;34m\u001b[0m\u001b[0m\n\u001b[1;32m   2515\u001b[0m   \u001b[0;32mdef\u001b[0m \u001b[0mget_initial_state\u001b[0m\u001b[0;34m(\u001b[0m\u001b[0mself\u001b[0m\u001b[0;34m,\u001b[0m \u001b[0minputs\u001b[0m\u001b[0;34m=\u001b[0m\u001b[0;32mNone\u001b[0m\u001b[0;34m,\u001b[0m \u001b[0mbatch_size\u001b[0m\u001b[0;34m=\u001b[0m\u001b[0;32mNone\u001b[0m\u001b[0;34m,\u001b[0m \u001b[0mdtype\u001b[0m\u001b[0;34m=\u001b[0m\u001b[0;32mNone\u001b[0m\u001b[0;34m)\u001b[0m\u001b[0;34m:\u001b[0m\u001b[0;34m\u001b[0m\u001b[0;34m\u001b[0m\u001b[0m\n\u001b[0;32m-> 2516\u001b[0;31m     return list(_generate_zero_filled_state_for_cell(\n\u001b[0m\u001b[1;32m   2517\u001b[0m         self, inputs, batch_size, dtype))\n\u001b[1;32m   2518\u001b[0m \u001b[0;34m\u001b[0m\u001b[0m\n",
      "\u001b[0;32m~/opt/anaconda3/lib/python3.8/site-packages/tensorflow/python/keras/layers/recurrent.py\u001b[0m in \u001b[0;36m_generate_zero_filled_state_for_cell\u001b[0;34m(cell, inputs, batch_size, dtype)\u001b[0m\n\u001b[1;32m   2996\u001b[0m     \u001b[0mbatch_size\u001b[0m \u001b[0;34m=\u001b[0m \u001b[0marray_ops\u001b[0m\u001b[0;34m.\u001b[0m\u001b[0mshape\u001b[0m\u001b[0;34m(\u001b[0m\u001b[0minputs\u001b[0m\u001b[0;34m)\u001b[0m\u001b[0;34m[\u001b[0m\u001b[0;36m0\u001b[0m\u001b[0;34m]\u001b[0m\u001b[0;34m\u001b[0m\u001b[0;34m\u001b[0m\u001b[0m\n\u001b[1;32m   2997\u001b[0m     \u001b[0mdtype\u001b[0m \u001b[0;34m=\u001b[0m \u001b[0minputs\u001b[0m\u001b[0;34m.\u001b[0m\u001b[0mdtype\u001b[0m\u001b[0;34m\u001b[0m\u001b[0;34m\u001b[0m\u001b[0m\n\u001b[0;32m-> 2998\u001b[0;31m   \u001b[0;32mreturn\u001b[0m \u001b[0m_generate_zero_filled_state\u001b[0m\u001b[0;34m(\u001b[0m\u001b[0mbatch_size\u001b[0m\u001b[0;34m,\u001b[0m \u001b[0mcell\u001b[0m\u001b[0;34m.\u001b[0m\u001b[0mstate_size\u001b[0m\u001b[0;34m,\u001b[0m \u001b[0mdtype\u001b[0m\u001b[0;34m)\u001b[0m\u001b[0;34m\u001b[0m\u001b[0;34m\u001b[0m\u001b[0m\n\u001b[0m\u001b[1;32m   2999\u001b[0m \u001b[0;34m\u001b[0m\u001b[0m\n\u001b[1;32m   3000\u001b[0m \u001b[0;34m\u001b[0m\u001b[0m\n",
      "\u001b[0;32m~/opt/anaconda3/lib/python3.8/site-packages/tensorflow/python/keras/layers/recurrent.py\u001b[0m in \u001b[0;36m_generate_zero_filled_state\u001b[0;34m(batch_size_tensor, state_size, dtype)\u001b[0m\n\u001b[1;32m   3012\u001b[0m \u001b[0;34m\u001b[0m\u001b[0m\n\u001b[1;32m   3013\u001b[0m   \u001b[0;32mif\u001b[0m \u001b[0mnest\u001b[0m\u001b[0;34m.\u001b[0m\u001b[0mis_nested\u001b[0m\u001b[0;34m(\u001b[0m\u001b[0mstate_size\u001b[0m\u001b[0;34m)\u001b[0m\u001b[0;34m:\u001b[0m\u001b[0;34m\u001b[0m\u001b[0;34m\u001b[0m\u001b[0m\n\u001b[0;32m-> 3014\u001b[0;31m     \u001b[0;32mreturn\u001b[0m \u001b[0mnest\u001b[0m\u001b[0;34m.\u001b[0m\u001b[0mmap_structure\u001b[0m\u001b[0;34m(\u001b[0m\u001b[0mcreate_zeros\u001b[0m\u001b[0;34m,\u001b[0m \u001b[0mstate_size\u001b[0m\u001b[0;34m)\u001b[0m\u001b[0;34m\u001b[0m\u001b[0;34m\u001b[0m\u001b[0m\n\u001b[0m\u001b[1;32m   3015\u001b[0m   \u001b[0;32melse\u001b[0m\u001b[0;34m:\u001b[0m\u001b[0;34m\u001b[0m\u001b[0;34m\u001b[0m\u001b[0m\n\u001b[1;32m   3016\u001b[0m     \u001b[0;32mreturn\u001b[0m \u001b[0mcreate_zeros\u001b[0m\u001b[0;34m(\u001b[0m\u001b[0mstate_size\u001b[0m\u001b[0;34m)\u001b[0m\u001b[0;34m\u001b[0m\u001b[0;34m\u001b[0m\u001b[0m\n",
      "\u001b[0;32m~/opt/anaconda3/lib/python3.8/site-packages/tensorflow/python/util/nest.py\u001b[0m in \u001b[0;36mmap_structure\u001b[0;34m(func, *structure, **kwargs)\u001b[0m\n\u001b[1;32m    865\u001b[0m \u001b[0;34m\u001b[0m\u001b[0m\n\u001b[1;32m    866\u001b[0m   return pack_sequence_as(\n\u001b[0;32m--> 867\u001b[0;31m       \u001b[0mstructure\u001b[0m\u001b[0;34m[\u001b[0m\u001b[0;36m0\u001b[0m\u001b[0;34m]\u001b[0m\u001b[0;34m,\u001b[0m \u001b[0;34m[\u001b[0m\u001b[0mfunc\u001b[0m\u001b[0;34m(\u001b[0m\u001b[0;34m*\u001b[0m\u001b[0mx\u001b[0m\u001b[0;34m)\u001b[0m \u001b[0;32mfor\u001b[0m \u001b[0mx\u001b[0m \u001b[0;32min\u001b[0m \u001b[0mentries\u001b[0m\u001b[0;34m]\u001b[0m\u001b[0;34m,\u001b[0m\u001b[0;34m\u001b[0m\u001b[0;34m\u001b[0m\u001b[0m\n\u001b[0m\u001b[1;32m    868\u001b[0m       expand_composites=expand_composites)\n\u001b[1;32m    869\u001b[0m \u001b[0;34m\u001b[0m\u001b[0m\n",
      "\u001b[0;32m~/opt/anaconda3/lib/python3.8/site-packages/tensorflow/python/util/nest.py\u001b[0m in \u001b[0;36m<listcomp>\u001b[0;34m(.0)\u001b[0m\n\u001b[1;32m    865\u001b[0m \u001b[0;34m\u001b[0m\u001b[0m\n\u001b[1;32m    866\u001b[0m   return pack_sequence_as(\n\u001b[0;32m--> 867\u001b[0;31m       \u001b[0mstructure\u001b[0m\u001b[0;34m[\u001b[0m\u001b[0;36m0\u001b[0m\u001b[0;34m]\u001b[0m\u001b[0;34m,\u001b[0m \u001b[0;34m[\u001b[0m\u001b[0mfunc\u001b[0m\u001b[0;34m(\u001b[0m\u001b[0;34m*\u001b[0m\u001b[0mx\u001b[0m\u001b[0;34m)\u001b[0m \u001b[0;32mfor\u001b[0m \u001b[0mx\u001b[0m \u001b[0;32min\u001b[0m \u001b[0mentries\u001b[0m\u001b[0;34m]\u001b[0m\u001b[0;34m,\u001b[0m\u001b[0;34m\u001b[0m\u001b[0;34m\u001b[0m\u001b[0m\n\u001b[0m\u001b[1;32m    868\u001b[0m       expand_composites=expand_composites)\n\u001b[1;32m    869\u001b[0m \u001b[0;34m\u001b[0m\u001b[0m\n",
      "\u001b[0;32m~/opt/anaconda3/lib/python3.8/site-packages/tensorflow/python/keras/layers/recurrent.py\u001b[0m in \u001b[0;36mcreate_zeros\u001b[0;34m(unnested_state_size)\u001b[0m\n\u001b[1;32m   3009\u001b[0m     \u001b[0mflat_dims\u001b[0m \u001b[0;34m=\u001b[0m \u001b[0mtensor_shape\u001b[0m\u001b[0;34m.\u001b[0m\u001b[0mTensorShape\u001b[0m\u001b[0;34m(\u001b[0m\u001b[0munnested_state_size\u001b[0m\u001b[0;34m)\u001b[0m\u001b[0;34m.\u001b[0m\u001b[0mas_list\u001b[0m\u001b[0;34m(\u001b[0m\u001b[0;34m)\u001b[0m\u001b[0;34m\u001b[0m\u001b[0;34m\u001b[0m\u001b[0m\n\u001b[1;32m   3010\u001b[0m     \u001b[0minit_state_size\u001b[0m \u001b[0;34m=\u001b[0m \u001b[0;34m[\u001b[0m\u001b[0mbatch_size_tensor\u001b[0m\u001b[0;34m]\u001b[0m \u001b[0;34m+\u001b[0m \u001b[0mflat_dims\u001b[0m\u001b[0;34m\u001b[0m\u001b[0;34m\u001b[0m\u001b[0m\n\u001b[0;32m-> 3011\u001b[0;31m     \u001b[0;32mreturn\u001b[0m \u001b[0marray_ops\u001b[0m\u001b[0;34m.\u001b[0m\u001b[0mzeros\u001b[0m\u001b[0;34m(\u001b[0m\u001b[0minit_state_size\u001b[0m\u001b[0;34m,\u001b[0m \u001b[0mdtype\u001b[0m\u001b[0;34m=\u001b[0m\u001b[0mdtype\u001b[0m\u001b[0;34m)\u001b[0m\u001b[0;34m\u001b[0m\u001b[0;34m\u001b[0m\u001b[0m\n\u001b[0m\u001b[1;32m   3012\u001b[0m \u001b[0;34m\u001b[0m\u001b[0m\n\u001b[1;32m   3013\u001b[0m   \u001b[0;32mif\u001b[0m \u001b[0mnest\u001b[0m\u001b[0;34m.\u001b[0m\u001b[0mis_nested\u001b[0m\u001b[0;34m(\u001b[0m\u001b[0mstate_size\u001b[0m\u001b[0;34m)\u001b[0m\u001b[0;34m:\u001b[0m\u001b[0;34m\u001b[0m\u001b[0;34m\u001b[0m\u001b[0m\n",
      "\u001b[0;32m~/opt/anaconda3/lib/python3.8/site-packages/tensorflow/python/util/dispatch.py\u001b[0m in \u001b[0;36mwrapper\u001b[0;34m(*args, **kwargs)\u001b[0m\n\u001b[1;32m    204\u001b[0m     \u001b[0;34m\"\"\"Call target, and fall back on dispatchers if there is a TypeError.\"\"\"\u001b[0m\u001b[0;34m\u001b[0m\u001b[0;34m\u001b[0m\u001b[0m\n\u001b[1;32m    205\u001b[0m     \u001b[0;32mtry\u001b[0m\u001b[0;34m:\u001b[0m\u001b[0;34m\u001b[0m\u001b[0;34m\u001b[0m\u001b[0m\n\u001b[0;32m--> 206\u001b[0;31m       \u001b[0;32mreturn\u001b[0m \u001b[0mtarget\u001b[0m\u001b[0;34m(\u001b[0m\u001b[0;34m*\u001b[0m\u001b[0margs\u001b[0m\u001b[0;34m,\u001b[0m \u001b[0;34m**\u001b[0m\u001b[0mkwargs\u001b[0m\u001b[0;34m)\u001b[0m\u001b[0;34m\u001b[0m\u001b[0;34m\u001b[0m\u001b[0m\n\u001b[0m\u001b[1;32m    207\u001b[0m     \u001b[0;32mexcept\u001b[0m \u001b[0;34m(\u001b[0m\u001b[0mTypeError\u001b[0m\u001b[0;34m,\u001b[0m \u001b[0mValueError\u001b[0m\u001b[0;34m)\u001b[0m\u001b[0;34m:\u001b[0m\u001b[0;34m\u001b[0m\u001b[0;34m\u001b[0m\u001b[0m\n\u001b[1;32m    208\u001b[0m       \u001b[0;31m# Note: convert_to_eager_tensor currently raises a ValueError, not a\u001b[0m\u001b[0;34m\u001b[0m\u001b[0;34m\u001b[0m\u001b[0;34m\u001b[0m\u001b[0m\n",
      "\u001b[0;32m~/opt/anaconda3/lib/python3.8/site-packages/tensorflow/python/ops/array_ops.py\u001b[0m in \u001b[0;36mwrapped\u001b[0;34m(*args, **kwargs)\u001b[0m\n\u001b[1;32m   2909\u001b[0m \u001b[0;34m\u001b[0m\u001b[0m\n\u001b[1;32m   2910\u001b[0m   \u001b[0;32mdef\u001b[0m \u001b[0mwrapped\u001b[0m\u001b[0;34m(\u001b[0m\u001b[0;34m*\u001b[0m\u001b[0margs\u001b[0m\u001b[0;34m,\u001b[0m \u001b[0;34m**\u001b[0m\u001b[0mkwargs\u001b[0m\u001b[0;34m)\u001b[0m\u001b[0;34m:\u001b[0m\u001b[0;34m\u001b[0m\u001b[0;34m\u001b[0m\u001b[0m\n\u001b[0;32m-> 2911\u001b[0;31m     \u001b[0mtensor\u001b[0m \u001b[0;34m=\u001b[0m \u001b[0mfun\u001b[0m\u001b[0;34m(\u001b[0m\u001b[0;34m*\u001b[0m\u001b[0margs\u001b[0m\u001b[0;34m,\u001b[0m \u001b[0;34m**\u001b[0m\u001b[0mkwargs\u001b[0m\u001b[0;34m)\u001b[0m\u001b[0;34m\u001b[0m\u001b[0;34m\u001b[0m\u001b[0m\n\u001b[0m\u001b[1;32m   2912\u001b[0m     \u001b[0mtensor\u001b[0m\u001b[0;34m.\u001b[0m\u001b[0m_is_zeros_tensor\u001b[0m \u001b[0;34m=\u001b[0m \u001b[0;32mTrue\u001b[0m\u001b[0;34m\u001b[0m\u001b[0;34m\u001b[0m\u001b[0m\n\u001b[1;32m   2913\u001b[0m     \u001b[0;32mreturn\u001b[0m \u001b[0mtensor\u001b[0m\u001b[0;34m\u001b[0m\u001b[0;34m\u001b[0m\u001b[0m\n",
      "\u001b[0;32m~/opt/anaconda3/lib/python3.8/site-packages/tensorflow/python/ops/array_ops.py\u001b[0m in \u001b[0;36mzeros\u001b[0;34m(shape, dtype, name)\u001b[0m\n\u001b[1;32m   2958\u001b[0m           \u001b[0;31m# Create a constant if it won't be very big. Otherwise create a fill\u001b[0m\u001b[0;34m\u001b[0m\u001b[0;34m\u001b[0m\u001b[0;34m\u001b[0m\u001b[0m\n\u001b[1;32m   2959\u001b[0m           \u001b[0;31m# op to prevent serialized GraphDefs from becoming too large.\u001b[0m\u001b[0;34m\u001b[0m\u001b[0;34m\u001b[0m\u001b[0;34m\u001b[0m\u001b[0m\n\u001b[0;32m-> 2960\u001b[0;31m           \u001b[0moutput\u001b[0m \u001b[0;34m=\u001b[0m \u001b[0m_constant_if_small\u001b[0m\u001b[0;34m(\u001b[0m\u001b[0mzero\u001b[0m\u001b[0;34m,\u001b[0m \u001b[0mshape\u001b[0m\u001b[0;34m,\u001b[0m \u001b[0mdtype\u001b[0m\u001b[0;34m,\u001b[0m \u001b[0mname\u001b[0m\u001b[0;34m)\u001b[0m\u001b[0;34m\u001b[0m\u001b[0;34m\u001b[0m\u001b[0m\n\u001b[0m\u001b[1;32m   2961\u001b[0m           \u001b[0;32mif\u001b[0m \u001b[0moutput\u001b[0m \u001b[0;32mis\u001b[0m \u001b[0;32mnot\u001b[0m \u001b[0;32mNone\u001b[0m\u001b[0;34m:\u001b[0m\u001b[0;34m\u001b[0m\u001b[0;34m\u001b[0m\u001b[0m\n\u001b[1;32m   2962\u001b[0m             \u001b[0;32mreturn\u001b[0m \u001b[0moutput\u001b[0m\u001b[0;34m\u001b[0m\u001b[0;34m\u001b[0m\u001b[0m\n",
      "\u001b[0;32m~/opt/anaconda3/lib/python3.8/site-packages/tensorflow/python/ops/array_ops.py\u001b[0m in \u001b[0;36m_constant_if_small\u001b[0;34m(value, shape, dtype, name)\u001b[0m\n\u001b[1;32m   2894\u001b[0m \u001b[0;32mdef\u001b[0m \u001b[0m_constant_if_small\u001b[0m\u001b[0;34m(\u001b[0m\u001b[0mvalue\u001b[0m\u001b[0;34m,\u001b[0m \u001b[0mshape\u001b[0m\u001b[0;34m,\u001b[0m \u001b[0mdtype\u001b[0m\u001b[0;34m,\u001b[0m \u001b[0mname\u001b[0m\u001b[0;34m)\u001b[0m\u001b[0;34m:\u001b[0m\u001b[0;34m\u001b[0m\u001b[0;34m\u001b[0m\u001b[0m\n\u001b[1;32m   2895\u001b[0m   \u001b[0;32mtry\u001b[0m\u001b[0;34m:\u001b[0m\u001b[0;34m\u001b[0m\u001b[0;34m\u001b[0m\u001b[0m\n\u001b[0;32m-> 2896\u001b[0;31m     \u001b[0;32mif\u001b[0m \u001b[0mnp\u001b[0m\u001b[0;34m.\u001b[0m\u001b[0mprod\u001b[0m\u001b[0;34m(\u001b[0m\u001b[0mshape\u001b[0m\u001b[0;34m)\u001b[0m \u001b[0;34m<\u001b[0m \u001b[0;36m1000\u001b[0m\u001b[0;34m:\u001b[0m\u001b[0;34m\u001b[0m\u001b[0;34m\u001b[0m\u001b[0m\n\u001b[0m\u001b[1;32m   2897\u001b[0m       \u001b[0;32mreturn\u001b[0m \u001b[0mconstant\u001b[0m\u001b[0;34m(\u001b[0m\u001b[0mvalue\u001b[0m\u001b[0;34m,\u001b[0m \u001b[0mshape\u001b[0m\u001b[0;34m=\u001b[0m\u001b[0mshape\u001b[0m\u001b[0;34m,\u001b[0m \u001b[0mdtype\u001b[0m\u001b[0;34m=\u001b[0m\u001b[0mdtype\u001b[0m\u001b[0;34m,\u001b[0m \u001b[0mname\u001b[0m\u001b[0;34m=\u001b[0m\u001b[0mname\u001b[0m\u001b[0;34m)\u001b[0m\u001b[0;34m\u001b[0m\u001b[0;34m\u001b[0m\u001b[0m\n\u001b[1;32m   2898\u001b[0m   \u001b[0;32mexcept\u001b[0m \u001b[0mTypeError\u001b[0m\u001b[0;34m:\u001b[0m\u001b[0;34m\u001b[0m\u001b[0;34m\u001b[0m\u001b[0m\n",
      "\u001b[0;32m<__array_function__ internals>\u001b[0m in \u001b[0;36mprod\u001b[0;34m(*args, **kwargs)\u001b[0m\n",
      "\u001b[0;32m~/opt/anaconda3/lib/python3.8/site-packages/numpy/core/fromnumeric.py\u001b[0m in \u001b[0;36mprod\u001b[0;34m(a, axis, dtype, out, keepdims, initial, where)\u001b[0m\n\u001b[1;32m   3049\u001b[0m     \u001b[0;36m10\u001b[0m\u001b[0;34m\u001b[0m\u001b[0;34m\u001b[0m\u001b[0m\n\u001b[1;32m   3050\u001b[0m     \"\"\"\n\u001b[0;32m-> 3051\u001b[0;31m     return _wrapreduction(a, np.multiply, 'prod', axis, dtype, out,\n\u001b[0m\u001b[1;32m   3052\u001b[0m                           keepdims=keepdims, initial=initial, where=where)\n\u001b[1;32m   3053\u001b[0m \u001b[0;34m\u001b[0m\u001b[0m\n",
      "\u001b[0;32m~/opt/anaconda3/lib/python3.8/site-packages/numpy/core/fromnumeric.py\u001b[0m in \u001b[0;36m_wrapreduction\u001b[0;34m(obj, ufunc, method, axis, dtype, out, **kwargs)\u001b[0m\n\u001b[1;32m     84\u001b[0m                 \u001b[0;32mreturn\u001b[0m \u001b[0mreduction\u001b[0m\u001b[0;34m(\u001b[0m\u001b[0maxis\u001b[0m\u001b[0;34m=\u001b[0m\u001b[0maxis\u001b[0m\u001b[0;34m,\u001b[0m \u001b[0mout\u001b[0m\u001b[0;34m=\u001b[0m\u001b[0mout\u001b[0m\u001b[0;34m,\u001b[0m \u001b[0;34m**\u001b[0m\u001b[0mpasskwargs\u001b[0m\u001b[0;34m)\u001b[0m\u001b[0;34m\u001b[0m\u001b[0;34m\u001b[0m\u001b[0m\n\u001b[1;32m     85\u001b[0m \u001b[0;34m\u001b[0m\u001b[0m\n\u001b[0;32m---> 86\u001b[0;31m     \u001b[0;32mreturn\u001b[0m \u001b[0mufunc\u001b[0m\u001b[0;34m.\u001b[0m\u001b[0mreduce\u001b[0m\u001b[0;34m(\u001b[0m\u001b[0mobj\u001b[0m\u001b[0;34m,\u001b[0m \u001b[0maxis\u001b[0m\u001b[0;34m,\u001b[0m \u001b[0mdtype\u001b[0m\u001b[0;34m,\u001b[0m \u001b[0mout\u001b[0m\u001b[0;34m,\u001b[0m \u001b[0;34m**\u001b[0m\u001b[0mpasskwargs\u001b[0m\u001b[0;34m)\u001b[0m\u001b[0;34m\u001b[0m\u001b[0;34m\u001b[0m\u001b[0m\n\u001b[0m\u001b[1;32m     87\u001b[0m \u001b[0;34m\u001b[0m\u001b[0m\n\u001b[1;32m     88\u001b[0m \u001b[0;34m\u001b[0m\u001b[0m\n",
      "\u001b[0;32m~/opt/anaconda3/lib/python3.8/site-packages/tensorflow/python/framework/ops.py\u001b[0m in \u001b[0;36m__array__\u001b[0;34m(self)\u001b[0m\n\u001b[1;32m    865\u001b[0m \u001b[0;34m\u001b[0m\u001b[0m\n\u001b[1;32m    866\u001b[0m   \u001b[0;32mdef\u001b[0m \u001b[0m__array__\u001b[0m\u001b[0;34m(\u001b[0m\u001b[0mself\u001b[0m\u001b[0;34m)\u001b[0m\u001b[0;34m:\u001b[0m\u001b[0;34m\u001b[0m\u001b[0;34m\u001b[0m\u001b[0m\n\u001b[0;32m--> 867\u001b[0;31m     raise NotImplementedError(\n\u001b[0m\u001b[1;32m    868\u001b[0m         \u001b[0;34m\"Cannot convert a symbolic Tensor ({}) to a numpy array.\"\u001b[0m\u001b[0;34m\u001b[0m\u001b[0;34m\u001b[0m\u001b[0m\n\u001b[1;32m    869\u001b[0m         \u001b[0;34m\" This error may indicate that you're trying to pass a Tensor to\"\u001b[0m\u001b[0;34m\u001b[0m\u001b[0;34m\u001b[0m\u001b[0m\n",
      "\u001b[0;31mNotImplementedError\u001b[0m: Cannot convert a symbolic Tensor (lstm_3/strided_slice:0) to a numpy array. This error may indicate that you're trying to pass a Tensor to a NumPy call, which is not supported"
     ]
    }
   ],
   "source": [
    "# Create the model\n",
    "inputs = keras.layers.Input(shape=(X_train.shape[1], X_train.shape[2]))\n",
    "x = keras.layers.LSTM(150, return_sequences= True)(inputs)\n",
    "x = keras.layers.Dropout(0.3)(x)\n",
    "x = keras.layers.LSTM(150, return_sequences=True)(x)\n",
    "x = keras.layers.Dropout(0.3)(x)\n",
    "x = keras.layers.LSTM(150)(x)\n",
    "outputs = keras.layers.Dense(1, activation='linear')(x)\n",
    "\n",
    "model = keras.Model(inputs=inputs, outputs=outputs)\n",
    "model.compile(optimizer='adam', loss=\"mse\")\n",
    "model.summary()"
   ]
  },
  {
   "cell_type": "code",
   "execution_count": null,
   "metadata": {
    "colab": {},
    "colab_type": "code",
    "id": "rFjmKCd7kVm7"
   },
   "outputs": [],
   "source": [
    "# Trai the model\n",
    "history = model.fit(\n",
    "    X_train, y_train,\n",
    "    epochs = 20,\n",
    "    batch_size = 32,\n",
    "    validation_split = 0.2\n",
    ")"
   ]
  },
  {
   "cell_type": "code",
   "execution_count": null,
   "metadata": {
    "colab": {},
    "colab_type": "code",
    "id": "8VN54FHZefcC"
   },
   "outputs": [],
   "source": [
    "# Make prediction\n",
    "predicted = model.predict(X)"
   ]
  },
  {
   "cell_type": "code",
   "execution_count": null,
   "metadata": {
    "colab": {},
    "colab_type": "code",
    "id": "-4y52gcxknGr"
   },
   "outputs": [],
   "source": [
    "# Append the predicted values to the list\n",
    "test_predicted = []\n",
    "\n",
    "for i in predicted:\n",
    "  test_predicted.append(i[0][0])"
   ]
  },
  {
   "cell_type": "code",
   "execution_count": null,
   "metadata": {
    "colab": {
     "base_uri": "https://localhost:8080/",
     "height": 1000
    },
    "colab_type": "code",
    "executionInfo": {
     "elapsed": 480,
     "status": "ok",
     "timestamp": 1599626608006,
     "user": {
      "displayName": "Stemplicity",
      "photoUrl": "https://lh3.googleusercontent.com/a-/AOh14Gj2vCFt-bD5mPBhUWX0QA6xiBgoXQXtwUm2jgjaCg=s64",
      "userId": "10668071569687886186"
     },
     "user_tz": 240
    },
    "id": "1rpgA1Kpk6zh",
    "outputId": "cfbb1b91-e084-4c0f-f74b-6a37baaac22c"
   },
   "outputs": [],
   "source": [
    "test_predicted"
   ]
  },
  {
   "cell_type": "code",
   "execution_count": null,
   "metadata": {
    "colab": {
     "base_uri": "https://localhost:8080/",
     "height": 415
    },
    "colab_type": "code",
    "executionInfo": {
     "elapsed": 991,
     "status": "ok",
     "timestamp": 1599626615149,
     "user": {
      "displayName": "Stemplicity",
      "photoUrl": "https://lh3.googleusercontent.com/a-/AOh14Gj2vCFt-bD5mPBhUWX0QA6xiBgoXQXtwUm2jgjaCg=s64",
      "userId": "10668071569687886186"
     },
     "user_tz": 240
    },
    "id": "vzayf3hylNIy",
    "outputId": "44f86e74-1e0a-47df-8e7c-905ac23dfc1f"
   },
   "outputs": [],
   "source": [
    "df_predicted = price_volume_df[1:][['Date']]\n",
    "df_predicted"
   ]
  },
  {
   "cell_type": "code",
   "execution_count": null,
   "metadata": {
    "colab": {},
    "colab_type": "code",
    "id": "Q6WsIUmDW6Of"
   },
   "outputs": [],
   "source": [
    "df_predicted['predictions'] = test_predicted"
   ]
  },
  {
   "cell_type": "code",
   "execution_count": null,
   "metadata": {
    "colab": {
     "base_uri": "https://localhost:8080/",
     "height": 415
    },
    "colab_type": "code",
    "executionInfo": {
     "elapsed": 728,
     "status": "ok",
     "timestamp": 1599626618901,
     "user": {
      "displayName": "Stemplicity",
      "photoUrl": "https://lh3.googleusercontent.com/a-/AOh14Gj2vCFt-bD5mPBhUWX0QA6xiBgoXQXtwUm2jgjaCg=s64",
      "userId": "10668071569687886186"
     },
     "user_tz": 240
    },
    "id": "SHyyKAdWVohR",
    "outputId": "3d402fa0-48a5-4fb5-f85c-60f220efe760"
   },
   "outputs": [],
   "source": [
    "df_predicted"
   ]
  },
  {
   "cell_type": "code",
   "execution_count": null,
   "metadata": {
    "colab": {},
    "colab_type": "code",
    "id": "T8p4ktyuLt9L"
   },
   "outputs": [],
   "source": [
    "# Plot the data\n",
    "close = []\n",
    "for i in training_set_scaled:\n",
    "  close.append(i[0])\n"
   ]
  },
  {
   "cell_type": "code",
   "execution_count": null,
   "metadata": {
    "colab": {},
    "colab_type": "code",
    "id": "NRyX45g4KnUI"
   },
   "outputs": [],
   "source": [
    "df_predicted['Close'] = close[1:]"
   ]
  },
  {
   "cell_type": "code",
   "execution_count": null,
   "metadata": {
    "colab": {
     "base_uri": "https://localhost:8080/",
     "height": 415
    },
    "colab_type": "code",
    "executionInfo": {
     "elapsed": 922,
     "status": "ok",
     "timestamp": 1599626621969,
     "user": {
      "displayName": "Stemplicity",
      "photoUrl": "https://lh3.googleusercontent.com/a-/AOh14Gj2vCFt-bD5mPBhUWX0QA6xiBgoXQXtwUm2jgjaCg=s64",
      "userId": "10668071569687886186"
     },
     "user_tz": 240
    },
    "id": "2VDXeEHOKo1B",
    "outputId": "c2e54bb9-5014-4c8f-bb94-6e385646df23"
   },
   "outputs": [],
   "source": [
    "df_predicted"
   ]
  },
  {
   "cell_type": "code",
   "execution_count": null,
   "metadata": {
    "colab": {},
    "colab_type": "code",
    "id": "HuZLdC1JLohR"
   },
   "outputs": [],
   "source": []
  },
  {
   "cell_type": "code",
   "execution_count": null,
   "metadata": {
    "colab": {},
    "colab_type": "code",
    "id": "g2RC9ahGLofK"
   },
   "outputs": [],
   "source": []
  },
  {
   "cell_type": "code",
   "execution_count": null,
   "metadata": {
    "colab": {},
    "colab_type": "code",
    "id": "f4gciogBLodZ"
   },
   "outputs": [],
   "source": []
  },
  {
   "cell_type": "code",
   "execution_count": null,
   "metadata": {
    "colab": {},
    "colab_type": "code",
    "id": "iYHkSvFmWxWH"
   },
   "outputs": [],
   "source": [
    "# Plot the data\n",
    "interactive_plot(df_predicted, \"Original Vs Prediction\")"
   ]
  },
  {
   "cell_type": "markdown",
   "metadata": {
    "colab_type": "text",
    "id": "snpzZkBcFa4m"
   },
   "source": [
    "**MINI CHALLENGE #5:**\n",
    "- **Test the pipeline with at least 3 other stocks** \n",
    "- **Experiment with various LSTM model parameters (Ex: Use 150 units instead of 50), print out the model summary and retrain the model**\n"
   ]
  },
  {
   "cell_type": "code",
   "execution_count": null,
   "metadata": {
    "colab": {},
    "colab_type": "code",
    "id": "hahnz1HbH8lE"
   },
   "outputs": [],
   "source": []
  },
  {
   "cell_type": "markdown",
   "metadata": {
    "colab_type": "text",
    "id": "F_7ATiEAdhD4"
   },
   "source": [
    "# **MINI CHALLENGE SOLUTIONS**"
   ]
  },
  {
   "cell_type": "markdown",
   "metadata": {
    "colab_type": "text",
    "id": "tgnAxNwmdbek"
   },
   "source": [
    "**MINI CHALLENGE #1 SOLUTION:**\n",
    "- **What is the average trading volume for Apple stock?**\n",
    "- **What is the maximum trading volume for sp500?**\n",
    "- **Which security is traded the most? comment on your answer**\n",
    "- **What is the average stock price of the S&P500 over the specified time period?**\n",
    "- **What is the maximum price of Tesla Stock?**"
   ]
  },
  {
   "cell_type": "code",
   "execution_count": null,
   "metadata": {
    "colab": {},
    "colab_type": "code",
    "id": "w172J9nFnRE1"
   },
   "outputs": [],
   "source": [
    "# Get the statistical data for the stocks volume dataframe\n",
    "# Average trading volume for Apple stock is 2.498238e+06\t\n",
    "# Average trading volume for S&P500 is 3.680732e+09\n",
    "\n",
    "# Why S&P500 is the most traded of all? Check out this article: \n",
    "# https://www.investopedia.com/articles/personal-finance/022216/put-10000-sp-500-etf-and-wait-20-years.asp\n",
    "\n",
    "# Text from the article above:\n",
    "# \"The S&P 500 index is a broad-based measure of large corporations traded on U.S. stock markets. Over long periods of time, \n",
    "# passively holding the index often produces better results than actively trading or picking single stocks.\n",
    "# Over long-time horizons, the index typically produces better returns than actively managed portfolios.\"\n",
    "\n",
    "stock_vol_df.describe()"
   ]
  },
  {
   "cell_type": "code",
   "execution_count": null,
   "metadata": {
    "colab": {},
    "colab_type": "code",
    "id": "ZKZPnAQMdcUG"
   },
   "outputs": [],
   "source": [
    "# Get the statistical data for the prices dataframe\n",
    "stock_price_df.describe()"
   ]
  },
  {
   "cell_type": "code",
   "execution_count": null,
   "metadata": {
    "colab": {},
    "colab_type": "code",
    "id": "BP7n-T5Ld3Jj"
   },
   "outputs": [],
   "source": [
    "# Average price for S&P500 = 2218.749554\n",
    "# Maximum Tesla Price = 1643.000000"
   ]
  },
  {
   "cell_type": "markdown",
   "metadata": {
    "colab_type": "text",
    "id": "XMEDxZNrgW8Q"
   },
   "source": [
    "**MINI CHALLENGE #2 SOLUTION:**\n",
    "- **Plot the normalized stock prices and volume dataset.**"
   ]
  },
  {
   "cell_type": "code",
   "execution_count": null,
   "metadata": {
    "colab": {},
    "colab_type": "code",
    "id": "sLVnHTaa2_2M"
   },
   "outputs": [],
   "source": [
    "# Plot interactive chart for volume data\n",
    "# Notice that S&P500 trading is orders of magnitude compared to individual stocks\n",
    "interactive_plot(stock_vol_df, 'Stocks Volume')"
   ]
  },
  {
   "cell_type": "code",
   "execution_count": null,
   "metadata": {
    "colab": {},
    "colab_type": "code",
    "id": "MFJqv0fIgUmt"
   },
   "outputs": [],
   "source": [
    "# plot interactive chart for normalized stocks prices data\n",
    "interactive_plot(normalize(stock_price_df), 'Stock Prices')\n",
    "\n",
    "# Let's normalize the data and re-plot interactive chart for volume data\n",
    "interactive_plot(normalize(stock_vol_df), 'Normalized Volume')"
   ]
  },
  {
   "cell_type": "markdown",
   "metadata": {
    "colab_type": "text",
    "id": "shhK922qkgYK"
   },
   "source": [
    "**MINI CHALLENGE #3 SOLUTION:**\n",
    "- **Test the pipeline with S&P500 and AMZN datasets instead of AAPL**"
   ]
  },
  {
   "cell_type": "code",
   "execution_count": null,
   "metadata": {
    "colab": {},
    "colab_type": "code",
    "id": "ODvAnbO6kf3V"
   },
   "outputs": [],
   "source": [
    "# Let's test the functions and get individual stock prices and volumes for S&P500\n",
    "price_volume_df = individual_stock(stock_price_df, stock_vol_df, 'sp500')\n",
    "price_volume_df\n",
    "\n",
    "# Let's test the functions and get individual stock prices and volumes for Amazon \n",
    "price_volume_df = individual_stock(stock_price_df, stock_vol_df, 'AMZN')\n",
    "price_volume_df"
   ]
  },
  {
   "cell_type": "markdown",
   "metadata": {
    "colab_type": "text",
    "id": "2nf9eUW6-fmz"
   },
   "source": [
    "**MINI CHALLENGE #4 SOLUTION:**\n",
    "- **Experiment with various regularization value for alpha** \n",
    "- **What is the impact of increasing alpha?**\n",
    "- **Note: default value for alpha is = 1**"
   ]
  },
  {
   "cell_type": "code",
   "execution_count": null,
   "metadata": {
    "colab": {},
    "colab_type": "code",
    "id": "MfqlLqNm-g8c"
   },
   "outputs": [],
   "source": [
    "from sklearn.linear_model import Ridge\n",
    "# Note that Ridge regression performs linear least squares with L2 regularization.\n",
    "# Create and train the Ridge Linear Regression  Model\n",
    "regression_model = Ridge(alpha = 2)\n",
    "regression_model.fit(X_train, y_train)"
   ]
  },
  {
   "cell_type": "markdown",
   "metadata": {
    "colab_type": "text",
    "id": "rYR4L_0tH3wO"
   },
   "source": [
    "**MINI CHALLENGE #5 SOLUTION:**\n",
    "- **Test the pipeline with at least 3 other stocks** \n",
    "- **Experiment with various LSTM model parameters (Ex: Use 150 units instead of 50), print out the model summary and retrain the model**\n",
    "\n"
   ]
  },
  {
   "cell_type": "code",
   "execution_count": null,
   "metadata": {
    "colab": {},
    "colab_type": "code",
    "id": "WnVlMGwV-sys"
   },
   "outputs": [],
   "source": [
    "# Create the model\n",
    "inputs = keras.layers.Input(shape=(X_train.shape[1], X_train.shape[2]))\n",
    "x = keras.layers.LSTM(150, return_sequences= True)(inputs)\n",
    "x = keras.layers.Dropout(0.3)(x)\n",
    "x = keras.layers.LSTM(150, return_sequences=True)(x)\n",
    "x = keras.layers.Dropout(0.3)(x)\n",
    "x = keras.layers.LSTM(150)(x)\n",
    "outputs = keras.layers.Dense(1, activation='linear')(x)\n",
    "\n",
    "model = keras.Model(inputs=inputs, outputs=outputs)\n",
    "model.compile(optimizer='adam', loss=\"mse\")\n",
    "model.summary()"
   ]
  }
 ],
 "metadata": {
  "colab": {
   "authorship_tag": "ABX9TyO8zC5VivrfhT375vQdwIs9",
   "collapsed_sections": [],
   "name": "ML In Finance - Stock Price Predictions Using regression & LSTM - Solution.ipynb",
   "provenance": []
  },
  "kernelspec": {
   "display_name": "Python 3",
   "language": "python",
   "name": "python3"
  },
  "language_info": {
   "codemirror_mode": {
    "name": "ipython",
    "version": 3
   },
   "file_extension": ".py",
   "mimetype": "text/x-python",
   "name": "python",
   "nbconvert_exporter": "python",
   "pygments_lexer": "ipython3",
   "version": "3.8.3"
  }
 },
 "nbformat": 4,
 "nbformat_minor": 4
}
